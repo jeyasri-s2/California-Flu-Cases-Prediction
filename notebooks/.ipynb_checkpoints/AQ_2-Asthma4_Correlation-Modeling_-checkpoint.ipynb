{
 "cells": [
  {
   "cell_type": "code",
   "execution_count": 119,
   "metadata": {},
   "outputs": [],
   "source": [
    "import pandas as pd\n",
    "import matplotlib.pyplot as plt\n",
    "import numpy as np\n",
    "import seaborn as sns\n",
    "from sklearn.linear_model import LinearRegression, LogisticRegression\n",
    "from sklearn.model_selection import train_test_split\n",
    "from sklearn.metrics import accuracy_score\n",
    "from sklearn.utils import resample"
   ]
  },
  {
   "cell_type": "code",
   "execution_count": 19,
   "metadata": {},
   "outputs": [
    {
     "data": {
      "text/html": [
       "<div>\n",
       "<style scoped>\n",
       "    .dataframe tbody tr th:only-of-type {\n",
       "        vertical-align: middle;\n",
       "    }\n",
       "\n",
       "    .dataframe tbody tr th {\n",
       "        vertical-align: top;\n",
       "    }\n",
       "\n",
       "    .dataframe thead th {\n",
       "        text-align: right;\n",
       "    }\n",
       "</style>\n",
       "<table border=\"1\" class=\"dataframe\">\n",
       "  <thead>\n",
       "    <tr style=\"text-align: right;\">\n",
       "      <th></th>\n",
       "      <th>County</th>\n",
       "      <th>Year</th>\n",
       "      <th>MonthNo</th>\n",
       "      <th>Value</th>\n",
       "    </tr>\n",
       "  </thead>\n",
       "  <tbody>\n",
       "    <tr>\n",
       "      <td>3535</td>\n",
       "      <td>Yolo</td>\n",
       "      <td>2019</td>\n",
       "      <td>8</td>\n",
       "      <td>6.658065</td>\n",
       "    </tr>\n",
       "    <tr>\n",
       "      <td>3536</td>\n",
       "      <td>Yolo</td>\n",
       "      <td>2019</td>\n",
       "      <td>9</td>\n",
       "      <td>5.130000</td>\n",
       "    </tr>\n",
       "    <tr>\n",
       "      <td>3537</td>\n",
       "      <td>Yolo</td>\n",
       "      <td>2019</td>\n",
       "      <td>10</td>\n",
       "      <td>9.777419</td>\n",
       "    </tr>\n",
       "    <tr>\n",
       "      <td>3538</td>\n",
       "      <td>Yolo</td>\n",
       "      <td>2019</td>\n",
       "      <td>11</td>\n",
       "      <td>8.803333</td>\n",
       "    </tr>\n",
       "    <tr>\n",
       "      <td>3539</td>\n",
       "      <td>Yolo</td>\n",
       "      <td>2019</td>\n",
       "      <td>12</td>\n",
       "      <td>0.000000</td>\n",
       "    </tr>\n",
       "  </tbody>\n",
       "</table>\n",
       "</div>"
      ],
      "text/plain": [
       "     County  Year  MonthNo     Value\n",
       "3535   Yolo  2019        8  6.658065\n",
       "3536   Yolo  2019        9  5.130000\n",
       "3537   Yolo  2019       10  9.777419\n",
       "3538   Yolo  2019       11  8.803333\n",
       "3539   Yolo  2019       12  0.000000"
      ]
     },
     "execution_count": 19,
     "metadata": {},
     "output_type": "execute_result"
    }
   ],
   "source": [
    "airQ_data = pd.read_csv('../Datasets/AirQuality/AirQualityData_2/AirQualityData_2_byCounty_Monthly.csv', low_memory =False)\n",
    "airQ_data.tail()"
   ]
  },
  {
   "cell_type": "code",
   "execution_count": 20,
   "metadata": {},
   "outputs": [
    {
     "data": {
      "text/html": [
       "<div>\n",
       "<style scoped>\n",
       "    .dataframe tbody tr th:only-of-type {\n",
       "        vertical-align: middle;\n",
       "    }\n",
       "\n",
       "    .dataframe tbody tr th {\n",
       "        vertical-align: top;\n",
       "    }\n",
       "\n",
       "    .dataframe thead th {\n",
       "        text-align: right;\n",
       "    }\n",
       "</style>\n",
       "<table border=\"1\" class=\"dataframe\">\n",
       "  <thead>\n",
       "    <tr style=\"text-align: right;\">\n",
       "      <th></th>\n",
       "      <th>County</th>\n",
       "      <th>Year</th>\n",
       "      <th>Value</th>\n",
       "    </tr>\n",
       "  </thead>\n",
       "  <tbody>\n",
       "    <tr>\n",
       "      <td>0</td>\n",
       "      <td>Alameda</td>\n",
       "      <td>2014</td>\n",
       "      <td>10.615572</td>\n",
       "    </tr>\n",
       "    <tr>\n",
       "      <td>1</td>\n",
       "      <td>Alameda</td>\n",
       "      <td>2015</td>\n",
       "      <td>11.195880</td>\n",
       "    </tr>\n",
       "    <tr>\n",
       "      <td>2</td>\n",
       "      <td>Alameda</td>\n",
       "      <td>2016</td>\n",
       "      <td>9.924854</td>\n",
       "    </tr>\n",
       "    <tr>\n",
       "      <td>3</td>\n",
       "      <td>Alameda</td>\n",
       "      <td>2017</td>\n",
       "      <td>13.576661</td>\n",
       "    </tr>\n",
       "    <tr>\n",
       "      <td>4</td>\n",
       "      <td>Alameda</td>\n",
       "      <td>2018</td>\n",
       "      <td>16.584750</td>\n",
       "    </tr>\n",
       "  </tbody>\n",
       "</table>\n",
       "</div>"
      ],
      "text/plain": [
       "    County  Year      Value\n",
       "0  Alameda  2014  10.615572\n",
       "1  Alameda  2015  11.195880\n",
       "2  Alameda  2016   9.924854\n",
       "3  Alameda  2017  13.576661\n",
       "4  Alameda  2018  16.584750"
      ]
     },
     "execution_count": 20,
     "metadata": {},
     "output_type": "execute_result"
    }
   ],
   "source": [
    "#monthly -> yearly Mean value: method 1\n",
    "airQ_data_mean = airQ_data.groupby(['County','Year'])['Value'].mean().reset_index()\n",
    "airQ_data_mean.head()"
   ]
  },
  {
   "cell_type": "code",
   "execution_count": 21,
   "metadata": {},
   "outputs": [
    {
     "data": {
      "text/plain": [
       "295"
      ]
     },
     "execution_count": 21,
     "metadata": {},
     "output_type": "execute_result"
    }
   ],
   "source": [
    "len(airQ_data_mean)"
   ]
  },
  {
   "cell_type": "code",
   "execution_count": 22,
   "metadata": {},
   "outputs": [
    {
     "data": {
      "text/html": [
       "<div>\n",
       "<style scoped>\n",
       "    .dataframe tbody tr th:only-of-type {\n",
       "        vertical-align: middle;\n",
       "    }\n",
       "\n",
       "    .dataframe tbody tr th {\n",
       "        vertical-align: top;\n",
       "    }\n",
       "\n",
       "    .dataframe thead th {\n",
       "        text-align: right;\n",
       "    }\n",
       "</style>\n",
       "<table border=\"1\" class=\"dataframe\">\n",
       "  <thead>\n",
       "    <tr style=\"text-align: right;\">\n",
       "      <th></th>\n",
       "      <th>County</th>\n",
       "      <th>Year</th>\n",
       "      <th>Value</th>\n",
       "    </tr>\n",
       "  </thead>\n",
       "  <tbody>\n",
       "    <tr>\n",
       "      <td>0</td>\n",
       "      <td>Alameda</td>\n",
       "      <td>2014</td>\n",
       "      <td>10.615572</td>\n",
       "    </tr>\n",
       "    <tr>\n",
       "      <td>1</td>\n",
       "      <td>Alameda</td>\n",
       "      <td>2015</td>\n",
       "      <td>11.195880</td>\n",
       "    </tr>\n",
       "    <tr>\n",
       "      <td>2</td>\n",
       "      <td>Alameda</td>\n",
       "      <td>2016</td>\n",
       "      <td>9.924854</td>\n",
       "    </tr>\n",
       "    <tr>\n",
       "      <td>3</td>\n",
       "      <td>Alameda</td>\n",
       "      <td>2017</td>\n",
       "      <td>13.576661</td>\n",
       "    </tr>\n",
       "    <tr>\n",
       "      <td>4</td>\n",
       "      <td>Alameda</td>\n",
       "      <td>2018</td>\n",
       "      <td>16.584750</td>\n",
       "    </tr>\n",
       "  </tbody>\n",
       "</table>\n",
       "</div>"
      ],
      "text/plain": [
       "    County  Year      Value\n",
       "0  Alameda  2014  10.615572\n",
       "1  Alameda  2015  11.195880\n",
       "2  Alameda  2016   9.924854\n",
       "3  Alameda  2017  13.576661\n",
       "4  Alameda  2018  16.584750"
      ]
     },
     "execution_count": 22,
     "metadata": {},
     "output_type": "execute_result"
    }
   ],
   "source": [
    "#monthly -> yearly Mean value: method 2\n",
    "airQ_data_mean1 = airQ_data.groupby(['County','Year'], as_index=False)['Value'].mean()\n",
    "airQ_data_mean1.head()"
   ]
  },
  {
   "cell_type": "code",
   "execution_count": 23,
   "metadata": {},
   "outputs": [
    {
     "data": {
      "text/html": [
       "<div>\n",
       "<style scoped>\n",
       "    .dataframe tbody tr th:only-of-type {\n",
       "        vertical-align: middle;\n",
       "    }\n",
       "\n",
       "    .dataframe tbody tr th {\n",
       "        vertical-align: top;\n",
       "    }\n",
       "\n",
       "    .dataframe thead th {\n",
       "        text-align: right;\n",
       "    }\n",
       "</style>\n",
       "<table border=\"1\" class=\"dataframe\">\n",
       "  <thead>\n",
       "    <tr style=\"text-align: right;\">\n",
       "      <th></th>\n",
       "      <th>County</th>\n",
       "      <th>Year</th>\n",
       "      <th>Value</th>\n",
       "    </tr>\n",
       "  </thead>\n",
       "  <tbody>\n",
       "    <tr>\n",
       "      <td>0</td>\n",
       "      <td>Alameda</td>\n",
       "      <td>2014</td>\n",
       "      <td>10.615572</td>\n",
       "    </tr>\n",
       "    <tr>\n",
       "      <td>1</td>\n",
       "      <td>Alameda</td>\n",
       "      <td>2015</td>\n",
       "      <td>11.195880</td>\n",
       "    </tr>\n",
       "    <tr>\n",
       "      <td>2</td>\n",
       "      <td>Alameda</td>\n",
       "      <td>2016</td>\n",
       "      <td>9.924854</td>\n",
       "    </tr>\n",
       "    <tr>\n",
       "      <td>3</td>\n",
       "      <td>Alameda</td>\n",
       "      <td>2017</td>\n",
       "      <td>13.576661</td>\n",
       "    </tr>\n",
       "    <tr>\n",
       "      <td>4</td>\n",
       "      <td>Alameda</td>\n",
       "      <td>2018</td>\n",
       "      <td>16.584750</td>\n",
       "    </tr>\n",
       "  </tbody>\n",
       "</table>\n",
       "</div>"
      ],
      "text/plain": [
       "    County  Year      Value\n",
       "0  Alameda  2014  10.615572\n",
       "1  Alameda  2015  11.195880\n",
       "2  Alameda  2016   9.924854\n",
       "3  Alameda  2017  13.576661\n",
       "4  Alameda  2018  16.584750"
      ]
     },
     "execution_count": 23,
     "metadata": {},
     "output_type": "execute_result"
    }
   ],
   "source": [
    "#dropping 0 values\n",
    "indexNames = airQ_data_mean[ (airQ_data_mean['Value'] == 0.000000)].index\n",
    "airQ_data_mean.drop(indexNames , inplace=True)\n",
    "airQ_data_mean.head()\n"
   ]
  },
  {
   "cell_type": "code",
   "execution_count": 24,
   "metadata": {},
   "outputs": [
    {
     "data": {
      "text/plain": [
       "295"
      ]
     },
     "execution_count": 24,
     "metadata": {},
     "output_type": "execute_result"
    }
   ],
   "source": [
    "len(airQ_data_mean)"
   ]
  },
  {
   "cell_type": "code",
   "execution_count": 25,
   "metadata": {},
   "outputs": [
    {
     "data": {
      "text/plain": [
       "array(['Alameda', 'Butte', 'Calaveras', 'Colusa', 'Contra Costa',\n",
       "       'Del Norte', 'El Dorado', 'Fresno', 'Glenn', 'Humboldt',\n",
       "       'Humboldt ', 'Imperial', 'Inyo', 'Kern', 'Kings', 'LA', 'Lake',\n",
       "       'Madera', 'Marin', 'Mariposa', 'Mendocino', 'Merced', 'Mono',\n",
       "       'Monterey', 'Napa', 'Nevada', 'Orange', 'Placer', 'Plumas',\n",
       "       'Riverside', 'Sacramento', 'San Benito', 'San Bernardino',\n",
       "       'San Diego', 'San Francisco', 'San Joaquin', 'San Luis Obispo',\n",
       "       'San Mateo', 'Santa Barbara', 'Santa Clara', 'Santa Cruz',\n",
       "       'Shasta', 'Solano', 'Sonoma', 'Stanislaus', 'Sutter', 'Tehama',\n",
       "       'Trinity', 'Tulare', 'Ventura', 'Yolo'], dtype=object)"
      ]
     },
     "execution_count": 25,
     "metadata": {},
     "output_type": "execute_result"
    }
   ],
   "source": [
    "airQ_data_mean['County'].unique()"
   ]
  },
  {
   "cell_type": "code",
   "execution_count": 26,
   "metadata": {},
   "outputs": [
    {
     "data": {
      "text/html": [
       "<div>\n",
       "<style scoped>\n",
       "    .dataframe tbody tr th:only-of-type {\n",
       "        vertical-align: middle;\n",
       "    }\n",
       "\n",
       "    .dataframe tbody tr th {\n",
       "        vertical-align: top;\n",
       "    }\n",
       "\n",
       "    .dataframe thead th {\n",
       "        text-align: right;\n",
       "    }\n",
       "</style>\n",
       "<table border=\"1\" class=\"dataframe\">\n",
       "  <thead>\n",
       "    <tr style=\"text-align: right;\">\n",
       "      <th></th>\n",
       "      <th>County</th>\n",
       "      <th>Year</th>\n",
       "      <th>Value</th>\n",
       "    </tr>\n",
       "  </thead>\n",
       "  <tbody>\n",
       "    <tr>\n",
       "      <td>0</td>\n",
       "      <td>Alameda</td>\n",
       "      <td>2014</td>\n",
       "      <td>10.615572</td>\n",
       "    </tr>\n",
       "    <tr>\n",
       "      <td>1</td>\n",
       "      <td>Alameda</td>\n",
       "      <td>2015</td>\n",
       "      <td>11.195880</td>\n",
       "    </tr>\n",
       "    <tr>\n",
       "      <td>2</td>\n",
       "      <td>Alameda</td>\n",
       "      <td>2016</td>\n",
       "      <td>9.924854</td>\n",
       "    </tr>\n",
       "    <tr>\n",
       "      <td>3</td>\n",
       "      <td>Alameda</td>\n",
       "      <td>2017</td>\n",
       "      <td>13.576661</td>\n",
       "    </tr>\n",
       "    <tr>\n",
       "      <td>4</td>\n",
       "      <td>Alameda</td>\n",
       "      <td>2018</td>\n",
       "      <td>16.584750</td>\n",
       "    </tr>\n",
       "    <tr>\n",
       "      <td>...</td>\n",
       "      <td>...</td>\n",
       "      <td>...</td>\n",
       "      <td>...</td>\n",
       "    </tr>\n",
       "    <tr>\n",
       "      <td>290</td>\n",
       "      <td>Yolo</td>\n",
       "      <td>2015</td>\n",
       "      <td>11.344165</td>\n",
       "    </tr>\n",
       "    <tr>\n",
       "      <td>291</td>\n",
       "      <td>Yolo</td>\n",
       "      <td>2016</td>\n",
       "      <td>10.715124</td>\n",
       "    </tr>\n",
       "    <tr>\n",
       "      <td>292</td>\n",
       "      <td>Yolo</td>\n",
       "      <td>2017</td>\n",
       "      <td>10.430445</td>\n",
       "    </tr>\n",
       "    <tr>\n",
       "      <td>293</td>\n",
       "      <td>Yolo</td>\n",
       "      <td>2018</td>\n",
       "      <td>12.856578</td>\n",
       "    </tr>\n",
       "    <tr>\n",
       "      <td>294</td>\n",
       "      <td>Yolo</td>\n",
       "      <td>2019</td>\n",
       "      <td>6.320492</td>\n",
       "    </tr>\n",
       "  </tbody>\n",
       "</table>\n",
       "<p>295 rows × 3 columns</p>\n",
       "</div>"
      ],
      "text/plain": [
       "      County  Year      Value\n",
       "0    Alameda  2014  10.615572\n",
       "1    Alameda  2015  11.195880\n",
       "2    Alameda  2016   9.924854\n",
       "3    Alameda  2017  13.576661\n",
       "4    Alameda  2018  16.584750\n",
       "..       ...   ...        ...\n",
       "290     Yolo  2015  11.344165\n",
       "291     Yolo  2016  10.715124\n",
       "292     Yolo  2017  10.430445\n",
       "293     Yolo  2018  12.856578\n",
       "294     Yolo  2019   6.320492\n",
       "\n",
       "[295 rows x 3 columns]"
      ]
     },
     "execution_count": 26,
     "metadata": {},
     "output_type": "execute_result"
    }
   ],
   "source": [
    "airQ_data_mean"
   ]
  },
  {
   "cell_type": "code",
   "execution_count": 27,
   "metadata": {},
   "outputs": [
    {
     "data": {
      "text/html": [
       "<div>\n",
       "<style scoped>\n",
       "    .dataframe tbody tr th:only-of-type {\n",
       "        vertical-align: middle;\n",
       "    }\n",
       "\n",
       "    .dataframe tbody tr th {\n",
       "        vertical-align: top;\n",
       "    }\n",
       "\n",
       "    .dataframe thead th {\n",
       "        text-align: right;\n",
       "    }\n",
       "</style>\n",
       "<table border=\"1\" class=\"dataframe\">\n",
       "  <thead>\n",
       "    <tr style=\"text-align: right;\">\n",
       "      <th></th>\n",
       "      <th>CountyCode</th>\n",
       "      <th>Crude rates per 10,000</th>\n",
       "      <th>Lower 95% Limit</th>\n",
       "      <th>Upper 95% Limit</th>\n",
       "      <th>Patient_count</th>\n",
       "      <th>Year</th>\n",
       "    </tr>\n",
       "  </thead>\n",
       "  <tbody>\n",
       "    <tr>\n",
       "      <td>0</td>\n",
       "      <td>6000</td>\n",
       "      <td>48.5</td>\n",
       "      <td>48.5</td>\n",
       "      <td>48.7</td>\n",
       "      <td>186,540</td>\n",
       "      <td>2014</td>\n",
       "    </tr>\n",
       "    <tr>\n",
       "      <td>1</td>\n",
       "      <td>6001</td>\n",
       "      <td>63.2</td>\n",
       "      <td>62.0</td>\n",
       "      <td>64.5</td>\n",
       "      <td>9,909</td>\n",
       "      <td>2014</td>\n",
       "    </tr>\n",
       "    <tr>\n",
       "      <td>2</td>\n",
       "      <td>6003</td>\n",
       "      <td>NaN</td>\n",
       "      <td>NaN</td>\n",
       "      <td>NaN</td>\n",
       "      <td>NaN</td>\n",
       "      <td>2014</td>\n",
       "    </tr>\n",
       "    <tr>\n",
       "      <td>3</td>\n",
       "      <td>6005</td>\n",
       "      <td>61.9</td>\n",
       "      <td>54.1</td>\n",
       "      <td>70.4</td>\n",
       "      <td>227</td>\n",
       "      <td>2014</td>\n",
       "    </tr>\n",
       "    <tr>\n",
       "      <td>4</td>\n",
       "      <td>6007</td>\n",
       "      <td>43.8</td>\n",
       "      <td>41.1</td>\n",
       "      <td>46.6</td>\n",
       "      <td>978</td>\n",
       "      <td>2014</td>\n",
       "    </tr>\n",
       "  </tbody>\n",
       "</table>\n",
       "</div>"
      ],
      "text/plain": [
       "   CountyCode  Crude rates per 10,000  Lower 95% Limit  Upper 95% Limit  \\\n",
       "0        6000                    48.5             48.5             48.7   \n",
       "1        6001                    63.2             62.0             64.5   \n",
       "2        6003                     NaN              NaN              NaN   \n",
       "3        6005                    61.9             54.1             70.4   \n",
       "4        6007                    43.8             41.1             46.6   \n",
       "\n",
       "  Patient_count  Year  \n",
       "0       186,540  2014  \n",
       "1         9,909  2014  \n",
       "2           NaN  2014  \n",
       "3           227  2014  \n",
       "4           978  2014  "
      ]
     },
     "execution_count": 27,
     "metadata": {},
     "output_type": "execute_result"
    }
   ],
   "source": [
    "#we will use this asthma4 data\n",
    "ashtma4 = pd.read_csv('../Datasets/Disease cases/asthma-4/asthma_2014_17_final.csv', low_memory=False)\n",
    "ashtma4.head()"
   ]
  },
  {
   "cell_type": "code",
   "execution_count": 28,
   "metadata": {},
   "outputs": [
    {
     "data": {
      "text/html": [
       "<div>\n",
       "<style scoped>\n",
       "    .dataframe tbody tr th:only-of-type {\n",
       "        vertical-align: middle;\n",
       "    }\n",
       "\n",
       "    .dataframe tbody tr th {\n",
       "        vertical-align: top;\n",
       "    }\n",
       "\n",
       "    .dataframe thead th {\n",
       "        text-align: right;\n",
       "    }\n",
       "</style>\n",
       "<table border=\"1\" class=\"dataframe\">\n",
       "  <thead>\n",
       "    <tr style=\"text-align: right;\">\n",
       "      <th></th>\n",
       "      <th>County</th>\n",
       "      <th>CountyCode</th>\n",
       "    </tr>\n",
       "  </thead>\n",
       "  <tbody>\n",
       "    <tr>\n",
       "      <td>0</td>\n",
       "      <td>Alameda</td>\n",
       "      <td>6001</td>\n",
       "    </tr>\n",
       "    <tr>\n",
       "      <td>1</td>\n",
       "      <td>Amador</td>\n",
       "      <td>6005</td>\n",
       "    </tr>\n",
       "    <tr>\n",
       "      <td>2</td>\n",
       "      <td>Butte</td>\n",
       "      <td>6007</td>\n",
       "    </tr>\n",
       "    <tr>\n",
       "      <td>3</td>\n",
       "      <td>Calaveras</td>\n",
       "      <td>6009</td>\n",
       "    </tr>\n",
       "    <tr>\n",
       "      <td>4</td>\n",
       "      <td>California/Statewide</td>\n",
       "      <td>6000</td>\n",
       "    </tr>\n",
       "  </tbody>\n",
       "</table>\n",
       "</div>"
      ],
      "text/plain": [
       "                 County  CountyCode\n",
       "0              Alameda         6001\n",
       "1               Amador         6005\n",
       "2                Butte         6007\n",
       "3            Calaveras         6009\n",
       "4  California/Statewide        6000"
      ]
     },
     "execution_count": 28,
     "metadata": {},
     "output_type": "execute_result"
    }
   ],
   "source": [
    "#county-countycode mapping file\n",
    "county_code = pd.read_csv('../Datasets/Disease cases/asthma-4/County_codes.csv',low_memory=False)\n",
    "county_code.head()"
   ]
  },
  {
   "cell_type": "code",
   "execution_count": 29,
   "metadata": {},
   "outputs": [
    {
     "data": {
      "text/html": [
       "<div>\n",
       "<style scoped>\n",
       "    .dataframe tbody tr th:only-of-type {\n",
       "        vertical-align: middle;\n",
       "    }\n",
       "\n",
       "    .dataframe tbody tr th {\n",
       "        vertical-align: top;\n",
       "    }\n",
       "\n",
       "    .dataframe thead th {\n",
       "        text-align: right;\n",
       "    }\n",
       "</style>\n",
       "<table border=\"1\" class=\"dataframe\">\n",
       "  <thead>\n",
       "    <tr style=\"text-align: right;\">\n",
       "      <th></th>\n",
       "      <th>CountyCode</th>\n",
       "      <th>Crude rates per 10,000</th>\n",
       "      <th>Lower 95% Limit</th>\n",
       "      <th>Upper 95% Limit</th>\n",
       "      <th>Patient_count</th>\n",
       "      <th>Year</th>\n",
       "      <th>County</th>\n",
       "    </tr>\n",
       "  </thead>\n",
       "  <tbody>\n",
       "    <tr>\n",
       "      <td>0</td>\n",
       "      <td>6000</td>\n",
       "      <td>48.5</td>\n",
       "      <td>48.5</td>\n",
       "      <td>48.7</td>\n",
       "      <td>186,540</td>\n",
       "      <td>2014</td>\n",
       "      <td>California/Statewide</td>\n",
       "    </tr>\n",
       "    <tr>\n",
       "      <td>1</td>\n",
       "      <td>6000</td>\n",
       "      <td>49.4</td>\n",
       "      <td>49.4</td>\n",
       "      <td>49.6</td>\n",
       "      <td>191,480</td>\n",
       "      <td>2015</td>\n",
       "      <td>California/Statewide</td>\n",
       "    </tr>\n",
       "    <tr>\n",
       "      <td>2</td>\n",
       "      <td>6000</td>\n",
       "      <td>44.2</td>\n",
       "      <td>44.2</td>\n",
       "      <td>44.5</td>\n",
       "      <td>174,119</td>\n",
       "      <td>2016</td>\n",
       "      <td>California/Statewide</td>\n",
       "    </tr>\n",
       "    <tr>\n",
       "      <td>3</td>\n",
       "      <td>6000</td>\n",
       "      <td>45.2</td>\n",
       "      <td>45.2</td>\n",
       "      <td>45.4</td>\n",
       "      <td>179,503</td>\n",
       "      <td>2017</td>\n",
       "      <td>California/Statewide</td>\n",
       "    </tr>\n",
       "    <tr>\n",
       "      <td>4</td>\n",
       "      <td>6001</td>\n",
       "      <td>63.2</td>\n",
       "      <td>62.0</td>\n",
       "      <td>64.5</td>\n",
       "      <td>9,909</td>\n",
       "      <td>2014</td>\n",
       "      <td>Alameda</td>\n",
       "    </tr>\n",
       "  </tbody>\n",
       "</table>\n",
       "</div>"
      ],
      "text/plain": [
       "   CountyCode  Crude rates per 10,000  Lower 95% Limit  Upper 95% Limit  \\\n",
       "0        6000                    48.5             48.5             48.7   \n",
       "1        6000                    49.4             49.4             49.6   \n",
       "2        6000                    44.2             44.2             44.5   \n",
       "3        6000                    45.2             45.2             45.4   \n",
       "4        6001                    63.2             62.0             64.5   \n",
       "\n",
       "  Patient_count  Year                County  \n",
       "0       186,540  2014  California/Statewide  \n",
       "1       191,480  2015  California/Statewide  \n",
       "2       174,119  2016  California/Statewide  \n",
       "3       179,503  2017  California/Statewide  \n",
       "4         9,909  2014              Alameda   "
      ]
     },
     "execution_count": 29,
     "metadata": {},
     "output_type": "execute_result"
    }
   ],
   "source": [
    "#merging asthma4 data with county code data to get county names\n",
    "\n",
    "ashtma4_final = pd.merge(ashtma4,county_code, on='CountyCode')\n",
    "ashtma4_final.head()"
   ]
  },
  {
   "cell_type": "code",
   "execution_count": 30,
   "metadata": {},
   "outputs": [
    {
     "data": {
      "text/plain": [
       "array(['California/Statewide', 'Alameda ', 'Amador ', 'Butte ',\n",
       "       'Calaveras ', 'Colusa ', 'Contra Costa ', 'Del Norte ',\n",
       "       'El Dorado ', 'Fresno ', 'Glenn ', 'Humboldt ', 'Imperial ',\n",
       "       'Inyo ', 'Kern ', 'Kings ', 'Lake ', 'Lassen ', 'Los Angeles ',\n",
       "       'Madera ', 'Marin ', 'Mariposa ', 'Mendocino ', 'Merced ',\n",
       "       'Modoc ', 'Mono ', 'Monterey ', 'Napa ', 'Nevada ', 'Orange ',\n",
       "       'Placer ', 'Plumas ', 'Riverside ', 'Sacramento ', 'San Benito ',\n",
       "       'San Bernardino ', 'San Diego ', 'San Francisco ', 'San Joaquin ',\n",
       "       'San Luis Obispo ', 'San Mateo ', 'Santa Barbara ', 'Santa Clara ',\n",
       "       'Santa Cruz ', 'Shasta ', 'Siskiyou ', 'Solano ', 'Sonoma ',\n",
       "       'Stanislaus ', 'Sutter ', 'Tehama ', 'Trinity ', 'Tulare ',\n",
       "       'Tuolumne ', 'Ventura ', 'Yolo ', 'Yuba '], dtype=object)"
      ]
     },
     "execution_count": 30,
     "metadata": {},
     "output_type": "execute_result"
    }
   ],
   "source": [
    "ashtma4_final['County'].unique()"
   ]
  },
  {
   "cell_type": "code",
   "execution_count": 31,
   "metadata": {},
   "outputs": [
    {
     "data": {
      "text/plain": [
       "0      California/Statewide\n",
       "1      California/Statewide\n",
       "2      California/Statewide\n",
       "3      California/Statewide\n",
       "4                   Alameda\n",
       "               ...         \n",
       "223                    Yolo\n",
       "224                    Yuba\n",
       "225                    Yuba\n",
       "226                    Yuba\n",
       "227                    Yuba\n",
       "Name: County, Length: 228, dtype: object"
      ]
     },
     "execution_count": 31,
     "metadata": {},
     "output_type": "execute_result"
    }
   ],
   "source": [
    "ashtma4_final['County'] = ashtma4_final['County'].str.strip()\n",
    "ashtma4_final['County']"
   ]
  },
  {
   "cell_type": "code",
   "execution_count": 32,
   "metadata": {},
   "outputs": [
    {
     "data": {
      "text/html": [
       "<div>\n",
       "<style scoped>\n",
       "    .dataframe tbody tr th:only-of-type {\n",
       "        vertical-align: middle;\n",
       "    }\n",
       "\n",
       "    .dataframe tbody tr th {\n",
       "        vertical-align: top;\n",
       "    }\n",
       "\n",
       "    .dataframe thead th {\n",
       "        text-align: right;\n",
       "    }\n",
       "</style>\n",
       "<table border=\"1\" class=\"dataframe\">\n",
       "  <thead>\n",
       "    <tr style=\"text-align: right;\">\n",
       "      <th></th>\n",
       "      <th>CountyCode</th>\n",
       "      <th>Crude rates per 10,000</th>\n",
       "      <th>Lower 95% Limit</th>\n",
       "      <th>Upper 95% Limit</th>\n",
       "      <th>Patient_count</th>\n",
       "      <th>Year</th>\n",
       "      <th>County</th>\n",
       "    </tr>\n",
       "  </thead>\n",
       "  <tbody>\n",
       "    <tr>\n",
       "      <td>0</td>\n",
       "      <td>6000</td>\n",
       "      <td>48.5</td>\n",
       "      <td>48.5</td>\n",
       "      <td>48.7</td>\n",
       "      <td>186,540</td>\n",
       "      <td>2014</td>\n",
       "      <td>California/Statewide</td>\n",
       "    </tr>\n",
       "    <tr>\n",
       "      <td>1</td>\n",
       "      <td>6000</td>\n",
       "      <td>49.4</td>\n",
       "      <td>49.4</td>\n",
       "      <td>49.6</td>\n",
       "      <td>191,480</td>\n",
       "      <td>2015</td>\n",
       "      <td>California/Statewide</td>\n",
       "    </tr>\n",
       "    <tr>\n",
       "      <td>2</td>\n",
       "      <td>6000</td>\n",
       "      <td>44.2</td>\n",
       "      <td>44.2</td>\n",
       "      <td>44.5</td>\n",
       "      <td>174,119</td>\n",
       "      <td>2016</td>\n",
       "      <td>California/Statewide</td>\n",
       "    </tr>\n",
       "    <tr>\n",
       "      <td>3</td>\n",
       "      <td>6000</td>\n",
       "      <td>45.2</td>\n",
       "      <td>45.2</td>\n",
       "      <td>45.4</td>\n",
       "      <td>179,503</td>\n",
       "      <td>2017</td>\n",
       "      <td>California/Statewide</td>\n",
       "    </tr>\n",
       "    <tr>\n",
       "      <td>4</td>\n",
       "      <td>6001</td>\n",
       "      <td>63.2</td>\n",
       "      <td>62.0</td>\n",
       "      <td>64.5</td>\n",
       "      <td>9,909</td>\n",
       "      <td>2014</td>\n",
       "      <td>Alameda</td>\n",
       "    </tr>\n",
       "    <tr>\n",
       "      <td>...</td>\n",
       "      <td>...</td>\n",
       "      <td>...</td>\n",
       "      <td>...</td>\n",
       "      <td>...</td>\n",
       "      <td>...</td>\n",
       "      <td>...</td>\n",
       "      <td>...</td>\n",
       "    </tr>\n",
       "    <tr>\n",
       "      <td>223</td>\n",
       "      <td>6113</td>\n",
       "      <td>40.4</td>\n",
       "      <td>37.8</td>\n",
       "      <td>43.2</td>\n",
       "      <td>890</td>\n",
       "      <td>2017</td>\n",
       "      <td>Yolo</td>\n",
       "    </tr>\n",
       "    <tr>\n",
       "      <td>224</td>\n",
       "      <td>6115</td>\n",
       "      <td>43.4</td>\n",
       "      <td>38.8</td>\n",
       "      <td>48.4</td>\n",
       "      <td>323</td>\n",
       "      <td>2014</td>\n",
       "      <td>Yuba</td>\n",
       "    </tr>\n",
       "    <tr>\n",
       "      <td>225</td>\n",
       "      <td>6115</td>\n",
       "      <td>45.6</td>\n",
       "      <td>40.9</td>\n",
       "      <td>50.7</td>\n",
       "      <td>345</td>\n",
       "      <td>2015</td>\n",
       "      <td>Yuba</td>\n",
       "    </tr>\n",
       "    <tr>\n",
       "      <td>226</td>\n",
       "      <td>6115</td>\n",
       "      <td>38.9</td>\n",
       "      <td>34.6</td>\n",
       "      <td>43.6</td>\n",
       "      <td>296</td>\n",
       "      <td>2016</td>\n",
       "      <td>Yuba</td>\n",
       "    </tr>\n",
       "    <tr>\n",
       "      <td>227</td>\n",
       "      <td>6115</td>\n",
       "      <td>47.6</td>\n",
       "      <td>42.8</td>\n",
       "      <td>52.7</td>\n",
       "      <td>366</td>\n",
       "      <td>2017</td>\n",
       "      <td>Yuba</td>\n",
       "    </tr>\n",
       "  </tbody>\n",
       "</table>\n",
       "<p>228 rows × 7 columns</p>\n",
       "</div>"
      ],
      "text/plain": [
       "     CountyCode  Crude rates per 10,000  Lower 95% Limit  Upper 95% Limit  \\\n",
       "0          6000                    48.5             48.5             48.7   \n",
       "1          6000                    49.4             49.4             49.6   \n",
       "2          6000                    44.2             44.2             44.5   \n",
       "3          6000                    45.2             45.2             45.4   \n",
       "4          6001                    63.2             62.0             64.5   \n",
       "..          ...                     ...              ...              ...   \n",
       "223        6113                    40.4             37.8             43.2   \n",
       "224        6115                    43.4             38.8             48.4   \n",
       "225        6115                    45.6             40.9             50.7   \n",
       "226        6115                    38.9             34.6             43.6   \n",
       "227        6115                    47.6             42.8             52.7   \n",
       "\n",
       "    Patient_count  Year                County  \n",
       "0         186,540  2014  California/Statewide  \n",
       "1         191,480  2015  California/Statewide  \n",
       "2         174,119  2016  California/Statewide  \n",
       "3         179,503  2017  California/Statewide  \n",
       "4           9,909  2014               Alameda  \n",
       "..            ...   ...                   ...  \n",
       "223           890  2017                  Yolo  \n",
       "224           323  2014                  Yuba  \n",
       "225           345  2015                  Yuba  \n",
       "226           296  2016                  Yuba  \n",
       "227           366  2017                  Yuba  \n",
       "\n",
       "[228 rows x 7 columns]"
      ]
     },
     "execution_count": 32,
     "metadata": {},
     "output_type": "execute_result"
    }
   ],
   "source": [
    "ashtma4_final"
   ]
  },
  {
   "cell_type": "code",
   "execution_count": 33,
   "metadata": {},
   "outputs": [
    {
     "data": {
      "text/plain": [
       "array([2014, 2015, 2016, 2017, 2018, 2019], dtype=int64)"
      ]
     },
     "execution_count": 33,
     "metadata": {},
     "output_type": "execute_result"
    }
   ],
   "source": [
    "airQ_data_mean['Year'].unique()"
   ]
  },
  {
   "cell_type": "code",
   "execution_count": 34,
   "metadata": {},
   "outputs": [],
   "source": [
    "#merging AQ data && asthma4 data\n",
    "\n",
    "merged = pd.merge(airQ_data_mean,ashtma4_final,how='inner', left_on=['Year', 'County'], right_on=['Year','County'])"
   ]
  },
  {
   "cell_type": "code",
   "execution_count": 35,
   "metadata": {},
   "outputs": [],
   "source": [
    "merged['Patient_count'] = merged['Patient_count'].str.replace(',','').astype(int)"
   ]
  },
  {
   "cell_type": "code",
   "execution_count": 37,
   "metadata": {},
   "outputs": [
    {
     "data": {
      "text/plain": [
       "196"
      ]
     },
     "execution_count": 37,
     "metadata": {},
     "output_type": "execute_result"
    }
   ],
   "source": [
    "len(merged)"
   ]
  },
  {
   "cell_type": "code",
   "execution_count": 38,
   "metadata": {},
   "outputs": [
    {
     "data": {
      "text/html": [
       "<div>\n",
       "<style scoped>\n",
       "    .dataframe tbody tr th:only-of-type {\n",
       "        vertical-align: middle;\n",
       "    }\n",
       "\n",
       "    .dataframe tbody tr th {\n",
       "        vertical-align: top;\n",
       "    }\n",
       "\n",
       "    .dataframe thead th {\n",
       "        text-align: right;\n",
       "    }\n",
       "</style>\n",
       "<table border=\"1\" class=\"dataframe\">\n",
       "  <thead>\n",
       "    <tr style=\"text-align: right;\">\n",
       "      <th></th>\n",
       "      <th>County</th>\n",
       "      <th>Year</th>\n",
       "      <th>Value</th>\n",
       "      <th>CountyCode</th>\n",
       "      <th>Crude rates per 10,000</th>\n",
       "      <th>Lower 95% Limit</th>\n",
       "      <th>Upper 95% Limit</th>\n",
       "      <th>Patient_count</th>\n",
       "    </tr>\n",
       "  </thead>\n",
       "  <tbody>\n",
       "    <tr>\n",
       "      <td>0</td>\n",
       "      <td>Alameda</td>\n",
       "      <td>2014</td>\n",
       "      <td>10.615572</td>\n",
       "      <td>6001</td>\n",
       "      <td>63.2</td>\n",
       "      <td>62.0</td>\n",
       "      <td>64.5</td>\n",
       "      <td>9909</td>\n",
       "    </tr>\n",
       "    <tr>\n",
       "      <td>1</td>\n",
       "      <td>Alameda</td>\n",
       "      <td>2015</td>\n",
       "      <td>11.195880</td>\n",
       "      <td>6001</td>\n",
       "      <td>62.9</td>\n",
       "      <td>61.7</td>\n",
       "      <td>64.2</td>\n",
       "      <td>9929</td>\n",
       "    </tr>\n",
       "    <tr>\n",
       "      <td>2</td>\n",
       "      <td>Alameda</td>\n",
       "      <td>2016</td>\n",
       "      <td>9.924854</td>\n",
       "      <td>6001</td>\n",
       "      <td>55.4</td>\n",
       "      <td>54.3</td>\n",
       "      <td>56.5</td>\n",
       "      <td>9073</td>\n",
       "    </tr>\n",
       "    <tr>\n",
       "      <td>3</td>\n",
       "      <td>Alameda</td>\n",
       "      <td>2017</td>\n",
       "      <td>13.576661</td>\n",
       "      <td>6001</td>\n",
       "      <td>53.9</td>\n",
       "      <td>52.7</td>\n",
       "      <td>55.0</td>\n",
       "      <td>8916</td>\n",
       "    </tr>\n",
       "    <tr>\n",
       "      <td>4</td>\n",
       "      <td>Butte</td>\n",
       "      <td>2014</td>\n",
       "      <td>11.526889</td>\n",
       "      <td>6007</td>\n",
       "      <td>43.8</td>\n",
       "      <td>41.1</td>\n",
       "      <td>46.6</td>\n",
       "      <td>978</td>\n",
       "    </tr>\n",
       "    <tr>\n",
       "      <td>...</td>\n",
       "      <td>...</td>\n",
       "      <td>...</td>\n",
       "      <td>...</td>\n",
       "      <td>...</td>\n",
       "      <td>...</td>\n",
       "      <td>...</td>\n",
       "      <td>...</td>\n",
       "      <td>...</td>\n",
       "    </tr>\n",
       "    <tr>\n",
       "      <td>191</td>\n",
       "      <td>Ventura</td>\n",
       "      <td>2017</td>\n",
       "      <td>17.019749</td>\n",
       "      <td>6111</td>\n",
       "      <td>32.9</td>\n",
       "      <td>31.7</td>\n",
       "      <td>34.1</td>\n",
       "      <td>2826</td>\n",
       "    </tr>\n",
       "    <tr>\n",
       "      <td>192</td>\n",
       "      <td>Yolo</td>\n",
       "      <td>2014</td>\n",
       "      <td>9.245116</td>\n",
       "      <td>6113</td>\n",
       "      <td>39.2</td>\n",
       "      <td>36.6</td>\n",
       "      <td>42.0</td>\n",
       "      <td>813</td>\n",
       "    </tr>\n",
       "    <tr>\n",
       "      <td>193</td>\n",
       "      <td>Yolo</td>\n",
       "      <td>2015</td>\n",
       "      <td>11.344165</td>\n",
       "      <td>6113</td>\n",
       "      <td>40.7</td>\n",
       "      <td>38.0</td>\n",
       "      <td>43.5</td>\n",
       "      <td>851</td>\n",
       "    </tr>\n",
       "    <tr>\n",
       "      <td>194</td>\n",
       "      <td>Yolo</td>\n",
       "      <td>2016</td>\n",
       "      <td>10.715124</td>\n",
       "      <td>6113</td>\n",
       "      <td>35.4</td>\n",
       "      <td>33.0</td>\n",
       "      <td>38.0</td>\n",
       "      <td>768</td>\n",
       "    </tr>\n",
       "    <tr>\n",
       "      <td>195</td>\n",
       "      <td>Yolo</td>\n",
       "      <td>2017</td>\n",
       "      <td>10.430445</td>\n",
       "      <td>6113</td>\n",
       "      <td>40.4</td>\n",
       "      <td>37.8</td>\n",
       "      <td>43.2</td>\n",
       "      <td>890</td>\n",
       "    </tr>\n",
       "  </tbody>\n",
       "</table>\n",
       "<p>196 rows × 8 columns</p>\n",
       "</div>"
      ],
      "text/plain": [
       "      County  Year      Value  CountyCode  Crude rates per 10,000  \\\n",
       "0    Alameda  2014  10.615572        6001                    63.2   \n",
       "1    Alameda  2015  11.195880        6001                    62.9   \n",
       "2    Alameda  2016   9.924854        6001                    55.4   \n",
       "3    Alameda  2017  13.576661        6001                    53.9   \n",
       "4      Butte  2014  11.526889        6007                    43.8   \n",
       "..       ...   ...        ...         ...                     ...   \n",
       "191  Ventura  2017  17.019749        6111                    32.9   \n",
       "192     Yolo  2014   9.245116        6113                    39.2   \n",
       "193     Yolo  2015  11.344165        6113                    40.7   \n",
       "194     Yolo  2016  10.715124        6113                    35.4   \n",
       "195     Yolo  2017  10.430445        6113                    40.4   \n",
       "\n",
       "     Lower 95% Limit  Upper 95% Limit  Patient_count  \n",
       "0               62.0             64.5           9909  \n",
       "1               61.7             64.2           9929  \n",
       "2               54.3             56.5           9073  \n",
       "3               52.7             55.0           8916  \n",
       "4               41.1             46.6            978  \n",
       "..               ...              ...            ...  \n",
       "191             31.7             34.1           2826  \n",
       "192             36.6             42.0            813  \n",
       "193             38.0             43.5            851  \n",
       "194             33.0             38.0            768  \n",
       "195             37.8             43.2            890  \n",
       "\n",
       "[196 rows x 8 columns]"
      ]
     },
     "execution_count": 38,
     "metadata": {},
     "output_type": "execute_result"
    }
   ],
   "source": [
    "merged"
   ]
  },
  {
   "cell_type": "code",
   "execution_count": 39,
   "metadata": {},
   "outputs": [],
   "source": [
    "merged2_filtered = ashtma4_final[ashtma4_final['County'] == 'Santa Clara']"
   ]
  },
  {
   "cell_type": "code",
   "execution_count": 40,
   "metadata": {},
   "outputs": [
    {
     "data": {
      "text/html": [
       "<div>\n",
       "<style scoped>\n",
       "    .dataframe tbody tr th:only-of-type {\n",
       "        vertical-align: middle;\n",
       "    }\n",
       "\n",
       "    .dataframe tbody tr th {\n",
       "        vertical-align: top;\n",
       "    }\n",
       "\n",
       "    .dataframe thead th {\n",
       "        text-align: right;\n",
       "    }\n",
       "</style>\n",
       "<table border=\"1\" class=\"dataframe\">\n",
       "  <thead>\n",
       "    <tr style=\"text-align: right;\">\n",
       "      <th></th>\n",
       "      <th>CountyCode</th>\n",
       "      <th>Crude rates per 10,000</th>\n",
       "      <th>Lower 95% Limit</th>\n",
       "      <th>Upper 95% Limit</th>\n",
       "      <th>Patient_count</th>\n",
       "      <th>Year</th>\n",
       "      <th>County</th>\n",
       "    </tr>\n",
       "  </thead>\n",
       "  <tbody>\n",
       "    <tr>\n",
       "      <td>168</td>\n",
       "      <td>6085</td>\n",
       "      <td>30.3</td>\n",
       "      <td>29.6</td>\n",
       "      <td>31.1</td>\n",
       "      <td>5,643</td>\n",
       "      <td>2014</td>\n",
       "      <td>Santa Clara</td>\n",
       "    </tr>\n",
       "    <tr>\n",
       "      <td>169</td>\n",
       "      <td>6085</td>\n",
       "      <td>34.8</td>\n",
       "      <td>33.9</td>\n",
       "      <td>35.6</td>\n",
       "      <td>6,514</td>\n",
       "      <td>2015</td>\n",
       "      <td>Santa Clara</td>\n",
       "    </tr>\n",
       "    <tr>\n",
       "      <td>170</td>\n",
       "      <td>6085</td>\n",
       "      <td>28.6</td>\n",
       "      <td>27.9</td>\n",
       "      <td>29.4</td>\n",
       "      <td>5,522</td>\n",
       "      <td>2016</td>\n",
       "      <td>Santa Clara</td>\n",
       "    </tr>\n",
       "    <tr>\n",
       "      <td>171</td>\n",
       "      <td>6085</td>\n",
       "      <td>30.0</td>\n",
       "      <td>29.2</td>\n",
       "      <td>30.7</td>\n",
       "      <td>5,849</td>\n",
       "      <td>2017</td>\n",
       "      <td>Santa Clara</td>\n",
       "    </tr>\n",
       "  </tbody>\n",
       "</table>\n",
       "</div>"
      ],
      "text/plain": [
       "     CountyCode  Crude rates per 10,000  Lower 95% Limit  Upper 95% Limit  \\\n",
       "168        6085                    30.3             29.6             31.1   \n",
       "169        6085                    34.8             33.9             35.6   \n",
       "170        6085                    28.6             27.9             29.4   \n",
       "171        6085                    30.0             29.2             30.7   \n",
       "\n",
       "    Patient_count  Year       County  \n",
       "168         5,643  2014  Santa Clara  \n",
       "169         6,514  2015  Santa Clara  \n",
       "170         5,522  2016  Santa Clara  \n",
       "171         5,849  2017  Santa Clara  "
      ]
     },
     "execution_count": 40,
     "metadata": {},
     "output_type": "execute_result"
    }
   ],
   "source": [
    "merged2_filtered"
   ]
  },
  {
   "cell_type": "code",
   "execution_count": 41,
   "metadata": {},
   "outputs": [
    {
     "data": {
      "image/png": "[encoded data removed]",
      "text/plain": [
       "<Figure size 1152x720 with 2 Axes>"
      ]
     },
     "metadata": {
      "needs_background": "light"
     },
     "output_type": "display_data"
    }
   ],
   "source": [
    "corr = merged.corr()\n",
    "g = sns.heatmap(corr, vmax=.9, center=0,\n",
    "               square=True, linewidths=.9, cbar_kws={\"shrink\": .8}, annot=True, fmt='.2f', cmap='coolwarm')\n",
    "bottom, top = g.get_ylim()\n",
    "g.set_ylim(bottom + 0.5, top - 0.5)\n",
    "sns.despine()\n",
    "g.figure.set_size_inches(16, 10)"
   ]
  },
  {
   "cell_type": "code",
   "execution_count": 42,
   "metadata": {},
   "outputs": [
    {
     "data": {
      "text/plain": [
       "<matplotlib.axes._subplots.AxesSubplot at 0x106c870>"
      ]
     },
     "execution_count": 42,
     "metadata": {},
     "output_type": "execute_result"
    },
    {
     "data": {
      "image/png": "[encoded data removed]",
      "text/plain": [
       "<Figure size 432x288 with 1 Axes>"
      ]
     },
     "metadata": {
      "needs_background": "light"
     },
     "output_type": "display_data"
    }
   ],
   "source": [
    "sns.barplot(x='County', y='Patient_count', hue='Year', data=merged, saturation=0.8)\n"
   ]
  },
  {
   "cell_type": "code",
   "execution_count": 43,
   "metadata": {},
   "outputs": [
    {
     "data": {
      "text/plain": [
       "<matplotlib.axes._subplots.AxesSubplot at 0x13b6150>"
      ]
     },
     "execution_count": 43,
     "metadata": {},
     "output_type": "execute_result"
    },
    {
     "data": {
      "image/png": "[encoded data removed]",
      "text/plain": [
       "<Figure size 432x288 with 1 Axes>"
      ]
     },
     "metadata": {
      "needs_background": "light"
     },
     "output_type": "display_data"
    }
   ],
   "source": [
    "sns.barplot(x='County', y='Value', hue='Year', data=merged, saturation=0.8)\n",
    "\n"
   ]
  },
  {
   "cell_type": "code",
   "execution_count": 44,
   "metadata": {},
   "outputs": [
    {
     "data": {
      "text/plain": [
       "<matplotlib.axes._subplots.AxesSubplot at 0x5864770>"
      ]
     },
     "execution_count": 44,
     "metadata": {},
     "output_type": "execute_result"
    },
    {
     "data": {
      "image/png": "[encoded data removed]",
      "text/plain": [
       "<Figure size 432x288 with 1 Axes>"
      ]
     },
     "metadata": {
      "needs_background": "light"
     },
     "output_type": "display_data"
    }
   ],
   "source": [
    "sns.barplot(x='Patient_count', y='Value', hue='Year', data=merged, saturation=0.8)\n",
    "\n"
   ]
  },
  {
   "cell_type": "code",
   "execution_count": 45,
   "metadata": {},
   "outputs": [
    {
     "data": {
      "text/html": [
       "<div>\n",
       "<style scoped>\n",
       "    .dataframe tbody tr th:only-of-type {\n",
       "        vertical-align: middle;\n",
       "    }\n",
       "\n",
       "    .dataframe tbody tr th {\n",
       "        vertical-align: top;\n",
       "    }\n",
       "\n",
       "    .dataframe thead th {\n",
       "        text-align: right;\n",
       "    }\n",
       "</style>\n",
       "<table border=\"1\" class=\"dataframe\">\n",
       "  <thead>\n",
       "    <tr style=\"text-align: right;\">\n",
       "      <th></th>\n",
       "      <th>County</th>\n",
       "      <th>Year</th>\n",
       "      <th>Value</th>\n",
       "      <th>CountyCode</th>\n",
       "      <th>Crude rates per 10,000</th>\n",
       "      <th>Lower 95% Limit</th>\n",
       "      <th>Upper 95% Limit</th>\n",
       "      <th>Patient_count</th>\n",
       "    </tr>\n",
       "  </thead>\n",
       "  <tbody>\n",
       "    <tr>\n",
       "      <td>0</td>\n",
       "      <td>Alameda</td>\n",
       "      <td>2014</td>\n",
       "      <td>10.615572</td>\n",
       "      <td>6001</td>\n",
       "      <td>63.2</td>\n",
       "      <td>62.0</td>\n",
       "      <td>64.5</td>\n",
       "      <td>9909</td>\n",
       "    </tr>\n",
       "    <tr>\n",
       "      <td>1</td>\n",
       "      <td>Alameda</td>\n",
       "      <td>2015</td>\n",
       "      <td>11.195880</td>\n",
       "      <td>6001</td>\n",
       "      <td>62.9</td>\n",
       "      <td>61.7</td>\n",
       "      <td>64.2</td>\n",
       "      <td>9929</td>\n",
       "    </tr>\n",
       "    <tr>\n",
       "      <td>2</td>\n",
       "      <td>Alameda</td>\n",
       "      <td>2016</td>\n",
       "      <td>9.924854</td>\n",
       "      <td>6001</td>\n",
       "      <td>55.4</td>\n",
       "      <td>54.3</td>\n",
       "      <td>56.5</td>\n",
       "      <td>9073</td>\n",
       "    </tr>\n",
       "    <tr>\n",
       "      <td>3</td>\n",
       "      <td>Alameda</td>\n",
       "      <td>2017</td>\n",
       "      <td>13.576661</td>\n",
       "      <td>6001</td>\n",
       "      <td>53.9</td>\n",
       "      <td>52.7</td>\n",
       "      <td>55.0</td>\n",
       "      <td>8916</td>\n",
       "    </tr>\n",
       "    <tr>\n",
       "      <td>4</td>\n",
       "      <td>Butte</td>\n",
       "      <td>2014</td>\n",
       "      <td>11.526889</td>\n",
       "      <td>6007</td>\n",
       "      <td>43.8</td>\n",
       "      <td>41.1</td>\n",
       "      <td>46.6</td>\n",
       "      <td>978</td>\n",
       "    </tr>\n",
       "    <tr>\n",
       "      <td>...</td>\n",
       "      <td>...</td>\n",
       "      <td>...</td>\n",
       "      <td>...</td>\n",
       "      <td>...</td>\n",
       "      <td>...</td>\n",
       "      <td>...</td>\n",
       "      <td>...</td>\n",
       "      <td>...</td>\n",
       "    </tr>\n",
       "    <tr>\n",
       "      <td>191</td>\n",
       "      <td>Ventura</td>\n",
       "      <td>2017</td>\n",
       "      <td>17.019749</td>\n",
       "      <td>6111</td>\n",
       "      <td>32.9</td>\n",
       "      <td>31.7</td>\n",
       "      <td>34.1</td>\n",
       "      <td>2826</td>\n",
       "    </tr>\n",
       "    <tr>\n",
       "      <td>192</td>\n",
       "      <td>Yolo</td>\n",
       "      <td>2014</td>\n",
       "      <td>9.245116</td>\n",
       "      <td>6113</td>\n",
       "      <td>39.2</td>\n",
       "      <td>36.6</td>\n",
       "      <td>42.0</td>\n",
       "      <td>813</td>\n",
       "    </tr>\n",
       "    <tr>\n",
       "      <td>193</td>\n",
       "      <td>Yolo</td>\n",
       "      <td>2015</td>\n",
       "      <td>11.344165</td>\n",
       "      <td>6113</td>\n",
       "      <td>40.7</td>\n",
       "      <td>38.0</td>\n",
       "      <td>43.5</td>\n",
       "      <td>851</td>\n",
       "    </tr>\n",
       "    <tr>\n",
       "      <td>194</td>\n",
       "      <td>Yolo</td>\n",
       "      <td>2016</td>\n",
       "      <td>10.715124</td>\n",
       "      <td>6113</td>\n",
       "      <td>35.4</td>\n",
       "      <td>33.0</td>\n",
       "      <td>38.0</td>\n",
       "      <td>768</td>\n",
       "    </tr>\n",
       "    <tr>\n",
       "      <td>195</td>\n",
       "      <td>Yolo</td>\n",
       "      <td>2017</td>\n",
       "      <td>10.430445</td>\n",
       "      <td>6113</td>\n",
       "      <td>40.4</td>\n",
       "      <td>37.8</td>\n",
       "      <td>43.2</td>\n",
       "      <td>890</td>\n",
       "    </tr>\n",
       "  </tbody>\n",
       "</table>\n",
       "<p>196 rows × 8 columns</p>\n",
       "</div>"
      ],
      "text/plain": [
       "      County  Year      Value  CountyCode  Crude rates per 10,000  \\\n",
       "0    Alameda  2014  10.615572        6001                    63.2   \n",
       "1    Alameda  2015  11.195880        6001                    62.9   \n",
       "2    Alameda  2016   9.924854        6001                    55.4   \n",
       "3    Alameda  2017  13.576661        6001                    53.9   \n",
       "4      Butte  2014  11.526889        6007                    43.8   \n",
       "..       ...   ...        ...         ...                     ...   \n",
       "191  Ventura  2017  17.019749        6111                    32.9   \n",
       "192     Yolo  2014   9.245116        6113                    39.2   \n",
       "193     Yolo  2015  11.344165        6113                    40.7   \n",
       "194     Yolo  2016  10.715124        6113                    35.4   \n",
       "195     Yolo  2017  10.430445        6113                    40.4   \n",
       "\n",
       "     Lower 95% Limit  Upper 95% Limit  Patient_count  \n",
       "0               62.0             64.5           9909  \n",
       "1               61.7             64.2           9929  \n",
       "2               54.3             56.5           9073  \n",
       "3               52.7             55.0           8916  \n",
       "4               41.1             46.6            978  \n",
       "..               ...              ...            ...  \n",
       "191             31.7             34.1           2826  \n",
       "192             36.6             42.0            813  \n",
       "193             38.0             43.5            851  \n",
       "194             33.0             38.0            768  \n",
       "195             37.8             43.2            890  \n",
       "\n",
       "[196 rows x 8 columns]"
      ]
     },
     "execution_count": 45,
     "metadata": {},
     "output_type": "execute_result"
    }
   ],
   "source": [
    "merged"
   ]
  },
  {
   "cell_type": "code",
   "execution_count": 46,
   "metadata": {},
   "outputs": [
    {
     "data": {
      "text/html": [
       "<div>\n",
       "<style scoped>\n",
       "    .dataframe tbody tr th:only-of-type {\n",
       "        vertical-align: middle;\n",
       "    }\n",
       "\n",
       "    .dataframe tbody tr th {\n",
       "        vertical-align: top;\n",
       "    }\n",
       "\n",
       "    .dataframe thead th {\n",
       "        text-align: right;\n",
       "    }\n",
       "</style>\n",
       "<table border=\"1\" class=\"dataframe\">\n",
       "  <thead>\n",
       "    <tr style=\"text-align: right;\">\n",
       "      <th></th>\n",
       "      <th>County</th>\n",
       "      <th>Year</th>\n",
       "      <th>Population</th>\n",
       "    </tr>\n",
       "  </thead>\n",
       "  <tbody>\n",
       "    <tr>\n",
       "      <td>0</td>\n",
       "      <td>Alameda</td>\n",
       "      <td>2014</td>\n",
       "      <td>1,588,576</td>\n",
       "    </tr>\n",
       "    <tr>\n",
       "      <td>1</td>\n",
       "      <td>Alpine</td>\n",
       "      <td>2014</td>\n",
       "      <td>1,163</td>\n",
       "    </tr>\n",
       "    <tr>\n",
       "      <td>2</td>\n",
       "      <td>Amador</td>\n",
       "      <td>2014</td>\n",
       "      <td>37,815</td>\n",
       "    </tr>\n",
       "    <tr>\n",
       "      <td>3</td>\n",
       "      <td>Butte</td>\n",
       "      <td>2014</td>\n",
       "      <td>223,137</td>\n",
       "    </tr>\n",
       "    <tr>\n",
       "      <td>4</td>\n",
       "      <td>Calaveras</td>\n",
       "      <td>2014</td>\n",
       "      <td>45,358</td>\n",
       "    </tr>\n",
       "  </tbody>\n",
       "</table>\n",
       "</div>"
      ],
      "text/plain": [
       "      County  Year   Population\n",
       "0    Alameda  2014   1,588,576 \n",
       "1     Alpine  2014       1,163 \n",
       "2     Amador  2014      37,815 \n",
       "3      Butte  2014     223,137 \n",
       "4  Calaveras  2014      45,358 "
      ]
     },
     "execution_count": 46,
     "metadata": {},
     "output_type": "execute_result"
    }
   ],
   "source": [
    "#county population file\n",
    "county_population = pd.read_csv('../Datasets/Disease cases/asthma-4/county_population.csv',low_memory=False)\n",
    "county_population.head()"
   ]
  },
  {
   "cell_type": "code",
   "execution_count": 47,
   "metadata": {},
   "outputs": [
    {
     "data": {
      "text/html": [
       "<div>\n",
       "<style scoped>\n",
       "    .dataframe tbody tr th:only-of-type {\n",
       "        vertical-align: middle;\n",
       "    }\n",
       "\n",
       "    .dataframe tbody tr th {\n",
       "        vertical-align: top;\n",
       "    }\n",
       "\n",
       "    .dataframe thead th {\n",
       "        text-align: right;\n",
       "    }\n",
       "</style>\n",
       "<table border=\"1\" class=\"dataframe\">\n",
       "  <thead>\n",
       "    <tr style=\"text-align: right;\">\n",
       "      <th></th>\n",
       "      <th>County</th>\n",
       "      <th>Year</th>\n",
       "      <th>Population</th>\n",
       "    </tr>\n",
       "  </thead>\n",
       "  <tbody>\n",
       "    <tr>\n",
       "      <td>0</td>\n",
       "      <td>Alameda</td>\n",
       "      <td>2014</td>\n",
       "      <td>1588576</td>\n",
       "    </tr>\n",
       "    <tr>\n",
       "      <td>1</td>\n",
       "      <td>Alpine</td>\n",
       "      <td>2014</td>\n",
       "      <td>1163</td>\n",
       "    </tr>\n",
       "    <tr>\n",
       "      <td>2</td>\n",
       "      <td>Amador</td>\n",
       "      <td>2014</td>\n",
       "      <td>37815</td>\n",
       "    </tr>\n",
       "    <tr>\n",
       "      <td>3</td>\n",
       "      <td>Butte</td>\n",
       "      <td>2014</td>\n",
       "      <td>223137</td>\n",
       "    </tr>\n",
       "    <tr>\n",
       "      <td>4</td>\n",
       "      <td>Calaveras</td>\n",
       "      <td>2014</td>\n",
       "      <td>45358</td>\n",
       "    </tr>\n",
       "  </tbody>\n",
       "</table>\n",
       "</div>"
      ],
      "text/plain": [
       "      County  Year  Population\n",
       "0    Alameda  2014     1588576\n",
       "1     Alpine  2014        1163\n",
       "2     Amador  2014       37815\n",
       "3      Butte  2014      223137\n",
       "4  Calaveras  2014       45358"
      ]
     },
     "execution_count": 47,
     "metadata": {},
     "output_type": "execute_result"
    }
   ],
   "source": [
    "#remove comma from Population column\n",
    "county_population['Population'] = county_population['Population'].str.replace(',','').astype(int)\n",
    "county_population.head()"
   ]
  },
  {
   "cell_type": "code",
   "execution_count": 48,
   "metadata": {},
   "outputs": [
    {
     "data": {
      "text/html": [
       "<div>\n",
       "<style scoped>\n",
       "    .dataframe tbody tr th:only-of-type {\n",
       "        vertical-align: middle;\n",
       "    }\n",
       "\n",
       "    .dataframe tbody tr th {\n",
       "        vertical-align: top;\n",
       "    }\n",
       "\n",
       "    .dataframe thead th {\n",
       "        text-align: right;\n",
       "    }\n",
       "</style>\n",
       "<table border=\"1\" class=\"dataframe\">\n",
       "  <thead>\n",
       "    <tr style=\"text-align: right;\">\n",
       "      <th></th>\n",
       "      <th>County</th>\n",
       "      <th>Year</th>\n",
       "      <th>Value</th>\n",
       "      <th>CountyCode</th>\n",
       "      <th>Crude rates per 10,000</th>\n",
       "      <th>Lower 95% Limit</th>\n",
       "      <th>Upper 95% Limit</th>\n",
       "      <th>Patient_count</th>\n",
       "      <th>Population</th>\n",
       "    </tr>\n",
       "  </thead>\n",
       "  <tbody>\n",
       "    <tr>\n",
       "      <td>0</td>\n",
       "      <td>Alameda</td>\n",
       "      <td>2014</td>\n",
       "      <td>10.615572</td>\n",
       "      <td>6001</td>\n",
       "      <td>63.2</td>\n",
       "      <td>62.0</td>\n",
       "      <td>64.5</td>\n",
       "      <td>9909</td>\n",
       "      <td>1588576</td>\n",
       "    </tr>\n",
       "    <tr>\n",
       "      <td>1</td>\n",
       "      <td>Alameda</td>\n",
       "      <td>2015</td>\n",
       "      <td>11.195880</td>\n",
       "      <td>6001</td>\n",
       "      <td>62.9</td>\n",
       "      <td>61.7</td>\n",
       "      <td>64.2</td>\n",
       "      <td>9929</td>\n",
       "      <td>1611770</td>\n",
       "    </tr>\n",
       "    <tr>\n",
       "      <td>2</td>\n",
       "      <td>Alameda</td>\n",
       "      <td>2016</td>\n",
       "      <td>9.924854</td>\n",
       "      <td>6001</td>\n",
       "      <td>55.4</td>\n",
       "      <td>54.3</td>\n",
       "      <td>56.5</td>\n",
       "      <td>9073</td>\n",
       "      <td>1629738</td>\n",
       "    </tr>\n",
       "    <tr>\n",
       "      <td>3</td>\n",
       "      <td>Alameda</td>\n",
       "      <td>2017</td>\n",
       "      <td>13.576661</td>\n",
       "      <td>6001</td>\n",
       "      <td>53.9</td>\n",
       "      <td>52.7</td>\n",
       "      <td>55.0</td>\n",
       "      <td>8916</td>\n",
       "      <td>1646405</td>\n",
       "    </tr>\n",
       "    <tr>\n",
       "      <td>4</td>\n",
       "      <td>Butte</td>\n",
       "      <td>2014</td>\n",
       "      <td>11.526889</td>\n",
       "      <td>6007</td>\n",
       "      <td>43.8</td>\n",
       "      <td>41.1</td>\n",
       "      <td>46.6</td>\n",
       "      <td>978</td>\n",
       "      <td>223137</td>\n",
       "    </tr>\n",
       "  </tbody>\n",
       "</table>\n",
       "</div>"
      ],
      "text/plain": [
       "    County  Year      Value  CountyCode  Crude rates per 10,000  \\\n",
       "0  Alameda  2014  10.615572        6001                    63.2   \n",
       "1  Alameda  2015  11.195880        6001                    62.9   \n",
       "2  Alameda  2016   9.924854        6001                    55.4   \n",
       "3  Alameda  2017  13.576661        6001                    53.9   \n",
       "4    Butte  2014  11.526889        6007                    43.8   \n",
       "\n",
       "   Lower 95% Limit  Upper 95% Limit  Patient_count  Population  \n",
       "0             62.0             64.5           9909     1588576  \n",
       "1             61.7             64.2           9929     1611770  \n",
       "2             54.3             56.5           9073     1629738  \n",
       "3             52.7             55.0           8916     1646405  \n",
       "4             41.1             46.6            978      223137  "
      ]
     },
     "execution_count": 48,
     "metadata": {},
     "output_type": "execute_result"
    }
   ],
   "source": [
    "#merging merged data && county_population data to get population column\n",
    "\n",
    "merged = pd.merge(merged,county_population,how='inner', left_on=['Year', 'County'], right_on=['Year','County'])\n",
    "merged.head()"
   ]
  },
  {
   "cell_type": "code",
   "execution_count": 49,
   "metadata": {},
   "outputs": [
    {
     "data": {
      "text/html": [
       "<div>\n",
       "<style scoped>\n",
       "    .dataframe tbody tr th:only-of-type {\n",
       "        vertical-align: middle;\n",
       "    }\n",
       "\n",
       "    .dataframe tbody tr th {\n",
       "        vertical-align: top;\n",
       "    }\n",
       "\n",
       "    .dataframe thead th {\n",
       "        text-align: right;\n",
       "    }\n",
       "</style>\n",
       "<table border=\"1\" class=\"dataframe\">\n",
       "  <thead>\n",
       "    <tr style=\"text-align: right;\">\n",
       "      <th></th>\n",
       "      <th>County</th>\n",
       "      <th>Year</th>\n",
       "      <th>Value</th>\n",
       "      <th>CountyCode</th>\n",
       "      <th>Crude rates per 10,000</th>\n",
       "      <th>Lower 95% Limit</th>\n",
       "      <th>Upper 95% Limit</th>\n",
       "      <th>Patient_count</th>\n",
       "      <th>Population</th>\n",
       "      <th>Patient_ratio</th>\n",
       "    </tr>\n",
       "  </thead>\n",
       "  <tbody>\n",
       "    <tr>\n",
       "      <td>0</td>\n",
       "      <td>Alameda</td>\n",
       "      <td>2014</td>\n",
       "      <td>10.615572</td>\n",
       "      <td>6001</td>\n",
       "      <td>63.2</td>\n",
       "      <td>62.0</td>\n",
       "      <td>64.5</td>\n",
       "      <td>9909</td>\n",
       "      <td>1588576</td>\n",
       "      <td>0.006238</td>\n",
       "    </tr>\n",
       "    <tr>\n",
       "      <td>1</td>\n",
       "      <td>Alameda</td>\n",
       "      <td>2015</td>\n",
       "      <td>11.195880</td>\n",
       "      <td>6001</td>\n",
       "      <td>62.9</td>\n",
       "      <td>61.7</td>\n",
       "      <td>64.2</td>\n",
       "      <td>9929</td>\n",
       "      <td>1611770</td>\n",
       "      <td>0.006160</td>\n",
       "    </tr>\n",
       "    <tr>\n",
       "      <td>2</td>\n",
       "      <td>Alameda</td>\n",
       "      <td>2016</td>\n",
       "      <td>9.924854</td>\n",
       "      <td>6001</td>\n",
       "      <td>55.4</td>\n",
       "      <td>54.3</td>\n",
       "      <td>56.5</td>\n",
       "      <td>9073</td>\n",
       "      <td>1629738</td>\n",
       "      <td>0.005567</td>\n",
       "    </tr>\n",
       "    <tr>\n",
       "      <td>3</td>\n",
       "      <td>Alameda</td>\n",
       "      <td>2017</td>\n",
       "      <td>13.576661</td>\n",
       "      <td>6001</td>\n",
       "      <td>53.9</td>\n",
       "      <td>52.7</td>\n",
       "      <td>55.0</td>\n",
       "      <td>8916</td>\n",
       "      <td>1646405</td>\n",
       "      <td>0.005415</td>\n",
       "    </tr>\n",
       "    <tr>\n",
       "      <td>4</td>\n",
       "      <td>Butte</td>\n",
       "      <td>2014</td>\n",
       "      <td>11.526889</td>\n",
       "      <td>6007</td>\n",
       "      <td>43.8</td>\n",
       "      <td>41.1</td>\n",
       "      <td>46.6</td>\n",
       "      <td>978</td>\n",
       "      <td>223137</td>\n",
       "      <td>0.004383</td>\n",
       "    </tr>\n",
       "  </tbody>\n",
       "</table>\n",
       "</div>"
      ],
      "text/plain": [
       "    County  Year      Value  CountyCode  Crude rates per 10,000  \\\n",
       "0  Alameda  2014  10.615572        6001                    63.2   \n",
       "1  Alameda  2015  11.195880        6001                    62.9   \n",
       "2  Alameda  2016   9.924854        6001                    55.4   \n",
       "3  Alameda  2017  13.576661        6001                    53.9   \n",
       "4    Butte  2014  11.526889        6007                    43.8   \n",
       "\n",
       "   Lower 95% Limit  Upper 95% Limit  Patient_count  Population  Patient_ratio  \n",
       "0             62.0             64.5           9909     1588576       0.006238  \n",
       "1             61.7             64.2           9929     1611770       0.006160  \n",
       "2             54.3             56.5           9073     1629738       0.005567  \n",
       "3             52.7             55.0           8916     1646405       0.005415  \n",
       "4             41.1             46.6            978      223137       0.004383  "
      ]
     },
     "execution_count": 49,
     "metadata": {},
     "output_type": "execute_result"
    }
   ],
   "source": [
    "#Calculating patient ratio\n",
    "\n",
    "merged['Patient_ratio'] = merged['Patient_count']/merged['Population']\n",
    "merged.head()"
   ]
  },
  {
   "cell_type": "code",
   "execution_count": 50,
   "metadata": {},
   "outputs": [
    {
     "data": {
      "text/html": [
       "<div>\n",
       "<style scoped>\n",
       "    .dataframe tbody tr th:only-of-type {\n",
       "        vertical-align: middle;\n",
       "    }\n",
       "\n",
       "    .dataframe tbody tr th {\n",
       "        vertical-align: top;\n",
       "    }\n",
       "\n",
       "    .dataframe thead th {\n",
       "        text-align: right;\n",
       "    }\n",
       "</style>\n",
       "<table border=\"1\" class=\"dataframe\">\n",
       "  <thead>\n",
       "    <tr style=\"text-align: right;\">\n",
       "      <th></th>\n",
       "      <th>County</th>\n",
       "      <th>Year</th>\n",
       "      <th>Value</th>\n",
       "      <th>CountyCode</th>\n",
       "      <th>Crude rates per 10,000</th>\n",
       "      <th>Lower 95% Limit</th>\n",
       "      <th>Upper 95% Limit</th>\n",
       "      <th>Patient_count</th>\n",
       "      <th>Population</th>\n",
       "      <th>Patient_ratio</th>\n",
       "      <th>Patient_percent%</th>\n",
       "    </tr>\n",
       "  </thead>\n",
       "  <tbody>\n",
       "    <tr>\n",
       "      <td>0</td>\n",
       "      <td>Alameda</td>\n",
       "      <td>2014</td>\n",
       "      <td>10.615572</td>\n",
       "      <td>6001</td>\n",
       "      <td>63.2</td>\n",
       "      <td>62.0</td>\n",
       "      <td>64.5</td>\n",
       "      <td>9909</td>\n",
       "      <td>1588576</td>\n",
       "      <td>0.006238</td>\n",
       "      <td>62.376619</td>\n",
       "    </tr>\n",
       "    <tr>\n",
       "      <td>1</td>\n",
       "      <td>Alameda</td>\n",
       "      <td>2015</td>\n",
       "      <td>11.195880</td>\n",
       "      <td>6001</td>\n",
       "      <td>62.9</td>\n",
       "      <td>61.7</td>\n",
       "      <td>64.2</td>\n",
       "      <td>9929</td>\n",
       "      <td>1611770</td>\n",
       "      <td>0.006160</td>\n",
       "      <td>61.603082</td>\n",
       "    </tr>\n",
       "    <tr>\n",
       "      <td>2</td>\n",
       "      <td>Alameda</td>\n",
       "      <td>2016</td>\n",
       "      <td>9.924854</td>\n",
       "      <td>6001</td>\n",
       "      <td>55.4</td>\n",
       "      <td>54.3</td>\n",
       "      <td>56.5</td>\n",
       "      <td>9073</td>\n",
       "      <td>1629738</td>\n",
       "      <td>0.005567</td>\n",
       "      <td>55.671525</td>\n",
       "    </tr>\n",
       "    <tr>\n",
       "      <td>3</td>\n",
       "      <td>Alameda</td>\n",
       "      <td>2017</td>\n",
       "      <td>13.576661</td>\n",
       "      <td>6001</td>\n",
       "      <td>53.9</td>\n",
       "      <td>52.7</td>\n",
       "      <td>55.0</td>\n",
       "      <td>8916</td>\n",
       "      <td>1646405</td>\n",
       "      <td>0.005415</td>\n",
       "      <td>54.154354</td>\n",
       "    </tr>\n",
       "    <tr>\n",
       "      <td>4</td>\n",
       "      <td>Butte</td>\n",
       "      <td>2014</td>\n",
       "      <td>11.526889</td>\n",
       "      <td>6007</td>\n",
       "      <td>43.8</td>\n",
       "      <td>41.1</td>\n",
       "      <td>46.6</td>\n",
       "      <td>978</td>\n",
       "      <td>223137</td>\n",
       "      <td>0.004383</td>\n",
       "      <td>43.829576</td>\n",
       "    </tr>\n",
       "  </tbody>\n",
       "</table>\n",
       "</div>"
      ],
      "text/plain": [
       "    County  Year      Value  CountyCode  Crude rates per 10,000  \\\n",
       "0  Alameda  2014  10.615572        6001                    63.2   \n",
       "1  Alameda  2015  11.195880        6001                    62.9   \n",
       "2  Alameda  2016   9.924854        6001                    55.4   \n",
       "3  Alameda  2017  13.576661        6001                    53.9   \n",
       "4    Butte  2014  11.526889        6007                    43.8   \n",
       "\n",
       "   Lower 95% Limit  Upper 95% Limit  Patient_count  Population  Patient_ratio  \\\n",
       "0             62.0             64.5           9909     1588576       0.006238   \n",
       "1             61.7             64.2           9929     1611770       0.006160   \n",
       "2             54.3             56.5           9073     1629738       0.005567   \n",
       "3             52.7             55.0           8916     1646405       0.005415   \n",
       "4             41.1             46.6            978      223137       0.004383   \n",
       "\n",
       "   Patient_percent%  \n",
       "0         62.376619  \n",
       "1         61.603082  \n",
       "2         55.671525  \n",
       "3         54.154354  \n",
       "4         43.829576  "
      ]
     },
     "execution_count": 50,
     "metadata": {},
     "output_type": "execute_result"
    }
   ],
   "source": [
    "#Calculating patient percentage\n",
    "\n",
    "merged['Patient_percent%'] = merged['Patient_ratio']* 10000\n",
    "merged.head()"
   ]
  },
  {
   "cell_type": "code",
   "execution_count": 51,
   "metadata": {},
   "outputs": [
    {
     "data": {
      "image/png": "[encoded data removed]",
      "text/plain": [
       "<Figure size 1152x720 with 2 Axes>"
      ]
     },
     "metadata": {
      "needs_background": "light"
     },
     "output_type": "display_data"
    }
   ],
   "source": [
    "#again measuring the correlation - without applying county filter\n",
    "\n",
    "corr = merged.corr()\n",
    "g = sns.heatmap(corr, vmax=.9, center=0,\n",
    "               square=True, linewidths=.9, cbar_kws={\"shrink\": .8}, annot=True, fmt='.2f', cmap='coolwarm')\n",
    "bottom, top = g.get_ylim()\n",
    "g.set_ylim(bottom + 0.5, top - 0.5)\n",
    "sns.despine()\n",
    "g.figure.set_size_inches(16, 10)"
   ]
  },
  {
   "cell_type": "code",
   "execution_count": 53,
   "metadata": {},
   "outputs": [
    {
     "data": {
      "text/plain": [
       "<matplotlib.axes._subplots.AxesSubplot at 0x14e6e550>"
      ]
     },
     "execution_count": 53,
     "metadata": {},
     "output_type": "execute_result"
    },
    {
     "data": {
      "image/png": "[encoded data removed]",
      "text/plain": [
       "<Figure size 432x288 with 1 Axes>"
      ]
     },
     "metadata": {
      "needs_background": "light"
     },
     "output_type": "display_data"
    }
   ],
   "source": [
    "#plotting AQ index value vs. patient ratio\n",
    "merged[['Value','Patient_percent%']].plot()"
   ]
  },
  {
   "cell_type": "code",
   "execution_count": 115,
   "metadata": {},
   "outputs": [
    {
     "data": {
      "text/plain": [
       "array(['Alameda', 'Butte', 'Calaveras', 'Colusa', 'Contra Costa',\n",
       "       'Del Norte', 'El Dorado', 'Fresno', 'Glenn', 'Humboldt',\n",
       "       'Imperial', 'Inyo', 'Kern', 'Kings', 'Lake', 'Madera', 'Marin',\n",
       "       'Mariposa', 'Mendocino', 'Merced', 'Mono', 'Monterey', 'Napa',\n",
       "       'Nevada', 'Orange', 'Placer', 'Plumas', 'Riverside', 'Sacramento',\n",
       "       'San Benito', 'San Bernardino', 'San Diego', 'San Francisco',\n",
       "       'San Joaquin', 'San Luis Obispo', 'San Mateo', 'Santa Barbara',\n",
       "       'Santa Clara', 'Santa Cruz', 'Shasta', 'Solano', 'Sonoma',\n",
       "       'Stanislaus', 'Sutter', 'Tehama', 'Trinity', 'Tulare', 'Ventura',\n",
       "       'Yolo'], dtype=object)"
      ]
     },
     "execution_count": 115,
     "metadata": {},
     "output_type": "execute_result"
    }
   ],
   "source": [
    "merged['County'].unique()"
   ]
  },
  {
   "cell_type": "code",
   "execution_count": 55,
   "metadata": {},
   "outputs": [
    {
     "data": {
      "text/html": [
       "<div>\n",
       "<style scoped>\n",
       "    .dataframe tbody tr th:only-of-type {\n",
       "        vertical-align: middle;\n",
       "    }\n",
       "\n",
       "    .dataframe tbody tr th {\n",
       "        vertical-align: top;\n",
       "    }\n",
       "\n",
       "    .dataframe thead th {\n",
       "        text-align: right;\n",
       "    }\n",
       "</style>\n",
       "<table border=\"1\" class=\"dataframe\">\n",
       "  <thead>\n",
       "    <tr style=\"text-align: right;\">\n",
       "      <th></th>\n",
       "      <th>County</th>\n",
       "      <th>Year</th>\n",
       "      <th>Value</th>\n",
       "      <th>CountyCode</th>\n",
       "      <th>Crude rates per 10,000</th>\n",
       "      <th>Lower 95% Limit</th>\n",
       "      <th>Upper 95% Limit</th>\n",
       "      <th>Patient_count</th>\n",
       "      <th>Population</th>\n",
       "      <th>Patient_ratio</th>\n",
       "      <th>Patient_percent%</th>\n",
       "    </tr>\n",
       "  </thead>\n",
       "  <tbody>\n",
       "    <tr>\n",
       "      <td>148</td>\n",
       "      <td>Santa Clara</td>\n",
       "      <td>2014</td>\n",
       "      <td>9.421971</td>\n",
       "      <td>6085</td>\n",
       "      <td>30.3</td>\n",
       "      <td>29.6</td>\n",
       "      <td>31.1</td>\n",
       "      <td>5643</td>\n",
       "      <td>1880197</td>\n",
       "      <td>0.003001</td>\n",
       "      <td>30.012812</td>\n",
       "    </tr>\n",
       "    <tr>\n",
       "      <td>149</td>\n",
       "      <td>Santa Clara</td>\n",
       "      <td>2015</td>\n",
       "      <td>10.519511</td>\n",
       "      <td>6085</td>\n",
       "      <td>34.8</td>\n",
       "      <td>33.9</td>\n",
       "      <td>35.6</td>\n",
       "      <td>6514</td>\n",
       "      <td>1905156</td>\n",
       "      <td>0.003419</td>\n",
       "      <td>34.191426</td>\n",
       "    </tr>\n",
       "    <tr>\n",
       "      <td>150</td>\n",
       "      <td>Santa Clara</td>\n",
       "      <td>2016</td>\n",
       "      <td>9.400861</td>\n",
       "      <td>6085</td>\n",
       "      <td>28.6</td>\n",
       "      <td>27.9</td>\n",
       "      <td>29.4</td>\n",
       "      <td>5522</td>\n",
       "      <td>1924582</td>\n",
       "      <td>0.002869</td>\n",
       "      <td>28.691945</td>\n",
       "    </tr>\n",
       "    <tr>\n",
       "      <td>151</td>\n",
       "      <td>Santa Clara</td>\n",
       "      <td>2017</td>\n",
       "      <td>11.125765</td>\n",
       "      <td>6085</td>\n",
       "      <td>30.0</td>\n",
       "      <td>29.2</td>\n",
       "      <td>30.7</td>\n",
       "      <td>5849</td>\n",
       "      <td>1937473</td>\n",
       "      <td>0.003019</td>\n",
       "      <td>30.188808</td>\n",
       "    </tr>\n",
       "  </tbody>\n",
       "</table>\n",
       "</div>"
      ],
      "text/plain": [
       "          County  Year      Value  CountyCode  Crude rates per 10,000  \\\n",
       "148  Santa Clara  2014   9.421971        6085                    30.3   \n",
       "149  Santa Clara  2015  10.519511        6085                    34.8   \n",
       "150  Santa Clara  2016   9.400861        6085                    28.6   \n",
       "151  Santa Clara  2017  11.125765        6085                    30.0   \n",
       "\n",
       "     Lower 95% Limit  Upper 95% Limit  Patient_count  Population  \\\n",
       "148             29.6             31.1           5643     1880197   \n",
       "149             33.9             35.6           6514     1905156   \n",
       "150             27.9             29.4           5522     1924582   \n",
       "151             29.2             30.7           5849     1937473   \n",
       "\n",
       "     Patient_ratio  Patient_percent%  \n",
       "148       0.003001         30.012812  \n",
       "149       0.003419         34.191426  \n",
       "150       0.002869         28.691945  \n",
       "151       0.003019         30.188808  "
      ]
     },
     "execution_count": 55,
     "metadata": {},
     "output_type": "execute_result"
    }
   ],
   "source": [
    "merged_filter_for_plot = merged[(merged['County'].isin(['Santa Clara']))]\n",
    "merged_filter_for_plot"
   ]
  },
  {
   "cell_type": "code",
   "execution_count": 56,
   "metadata": {},
   "outputs": [
    {
     "data": {
      "text/plain": [
       "<matplotlib.axes._subplots.AxesSubplot at 0x14ec4af0>"
      ]
     },
     "execution_count": 56,
     "metadata": {},
     "output_type": "execute_result"
    },
    {
     "data": {
      "image/png": "[encoded data removed]",
      "text/plain": [
       "<Figure size 432x288 with 1 Axes>"
      ]
     },
     "metadata": {
      "needs_background": "light"
     },
     "output_type": "display_data"
    }
   ],
   "source": [
    "#plotting AQ index value vs. patient ratio\n",
    "merged_filter_for_plot[['Value','Patient_percent%']].plot()"
   ]
  },
  {
   "cell_type": "code",
   "execution_count": 57,
   "metadata": {},
   "outputs": [
    {
     "data": {
      "text/plain": [
       "[<matplotlib.lines.Line2D at 0x14f1b850>]"
      ]
     },
     "execution_count": 57,
     "metadata": {},
     "output_type": "execute_result"
    },
    {
     "data": {
      "image/png": "[encoded data removed]",
      "text/plain": [
       "<Figure size 432x288 with 1 Axes>"
      ]
     },
     "metadata": {
      "needs_background": "light"
     },
     "output_type": "display_data"
    }
   ],
   "source": [
    "plt.figure()\n",
    "\n",
    "x = merged_filter_for_plot['Value']\n",
    "y = merged_filter_for_plot['Patient_percent%']\n",
    "\n",
    "\n",
    "plt.plot(x,y)\n"
   ]
  },
  {
   "cell_type": "code",
   "execution_count": 58,
   "metadata": {},
   "outputs": [
    {
     "data": {
      "text/plain": [
       "[<matplotlib.lines.Line2D at 0x14f59ab0>]"
      ]
     },
     "execution_count": 58,
     "metadata": {},
     "output_type": "execute_result"
    },
    {
     "data": {
      "image/png": "[encoded data removed]",
      "text/plain": [
       "<Figure size 432x288 with 1 Axes>"
      ]
     },
     "metadata": {
      "needs_background": "light"
     },
     "output_type": "display_data"
    }
   ],
   "source": [
    "plt.figure()\n",
    "\n",
    "x = merged_filter_for_plot['Year']\n",
    "y = merged_filter_for_plot['Patient_percent%']\n",
    "\n",
    "plt.plot(x,y)"
   ]
  },
  {
   "cell_type": "code",
   "execution_count": 59,
   "metadata": {},
   "outputs": [
    {
     "data": {
      "text/plain": [
       "[<matplotlib.lines.Line2D at 0x15f60cf0>]"
      ]
     },
     "execution_count": 59,
     "metadata": {},
     "output_type": "execute_result"
    },
    {
     "data": {
      "image/png": "[encoded data removed]",
      "text/plain": [
       "<Figure size 432x288 with 1 Axes>"
      ]
     },
     "metadata": {
      "needs_background": "light"
     },
     "output_type": "display_data"
    }
   ],
   "source": [
    "plt.figure()\n",
    "\n",
    "x = merged_filter_for_plot['Value']\n",
    "y = merged_filter_for_plot['Year']\n",
    "\n",
    "plt.plot(y,x)"
   ]
  },
  {
   "cell_type": "code",
   "execution_count": 60,
   "metadata": {},
   "outputs": [
    {
     "data": {
      "text/plain": [
       "[<matplotlib.lines.Line2D at 0x15fa5630>]"
      ]
     },
     "execution_count": 60,
     "metadata": {},
     "output_type": "execute_result"
    },
    {
     "data": {
      "image/png": "[encoded data removed]",
      "text/plain": [
       "<Figure size 432x288 with 1 Axes>"
      ]
     },
     "metadata": {
      "needs_background": "light"
     },
     "output_type": "display_data"
    }
   ],
   "source": [
    "plt.figure()\n",
    "\n",
    "x = merged_filter_for_plot['Year']\n",
    "y1 = merged_filter_for_plot['Patient_ratio'] * 10000\n",
    "y2 = merged_filter_for_plot['Value']\n",
    "\n",
    "plt.plot(x,y1)\n",
    "plt.plot(x,y2)"
   ]
  },
  {
   "cell_type": "code",
   "execution_count": 61,
   "metadata": {},
   "outputs": [
    {
     "data": {
      "image/png": "[encoded data removed]",
      "text/plain": [
       "<Figure size 432x288 with 1 Axes>"
      ]
     },
     "metadata": {
      "needs_background": "light"
     },
     "output_type": "display_data"
    }
   ],
   "source": [
    "sns.distplot(merged_filter_for_plot['Patient_ratio'])\n",
    "plt.show()"
   ]
  },
  {
   "cell_type": "code",
   "execution_count": 62,
   "metadata": {},
   "outputs": [
    {
     "data": {
      "image/png": "[encoded data removed]",
      "text/plain": [
       "<Figure size 432x288 with 1 Axes>"
      ]
     },
     "metadata": {
      "needs_background": "light"
     },
     "output_type": "display_data"
    }
   ],
   "source": [
    "sns.distplot(merged_filter_for_plot['Patient_ratio']* 10000)\n",
    "plt.show()"
   ]
  },
  {
   "cell_type": "code",
   "execution_count": 63,
   "metadata": {},
   "outputs": [
    {
     "data": {
      "image/png": "[encoded data removed]",
      "text/plain": [
       "<Figure size 432x288 with 1 Axes>"
      ]
     },
     "metadata": {
      "needs_background": "light"
     },
     "output_type": "display_data"
    }
   ],
   "source": [
    "sns.distplot(merged_filter_for_plot['Value'])\n",
    "plt.show()"
   ]
  },
  {
   "cell_type": "code",
   "execution_count": 64,
   "metadata": {},
   "outputs": [
    {
     "data": {
      "image/png": "[encoded data removed]",
      "text/plain": [
       "<Figure size 432x288 with 1 Axes>"
      ]
     },
     "metadata": {
      "needs_background": "light"
     },
     "output_type": "display_data"
    }
   ],
   "source": [
    "# Method 1: on the same Axis\n",
    "sns.distplot( (merged_filter_for_plot[\"Patient_percent%\"]) , color=\"blue\", label=\"Patient_ratio\")\n",
    "sns.distplot( merged_filter_for_plot[\"Value\"] , color=\"red\", label=\"Value\")\n",
    "plt.legend()\n",
    " \n",
    "plt.show()\n"
   ]
  },
  {
   "cell_type": "code",
   "execution_count": 71,
   "metadata": {},
   "outputs": [
    {
     "name": "stderr",
     "output_type": "stream",
     "text": [
      "c:\\users\\subar\\appdata\\local\\programs\\python\\python37-32\\lib\\site-packages\\pandas\\core\\generic.py:5208: SettingWithCopyWarning: \n",
      "A value is trying to be set on a copy of a slice from a DataFrame.\n",
      "Try using .loc[row_indexer,col_indexer] = value instead\n",
      "\n",
      "See the caveats in the documentation: http://pandas.pydata.org/pandas-docs/stable/user_guide/indexing.html#returning-a-view-versus-a-copy\n",
      "  self[name] = value\n"
     ]
    },
    {
     "data": {
      "text/html": [
       "<div>\n",
       "<style scoped>\n",
       "    .dataframe tbody tr th:only-of-type {\n",
       "        vertical-align: middle;\n",
       "    }\n",
       "\n",
       "    .dataframe tbody tr th {\n",
       "        vertical-align: top;\n",
       "    }\n",
       "\n",
       "    .dataframe thead th {\n",
       "        text-align: right;\n",
       "    }\n",
       "</style>\n",
       "<table border=\"1\" class=\"dataframe\">\n",
       "  <thead>\n",
       "    <tr style=\"text-align: right;\">\n",
       "      <th></th>\n",
       "      <th>County</th>\n",
       "      <th>Year</th>\n",
       "      <th>Value</th>\n",
       "      <th>CountyCode</th>\n",
       "      <th>Crude rates per 10,000</th>\n",
       "      <th>Lower 95% Limit</th>\n",
       "      <th>Upper 95% Limit</th>\n",
       "      <th>Patient_count</th>\n",
       "      <th>Population</th>\n",
       "      <th>Patient_ratio</th>\n",
       "      <th>Patient_percent%</th>\n",
       "    </tr>\n",
       "  </thead>\n",
       "  <tbody>\n",
       "    <tr>\n",
       "      <td>148</td>\n",
       "      <td>Santa Clara</td>\n",
       "      <td>2014</td>\n",
       "      <td>9.421971</td>\n",
       "      <td>6085</td>\n",
       "      <td>30.3</td>\n",
       "      <td>29.6</td>\n",
       "      <td>31.1</td>\n",
       "      <td>5643</td>\n",
       "      <td>1880197</td>\n",
       "      <td>0.003001</td>\n",
       "      <td>30.012812</td>\n",
       "    </tr>\n",
       "    <tr>\n",
       "      <td>149</td>\n",
       "      <td>Santa Clara</td>\n",
       "      <td>2015</td>\n",
       "      <td>10.519511</td>\n",
       "      <td>6085</td>\n",
       "      <td>34.8</td>\n",
       "      <td>33.9</td>\n",
       "      <td>35.6</td>\n",
       "      <td>6514</td>\n",
       "      <td>1905156</td>\n",
       "      <td>0.003419</td>\n",
       "      <td>34.191426</td>\n",
       "    </tr>\n",
       "    <tr>\n",
       "      <td>150</td>\n",
       "      <td>Santa Clara</td>\n",
       "      <td>2016</td>\n",
       "      <td>9.400861</td>\n",
       "      <td>6085</td>\n",
       "      <td>28.6</td>\n",
       "      <td>27.9</td>\n",
       "      <td>29.4</td>\n",
       "      <td>5522</td>\n",
       "      <td>1924582</td>\n",
       "      <td>0.002869</td>\n",
       "      <td>28.691945</td>\n",
       "    </tr>\n",
       "    <tr>\n",
       "      <td>151</td>\n",
       "      <td>Santa Clara</td>\n",
       "      <td>2017</td>\n",
       "      <td>11.125765</td>\n",
       "      <td>6085</td>\n",
       "      <td>30.0</td>\n",
       "      <td>29.2</td>\n",
       "      <td>30.7</td>\n",
       "      <td>5849</td>\n",
       "      <td>1937473</td>\n",
       "      <td>0.003019</td>\n",
       "      <td>30.188808</td>\n",
       "    </tr>\n",
       "  </tbody>\n",
       "</table>\n",
       "</div>"
      ],
      "text/plain": [
       "          County  Year      Value  CountyCode  Crude rates per 10,000  \\\n",
       "148  Santa Clara  2014   9.421971        6085                    30.3   \n",
       "149  Santa Clara  2015  10.519511        6085                    34.8   \n",
       "150  Santa Clara  2016   9.400861        6085                    28.6   \n",
       "151  Santa Clara  2017  11.125765        6085                    30.0   \n",
       "\n",
       "     Lower 95% Limit  Upper 95% Limit  Patient_count  Population  \\\n",
       "148             29.6             31.1           5643     1880197   \n",
       "149             33.9             35.6           6514     1905156   \n",
       "150             27.9             29.4           5522     1924582   \n",
       "151             29.2             30.7           5849     1937473   \n",
       "\n",
       "     Patient_ratio  Patient_percent%  \n",
       "148       0.003001         30.012812  \n",
       "149       0.003419         34.191426  \n",
       "150       0.002869         28.691945  \n",
       "151       0.003019         30.188808  "
      ]
     },
     "execution_count": 71,
     "metadata": {},
     "output_type": "execute_result"
    }
   ],
   "source": [
    "merged_filter_for_plot.Value = merged_filter_for_plot.Value.astype(float)\n",
    "merged_filter_for_plot"
   ]
  },
  {
   "cell_type": "code",
   "execution_count": 144,
   "metadata": {},
   "outputs": [
    {
     "data": {
      "text/html": [
       "<div>\n",
       "<style scoped>\n",
       "    .dataframe tbody tr th:only-of-type {\n",
       "        vertical-align: middle;\n",
       "    }\n",
       "\n",
       "    .dataframe tbody tr th {\n",
       "        vertical-align: top;\n",
       "    }\n",
       "\n",
       "    .dataframe thead th {\n",
       "        text-align: right;\n",
       "    }\n",
       "</style>\n",
       "<table border=\"1\" class=\"dataframe\">\n",
       "  <thead>\n",
       "    <tr style=\"text-align: right;\">\n",
       "      <th></th>\n",
       "      <th>County</th>\n",
       "      <th>Year</th>\n",
       "      <th>Value</th>\n",
       "      <th>CountyCode</th>\n",
       "      <th>Crude rates per 10,000</th>\n",
       "      <th>Lower 95% Limit</th>\n",
       "      <th>Upper 95% Limit</th>\n",
       "      <th>Patient_count</th>\n",
       "      <th>Population</th>\n",
       "      <th>Patient_ratio</th>\n",
       "      <th>Patient_percent%</th>\n",
       "    </tr>\n",
       "  </thead>\n",
       "  <tbody>\n",
       "    <tr>\n",
       "      <td>0</td>\n",
       "      <td>Alameda</td>\n",
       "      <td>2014</td>\n",
       "      <td>10.615572</td>\n",
       "      <td>6001</td>\n",
       "      <td>63.2</td>\n",
       "      <td>62.0</td>\n",
       "      <td>64.5</td>\n",
       "      <td>9909</td>\n",
       "      <td>1588576</td>\n",
       "      <td>0.006238</td>\n",
       "      <td>62.376619</td>\n",
       "    </tr>\n",
       "    <tr>\n",
       "      <td>1</td>\n",
       "      <td>Alameda</td>\n",
       "      <td>2015</td>\n",
       "      <td>11.195880</td>\n",
       "      <td>6001</td>\n",
       "      <td>62.9</td>\n",
       "      <td>61.7</td>\n",
       "      <td>64.2</td>\n",
       "      <td>9929</td>\n",
       "      <td>1611770</td>\n",
       "      <td>0.006160</td>\n",
       "      <td>61.603082</td>\n",
       "    </tr>\n",
       "    <tr>\n",
       "      <td>2</td>\n",
       "      <td>Alameda</td>\n",
       "      <td>2016</td>\n",
       "      <td>9.924854</td>\n",
       "      <td>6001</td>\n",
       "      <td>55.4</td>\n",
       "      <td>54.3</td>\n",
       "      <td>56.5</td>\n",
       "      <td>9073</td>\n",
       "      <td>1629738</td>\n",
       "      <td>0.005567</td>\n",
       "      <td>55.671525</td>\n",
       "    </tr>\n",
       "    <tr>\n",
       "      <td>3</td>\n",
       "      <td>Alameda</td>\n",
       "      <td>2017</td>\n",
       "      <td>13.576661</td>\n",
       "      <td>6001</td>\n",
       "      <td>53.9</td>\n",
       "      <td>52.7</td>\n",
       "      <td>55.0</td>\n",
       "      <td>8916</td>\n",
       "      <td>1646405</td>\n",
       "      <td>0.005415</td>\n",
       "      <td>54.154354</td>\n",
       "    </tr>\n",
       "    <tr>\n",
       "      <td>4</td>\n",
       "      <td>Butte</td>\n",
       "      <td>2014</td>\n",
       "      <td>11.526889</td>\n",
       "      <td>6007</td>\n",
       "      <td>43.8</td>\n",
       "      <td>41.1</td>\n",
       "      <td>46.6</td>\n",
       "      <td>978</td>\n",
       "      <td>223137</td>\n",
       "      <td>0.004383</td>\n",
       "      <td>43.829576</td>\n",
       "    </tr>\n",
       "    <tr>\n",
       "      <td>...</td>\n",
       "      <td>...</td>\n",
       "      <td>...</td>\n",
       "      <td>...</td>\n",
       "      <td>...</td>\n",
       "      <td>...</td>\n",
       "      <td>...</td>\n",
       "      <td>...</td>\n",
       "      <td>...</td>\n",
       "      <td>...</td>\n",
       "      <td>...</td>\n",
       "      <td>...</td>\n",
       "    </tr>\n",
       "    <tr>\n",
       "      <td>191</td>\n",
       "      <td>Ventura</td>\n",
       "      <td>2017</td>\n",
       "      <td>17.019749</td>\n",
       "      <td>6111</td>\n",
       "      <td>32.9</td>\n",
       "      <td>31.7</td>\n",
       "      <td>34.1</td>\n",
       "      <td>2826</td>\n",
       "      <td>855910</td>\n",
       "      <td>0.003302</td>\n",
       "      <td>33.017490</td>\n",
       "    </tr>\n",
       "    <tr>\n",
       "      <td>192</td>\n",
       "      <td>Yolo</td>\n",
       "      <td>2014</td>\n",
       "      <td>9.245116</td>\n",
       "      <td>6113</td>\n",
       "      <td>39.2</td>\n",
       "      <td>36.6</td>\n",
       "      <td>42.0</td>\n",
       "      <td>813</td>\n",
       "      <td>208820</td>\n",
       "      <td>0.003893</td>\n",
       "      <td>38.933052</td>\n",
       "    </tr>\n",
       "    <tr>\n",
       "      <td>193</td>\n",
       "      <td>Yolo</td>\n",
       "      <td>2015</td>\n",
       "      <td>11.344165</td>\n",
       "      <td>6113</td>\n",
       "      <td>40.7</td>\n",
       "      <td>38.0</td>\n",
       "      <td>43.5</td>\n",
       "      <td>851</td>\n",
       "      <td>211078</td>\n",
       "      <td>0.004032</td>\n",
       "      <td>40.316850</td>\n",
       "    </tr>\n",
       "    <tr>\n",
       "      <td>194</td>\n",
       "      <td>Yolo</td>\n",
       "      <td>2016</td>\n",
       "      <td>10.715124</td>\n",
       "      <td>6113</td>\n",
       "      <td>35.4</td>\n",
       "      <td>33.0</td>\n",
       "      <td>38.0</td>\n",
       "      <td>768</td>\n",
       "      <td>215413</td>\n",
       "      <td>0.003565</td>\n",
       "      <td>35.652444</td>\n",
       "    </tr>\n",
       "    <tr>\n",
       "      <td>195</td>\n",
       "      <td>Yolo</td>\n",
       "      <td>2017</td>\n",
       "      <td>10.430445</td>\n",
       "      <td>6113</td>\n",
       "      <td>40.4</td>\n",
       "      <td>37.8</td>\n",
       "      <td>43.2</td>\n",
       "      <td>890</td>\n",
       "      <td>218673</td>\n",
       "      <td>0.004070</td>\n",
       "      <td>40.700041</td>\n",
       "    </tr>\n",
       "  </tbody>\n",
       "</table>\n",
       "<p>196 rows × 11 columns</p>\n",
       "</div>"
      ],
      "text/plain": [
       "      County  Year      Value  CountyCode  Crude rates per 10,000  \\\n",
       "0    Alameda  2014  10.615572        6001                    63.2   \n",
       "1    Alameda  2015  11.195880        6001                    62.9   \n",
       "2    Alameda  2016   9.924854        6001                    55.4   \n",
       "3    Alameda  2017  13.576661        6001                    53.9   \n",
       "4      Butte  2014  11.526889        6007                    43.8   \n",
       "..       ...   ...        ...         ...                     ...   \n",
       "191  Ventura  2017  17.019749        6111                    32.9   \n",
       "192     Yolo  2014   9.245116        6113                    39.2   \n",
       "193     Yolo  2015  11.344165        6113                    40.7   \n",
       "194     Yolo  2016  10.715124        6113                    35.4   \n",
       "195     Yolo  2017  10.430445        6113                    40.4   \n",
       "\n",
       "     Lower 95% Limit  Upper 95% Limit  Patient_count  Population  \\\n",
       "0               62.0             64.5           9909     1588576   \n",
       "1               61.7             64.2           9929     1611770   \n",
       "2               54.3             56.5           9073     1629738   \n",
       "3               52.7             55.0           8916     1646405   \n",
       "4               41.1             46.6            978      223137   \n",
       "..               ...              ...            ...         ...   \n",
       "191             31.7             34.1           2826      855910   \n",
       "192             36.6             42.0            813      208820   \n",
       "193             38.0             43.5            851      211078   \n",
       "194             33.0             38.0            768      215413   \n",
       "195             37.8             43.2            890      218673   \n",
       "\n",
       "     Patient_ratio  Patient_percent%  \n",
       "0         0.006238         62.376619  \n",
       "1         0.006160         61.603082  \n",
       "2         0.005567         55.671525  \n",
       "3         0.005415         54.154354  \n",
       "4         0.004383         43.829576  \n",
       "..             ...               ...  \n",
       "191       0.003302         33.017490  \n",
       "192       0.003893         38.933052  \n",
       "193       0.004032         40.316850  \n",
       "194       0.003565         35.652444  \n",
       "195       0.004070         40.700041  \n",
       "\n",
       "[196 rows x 11 columns]"
      ]
     },
     "execution_count": 144,
     "metadata": {},
     "output_type": "execute_result"
    }
   ],
   "source": [
    "merged"
   ]
  },
  {
   "cell_type": "code",
   "execution_count": 137,
   "metadata": {},
   "outputs": [],
   "source": [
    "# Prep Training and Test data.\n",
    "trainData, testData = train_test_split(merged, train_size=0.7, random_state=100)"
   ]
  },
  {
   "cell_type": "code",
   "execution_count": 120,
   "metadata": {},
   "outputs": [],
   "source": [
    "#X and Y(target) for linear regression\n",
    "X_trainData = trainData[['Value']]\n",
    "Y_trainData= trainData[['Patient_ratio']]\n",
    "X_testData= testData[['Value']]\n",
    "Y_testData= testData[['Patient_ratio']]"
   ]
  },
  {
   "cell_type": "code",
   "execution_count": 121,
   "metadata": {},
   "outputs": [],
   "source": [
    "# Creating linear regression model.\n",
    "model1= LinearRegression()"
   ]
  },
  {
   "cell_type": "code",
   "execution_count": 122,
   "metadata": {},
   "outputs": [],
   "source": [
    "model1.fit(X_trainData,Y_trainData)\n",
    "predictions = model.predict(X_testData)"
   ]
  },
  {
   "cell_type": "code",
   "execution_count": 123,
   "metadata": {},
   "outputs": [
    {
     "name": "stdout",
     "output_type": "stream",
     "text": [
      "[0.00419702]\n",
      "[[5.09385054e-05]]\n"
     ]
    }
   ],
   "source": [
    "# Get the slope and intercept of the line best fit.\n",
    "print(model1.intercept_)\n",
    "\n",
    "\n",
    "print(model.coef_)"
   ]
  },
  {
   "cell_type": "code",
   "execution_count": 124,
   "metadata": {},
   "outputs": [
    {
     "data": {
      "text/plain": [
       "0.0305897283157387"
      ]
     },
     "execution_count": 124,
     "metadata": {},
     "output_type": "execute_result"
    }
   ],
   "source": [
    "# print the R-squared value for the model\n",
    "model1.score(X_trainData, Y_trainData)"
   ]
  },
  {
   "cell_type": "code",
   "execution_count": 125,
   "metadata": {},
   "outputs": [
    {
     "name": "stdout",
     "output_type": "stream",
     "text": [
      "0.07441078048614203\n"
     ]
    }
   ],
   "source": [
    "# print the R-squared value for the model\n",
    "print(model.score(X_testData,Y_testData)  )"
   ]
  },
  {
   "cell_type": "code",
   "execution_count": 169,
   "metadata": {},
   "outputs": [
    {
     "data": {
      "text/plain": [
       "59"
      ]
     },
     "execution_count": 169,
     "metadata": {},
     "output_type": "execute_result"
    }
   ],
   "source": [
    "#X and Y(target) for logistic regression \n",
    "X_trainData = trainData[['Value','CountyCode']]\n",
    "Y_trainData= trainData['Crude rates per 10,000']\n",
    "X_testData= testData[['Value','CountyCode']]\n",
    "Y_testData= testData['Crude rates per 10,000']\n",
    "\n",
    "len(X_testData)\n",
    "len(Y_testData)"
   ]
  },
  {
   "cell_type": "code",
   "execution_count": 170,
   "metadata": {},
   "outputs": [
    {
     "name": "stdout",
     "output_type": "stream",
     "text": [
      "continuous\n",
      "multiclass\n",
      "multiclass\n",
      "continuous\n",
      "multiclass\n",
      "multiclass\n",
      "137\n"
     ]
    }
   ],
   "source": [
    "from sklearn import preprocessing\n",
    "from sklearn import utils\n",
    "\n",
    "lab_enc = preprocessing.LabelEncoder()\n",
    "Y_trainData_encoded = lab_enc.fit_transform(Y_trainData)\n",
    "\n",
    "print(utils.multiclass.type_of_target(Y_trainData))\n",
    "print(utils.multiclass.type_of_target(Y_trainData.astype('int')))\n",
    "print(utils.multiclass.type_of_target(Y_trainData_encoded))\n",
    "\n",
    "Y_testData_encoded = lab_enc.fit_transform(Y_trainData)\n",
    "\n",
    "print(utils.multiclass.type_of_target(Y_testData))\n",
    "print(utils.multiclass.type_of_target(Y_testData.astype('int')))\n",
    "print(utils.multiclass.type_of_target(Y_testData_encoded))\n",
    "print(len(Y_testData_encoded))"
   ]
  },
  {
   "cell_type": "code",
   "execution_count": 164,
   "metadata": {},
   "outputs": [],
   "source": [
    "# Creating Logistic regression model.\n",
    "model2= LogisticRegression()"
   ]
  },
  {
   "cell_type": "code",
   "execution_count": 165,
   "metadata": {},
   "outputs": [
    {
     "name": "stderr",
     "output_type": "stream",
     "text": [
      "c:\\users\\subar\\appdata\\local\\programs\\python\\python37-32\\lib\\site-packages\\sklearn\\linear_model\\logistic.py:432: FutureWarning: Default solver will be changed to 'lbfgs' in 0.22. Specify a solver to silence this warning.\n",
      "  FutureWarning)\n",
      "c:\\users\\subar\\appdata\\local\\programs\\python\\python37-32\\lib\\site-packages\\sklearn\\linear_model\\logistic.py:469: FutureWarning: Default multi_class will be changed to 'auto' in 0.22. Specify the multi_class option to silence this warning.\n",
      "  \"this warning.\", FutureWarning)\n"
     ]
    }
   ],
   "source": [
    "model2.fit(X_trainData,Y_trainData_encoded)\n",
    "predictions = model2.predict(X_testData)"
   ]
  },
  {
   "cell_type": "code",
   "execution_count": 166,
   "metadata": {},
   "outputs": [
    {
     "ename": "ValueError",
     "evalue": "Found input variables with inconsistent numbers of samples: [137, 59]",
     "output_type": "error",
     "traceback": [
      "\u001b[1;31m---------------------------------------------------------------------------\u001b[0m",
      "\u001b[1;31mValueError\u001b[0m                                Traceback (most recent call last)",
      "\u001b[1;32m<ipython-input-166-3fefaa8b0b45>\u001b[0m in \u001b[0;36m<module>\u001b[1;34m\u001b[0m\n\u001b[0;32m      1\u001b[0m \u001b[1;31m# Accuracy calculation\u001b[0m\u001b[1;33m\u001b[0m\u001b[1;33m\u001b[0m\u001b[1;33m\u001b[0m\u001b[0m\n\u001b[1;32m----> 2\u001b[1;33m \u001b[0mprint\u001b[0m\u001b[1;33m(\u001b[0m\u001b[1;34m'Accuracy with up sampled data:'\u001b[0m\u001b[1;33m,\u001b[0m\u001b[1;33m(\u001b[0m\u001b[0maccuracy_score\u001b[0m\u001b[1;33m(\u001b[0m\u001b[0mY_testData_encoded\u001b[0m\u001b[1;33m,\u001b[0m \u001b[0mpredictions\u001b[0m\u001b[1;33m)\u001b[0m \u001b[1;33m*\u001b[0m \u001b[1;36m100\u001b[0m\u001b[1;33m)\u001b[0m \u001b[1;33m,\u001b[0m\u001b[1;34m\"%\"\u001b[0m\u001b[1;33m)\u001b[0m\u001b[1;33m\u001b[0m\u001b[1;33m\u001b[0m\u001b[0m\n\u001b[0m",
      "\u001b[1;32mc:\\users\\subar\\appdata\\local\\programs\\python\\python37-32\\lib\\site-packages\\sklearn\\metrics\\classification.py\u001b[0m in \u001b[0;36maccuracy_score\u001b[1;34m(y_true, y_pred, normalize, sample_weight)\u001b[0m\n\u001b[0;32m    174\u001b[0m \u001b[1;33m\u001b[0m\u001b[0m\n\u001b[0;32m    175\u001b[0m     \u001b[1;31m# Compute accuracy for each possible representation\u001b[0m\u001b[1;33m\u001b[0m\u001b[1;33m\u001b[0m\u001b[1;33m\u001b[0m\u001b[0m\n\u001b[1;32m--> 176\u001b[1;33m     \u001b[0my_type\u001b[0m\u001b[1;33m,\u001b[0m \u001b[0my_true\u001b[0m\u001b[1;33m,\u001b[0m \u001b[0my_pred\u001b[0m \u001b[1;33m=\u001b[0m \u001b[0m_check_targets\u001b[0m\u001b[1;33m(\u001b[0m\u001b[0my_true\u001b[0m\u001b[1;33m,\u001b[0m \u001b[0my_pred\u001b[0m\u001b[1;33m)\u001b[0m\u001b[1;33m\u001b[0m\u001b[1;33m\u001b[0m\u001b[0m\n\u001b[0m\u001b[0;32m    177\u001b[0m     \u001b[0mcheck_consistent_length\u001b[0m\u001b[1;33m(\u001b[0m\u001b[0my_true\u001b[0m\u001b[1;33m,\u001b[0m \u001b[0my_pred\u001b[0m\u001b[1;33m,\u001b[0m \u001b[0msample_weight\u001b[0m\u001b[1;33m)\u001b[0m\u001b[1;33m\u001b[0m\u001b[1;33m\u001b[0m\u001b[0m\n\u001b[0;32m    178\u001b[0m     \u001b[1;32mif\u001b[0m \u001b[0my_type\u001b[0m\u001b[1;33m.\u001b[0m\u001b[0mstartswith\u001b[0m\u001b[1;33m(\u001b[0m\u001b[1;34m'multilabel'\u001b[0m\u001b[1;33m)\u001b[0m\u001b[1;33m:\u001b[0m\u001b[1;33m\u001b[0m\u001b[1;33m\u001b[0m\u001b[0m\n",
      "\u001b[1;32mc:\\users\\subar\\appdata\\local\\programs\\python\\python37-32\\lib\\site-packages\\sklearn\\metrics\\classification.py\u001b[0m in \u001b[0;36m_check_targets\u001b[1;34m(y_true, y_pred)\u001b[0m\n\u001b[0;32m     69\u001b[0m     \u001b[0my_pred\u001b[0m \u001b[1;33m:\u001b[0m \u001b[0marray\u001b[0m \u001b[1;32mor\u001b[0m \u001b[0mindicator\u001b[0m \u001b[0mmatrix\u001b[0m\u001b[1;33m\u001b[0m\u001b[1;33m\u001b[0m\u001b[0m\n\u001b[0;32m     70\u001b[0m     \"\"\"\n\u001b[1;32m---> 71\u001b[1;33m     \u001b[0mcheck_consistent_length\u001b[0m\u001b[1;33m(\u001b[0m\u001b[0my_true\u001b[0m\u001b[1;33m,\u001b[0m \u001b[0my_pred\u001b[0m\u001b[1;33m)\u001b[0m\u001b[1;33m\u001b[0m\u001b[1;33m\u001b[0m\u001b[0m\n\u001b[0m\u001b[0;32m     72\u001b[0m     \u001b[0mtype_true\u001b[0m \u001b[1;33m=\u001b[0m \u001b[0mtype_of_target\u001b[0m\u001b[1;33m(\u001b[0m\u001b[0my_true\u001b[0m\u001b[1;33m)\u001b[0m\u001b[1;33m\u001b[0m\u001b[1;33m\u001b[0m\u001b[0m\n\u001b[0;32m     73\u001b[0m     \u001b[0mtype_pred\u001b[0m \u001b[1;33m=\u001b[0m \u001b[0mtype_of_target\u001b[0m\u001b[1;33m(\u001b[0m\u001b[0my_pred\u001b[0m\u001b[1;33m)\u001b[0m\u001b[1;33m\u001b[0m\u001b[1;33m\u001b[0m\u001b[0m\n",
      "\u001b[1;32mc:\\users\\subar\\appdata\\local\\programs\\python\\python37-32\\lib\\site-packages\\sklearn\\utils\\validation.py\u001b[0m in \u001b[0;36mcheck_consistent_length\u001b[1;34m(*arrays)\u001b[0m\n\u001b[0;32m    203\u001b[0m     \u001b[1;32mif\u001b[0m \u001b[0mlen\u001b[0m\u001b[1;33m(\u001b[0m\u001b[0muniques\u001b[0m\u001b[1;33m)\u001b[0m \u001b[1;33m>\u001b[0m \u001b[1;36m1\u001b[0m\u001b[1;33m:\u001b[0m\u001b[1;33m\u001b[0m\u001b[1;33m\u001b[0m\u001b[0m\n\u001b[0;32m    204\u001b[0m         raise ValueError(\"Found input variables with inconsistent numbers of\"\n\u001b[1;32m--> 205\u001b[1;33m                          \" samples: %r\" % [int(l) for l in lengths])\n\u001b[0m\u001b[0;32m    206\u001b[0m \u001b[1;33m\u001b[0m\u001b[0m\n\u001b[0;32m    207\u001b[0m \u001b[1;33m\u001b[0m\u001b[0m\n",
      "\u001b[1;31mValueError\u001b[0m: Found input variables with inconsistent numbers of samples: [137, 59]"
     ]
    }
   ],
   "source": [
    "# Accuracy calculation\n",
    "print('Accuracy with up sampled data:',(accuracy_score(Y_testData_encoded, predictions) * 100) ,\"%\")"
   ]
  }
 ],
 "metadata": {
  "kernelspec": {
   "display_name": "Python 3",
   "language": "python",
   "name": "python3"
  },
  "language_info": {
   "codemirror_mode": {
    "name": "ipython",
    "version": 3
   },
   "file_extension": ".py",
   "mimetype": "text/x-python",
   "name": "python",
   "nbconvert_exporter": "python",
   "pygments_lexer": "ipython3",
   "version": "3.7.4"
  }
 },
 "nbformat": 4,
 "nbformat_minor": 2
}
