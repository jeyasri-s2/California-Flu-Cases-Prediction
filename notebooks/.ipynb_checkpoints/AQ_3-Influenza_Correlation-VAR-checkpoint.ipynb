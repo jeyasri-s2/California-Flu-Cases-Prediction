{
 "cells": [
  {
   "cell_type": "code",
   "execution_count": 1,
   "metadata": {},
   "outputs": [],
   "source": [
    "import pandas as pd\n",
    "import matplotlib.pyplot as plt\n",
    "import numpy as np\n",
    "import math\n",
    "import seaborn as sns\n",
    "from sklearn.linear_model import LinearRegression, LogisticRegression\n",
    "from sklearn.model_selection import train_test_split\n",
    "from sklearn.metrics import mean_squared_error\n",
    "from sklearn.metrics import accuracy_score\n",
    "from sklearn.utils import resample\n",
    "\n",
    "from sklearn.linear_model import Ridge\n",
    "from sklearn.linear_model import Lasso\n",
    "from sklearn.linear_model import ElasticNet\n",
    "from sklearn.preprocessing import PolynomialFeatures\n",
    "from sklearn.preprocessing import StandardScaler\n",
    "from sklearn.pipeline import Pipeline"
   ]
  },
  {
   "cell_type": "code",
   "execution_count": 2,
   "metadata": {},
   "outputs": [
    {
     "data": {
      "text/html": [
       "<div>\n",
       "<style scoped>\n",
       "    .dataframe tbody tr th:only-of-type {\n",
       "        vertical-align: middle;\n",
       "    }\n",
       "\n",
       "    .dataframe tbody tr th {\n",
       "        vertical-align: top;\n",
       "    }\n",
       "\n",
       "    .dataframe thead th {\n",
       "        text-align: right;\n",
       "    }\n",
       "</style>\n",
       "<table border=\"1\" class=\"dataframe\">\n",
       "  <thead>\n",
       "    <tr style=\"text-align: right;\">\n",
       "      <th></th>\n",
       "      <th>id</th>\n",
       "      <th>city_name</th>\n",
       "      <th>state_name</th>\n",
       "      <th>Week</th>\n",
       "      <th>Year</th>\n",
       "      <th>avg_aqi</th>\n",
       "    </tr>\n",
       "  </thead>\n",
       "  <tbody>\n",
       "    <tr>\n",
       "      <td>61771</td>\n",
       "      <td>61382</td>\n",
       "      <td>Long Beach</td>\n",
       "      <td>California</td>\n",
       "      <td>53</td>\n",
       "      <td>2017</td>\n",
       "      <td>127.333333</td>\n",
       "    </tr>\n",
       "    <tr>\n",
       "      <td>61772</td>\n",
       "      <td>61454</td>\n",
       "      <td>Anaheim</td>\n",
       "      <td>California</td>\n",
       "      <td>53</td>\n",
       "      <td>2017</td>\n",
       "      <td>116.000000</td>\n",
       "    </tr>\n",
       "    <tr>\n",
       "      <td>61773</td>\n",
       "      <td>61540</td>\n",
       "      <td>El Cajon</td>\n",
       "      <td>California</td>\n",
       "      <td>53</td>\n",
       "      <td>2017</td>\n",
       "      <td>92.000000</td>\n",
       "    </tr>\n",
       "    <tr>\n",
       "      <td>61774</td>\n",
       "      <td>61596</td>\n",
       "      <td>Chico</td>\n",
       "      <td>California</td>\n",
       "      <td>53</td>\n",
       "      <td>2017</td>\n",
       "      <td>95.000000</td>\n",
       "    </tr>\n",
       "    <tr>\n",
       "      <td>61775</td>\n",
       "      <td>61764</td>\n",
       "      <td>Yuba City</td>\n",
       "      <td>California</td>\n",
       "      <td>53</td>\n",
       "      <td>2017</td>\n",
       "      <td>82.000000</td>\n",
       "    </tr>\n",
       "  </tbody>\n",
       "</table>\n",
       "</div>"
      ],
      "text/plain": [
       "          id   city_name  state_name  Week  Year     avg_aqi\n",
       "61771  61382  Long Beach  California    53  2017  127.333333\n",
       "61772  61454     Anaheim  California    53  2017  116.000000\n",
       "61773  61540    El Cajon  California    53  2017   92.000000\n",
       "61774  61596       Chico  California    53  2017   95.000000\n",
       "61775  61764   Yuba City  California    53  2017   82.000000"
      ]
     },
     "execution_count": 2,
     "metadata": {},
     "output_type": "execute_result"
    }
   ],
   "source": [
    "airQ_data = pd.read_csv('../Datasets/AirQuality/AirQualityData_3/airquality-1998_2017.csv', low_memory =False)\n",
    "len(airQ_data)\n",
    "airQ_data.tail()"
   ]
  },
  {
   "cell_type": "code",
   "execution_count": 3,
   "metadata": {},
   "outputs": [
    {
     "data": {
      "text/plain": [
       "61776"
      ]
     },
     "execution_count": 3,
     "metadata": {},
     "output_type": "execute_result"
    }
   ],
   "source": [
    "len(airQ_data)"
   ]
  },
  {
   "cell_type": "code",
   "execution_count": 4,
   "metadata": {},
   "outputs": [
    {
     "data": {
      "text/html": [
       "<div>\n",
       "<style scoped>\n",
       "    .dataframe tbody tr th:only-of-type {\n",
       "        vertical-align: middle;\n",
       "    }\n",
       "\n",
       "    .dataframe tbody tr th {\n",
       "        vertical-align: top;\n",
       "    }\n",
       "\n",
       "    .dataframe thead th {\n",
       "        text-align: right;\n",
       "    }\n",
       "</style>\n",
       "<table border=\"1\" class=\"dataframe\">\n",
       "  <thead>\n",
       "    <tr style=\"text-align: right;\">\n",
       "      <th></th>\n",
       "      <th>state_name</th>\n",
       "      <th>Week</th>\n",
       "      <th>Year</th>\n",
       "      <th>avg_aqi</th>\n",
       "    </tr>\n",
       "  </thead>\n",
       "  <tbody>\n",
       "    <tr>\n",
       "      <td>0</td>\n",
       "      <td>California</td>\n",
       "      <td>0</td>\n",
       "      <td>1999</td>\n",
       "      <td>92.500000</td>\n",
       "    </tr>\n",
       "    <tr>\n",
       "      <td>1</td>\n",
       "      <td>California</td>\n",
       "      <td>0</td>\n",
       "      <td>2000</td>\n",
       "      <td>75.437500</td>\n",
       "    </tr>\n",
       "    <tr>\n",
       "      <td>2</td>\n",
       "      <td>California</td>\n",
       "      <td>0</td>\n",
       "      <td>2001</td>\n",
       "      <td>87.254457</td>\n",
       "    </tr>\n",
       "    <tr>\n",
       "      <td>3</td>\n",
       "      <td>California</td>\n",
       "      <td>0</td>\n",
       "      <td>2002</td>\n",
       "      <td>61.261568</td>\n",
       "    </tr>\n",
       "    <tr>\n",
       "      <td>4</td>\n",
       "      <td>California</td>\n",
       "      <td>0</td>\n",
       "      <td>2003</td>\n",
       "      <td>55.143505</td>\n",
       "    </tr>\n",
       "  </tbody>\n",
       "</table>\n",
       "</div>"
      ],
      "text/plain": [
       "   state_name  Week  Year    avg_aqi\n",
       "0  California     0  1999  92.500000\n",
       "1  California     0  2000  75.437500\n",
       "2  California     0  2001  87.254457\n",
       "3  California     0  2002  61.261568\n",
       "4  California     0  2003  55.143505"
      ]
     },
     "execution_count": 4,
     "metadata": {},
     "output_type": "execute_result"
    }
   ],
   "source": [
    "#Removing city and taking avg\n",
    "airQ_data_mean = airQ_data.groupby(['state_name','Week','Year'])['avg_aqi'].mean().reset_index()\n",
    "airQ_data_mean.head()"
   ]
  },
  {
   "cell_type": "code",
   "execution_count": 5,
   "metadata": {},
   "outputs": [
    {
     "data": {
      "text/plain": [
       "1011"
      ]
     },
     "execution_count": 5,
     "metadata": {},
     "output_type": "execute_result"
    }
   ],
   "source": [
    "len(airQ_data_mean)"
   ]
  },
  {
   "cell_type": "code",
   "execution_count": 6,
   "metadata": {},
   "outputs": [
    {
     "data": {
      "text/html": [
       "<div>\n",
       "<style scoped>\n",
       "    .dataframe tbody tr th:only-of-type {\n",
       "        vertical-align: middle;\n",
       "    }\n",
       "\n",
       "    .dataframe tbody tr th {\n",
       "        vertical-align: top;\n",
       "    }\n",
       "\n",
       "    .dataframe thead th {\n",
       "        text-align: right;\n",
       "    }\n",
       "</style>\n",
       "<table border=\"1\" class=\"dataframe\">\n",
       "  <thead>\n",
       "    <tr style=\"text-align: right;\">\n",
       "      <th></th>\n",
       "      <th>state_name</th>\n",
       "      <th>Week</th>\n",
       "      <th>Year</th>\n",
       "      <th>avg_aqi</th>\n",
       "    </tr>\n",
       "  </thead>\n",
       "  <tbody>\n",
       "    <tr>\n",
       "      <td>0</td>\n",
       "      <td>California</td>\n",
       "      <td>0</td>\n",
       "      <td>1999</td>\n",
       "      <td>92.500000</td>\n",
       "    </tr>\n",
       "    <tr>\n",
       "      <td>1</td>\n",
       "      <td>California</td>\n",
       "      <td>0</td>\n",
       "      <td>2000</td>\n",
       "      <td>75.437500</td>\n",
       "    </tr>\n",
       "    <tr>\n",
       "      <td>2</td>\n",
       "      <td>California</td>\n",
       "      <td>0</td>\n",
       "      <td>2001</td>\n",
       "      <td>87.254457</td>\n",
       "    </tr>\n",
       "    <tr>\n",
       "      <td>3</td>\n",
       "      <td>California</td>\n",
       "      <td>0</td>\n",
       "      <td>2002</td>\n",
       "      <td>61.261568</td>\n",
       "    </tr>\n",
       "    <tr>\n",
       "      <td>4</td>\n",
       "      <td>California</td>\n",
       "      <td>0</td>\n",
       "      <td>2003</td>\n",
       "      <td>55.143505</td>\n",
       "    </tr>\n",
       "  </tbody>\n",
       "</table>\n",
       "</div>"
      ],
      "text/plain": [
       "   state_name  Week  Year    avg_aqi\n",
       "0  California     0  1999  92.500000\n",
       "1  California     0  2000  75.437500\n",
       "2  California     0  2001  87.254457\n",
       "3  California     0  2002  61.261568\n",
       "4  California     0  2003  55.143505"
      ]
     },
     "execution_count": 6,
     "metadata": {},
     "output_type": "execute_result"
    }
   ],
   "source": [
    "#dropping 0 values\n",
    "indexNames = airQ_data_mean[ (airQ_data_mean['avg_aqi'] == 0.000000)].index\n",
    "airQ_data_mean.drop(indexNames , inplace=True)\n",
    "airQ_data_mean.head()\n"
   ]
  },
  {
   "cell_type": "code",
   "execution_count": 7,
   "metadata": {},
   "outputs": [
    {
     "data": {
      "text/plain": [
       "1011"
      ]
     },
     "execution_count": 7,
     "metadata": {},
     "output_type": "execute_result"
    }
   ],
   "source": [
    "len(airQ_data_mean)"
   ]
  },
  {
   "cell_type": "code",
   "execution_count": 8,
   "metadata": {},
   "outputs": [
    {
     "data": {
      "text/plain": [
       "array([ 0,  1,  2,  3,  4,  5,  6,  7,  8,  9, 10, 11, 12, 13, 14, 15, 16,\n",
       "       17, 18, 19, 20, 21, 22, 23, 24, 25, 26, 27, 28, 29, 30, 31, 32, 33,\n",
       "       34, 35, 36, 37, 38, 39, 40, 41, 42, 43, 44, 45, 46, 47, 48, 49, 50,\n",
       "       51, 52, 53], dtype=int64)"
      ]
     },
     "execution_count": 8,
     "metadata": {},
     "output_type": "execute_result"
    }
   ],
   "source": [
    "airQ_data_mean['Week'].unique()"
   ]
  },
  {
   "cell_type": "code",
   "execution_count": 9,
   "metadata": {},
   "outputs": [
    {
     "data": {
      "text/plain": [
       "array([ 1,  2,  3,  4,  5,  6,  7,  8,  9, 10, 11, 12, 13, 14, 15, 16, 17,\n",
       "       18, 19, 20, 21, 22, 23, 24, 25, 26, 27, 28, 29, 30, 31, 32, 33, 34,\n",
       "       35, 36, 37, 38, 39, 40, 41, 42, 43, 44, 45, 46, 47, 48, 49, 50, 51,\n",
       "       52, 53, 54], dtype=int64)"
      ]
     },
     "execution_count": 9,
     "metadata": {},
     "output_type": "execute_result"
    }
   ],
   "source": [
    "#increasing week number by 1 to match influenza data\n",
    "airQ_data_mean['Week'] = airQ_data_mean['Week']+1\n",
    "airQ_data_mean['Week'].unique()"
   ]
  },
  {
   "cell_type": "code",
   "execution_count": 10,
   "metadata": {},
   "outputs": [
    {
     "data": {
      "text/plain": [
       "array([1999, 2000, 2001, 2002, 2003, 2004, 2005, 2007, 2008, 2009, 2010,\n",
       "       2011, 2013, 2014, 2015, 2016, 2006, 2012, 2017, 1998], dtype=int64)"
      ]
     },
     "execution_count": 10,
     "metadata": {},
     "output_type": "execute_result"
    }
   ],
   "source": [
    "airQ_data_mean['Year'].unique()"
   ]
  },
  {
   "cell_type": "code",
   "execution_count": 11,
   "metadata": {},
   "outputs": [
    {
     "data": {
      "text/html": [
       "<div>\n",
       "<style scoped>\n",
       "    .dataframe tbody tr th:only-of-type {\n",
       "        vertical-align: middle;\n",
       "    }\n",
       "\n",
       "    .dataframe tbody tr th {\n",
       "        vertical-align: top;\n",
       "    }\n",
       "\n",
       "    .dataframe thead th {\n",
       "        text-align: right;\n",
       "    }\n",
       "</style>\n",
       "<table border=\"1\" class=\"dataframe\">\n",
       "  <thead>\n",
       "    <tr style=\"text-align: right;\">\n",
       "      <th></th>\n",
       "      <th>state_name</th>\n",
       "      <th>Week</th>\n",
       "      <th>Year</th>\n",
       "      <th>avg_aqi</th>\n",
       "    </tr>\n",
       "  </thead>\n",
       "  <tbody>\n",
       "    <tr>\n",
       "      <td>0</td>\n",
       "      <td>California</td>\n",
       "      <td>1</td>\n",
       "      <td>1999</td>\n",
       "      <td>92.500000</td>\n",
       "    </tr>\n",
       "    <tr>\n",
       "      <td>1</td>\n",
       "      <td>California</td>\n",
       "      <td>1</td>\n",
       "      <td>2000</td>\n",
       "      <td>75.437500</td>\n",
       "    </tr>\n",
       "    <tr>\n",
       "      <td>2</td>\n",
       "      <td>California</td>\n",
       "      <td>1</td>\n",
       "      <td>2001</td>\n",
       "      <td>87.254457</td>\n",
       "    </tr>\n",
       "    <tr>\n",
       "      <td>3</td>\n",
       "      <td>California</td>\n",
       "      <td>1</td>\n",
       "      <td>2002</td>\n",
       "      <td>61.261568</td>\n",
       "    </tr>\n",
       "    <tr>\n",
       "      <td>4</td>\n",
       "      <td>California</td>\n",
       "      <td>1</td>\n",
       "      <td>2003</td>\n",
       "      <td>55.143505</td>\n",
       "    </tr>\n",
       "    <tr>\n",
       "      <td>...</td>\n",
       "      <td>...</td>\n",
       "      <td>...</td>\n",
       "      <td>...</td>\n",
       "      <td>...</td>\n",
       "    </tr>\n",
       "    <tr>\n",
       "      <td>1006</td>\n",
       "      <td>California</td>\n",
       "      <td>53</td>\n",
       "      <td>2017</td>\n",
       "      <td>78.873386</td>\n",
       "    </tr>\n",
       "    <tr>\n",
       "      <td>1007</td>\n",
       "      <td>California</td>\n",
       "      <td>54</td>\n",
       "      <td>2000</td>\n",
       "      <td>130.863636</td>\n",
       "    </tr>\n",
       "    <tr>\n",
       "      <td>1008</td>\n",
       "      <td>California</td>\n",
       "      <td>54</td>\n",
       "      <td>2006</td>\n",
       "      <td>83.514493</td>\n",
       "    </tr>\n",
       "    <tr>\n",
       "      <td>1009</td>\n",
       "      <td>California</td>\n",
       "      <td>54</td>\n",
       "      <td>2012</td>\n",
       "      <td>63.000000</td>\n",
       "    </tr>\n",
       "    <tr>\n",
       "      <td>1010</td>\n",
       "      <td>California</td>\n",
       "      <td>54</td>\n",
       "      <td>2017</td>\n",
       "      <td>121.755556</td>\n",
       "    </tr>\n",
       "  </tbody>\n",
       "</table>\n",
       "<p>1011 rows × 4 columns</p>\n",
       "</div>"
      ],
      "text/plain": [
       "      state_name  Week  Year     avg_aqi\n",
       "0     California     1  1999   92.500000\n",
       "1     California     1  2000   75.437500\n",
       "2     California     1  2001   87.254457\n",
       "3     California     1  2002   61.261568\n",
       "4     California     1  2003   55.143505\n",
       "...          ...   ...   ...         ...\n",
       "1006  California    53  2017   78.873386\n",
       "1007  California    54  2000  130.863636\n",
       "1008  California    54  2006   83.514493\n",
       "1009  California    54  2012   63.000000\n",
       "1010  California    54  2017  121.755556\n",
       "\n",
       "[1011 rows x 4 columns]"
      ]
     },
     "execution_count": 11,
     "metadata": {},
     "output_type": "execute_result"
    }
   ],
   "source": [
    "airQ_data_mean"
   ]
  },
  {
   "cell_type": "code",
   "execution_count": 12,
   "metadata": {},
   "outputs": [
    {
     "data": {
      "text/html": [
       "<div>\n",
       "<style scoped>\n",
       "    .dataframe tbody tr th:only-of-type {\n",
       "        vertical-align: middle;\n",
       "    }\n",
       "\n",
       "    .dataframe tbody tr th {\n",
       "        vertical-align: top;\n",
       "    }\n",
       "\n",
       "    .dataframe thead th {\n",
       "        text-align: right;\n",
       "    }\n",
       "</style>\n",
       "<table border=\"1\" class=\"dataframe\">\n",
       "  <thead>\n",
       "    <tr style=\"text-align: right;\">\n",
       "      <th></th>\n",
       "      <th>Year</th>\n",
       "      <th>Week</th>\n",
       "      <th>AgeGroup</th>\n",
       "      <th>A(H1)</th>\n",
       "      <th>A(UnabletoSubtype)</th>\n",
       "      <th>A(H3)</th>\n",
       "      <th>A(H1N1)pdm09</th>\n",
       "      <th>A(SubtypingNotPerformed)</th>\n",
       "      <th>B(VictoriaLineage)</th>\n",
       "      <th>B(YamagataLineage)</th>\n",
       "      <th>B(LineageUnspecified)</th>\n",
       "      <th>H3N2v</th>\n",
       "    </tr>\n",
       "  </thead>\n",
       "  <tbody>\n",
       "    <tr>\n",
       "      <td>0</td>\n",
       "      <td>2019</td>\n",
       "      <td>40</td>\n",
       "      <td>(0-4)yr</td>\n",
       "      <td>0</td>\n",
       "      <td>0</td>\n",
       "      <td>4</td>\n",
       "      <td>3</td>\n",
       "      <td>4</td>\n",
       "      <td>6</td>\n",
       "      <td>0</td>\n",
       "      <td>1</td>\n",
       "      <td>0</td>\n",
       "    </tr>\n",
       "    <tr>\n",
       "      <td>1</td>\n",
       "      <td>2019</td>\n",
       "      <td>41</td>\n",
       "      <td>(0-4)yr</td>\n",
       "      <td>0</td>\n",
       "      <td>0</td>\n",
       "      <td>2</td>\n",
       "      <td>5</td>\n",
       "      <td>3</td>\n",
       "      <td>15</td>\n",
       "      <td>0</td>\n",
       "      <td>0</td>\n",
       "      <td>0</td>\n",
       "    </tr>\n",
       "    <tr>\n",
       "      <td>2</td>\n",
       "      <td>2019</td>\n",
       "      <td>42</td>\n",
       "      <td>(0-4)yr</td>\n",
       "      <td>0</td>\n",
       "      <td>0</td>\n",
       "      <td>14</td>\n",
       "      <td>3</td>\n",
       "      <td>0</td>\n",
       "      <td>15</td>\n",
       "      <td>0</td>\n",
       "      <td>4</td>\n",
       "      <td>0</td>\n",
       "    </tr>\n",
       "    <tr>\n",
       "      <td>3</td>\n",
       "      <td>2019</td>\n",
       "      <td>43</td>\n",
       "      <td>(0-4)yr</td>\n",
       "      <td>0</td>\n",
       "      <td>0</td>\n",
       "      <td>4</td>\n",
       "      <td>4</td>\n",
       "      <td>0</td>\n",
       "      <td>12</td>\n",
       "      <td>0</td>\n",
       "      <td>3</td>\n",
       "      <td>0</td>\n",
       "    </tr>\n",
       "    <tr>\n",
       "      <td>4</td>\n",
       "      <td>2019</td>\n",
       "      <td>44</td>\n",
       "      <td>(0-4)yr</td>\n",
       "      <td>0</td>\n",
       "      <td>0</td>\n",
       "      <td>7</td>\n",
       "      <td>6</td>\n",
       "      <td>0</td>\n",
       "      <td>12</td>\n",
       "      <td>1</td>\n",
       "      <td>0</td>\n",
       "      <td>0</td>\n",
       "    </tr>\n",
       "  </tbody>\n",
       "</table>\n",
       "</div>"
      ],
      "text/plain": [
       "   Year  Week AgeGroup  A(H1)  A(UnabletoSubtype)  A(H3)  A(H1N1)pdm09  \\\n",
       "0  2019    40  (0-4)yr      0                   0      4             3   \n",
       "1  2019    41  (0-4)yr      0                   0      2             5   \n",
       "2  2019    42  (0-4)yr      0                   0     14             3   \n",
       "3  2019    43  (0-4)yr      0                   0      4             4   \n",
       "4  2019    44  (0-4)yr      0                   0      7             6   \n",
       "\n",
       "   A(SubtypingNotPerformed)  B(VictoriaLineage)  B(YamagataLineage)  \\\n",
       "0                         4                   6                   0   \n",
       "1                         3                  15                   0   \n",
       "2                         0                  15                   0   \n",
       "3                         0                  12                   0   \n",
       "4                         0                  12                   1   \n",
       "\n",
       "   B(LineageUnspecified)  H3N2v  \n",
       "0                      1      0  \n",
       "1                      0      0  \n",
       "2                      4      0  \n",
       "3                      3      0  \n",
       "4                      0      0  "
      ]
     },
     "execution_count": 12,
     "metadata": {},
     "output_type": "execute_result"
    }
   ],
   "source": [
    "#we will use this influenza data\n",
    "influenza_data = pd.read_csv('../Datasets/Disease cases/influenza/AgeViewByWeek_Influenza.csv', low_memory=False)\n",
    "influenza_data.head()"
   ]
  },
  {
   "cell_type": "code",
   "execution_count": 13,
   "metadata": {},
   "outputs": [
    {
     "data": {
      "text/plain": [
       "array(['(0-4)yr', '(5-24)yr', '(25-64)yr', '(65+)yr'], dtype=object)"
      ]
     },
     "execution_count": 13,
     "metadata": {},
     "output_type": "execute_result"
    }
   ],
   "source": [
    "influenza_data['AgeGroup'].unique()"
   ]
  },
  {
   "cell_type": "code",
   "execution_count": 14,
   "metadata": {},
   "outputs": [
    {
     "data": {
      "text/plain": [
       "array([2019, 2018, 2017, 2016, 2015, 2014, 2013, 2012, 2011, 2010, 2009,\n",
       "       2008, 2007, 2006, 2005, 2004, 2003, 2002, 2001, 2000, 1999, 1998,\n",
       "       1997], dtype=int64)"
      ]
     },
     "execution_count": 14,
     "metadata": {},
     "output_type": "execute_result"
    }
   ],
   "source": [
    "influenza_data['Year'].unique()"
   ]
  },
  {
   "cell_type": "code",
   "execution_count": 15,
   "metadata": {},
   "outputs": [],
   "source": [
    "#merging AQ data && influenza data\n",
    "\n",
    "merged = pd.merge(airQ_data_mean,influenza_data,how='inner', left_on=['Year', 'Week'], right_on=['Year','Week'])"
   ]
  },
  {
   "cell_type": "code",
   "execution_count": 16,
   "metadata": {},
   "outputs": [
    {
     "data": {
      "text/plain": [
       "3944"
      ]
     },
     "execution_count": 16,
     "metadata": {},
     "output_type": "execute_result"
    }
   ],
   "source": [
    "len(merged)"
   ]
  },
  {
   "cell_type": "code",
   "execution_count": 17,
   "metadata": {},
   "outputs": [
    {
     "data": {
      "text/html": [
       "<div>\n",
       "<style scoped>\n",
       "    .dataframe tbody tr th:only-of-type {\n",
       "        vertical-align: middle;\n",
       "    }\n",
       "\n",
       "    .dataframe tbody tr th {\n",
       "        vertical-align: top;\n",
       "    }\n",
       "\n",
       "    .dataframe thead th {\n",
       "        text-align: right;\n",
       "    }\n",
       "</style>\n",
       "<table border=\"1\" class=\"dataframe\">\n",
       "  <thead>\n",
       "    <tr style=\"text-align: right;\">\n",
       "      <th></th>\n",
       "      <th>state_name</th>\n",
       "      <th>Week</th>\n",
       "      <th>Year</th>\n",
       "      <th>avg_aqi</th>\n",
       "      <th>AgeGroup</th>\n",
       "      <th>A(H1)</th>\n",
       "      <th>A(UnabletoSubtype)</th>\n",
       "      <th>A(H3)</th>\n",
       "      <th>A(H1N1)pdm09</th>\n",
       "      <th>A(SubtypingNotPerformed)</th>\n",
       "      <th>B(VictoriaLineage)</th>\n",
       "      <th>B(YamagataLineage)</th>\n",
       "      <th>B(LineageUnspecified)</th>\n",
       "      <th>H3N2v</th>\n",
       "    </tr>\n",
       "  </thead>\n",
       "  <tbody>\n",
       "    <tr>\n",
       "      <td>0</td>\n",
       "      <td>California</td>\n",
       "      <td>1</td>\n",
       "      <td>1999</td>\n",
       "      <td>92.500000</td>\n",
       "      <td>(0-4)yr</td>\n",
       "      <td>0</td>\n",
       "      <td>0</td>\n",
       "      <td>7</td>\n",
       "      <td>0</td>\n",
       "      <td>1</td>\n",
       "      <td>0</td>\n",
       "      <td>0</td>\n",
       "      <td>7</td>\n",
       "      <td>0</td>\n",
       "    </tr>\n",
       "    <tr>\n",
       "      <td>1</td>\n",
       "      <td>California</td>\n",
       "      <td>1</td>\n",
       "      <td>1999</td>\n",
       "      <td>92.500000</td>\n",
       "      <td>(5-24)yr</td>\n",
       "      <td>0</td>\n",
       "      <td>0</td>\n",
       "      <td>14</td>\n",
       "      <td>0</td>\n",
       "      <td>5</td>\n",
       "      <td>0</td>\n",
       "      <td>0</td>\n",
       "      <td>15</td>\n",
       "      <td>0</td>\n",
       "    </tr>\n",
       "    <tr>\n",
       "      <td>2</td>\n",
       "      <td>California</td>\n",
       "      <td>1</td>\n",
       "      <td>1999</td>\n",
       "      <td>92.500000</td>\n",
       "      <td>(25-64)yr</td>\n",
       "      <td>0</td>\n",
       "      <td>0</td>\n",
       "      <td>29</td>\n",
       "      <td>0</td>\n",
       "      <td>5</td>\n",
       "      <td>0</td>\n",
       "      <td>0</td>\n",
       "      <td>12</td>\n",
       "      <td>0</td>\n",
       "    </tr>\n",
       "    <tr>\n",
       "      <td>3</td>\n",
       "      <td>California</td>\n",
       "      <td>1</td>\n",
       "      <td>1999</td>\n",
       "      <td>92.500000</td>\n",
       "      <td>(65+)yr</td>\n",
       "      <td>0</td>\n",
       "      <td>0</td>\n",
       "      <td>12</td>\n",
       "      <td>0</td>\n",
       "      <td>14</td>\n",
       "      <td>0</td>\n",
       "      <td>0</td>\n",
       "      <td>6</td>\n",
       "      <td>0</td>\n",
       "    </tr>\n",
       "    <tr>\n",
       "      <td>4</td>\n",
       "      <td>California</td>\n",
       "      <td>1</td>\n",
       "      <td>2000</td>\n",
       "      <td>75.437500</td>\n",
       "      <td>(0-4)yr</td>\n",
       "      <td>1</td>\n",
       "      <td>0</td>\n",
       "      <td>47</td>\n",
       "      <td>0</td>\n",
       "      <td>27</td>\n",
       "      <td>0</td>\n",
       "      <td>0</td>\n",
       "      <td>0</td>\n",
       "      <td>0</td>\n",
       "    </tr>\n",
       "    <tr>\n",
       "      <td>...</td>\n",
       "      <td>...</td>\n",
       "      <td>...</td>\n",
       "      <td>...</td>\n",
       "      <td>...</td>\n",
       "      <td>...</td>\n",
       "      <td>...</td>\n",
       "      <td>...</td>\n",
       "      <td>...</td>\n",
       "      <td>...</td>\n",
       "      <td>...</td>\n",
       "      <td>...</td>\n",
       "      <td>...</td>\n",
       "      <td>...</td>\n",
       "      <td>...</td>\n",
       "    </tr>\n",
       "    <tr>\n",
       "      <td>3939</td>\n",
       "      <td>California</td>\n",
       "      <td>53</td>\n",
       "      <td>2009</td>\n",
       "      <td>54.811905</td>\n",
       "      <td>(65+)yr</td>\n",
       "      <td>0</td>\n",
       "      <td>1</td>\n",
       "      <td>0</td>\n",
       "      <td>61</td>\n",
       "      <td>4</td>\n",
       "      <td>0</td>\n",
       "      <td>0</td>\n",
       "      <td>0</td>\n",
       "      <td>0</td>\n",
       "    </tr>\n",
       "    <tr>\n",
       "      <td>3940</td>\n",
       "      <td>California</td>\n",
       "      <td>53</td>\n",
       "      <td>2014</td>\n",
       "      <td>53.122396</td>\n",
       "      <td>(0-4)yr</td>\n",
       "      <td>0</td>\n",
       "      <td>0</td>\n",
       "      <td>246</td>\n",
       "      <td>0</td>\n",
       "      <td>1</td>\n",
       "      <td>0</td>\n",
       "      <td>0</td>\n",
       "      <td>12</td>\n",
       "      <td>0</td>\n",
       "    </tr>\n",
       "    <tr>\n",
       "      <td>3941</td>\n",
       "      <td>California</td>\n",
       "      <td>53</td>\n",
       "      <td>2014</td>\n",
       "      <td>53.122396</td>\n",
       "      <td>(5-24)yr</td>\n",
       "      <td>0</td>\n",
       "      <td>0</td>\n",
       "      <td>347</td>\n",
       "      <td>0</td>\n",
       "      <td>6</td>\n",
       "      <td>0</td>\n",
       "      <td>0</td>\n",
       "      <td>21</td>\n",
       "      <td>0</td>\n",
       "    </tr>\n",
       "    <tr>\n",
       "      <td>3942</td>\n",
       "      <td>California</td>\n",
       "      <td>53</td>\n",
       "      <td>2014</td>\n",
       "      <td>53.122396</td>\n",
       "      <td>(25-64)yr</td>\n",
       "      <td>0</td>\n",
       "      <td>0</td>\n",
       "      <td>847</td>\n",
       "      <td>0</td>\n",
       "      <td>4</td>\n",
       "      <td>0</td>\n",
       "      <td>0</td>\n",
       "      <td>37</td>\n",
       "      <td>0</td>\n",
       "    </tr>\n",
       "    <tr>\n",
       "      <td>3943</td>\n",
       "      <td>California</td>\n",
       "      <td>53</td>\n",
       "      <td>2014</td>\n",
       "      <td>53.122396</td>\n",
       "      <td>(65+)yr</td>\n",
       "      <td>0</td>\n",
       "      <td>0</td>\n",
       "      <td>1842</td>\n",
       "      <td>0</td>\n",
       "      <td>23</td>\n",
       "      <td>0</td>\n",
       "      <td>0</td>\n",
       "      <td>23</td>\n",
       "      <td>0</td>\n",
       "    </tr>\n",
       "  </tbody>\n",
       "</table>\n",
       "<p>3944 rows × 14 columns</p>\n",
       "</div>"
      ],
      "text/plain": [
       "      state_name  Week  Year    avg_aqi   AgeGroup  A(H1)  A(UnabletoSubtype)  \\\n",
       "0     California     1  1999  92.500000    (0-4)yr      0                   0   \n",
       "1     California     1  1999  92.500000   (5-24)yr      0                   0   \n",
       "2     California     1  1999  92.500000  (25-64)yr      0                   0   \n",
       "3     California     1  1999  92.500000    (65+)yr      0                   0   \n",
       "4     California     1  2000  75.437500    (0-4)yr      1                   0   \n",
       "...          ...   ...   ...        ...        ...    ...                 ...   \n",
       "3939  California    53  2009  54.811905    (65+)yr      0                   1   \n",
       "3940  California    53  2014  53.122396    (0-4)yr      0                   0   \n",
       "3941  California    53  2014  53.122396   (5-24)yr      0                   0   \n",
       "3942  California    53  2014  53.122396  (25-64)yr      0                   0   \n",
       "3943  California    53  2014  53.122396    (65+)yr      0                   0   \n",
       "\n",
       "      A(H3)  A(H1N1)pdm09  A(SubtypingNotPerformed)  B(VictoriaLineage)  \\\n",
       "0         7             0                         1                   0   \n",
       "1        14             0                         5                   0   \n",
       "2        29             0                         5                   0   \n",
       "3        12             0                        14                   0   \n",
       "4        47             0                        27                   0   \n",
       "...     ...           ...                       ...                 ...   \n",
       "3939      0            61                         4                   0   \n",
       "3940    246             0                         1                   0   \n",
       "3941    347             0                         6                   0   \n",
       "3942    847             0                         4                   0   \n",
       "3943   1842             0                        23                   0   \n",
       "\n",
       "      B(YamagataLineage)  B(LineageUnspecified)  H3N2v  \n",
       "0                      0                      7      0  \n",
       "1                      0                     15      0  \n",
       "2                      0                     12      0  \n",
       "3                      0                      6      0  \n",
       "4                      0                      0      0  \n",
       "...                  ...                    ...    ...  \n",
       "3939                   0                      0      0  \n",
       "3940                   0                     12      0  \n",
       "3941                   0                     21      0  \n",
       "3942                   0                     37      0  \n",
       "3943                   0                     23      0  \n",
       "\n",
       "[3944 rows x 14 columns]"
      ]
     },
     "execution_count": 17,
     "metadata": {},
     "output_type": "execute_result"
    }
   ],
   "source": [
    "merged"
   ]
  },
  {
   "cell_type": "code",
   "execution_count": 18,
   "metadata": {},
   "outputs": [
    {
     "data": {
      "image/png": "[encoded data removed]",
      "text/plain": [
       "<Figure size 1152x720 with 2 Axes>"
      ]
     },
     "metadata": {
      "needs_background": "light"
     },
     "output_type": "display_data"
    }
   ],
   "source": [
    "corr = merged.corr()\n",
    "g = sns.heatmap(corr, vmax=.9, center=0,\n",
    "               square=True, linewidths=.9, cbar_kws={\"shrink\": .8}, annot=True, fmt='.2f', cmap='coolwarm')\n",
    "bottom, top = g.get_ylim()\n",
    "g.set_ylim(bottom + 0.5, top - 0.5)\n",
    "sns.despine()\n",
    "g.figure.set_size_inches(16, 10)"
   ]
  },
  {
   "cell_type": "code",
   "execution_count": 19,
   "metadata": {},
   "outputs": [
    {
     "data": {
      "text/plain": [
       "array(['(0-4)yr', '(5-24)yr', '(25-64)yr', '(65+)yr'], dtype=object)"
      ]
     },
     "execution_count": 19,
     "metadata": {},
     "output_type": "execute_result"
    }
   ],
   "source": [
    "merged_filtered = merged[merged['AgeGroup'] == '(25-64)yr']\n",
    "influenza_data['AgeGroup'].unique()"
   ]
  },
  {
   "cell_type": "code",
   "execution_count": 20,
   "metadata": {},
   "outputs": [
    {
     "data": {
      "text/html": [
       "<div>\n",
       "<style scoped>\n",
       "    .dataframe tbody tr th:only-of-type {\n",
       "        vertical-align: middle;\n",
       "    }\n",
       "\n",
       "    .dataframe tbody tr th {\n",
       "        vertical-align: top;\n",
       "    }\n",
       "\n",
       "    .dataframe thead th {\n",
       "        text-align: right;\n",
       "    }\n",
       "</style>\n",
       "<table border=\"1\" class=\"dataframe\">\n",
       "  <thead>\n",
       "    <tr style=\"text-align: right;\">\n",
       "      <th></th>\n",
       "      <th>state_name</th>\n",
       "      <th>Week</th>\n",
       "      <th>Year</th>\n",
       "      <th>avg_aqi</th>\n",
       "      <th>AgeGroup</th>\n",
       "      <th>A(H1)</th>\n",
       "      <th>A(UnabletoSubtype)</th>\n",
       "      <th>A(H3)</th>\n",
       "      <th>A(H1N1)pdm09</th>\n",
       "      <th>A(SubtypingNotPerformed)</th>\n",
       "      <th>B(VictoriaLineage)</th>\n",
       "      <th>B(YamagataLineage)</th>\n",
       "      <th>B(LineageUnspecified)</th>\n",
       "      <th>H3N2v</th>\n",
       "    </tr>\n",
       "  </thead>\n",
       "  <tbody>\n",
       "    <tr>\n",
       "      <td>2</td>\n",
       "      <td>California</td>\n",
       "      <td>1</td>\n",
       "      <td>1999</td>\n",
       "      <td>92.500000</td>\n",
       "      <td>(25-64)yr</td>\n",
       "      <td>0</td>\n",
       "      <td>0</td>\n",
       "      <td>29</td>\n",
       "      <td>0</td>\n",
       "      <td>5</td>\n",
       "      <td>0</td>\n",
       "      <td>0</td>\n",
       "      <td>12</td>\n",
       "      <td>0</td>\n",
       "    </tr>\n",
       "    <tr>\n",
       "      <td>6</td>\n",
       "      <td>California</td>\n",
       "      <td>1</td>\n",
       "      <td>2000</td>\n",
       "      <td>75.437500</td>\n",
       "      <td>(25-64)yr</td>\n",
       "      <td>0</td>\n",
       "      <td>0</td>\n",
       "      <td>132</td>\n",
       "      <td>0</td>\n",
       "      <td>80</td>\n",
       "      <td>0</td>\n",
       "      <td>0</td>\n",
       "      <td>0</td>\n",
       "      <td>0</td>\n",
       "    </tr>\n",
       "    <tr>\n",
       "      <td>10</td>\n",
       "      <td>California</td>\n",
       "      <td>1</td>\n",
       "      <td>2001</td>\n",
       "      <td>87.254457</td>\n",
       "      <td>(25-64)yr</td>\n",
       "      <td>36</td>\n",
       "      <td>0</td>\n",
       "      <td>1</td>\n",
       "      <td>0</td>\n",
       "      <td>6</td>\n",
       "      <td>0</td>\n",
       "      <td>0</td>\n",
       "      <td>31</td>\n",
       "      <td>0</td>\n",
       "    </tr>\n",
       "    <tr>\n",
       "      <td>14</td>\n",
       "      <td>California</td>\n",
       "      <td>1</td>\n",
       "      <td>2002</td>\n",
       "      <td>61.261568</td>\n",
       "      <td>(25-64)yr</td>\n",
       "      <td>0</td>\n",
       "      <td>0</td>\n",
       "      <td>33</td>\n",
       "      <td>0</td>\n",
       "      <td>7</td>\n",
       "      <td>0</td>\n",
       "      <td>0</td>\n",
       "      <td>1</td>\n",
       "      <td>0</td>\n",
       "    </tr>\n",
       "    <tr>\n",
       "      <td>18</td>\n",
       "      <td>California</td>\n",
       "      <td>1</td>\n",
       "      <td>2003</td>\n",
       "      <td>55.143505</td>\n",
       "      <td>(25-64)yr</td>\n",
       "      <td>13</td>\n",
       "      <td>0</td>\n",
       "      <td>4</td>\n",
       "      <td>0</td>\n",
       "      <td>1</td>\n",
       "      <td>0</td>\n",
       "      <td>0</td>\n",
       "      <td>6</td>\n",
       "      <td>0</td>\n",
       "    </tr>\n",
       "  </tbody>\n",
       "</table>\n",
       "</div>"
      ],
      "text/plain": [
       "    state_name  Week  Year    avg_aqi   AgeGroup  A(H1)  A(UnabletoSubtype)  \\\n",
       "2   California     1  1999  92.500000  (25-64)yr      0                   0   \n",
       "6   California     1  2000  75.437500  (25-64)yr      0                   0   \n",
       "10  California     1  2001  87.254457  (25-64)yr     36                   0   \n",
       "14  California     1  2002  61.261568  (25-64)yr      0                   0   \n",
       "18  California     1  2003  55.143505  (25-64)yr     13                   0   \n",
       "\n",
       "    A(H3)  A(H1N1)pdm09  A(SubtypingNotPerformed)  B(VictoriaLineage)  \\\n",
       "2      29             0                         5                   0   \n",
       "6     132             0                        80                   0   \n",
       "10      1             0                         6                   0   \n",
       "14     33             0                         7                   0   \n",
       "18      4             0                         1                   0   \n",
       "\n",
       "    B(YamagataLineage)  B(LineageUnspecified)  H3N2v  \n",
       "2                    0                     12      0  \n",
       "6                    0                      0      0  \n",
       "10                   0                     31      0  \n",
       "14                   0                      1      0  \n",
       "18                   0                      6      0  "
      ]
     },
     "execution_count": 20,
     "metadata": {},
     "output_type": "execute_result"
    }
   ],
   "source": [
    "merged_filtered.head()"
   ]
  },
  {
   "cell_type": "code",
   "execution_count": 21,
   "metadata": {},
   "outputs": [
    {
     "data": {
      "image/png": "[encoded data removed]",
      "text/plain": [
       "<Figure size 1152x720 with 2 Axes>"
      ]
     },
     "metadata": {
      "needs_background": "light"
     },
     "output_type": "display_data"
    }
   ],
   "source": [
    "corr = merged_filtered.corr()\n",
    "g = sns.heatmap(corr, vmax=.9, center=0,\n",
    "               square=True, linewidths=.9, cbar_kws={\"shrink\": .8}, annot=True, fmt='.2f', cmap='coolwarm')\n",
    "bottom, top = g.get_ylim()\n",
    "g.set_ylim(bottom + 0.5, top - 0.5)\n",
    "sns.despine()\n",
    "g.figure.set_size_inches(16, 10)"
   ]
  },
  {
   "cell_type": "code",
   "execution_count": 22,
   "metadata": {},
   "outputs": [
    {
     "data": {
      "text/plain": [
       "(array([ 0,  1,  2,  3,  4,  5,  6,  7,  8,  9, 10, 11, 12, 13, 14, 15, 16,\n",
       "        17, 18, 19]), <a list of 20 Text xticklabel objects>)"
      ]
     },
     "execution_count": 22,
     "metadata": {},
     "output_type": "execute_result"
    },
    {
     "data": {
      "image/png": "[encoded data removed]",
      "text/plain": [
       "<Figure size 432x288 with 1 Axes>"
      ]
     },
     "metadata": {
      "needs_background": "light"
     },
     "output_type": "display_data"
    }
   ],
   "source": [
    "sns.barplot(x='Year', y='avg_aqi', data=merged_filtered, saturation=0.8)\n",
    "plt.xticks(rotation=90)"
   ]
  },
  {
   "cell_type": "code",
   "execution_count": 23,
   "metadata": {},
   "outputs": [
    {
     "data": {
      "text/plain": [
       "(array([ 0,  1,  2,  3,  4,  5,  6,  7,  8,  9, 10, 11, 12, 13, 14, 15, 16,\n",
       "        17, 18, 19]), <a list of 20 Text xticklabel objects>)"
      ]
     },
     "execution_count": 23,
     "metadata": {},
     "output_type": "execute_result"
    },
    {
     "data": {
      "image/png": "[encoded data removed]",
      "text/plain": [
       "<Figure size 432x288 with 1 Axes>"
      ]
     },
     "metadata": {
      "needs_background": "light"
     },
     "output_type": "display_data"
    }
   ],
   "source": [
    "sns.barplot(x='Year', y='A(H3)', hue='AgeGroup', data=merged, saturation=0.8)\n",
    "plt.xticks(rotation=90)\n"
   ]
  },
  {
   "cell_type": "code",
   "execution_count": 24,
   "metadata": {},
   "outputs": [
    {
     "data": {
      "text/plain": [
       "(array([ 0,  1,  2,  3,  4,  5,  6,  7,  8,  9, 10, 11, 12, 13, 14, 15, 16,\n",
       "        17, 18, 19]), <a list of 20 Text xticklabel objects>)"
      ]
     },
     "execution_count": 24,
     "metadata": {},
     "output_type": "execute_result"
    },
    {
     "data": {
      "image/png": "[encoded data removed]",
      "text/plain": [
       "<Figure size 432x288 with 1 Axes>"
      ]
     },
     "metadata": {
      "needs_background": "light"
     },
     "output_type": "display_data"
    }
   ],
   "source": [
    "sns.barplot(x='Year', y='A(H1N1)pdm09', hue='AgeGroup', data=merged, saturation=0.8)\n",
    "plt.xticks(rotation=90)"
   ]
  },
  {
   "cell_type": "code",
   "execution_count": null,
   "metadata": {},
   "outputs": [
    {
     "data": {
      "text/plain": [
       "(array([ 0,  1,  2,  3,  4,  5,  6,  7,  8,  9, 10, 11, 12, 13, 14, 15, 16,\n",
       "        17, 18, 19]), <a list of 20 Text xticklabel objects>)"
      ]
     },
     "execution_count": 25,
     "metadata": {},
     "output_type": "execute_result"
    }
   ],
   "source": [
    "sns.barplot(x='Year', y='A(SubtypingNotPerformed)', hue='AgeGroup', data=merged, saturation=0.8)\n",
    "plt.xticks(rotation=90)\n"
   ]
  },
  {
   "cell_type": "code",
   "execution_count": null,
   "metadata": {},
   "outputs": [],
   "source": [
    "merged"
   ]
  },
  {
   "cell_type": "code",
   "execution_count": null,
   "metadata": {},
   "outputs": [],
   "source": [
    "#plotting AQ index value vs. Virus\n",
    "merged_filtered=merged[merged['AgeGroup'] == '(0-4)yr']\n",
    "merged_filtered[['avg_aqi','A(SubtypingNotPerformed)']].plot()"
   ]
  },
  {
   "cell_type": "code",
   "execution_count": null,
   "metadata": {},
   "outputs": [],
   "source": [
    "#plotting AQ index value vs. Virus\n",
    "merged_filtered=merged[merged['AgeGroup'] == '(5-24)yr']\n",
    "merged_filtered[['avg_aqi','A(SubtypingNotPerformed)']].plot()"
   ]
  },
  {
   "cell_type": "code",
   "execution_count": null,
   "metadata": {},
   "outputs": [],
   "source": [
    "#plotting AQ index value vs. Virus\n",
    "merged_filtered=merged[merged['AgeGroup'] == '(25-64)yr']\n",
    "merged_filtered[['avg_aqi','A(SubtypingNotPerformed)']].plot()"
   ]
  },
  {
   "cell_type": "code",
   "execution_count": null,
   "metadata": {},
   "outputs": [],
   "source": [
    "#plotting AQ index value vs. Virus vs age group\n",
    "merged_filtered=merged[merged['AgeGroup'] == '(65+)yr']\n",
    "merged_filtered[['avg_aqi','A(SubtypingNotPerformed)']].plot()"
   ]
  },
  {
   "cell_type": "code",
   "execution_count": null,
   "metadata": {},
   "outputs": [],
   "source": [
    "plt.figure()\n",
    "\n",
    "merged_filtered=merged[merged['AgeGroup'] == '(25-64)yr']\n",
    "\n",
    "\n",
    "x = merged_filtered['Year']\n",
    "y1 = merged_filtered['avg_aqi'] \n",
    "y2 = merged_filtered['A(SubtypingNotPerformed)']\n",
    "\n",
    "\n",
    "plt.plot(x,y1)\n",
    "plt.plot(x,y2)\n",
    "plt.xticks(rotation=90)"
   ]
  },
  {
   "cell_type": "code",
   "execution_count": null,
   "metadata": {},
   "outputs": [],
   "source": [
    "sns.distplot(merged_filtered['avg_aqi'])\n",
    "plt.show()"
   ]
  },
  {
   "cell_type": "code",
   "execution_count": null,
   "metadata": {},
   "outputs": [],
   "source": [
    "sns.distplot(merged_filtered['A(SubtypingNotPerformed)'])\n",
    "plt.show()"
   ]
  },
  {
   "cell_type": "code",
   "execution_count": null,
   "metadata": {},
   "outputs": [],
   "source": [
    "# Method 1: on the same Axis\n",
    "sns.distplot( (merged_filtered[\"avg_aqi\"]) , color=\"blue\", label=\"avg_aqi\")\n",
    "sns.distplot( merged_filtered[\"A(SubtypingNotPerformed)\"] , color=\"red\", label=\"Patient+\")\n",
    "plt.legend()\n",
    " \n",
    "plt.show()\n"
   ]
  },
  {
   "cell_type": "code",
   "execution_count": null,
   "metadata": {},
   "outputs": [],
   "source": [
    "merged.columns"
   ]
  },
  {
   "cell_type": "code",
   "execution_count": null,
   "metadata": {},
   "outputs": [],
   "source": [
    "import datetime\n",
    "merged['Month']= merged['Year'].astype(str).map(str) + \"-W\"+ merged['Week'].astype(str)\n",
    "for a in range(0,len(merged)):\n",
    "    merged.ix[a, 'MonthNo']= datetime.datetime.strptime(merged.ix[a, 'Month'] + '-1', '%G-W%V-%u')\n",
    "    #print(pd.Timestamp(np.datetime64(merged.ix[a, 'MonthNo'])).to_pydatetime())\n",
    "    merged.ix[a,'MonthNo_date']=pd.Timestamp(np.datetime64(merged.ix[a, 'MonthNo'])).to_pydatetime()\n",
    "    #merged.ix[a, 'MonthNo']= datetime.datetime.strptime((merged.ix[a, 'MonthNo']).astype(str), \"%Y-%m\")\n",
    "\n",
    "merged['MonthNo_date']= merged.MonthNo_date.dt.year.astype(str).map(str) + \"-\"+ merged.MonthNo_date.dt.month.astype(str)\n",
    "merged['MonthNo_date'].unique\n"
   ]
  },
  {
   "cell_type": "code",
   "execution_count": null,
   "metadata": {},
   "outputs": [],
   "source": [
    "merged.head()\n",
    "merged_f= merged[merged['AgeGroup'] == '(25-64)yr']\n",
    "#monthly -> yearly Mean value: method 1\n",
    "merged_monthly = merged_f.groupby(['state_name', 'Year','AgeGroup','MonthNo_date'])['avg_aqi', 'A(H1)',\n",
    "       'A(UnabletoSubtype)', 'A(H3)', 'A(H1N1)pdm09',\n",
    "       'A(SubtypingNotPerformed)', 'B(VictoriaLineage)', 'B(YamagataLineage)',\n",
    "       'B(LineageUnspecified)', 'H3N2v'].mean().reset_index()\n",
    "merged_monthly.head()\n",
    "len(merged_monthly)\n",
    "#merged_monthly.to_csv('../Datasets/merged_monthly.csv')"
   ]
  },
  {
   "cell_type": "code",
   "execution_count": null,
   "metadata": {},
   "outputs": [],
   "source": [
    "import pandas as pd\n",
    "import numpy as np\n",
    "import matplotlib.pyplot as plt\n",
    "%matplotlib inline\n",
    "\n",
    "# Import Statsmodels\n",
    "from statsmodels.tsa.api import VAR\n",
    "from statsmodels.tsa.stattools import adfuller\n",
    "from statsmodels.tools.eval_measures import rmse, aic"
   ]
  },
  {
   "cell_type": "code",
   "execution_count": null,
   "metadata": {},
   "outputs": [],
   "source": [
    "merged_var=merged_monthly[(merged_monthly['AgeGroup'] == '(25-64)yr')] \n",
    "len(merged_var)"
   ]
  },
  {
   "cell_type": "code",
   "execution_count": null,
   "metadata": {},
   "outputs": [],
   "source": [
    "merged_var.columns"
   ]
  },
  {
   "cell_type": "code",
   "execution_count": null,
   "metadata": {},
   "outputs": [],
   "source": [
    "plt.figure(figsize=(20, 8))\n",
    "plt.plot(merged_var['Year'], merged_var['avg_aqi'], 'b-', label = 'AQ')\n",
    "#plt.plot(merged_var['MonthNo_date'], merged_var['A(H1N1)pdm09'], 'r-', label = 'Virus')\n",
    "plt.xlabel('Date'); plt.ylabel('Sales'); plt.title('Value of AQ vs Virus')\n",
    "plt.xticks(rotation=45)\n",
    "plt.legend();"
   ]
  },
  {
   "cell_type": "code",
   "execution_count": null,
   "metadata": {},
   "outputs": [],
   "source": [
    "plt.figure(figsize=(20, 8))\n",
    "#plt.plot(merged_var['MonthNo_date'], merged_var['avg_aqi'], 'b-', label = 'AQ')\n",
    "plt.plot(merged_var['Year'], merged_var['A(H3)'], 'r-', label = 'Virus')\n",
    "plt.xlabel('Date'); plt.ylabel('Sales'); plt.title('Value of AQ vs Virus')\n",
    "plt.xticks(rotation=45)\n",
    "plt.legend();"
   ]
  },
  {
   "cell_type": "code",
   "execution_count": null,
   "metadata": {},
   "outputs": [],
   "source": [
    "\n",
    "merged_var= merged_var.drop(['state_name', 'Year','AgeGroup','H3N2v'], axis =1 )\n",
    "merged_var.head()"
   ]
  },
  {
   "cell_type": "code",
   "execution_count": null,
   "metadata": {},
   "outputs": [],
   "source": [
    "#setting the new month as index\n",
    "merged_var.NewMonth = pd.to_datetime(merged_var[\"MonthNo_date\"])\n",
    "merged_var.set_index('MonthNo_date', inplace=True)"
   ]
  },
  {
   "cell_type": "code",
   "execution_count": null,
   "metadata": {},
   "outputs": [],
   "source": [
    "# Plot\n",
    "fig, axes = plt.subplots(nrows=5, ncols=2, dpi=120, figsize=(10,6))\n",
    "for i, ax in enumerate(axes.flatten()):\n",
    "    data = merged_var[merged_var.columns[i]]\n",
    "    ax.plot(data, color='red', linewidth=1)\n",
    "    # Decorations\n",
    "    ax.set_title(merged_var.columns[i])\n",
    "    ax.xaxis.set_ticks_position('none')\n",
    "    ax.yaxis.set_ticks_position('none')\n",
    "    ax.spines[\"top\"].set_alpha(0)\n",
    "    ax.tick_params(labelsize=6)\n",
    "\n",
    "plt.tight_layout();"
   ]
  },
  {
   "cell_type": "code",
   "execution_count": null,
   "metadata": {},
   "outputs": [],
   "source": [
    "from statsmodels.tsa.stattools import grangercausalitytests\n",
    "maxlag=12\n",
    "test = 'ssr_chi2test'\n",
    "def grangers_causation_matrix(data, variables, test='ssr_chi2test', verbose=False):    \n",
    "    merged_var = pd.DataFrame(np.zeros((len(variables), len(variables))), columns=variables, index=variables)\n",
    "    for c in merged_var.columns:\n",
    "        for r in merged_var.index:\n",
    "            test_result = grangercausalitytests(data[[r, c]], maxlag=maxlag, verbose=False)\n",
    "            p_values = [round(test_result[i+1][0][test][1],4) for i in range(maxlag)]\n",
    "            if verbose: print(f'Y = {r}, X = {c}, P Values = {p_values}')\n",
    "            min_p_value = np.min(p_values)\n",
    "            merged_var.loc[r, c] = min_p_value\n",
    "    merged_var.columns = [var + '_x' for var in variables]\n",
    "    merged_var.index = [var + '_y' for var in variables]\n",
    "    return merged_var\n",
    "\n",
    "grangers_causation_matrix(merged_var, variables = merged_var.columns)   \n",
    "\n",
    "#avg_aqi_x causing A(H1N1)pdm09_y with p-val = .0074\n",
    "\n",
    "#So, how to interpret the p-values?\n",
    "#If a given p-value is < significance level (0.05), then, the corresponding X series (column) causes the Y (row).\n",
    "#Grangers Causality test"
   ]
  },
  {
   "cell_type": "code",
   "execution_count": null,
   "metadata": {},
   "outputs": [],
   "source": [
    "from statsmodels.tsa.vector_ar.vecm import coint_johansen\n",
    "\n",
    "def cointegration_test(df, alpha=0.05): \n",
    "    \"\"\"Perform Johanson's Cointegration Test and Report Summary\"\"\"\n",
    "    out = coint_johansen(df,-1,5)\n",
    "    d = {'0.90':0, '0.95':1, '0.99':2}\n",
    "    traces = out.lr1\n",
    "    cvts = out.cvt[:, d[str(1-alpha)]]\n",
    "    def adjust(val, length= 6): return str(val).ljust(length)\n",
    "\n",
    "    # Summary\n",
    "    print('Name   ::  Test Stat > C(95%)    =>   Signif  \\n', '--'*20)\n",
    "    for col, trace, cvt in zip(df.columns, traces, cvts):\n",
    "        print(adjust(col), ':: ', adjust(round(trace,2), 9), \">\", adjust(cvt, 8), ' =>  ' , trace > cvt)\n",
    "\n",
    "cointegration_test(merged_var)"
   ]
  },
  {
   "cell_type": "code",
   "execution_count": null,
   "metadata": {},
   "outputs": [],
   "source": [
    "trainData, testData = train_test_split(merged_var, train_size=0.7, random_state=100)\n",
    "Y_trainData = trainData[['A(H1N1)pdm09']]\n",
    "X_trainData= trainData.drop(['A(H1N1)pdm09'], axis =1 )\n",
    "X_trainData.head()"
   ]
  },
  {
   "cell_type": "code",
   "execution_count": null,
   "metadata": {},
   "outputs": [],
   "source": [
    "def adfuller_test(series, signif=0.05, name='', verbose=False):\n",
    "    \"\"\"Perform ADFuller to test for Stationarity of given series and print report\"\"\"\n",
    "    r = adfuller(series, autolag='AIC')\n",
    "    output = {'test_statistic':round(r[0], 4), 'pvalue':round(r[1], 4), 'n_lags':round(r[2], 4), 'n_obs':r[3]}\n",
    "    p_value = output['pvalue'] \n",
    "    def adjust(val, length= 6): return str(val).ljust(length)\n",
    "\n",
    "    # Print Summary\n",
    "    print(f'    Augmented Dickey-Fuller Test on \"{name}\"', \"\\n   \", '-'*47)\n",
    "    print(f' Null Hypothesis: Data has unit root. Non-Stationary.')\n",
    "    print(f' Significance Level    = {signif}')\n",
    "    print(f' Test Statistic        = {output[\"test_statistic\"]}')\n",
    "    print(f' No. Lags Chosen       = {output[\"n_lags\"]}')\n",
    "\n",
    "    for key,val in r[4].items():\n",
    "        print(f' Critical value {adjust(key)} = {round(val, 3)}')\n",
    "\n",
    "    if p_value <= signif:\n",
    "        print(f\" => P-Value = {p_value}. Rejecting Null Hypothesis.\")\n",
    "        print(f\" => Series is Stationary.\")\n",
    "    else:\n",
    "        print(f\" => P-Value = {p_value}. Weak evidence to reject the Null Hypothesis.\")\n",
    "        print(f\" => Series is Non-Stationary.\")  "
   ]
  },
  {
   "cell_type": "code",
   "execution_count": null,
   "metadata": {},
   "outputs": [],
   "source": [
    "# ADF Test on each column\n",
    "for name, column in trainData.iteritems():\n",
    "    adfuller_test(column, name=column.name)\n",
    "    print('\\n')"
   ]
  },
  {
   "cell_type": "code",
   "execution_count": null,
   "metadata": {},
   "outputs": [],
   "source": [
    "# 1st difference\n",
    "df_differenced = trainData.diff().dropna()"
   ]
  },
  {
   "cell_type": "code",
   "execution_count": null,
   "metadata": {},
   "outputs": [],
   "source": [
    "# ADF Test on each column of 1st Differences Dataframe\n",
    "for name, column in df_differenced.iteritems():\n",
    "    adfuller_test(column, name=column.name)\n",
    "    print('\\n')"
   ]
  },
  {
   "cell_type": "code",
   "execution_count": null,
   "metadata": {},
   "outputs": [],
   "source": [
    "# Second Differencing\n",
    "df_differenced = df_differenced.diff().dropna()"
   ]
  },
  {
   "cell_type": "code",
   "execution_count": null,
   "metadata": {},
   "outputs": [],
   "source": [
    "# ADF Test on each column of 2nd Differences Dataframe\n",
    "for name, column in df_differenced.iteritems():\n",
    "    adfuller_test(column, name=column.name)\n",
    "    print('\\n')"
   ]
  },
  {
   "cell_type": "code",
   "execution_count": null,
   "metadata": {},
   "outputs": [],
   "source": [
    "model = VAR(df_differenced)\n",
    "for i in [1,2,3,4,5,6,7,8,9]:\n",
    "    result = model.fit(i)\n",
    "    print('Lag Order =', i)\n",
    "    print('AIC : ', result.aic)\n",
    "    print('BIC : ', result.bic)\n",
    "    print('FPE : ', result.fpe)\n",
    "    print('HQIC: ', result.hqic, '\\n')"
   ]
  },
  {
   "cell_type": "code",
   "execution_count": null,
   "metadata": {},
   "outputs": [],
   "source": [
    "#train the var model of selected order\n",
    "\n",
    "model_fitted = model.fit(7)\n",
    "model_fitted.summary()"
   ]
  },
  {
   "cell_type": "code",
   "execution_count": null,
   "metadata": {},
   "outputs": [],
   "source": [
    "def adjust(val, length= 6): return str(val).ljust(length)"
   ]
  },
  {
   "cell_type": "code",
   "execution_count": null,
   "metadata": {},
   "outputs": [],
   "source": [
    "#serial corerelation\n",
    "\n",
    "from statsmodels.stats.stattools import durbin_watson\n",
    "out = durbin_watson(model_fitted.resid)\n",
    "\n",
    "for col, val in zip(merged_var.columns, out):\n",
    "    print(adjust(col), ':', round(val, 2))"
   ]
  },
  {
   "cell_type": "code",
   "execution_count": null,
   "metadata": {},
   "outputs": [],
   "source": [
    "#forcast VAR using stat model\n",
    "\n",
    "# Get the lag order\n",
    "lag_order = model_fitted.k_ar\n",
    "print(lag_order)  #> 4\n",
    "\n",
    "# Input data for forecasting\n",
    "forecast_input = df_differenced.values[-lag_order:]\n",
    "forecast_input"
   ]
  },
  {
   "cell_type": "code",
   "execution_count": null,
   "metadata": {},
   "outputs": [],
   "source": [
    "merged_var.head()"
   ]
  },
  {
   "cell_type": "code",
   "execution_count": null,
   "metadata": {},
   "outputs": [],
   "source": [
    "#forcast\n",
    "\n",
    "# Forecast\n",
    "nobs=225\n",
    "fc = model_fitted.forecast(y=forecast_input, steps=nobs)\n",
    "df_forecast = pd.DataFrame(fc, index=merged_var.index[-nobs:], columns=merged_var.columns + '_2d')\n",
    "df_forecast"
   ]
  },
  {
   "cell_type": "code",
   "execution_count": null,
   "metadata": {},
   "outputs": [],
   "source": [
    "def invert_transformation(df_train, df_forecast, second_diff=False):\n",
    "    \"\"\"Revert back the differencing to get the forecast to original scale.\"\"\"\n",
    "    df_fc = df_forecast.copy()\n",
    "    columns = df_train.columns\n",
    "    for col in columns:        \n",
    "        # Roll back 2nd Diff\n",
    "        if second_diff:\n",
    "            df_fc[str(col)+'_1d'] = (df_train[col].iloc[-1]-df_train[col].iloc[-2]) + df_fc[str(col)+'_2d'].cumsum()\n",
    "        # Roll back 1st Diff\n",
    "        df_fc[str(col)+'_forecast'] = df_train[col].iloc[-1] + df_fc[str(col)+'_1d'].cumsum()\n",
    "    return df_fc"
   ]
  },
  {
   "cell_type": "code",
   "execution_count": null,
   "metadata": {},
   "outputs": [],
   "source": [
    "df_forecast.columns"
   ]
  },
  {
   "cell_type": "code",
   "execution_count": null,
   "metadata": {},
   "outputs": [],
   "source": [
    "df_results = invert_transformation(trainData, df_forecast, second_diff=True)        \n",
    "df_results.loc[:, ['avg_aqi_forecast', 'A(H1)_forecast', 'A(UnabletoSubtype)_forecast', 'A(H3)_forecast',\n",
    "       'A(H1N1)pdm09_forecast', 'A(SubtypingNotPerformed)_forecast',\n",
    "       'B(VictoriaLineage)_forecast', 'B(YamagataLineage)_forecast',\n",
    "       'B(LineageUnspecified)_forecast']]"
   ]
  },
  {
   "cell_type": "code",
   "execution_count": null,
   "metadata": {},
   "outputs": [],
   "source": [
    "#plot forecast vs actual\n",
    "df=merged_var\n",
    "df_test=testData\n",
    "\n",
    "fig, axes = plt.subplots(nrows=int(len(df.columns)/2), ncols=2, dpi=150, figsize=(10,10))\n",
    "for i, (col,ax) in enumerate(zip(df.columns, axes.flatten())):\n",
    "    df_results[col+'_forecast'].plot(legend=True, ax=ax).autoscale(axis='x',tight=True)\n",
    "    df_test[col][-nobs:].plot(legend=True, ax=ax);\n",
    "    ax.set_title(col + \": Forecast vs Actuals\")\n",
    "    ax.xaxis.set_ticks_position('none')\n",
    "    ax.yaxis.set_ticks_position('none')\n",
    "    ax.spines[\"top\"].set_alpha(0)\n",
    "    ax.tick_params(labelsize=6)\n",
    "\n",
    "plt.tight_layout();"
   ]
  },
  {
   "cell_type": "markdown",
   "metadata": {},
   "source": [
    "## Below code is reference from \n",
    "\n",
    "https://github.com/kidaufo/StatisticalModeling/blob/master/GLM.ipynb\n",
    "https://towardsdatascience.com/generalized-linear-models-9cbf848bb8ab"
   ]
  },
  {
   "cell_type": "code",
   "execution_count": null,
   "metadata": {},
   "outputs": [],
   "source": [
    "# Poisson regression code\n",
    "\n",
    "import statsmodels.api as sm\n",
    "np.random.seed(5)\n",
    "n_sample = 100\n",
    "a = 0.6\n",
    "b = -0.4\n",
    "\n",
    "x = uniform(1, 5, size=n_sample)\n",
    "mu = np.exp(a * x + b)\n",
    "y = poisson(mu)\n",
    "\n",
    "exog, endog = sm.add_constant(x), y\n",
    "\n",
    "# Poisson regression\n",
    "mod = sm.GLM(endog, exog, family=sm.families.Poisson(link=sm.families.links.log()))\n",
    "res = mod.fit()\n",
    "display(res.summary())\n",
    "\n",
    "y_pred = res.predict(exog)\n",
    "\n",
    "idx = x.argsort()\n",
    "x_ord, y_pred_ord = x[idx], y_pred[idx]\n",
    "plt.plot(x_ord, y_pred_ord, color='m')\n",
    "plt.scatter(x, y,  s=20, alpha=0.8)\n",
    "plt.xlabel(\"X\")\n",
    "plt.ylabel(\"Y\")"
   ]
  },
  {
   "cell_type": "code",
   "execution_count": null,
   "metadata": {},
   "outputs": [],
   "source": [
    "# Normal distribution + log link function\n",
    "from numpy.random import uniform, normal, poisson, binomial\n",
    "\n",
    "\n",
    "np.random.seed(5)\n",
    "n_sample = 100\n",
    "a = 0.6\n",
    "b = -0.4\n",
    "\n",
    "x = uniform(1, 5, size=n_sample)\n",
    "mu = np.exp(a * x + b)\n",
    "y = poisson(mu)\n",
    "exog, endog = sm.add_constant(x), y\n",
    "\n",
    "\n",
    "mod = sm.GLM(endog, exog, family=sm.families.Gaussian(sm.families.links.log()))\n",
    "res = mod.fit()\n",
    "display(res.summary())\n",
    "\n",
    "y_pred = res.predict(exog)\n",
    "\n",
    "idx = x.argsort()\n",
    "x_ord, y_pred_ord = x[idx], y_pred[idx]\n",
    "\n",
    "plt.plot(x_ord, y_pred_ord, color='m')\n",
    "plt.scatter(x, y,  s=20, alpha=0.8)\n",
    "plt.xlabel(\"X\")\n",
    "plt.ylabel(\"Y\")"
   ]
  },
  {
   "cell_type": "code",
   "execution_count": null,
   "metadata": {},
   "outputs": [],
   "source": [
    "def logistic(x):\n",
    "    return 1 / (1 + np.exp(-x))\n",
    "\n",
    "\n",
    "xx = np.linspace(-8, 8)\n",
    "plt.plot(xx, logistic(xx))"
   ]
  },
  {
   "cell_type": "code",
   "execution_count": null,
   "metadata": {},
   "outputs": [],
   "source": [
    "#logistic regression\n",
    "\n",
    "\n",
    "np.random.seed(5)\n",
    "n_sample = 100\n",
    "a = 3.0\n",
    "b = -9.0\n",
    "\n",
    "x = uniform(1, 5, size=n_sample)\n",
    "x = np.sort(x)\n",
    "\n",
    "q = logistic(a * x + b)\n",
    "y = binomial(n=1, p=q)\n",
    "\n",
    "exog, endog = sm.add_constant(X_train), y_train\n",
    "\n",
    "# Logistic regression\n",
    "mod = sm.GLM(endog, exog, family=sm.families.Binomial(link=sm.families.links.logit()))\n",
    "res = mod.fit()\n",
    "display(res.summary())\n",
    "\n",
    "y_pred = res.predict(exog)\n",
    "\n",
    "idx = x.argsort()\n",
    "x_ord, y_pred_ord = x[idx], y_pred[idx]\n",
    "plt.plot(x_ord, y_pred_ord, color='m')\n",
    "plt.scatter(x, y,  s=20, alpha=0.8)\n",
    "plt.xlabel(\"X\")\n",
    "plt.ylabel(\"Y\")\n",
    "# plt.savefig('logistic_regression.png')"
   ]
  },
  {
   "cell_type": "code",
   "execution_count": null,
   "metadata": {},
   "outputs": [],
   "source": [
    "np.random.seed(5)\n",
    "n_sample = 100\n",
    "a = 0.6\n",
    "b = -0.4\n",
    "sd = 0.8\n",
    "\n",
    "x = uniform(1, 5, size=n_sample)\n",
    "mu = np.exp(a * x + b)\n",
    "y = normal(mu, sd)"
   ]
  },
  {
   "cell_type": "code",
   "execution_count": null,
   "metadata": {},
   "outputs": [],
   "source": [
    "plt.scatter(x, y,  s=20, alpha=0.8)\n",
    "plt.xlabel(\"X\")\n",
    "plt.ylabel(\"Y\")\n",
    "# plt.savefig('custom_GLM_data.png')"
   ]
  },
  {
   "cell_type": "code",
   "execution_count": null,
   "metadata": {},
   "outputs": [],
   "source": [
    "exog = sm.add_constant(x)\n",
    "endog = y\n",
    "\n",
    "# Normal distribution + log link function\n",
    "mod = sm.GLM(endog, exog, family=sm.families.Gaussian(sm.families.links.log()))\n",
    "res = mod.fit()\n",
    "display(res.summary())\n",
    "\n",
    "y_pred = res.predict(exog)\n",
    "\n",
    "idx = x.argsort()\n",
    "x_ord, y_pred_ord = x[idx], y_pred[idx]\n",
    "\n",
    "plt.plot(x_ord, y_pred_ord, color='m')\n",
    "plt.scatter(x, y,  s=20, alpha=0.8)\n",
    "plt.xlabel(\"X\")\n",
    "plt.ylabel(\"Y\")"
   ]
  }
 ],
 "metadata": {
  "kernelspec": {
   "display_name": "Python 3",
   "language": "python",
   "name": "python3"
  },
  "language_info": {
   "codemirror_mode": {
    "name": "ipython",
    "version": 3
   },
   "file_extension": ".py",
   "mimetype": "text/x-python",
   "name": "python",
   "nbconvert_exporter": "python",
   "pygments_lexer": "ipython3",
   "version": "3.7.4"
  }
 },
 "nbformat": 4,
 "nbformat_minor": 2
}
