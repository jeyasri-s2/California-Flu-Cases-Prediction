{
 "cells": [
  {
   "cell_type": "code",
   "execution_count": 1,
   "metadata": {},
   "outputs": [],
   "source": [
    "import pandas as pd\n",
    "import matplotlib.pyplot as plt\n",
    "import numpy as np\n",
    "import seaborn as sns\n",
    "from sklearn.linear_model import LinearRegression, LogisticRegression\n",
    "from sklearn.model_selection import train_test_split\n",
    "from sklearn.metrics import accuracy_score\n",
    "from sklearn.utils import resample"
   ]
  },
  {
   "cell_type": "code",
   "execution_count": 3,
   "metadata": {},
   "outputs": [
    {
     "name": "stdout",
     "output_type": "stream",
     "text": [
      "\u001b[34mAirQualityData_1\u001b[m\u001b[m \u001b[34mAirQualityData_2\u001b[m\u001b[m Link.txt         \u001b[34mPurple Air\u001b[m\u001b[m\r\n"
     ]
    }
   ],
   "source": [
    "!ls ../Datasets/AirQuality"
   ]
  },
  {
   "cell_type": "code",
   "execution_count": 3,
   "metadata": {},
   "outputs": [
    {
     "data": {
      "text/html": [
       "<div>\n",
       "<style scoped>\n",
       "    .dataframe tbody tr th:only-of-type {\n",
       "        vertical-align: middle;\n",
       "    }\n",
       "\n",
       "    .dataframe tbody tr th {\n",
       "        vertical-align: top;\n",
       "    }\n",
       "\n",
       "    .dataframe thead th {\n",
       "        text-align: right;\n",
       "    }\n",
       "</style>\n",
       "<table border=\"1\" class=\"dataframe\">\n",
       "  <thead>\n",
       "    <tr style=\"text-align: right;\">\n",
       "      <th></th>\n",
       "      <th>id</th>\n",
       "      <th>city_name</th>\n",
       "      <th>state_name</th>\n",
       "      <th>Week</th>\n",
       "      <th>Year</th>\n",
       "      <th>avg_aqi</th>\n",
       "    </tr>\n",
       "  </thead>\n",
       "  <tbody>\n",
       "    <tr>\n",
       "      <td>61771</td>\n",
       "      <td>61382</td>\n",
       "      <td>Long Beach</td>\n",
       "      <td>California</td>\n",
       "      <td>53</td>\n",
       "      <td>2017</td>\n",
       "      <td>127.333333</td>\n",
       "    </tr>\n",
       "    <tr>\n",
       "      <td>61772</td>\n",
       "      <td>61454</td>\n",
       "      <td>Anaheim</td>\n",
       "      <td>California</td>\n",
       "      <td>53</td>\n",
       "      <td>2017</td>\n",
       "      <td>116.000000</td>\n",
       "    </tr>\n",
       "    <tr>\n",
       "      <td>61773</td>\n",
       "      <td>61540</td>\n",
       "      <td>El Cajon</td>\n",
       "      <td>California</td>\n",
       "      <td>53</td>\n",
       "      <td>2017</td>\n",
       "      <td>92.000000</td>\n",
       "    </tr>\n",
       "    <tr>\n",
       "      <td>61774</td>\n",
       "      <td>61596</td>\n",
       "      <td>Chico</td>\n",
       "      <td>California</td>\n",
       "      <td>53</td>\n",
       "      <td>2017</td>\n",
       "      <td>95.000000</td>\n",
       "    </tr>\n",
       "    <tr>\n",
       "      <td>61775</td>\n",
       "      <td>61764</td>\n",
       "      <td>Yuba City</td>\n",
       "      <td>California</td>\n",
       "      <td>53</td>\n",
       "      <td>2017</td>\n",
       "      <td>82.000000</td>\n",
       "    </tr>\n",
       "  </tbody>\n",
       "</table>\n",
       "</div>"
      ],
      "text/plain": [
       "          id   city_name  state_name  Week  Year     avg_aqi\n",
       "61771  61382  Long Beach  California    53  2017  127.333333\n",
       "61772  61454     Anaheim  California    53  2017  116.000000\n",
       "61773  61540    El Cajon  California    53  2017   92.000000\n",
       "61774  61596       Chico  California    53  2017   95.000000\n",
       "61775  61764   Yuba City  California    53  2017   82.000000"
      ]
     },
     "execution_count": 3,
     "metadata": {},
     "output_type": "execute_result"
    }
   ],
   "source": [
    "airQ_data = pd.read_csv('../Datasets/AirQuality/AirQualityData_3/airquality-1998_2017.csv', low_memory =False)\n",
    "len(airQ_data)\n",
    "airQ_data.tail()"
   ]
  },
  {
   "cell_type": "code",
   "execution_count": 4,
   "metadata": {},
   "outputs": [
    {
     "data": {
      "text/plain": [
       "61776"
      ]
     },
     "execution_count": 4,
     "metadata": {},
     "output_type": "execute_result"
    }
   ],
   "source": [
    "len(airQ_data)"
   ]
  },
  {
   "cell_type": "code",
   "execution_count": 182,
   "metadata": {},
   "outputs": [
    {
     "data": {
      "text/html": [
       "<div>\n",
       "<style scoped>\n",
       "    .dataframe tbody tr th:only-of-type {\n",
       "        vertical-align: middle;\n",
       "    }\n",
       "\n",
       "    .dataframe tbody tr th {\n",
       "        vertical-align: top;\n",
       "    }\n",
       "\n",
       "    .dataframe thead th {\n",
       "        text-align: right;\n",
       "    }\n",
       "</style>\n",
       "<table border=\"1\" class=\"dataframe\">\n",
       "  <thead>\n",
       "    <tr style=\"text-align: right;\">\n",
       "      <th></th>\n",
       "      <th>County</th>\n",
       "      <th>Year</th>\n",
       "      <th>Value</th>\n",
       "    </tr>\n",
       "  </thead>\n",
       "  <tbody>\n",
       "    <tr>\n",
       "      <td>0</td>\n",
       "      <td>Alameda</td>\n",
       "      <td>2014</td>\n",
       "      <td>10.615572</td>\n",
       "    </tr>\n",
       "    <tr>\n",
       "      <td>1</td>\n",
       "      <td>Alameda</td>\n",
       "      <td>2015</td>\n",
       "      <td>11.195880</td>\n",
       "    </tr>\n",
       "    <tr>\n",
       "      <td>2</td>\n",
       "      <td>Alameda</td>\n",
       "      <td>2016</td>\n",
       "      <td>9.924854</td>\n",
       "    </tr>\n",
       "    <tr>\n",
       "      <td>3</td>\n",
       "      <td>Alameda</td>\n",
       "      <td>2017</td>\n",
       "      <td>13.576661</td>\n",
       "    </tr>\n",
       "    <tr>\n",
       "      <td>4</td>\n",
       "      <td>Alameda</td>\n",
       "      <td>2018</td>\n",
       "      <td>16.584750</td>\n",
       "    </tr>\n",
       "  </tbody>\n",
       "</table>\n",
       "</div>"
      ],
      "text/plain": [
       "    County  Year      Value\n",
       "0  Alameda  2014  10.615572\n",
       "1  Alameda  2015  11.195880\n",
       "2  Alameda  2016   9.924854\n",
       "3  Alameda  2017  13.576661\n",
       "4  Alameda  2018  16.584750"
      ]
     },
     "execution_count": 182,
     "metadata": {},
     "output_type": "execute_result"
    }
   ],
   "source": [
    "#monthly -> yearly Mean value: method 1\n",
    "airQ_data_mean = airQ_data.groupby(['County','Year'])['Value'].mean().reset_index()\n",
    "airQ_data_mean.head()"
   ]
  },
  {
   "cell_type": "code",
   "execution_count": 6,
   "metadata": {},
   "outputs": [
    {
     "data": {
      "text/plain": [
       "295"
      ]
     },
     "execution_count": 6,
     "metadata": {},
     "output_type": "execute_result"
    }
   ],
   "source": [
    "len(airQ_data_mean)"
   ]
  },
  {
   "cell_type": "code",
   "execution_count": 5,
   "metadata": {},
   "outputs": [
    {
     "data": {
      "text/html": [
       "<div>\n",
       "<style scoped>\n",
       "    .dataframe tbody tr th:only-of-type {\n",
       "        vertical-align: middle;\n",
       "    }\n",
       "\n",
       "    .dataframe tbody tr th {\n",
       "        vertical-align: top;\n",
       "    }\n",
       "\n",
       "    .dataframe thead th {\n",
       "        text-align: right;\n",
       "    }\n",
       "</style>\n",
       "<table border=\"1\" class=\"dataframe\">\n",
       "  <thead>\n",
       "    <tr style=\"text-align: right;\">\n",
       "      <th></th>\n",
       "      <th>state_name</th>\n",
       "      <th>Week</th>\n",
       "      <th>Year</th>\n",
       "      <th>avg_aqi</th>\n",
       "    </tr>\n",
       "  </thead>\n",
       "  <tbody>\n",
       "    <tr>\n",
       "      <td>0</td>\n",
       "      <td>California</td>\n",
       "      <td>0</td>\n",
       "      <td>1999</td>\n",
       "      <td>92.500000</td>\n",
       "    </tr>\n",
       "    <tr>\n",
       "      <td>1</td>\n",
       "      <td>California</td>\n",
       "      <td>0</td>\n",
       "      <td>2000</td>\n",
       "      <td>75.437500</td>\n",
       "    </tr>\n",
       "    <tr>\n",
       "      <td>2</td>\n",
       "      <td>California</td>\n",
       "      <td>0</td>\n",
       "      <td>2001</td>\n",
       "      <td>87.254457</td>\n",
       "    </tr>\n",
       "    <tr>\n",
       "      <td>3</td>\n",
       "      <td>California</td>\n",
       "      <td>0</td>\n",
       "      <td>2002</td>\n",
       "      <td>61.261568</td>\n",
       "    </tr>\n",
       "    <tr>\n",
       "      <td>4</td>\n",
       "      <td>California</td>\n",
       "      <td>0</td>\n",
       "      <td>2003</td>\n",
       "      <td>55.143505</td>\n",
       "    </tr>\n",
       "  </tbody>\n",
       "</table>\n",
       "</div>"
      ],
      "text/plain": [
       "   state_name  Week  Year    avg_aqi\n",
       "0  California     0  1999  92.500000\n",
       "1  California     0  2000  75.437500\n",
       "2  California     0  2001  87.254457\n",
       "3  California     0  2002  61.261568\n",
       "4  California     0  2003  55.143505"
      ]
     },
     "execution_count": 5,
     "metadata": {},
     "output_type": "execute_result"
    }
   ],
   "source": [
    "#Removing city and taking avg\n",
    "airQ_data_mean = airQ_data.groupby(['state_name','Week','Year'])['avg_aqi'].mean().reset_index()\n",
    "airQ_data_mean.head()"
   ]
  },
  {
   "cell_type": "code",
   "execution_count": 6,
   "metadata": {},
   "outputs": [
    {
     "data": {
      "text/plain": [
       "1011"
      ]
     },
     "execution_count": 6,
     "metadata": {},
     "output_type": "execute_result"
    }
   ],
   "source": [
    "len(airQ_data_mean)"
   ]
  },
  {
   "cell_type": "code",
   "execution_count": 7,
   "metadata": {},
   "outputs": [
    {
     "data": {
      "text/html": [
       "<div>\n",
       "<style scoped>\n",
       "    .dataframe tbody tr th:only-of-type {\n",
       "        vertical-align: middle;\n",
       "    }\n",
       "\n",
       "    .dataframe tbody tr th {\n",
       "        vertical-align: top;\n",
       "    }\n",
       "\n",
       "    .dataframe thead th {\n",
       "        text-align: right;\n",
       "    }\n",
       "</style>\n",
       "<table border=\"1\" class=\"dataframe\">\n",
       "  <thead>\n",
       "    <tr style=\"text-align: right;\">\n",
       "      <th></th>\n",
       "      <th>state_name</th>\n",
       "      <th>Week</th>\n",
       "      <th>Year</th>\n",
       "      <th>avg_aqi</th>\n",
       "    </tr>\n",
       "  </thead>\n",
       "  <tbody>\n",
       "    <tr>\n",
       "      <td>0</td>\n",
       "      <td>California</td>\n",
       "      <td>0</td>\n",
       "      <td>1999</td>\n",
       "      <td>92.500000</td>\n",
       "    </tr>\n",
       "    <tr>\n",
       "      <td>1</td>\n",
       "      <td>California</td>\n",
       "      <td>0</td>\n",
       "      <td>2000</td>\n",
       "      <td>75.437500</td>\n",
       "    </tr>\n",
       "    <tr>\n",
       "      <td>2</td>\n",
       "      <td>California</td>\n",
       "      <td>0</td>\n",
       "      <td>2001</td>\n",
       "      <td>87.254457</td>\n",
       "    </tr>\n",
       "    <tr>\n",
       "      <td>3</td>\n",
       "      <td>California</td>\n",
       "      <td>0</td>\n",
       "      <td>2002</td>\n",
       "      <td>61.261568</td>\n",
       "    </tr>\n",
       "    <tr>\n",
       "      <td>4</td>\n",
       "      <td>California</td>\n",
       "      <td>0</td>\n",
       "      <td>2003</td>\n",
       "      <td>55.143505</td>\n",
       "    </tr>\n",
       "  </tbody>\n",
       "</table>\n",
       "</div>"
      ],
      "text/plain": [
       "   state_name  Week  Year    avg_aqi\n",
       "0  California     0  1999  92.500000\n",
       "1  California     0  2000  75.437500\n",
       "2  California     0  2001  87.254457\n",
       "3  California     0  2002  61.261568\n",
       "4  California     0  2003  55.143505"
      ]
     },
     "execution_count": 7,
     "metadata": {},
     "output_type": "execute_result"
    }
   ],
   "source": [
    "#dropping 0 values\n",
    "indexNames = airQ_data_mean[ (airQ_data_mean['avg_aqi'] == 0.000000)].index\n",
    "airQ_data_mean.drop(indexNames , inplace=True)\n",
    "airQ_data_mean.head()\n"
   ]
  },
  {
   "cell_type": "code",
   "execution_count": 8,
   "metadata": {},
   "outputs": [
    {
     "data": {
      "text/plain": [
       "1011"
      ]
     },
     "execution_count": 8,
     "metadata": {},
     "output_type": "execute_result"
    }
   ],
   "source": [
    "len(airQ_data_mean)"
   ]
  },
  {
   "cell_type": "code",
   "execution_count": 9,
   "metadata": {},
   "outputs": [
    {
     "data": {
      "text/plain": [
       "array([ 0,  1,  2,  3,  4,  5,  6,  7,  8,  9, 10, 11, 12, 13, 14, 15, 16,\n",
       "       17, 18, 19, 20, 21, 22, 23, 24, 25, 26, 27, 28, 29, 30, 31, 32, 33,\n",
       "       34, 35, 36, 37, 38, 39, 40, 41, 42, 43, 44, 45, 46, 47, 48, 49, 50,\n",
       "       51, 52, 53], dtype=int64)"
      ]
     },
     "execution_count": 9,
     "metadata": {},
     "output_type": "execute_result"
    }
   ],
   "source": [
    "airQ_data_mean['Week'].unique()"
   ]
  },
  {
   "cell_type": "code",
   "execution_count": 14,
   "metadata": {},
   "outputs": [
    {
     "data": {
      "text/plain": [
       "array([ 1,  2,  3,  4,  5,  6,  7,  8,  9, 10, 11, 12, 13, 14, 15, 16, 17,\n",
       "       18, 19, 20, 21, 22, 23, 24, 25, 26, 27, 28, 29, 30, 31, 32, 33, 34,\n",
       "       35, 36, 37, 38, 39, 40, 41, 42, 43, 44, 45, 46, 47, 48, 49, 50, 51,\n",
       "       52, 53, 54], dtype=int64)"
      ]
     },
     "execution_count": 14,
     "metadata": {},
     "output_type": "execute_result"
    }
   ],
   "source": [
    "#increasing week number by 1 to match influenza data\n",
    "airQ_data_mean['Week'] = airQ_data_mean['Week']+1\n",
    "airQ_data_mean['Week'].unique()"
   ]
  },
  {
   "cell_type": "code",
   "execution_count": 10,
   "metadata": {},
   "outputs": [
    {
     "data": {
      "text/plain": [
       "array([1999, 2000, 2001, 2002, 2003, 2004, 2005, 2007, 2008, 2009, 2010,\n",
       "       2011, 2013, 2014, 2015, 2016, 2006, 2012, 2017, 1998], dtype=int64)"
      ]
     },
     "execution_count": 10,
     "metadata": {},
     "output_type": "execute_result"
    }
   ],
   "source": [
    "airQ_data_mean['Year'].unique()"
   ]
  },
  {
   "cell_type": "code",
   "execution_count": 11,
   "metadata": {},
   "outputs": [
    {
     "data": {
      "text/html": [
       "<div>\n",
       "<style scoped>\n",
       "    .dataframe tbody tr th:only-of-type {\n",
       "        vertical-align: middle;\n",
       "    }\n",
       "\n",
       "    .dataframe tbody tr th {\n",
       "        vertical-align: top;\n",
       "    }\n",
       "\n",
       "    .dataframe thead th {\n",
       "        text-align: right;\n",
       "    }\n",
       "</style>\n",
       "<table border=\"1\" class=\"dataframe\">\n",
       "  <thead>\n",
       "    <tr style=\"text-align: right;\">\n",
       "      <th></th>\n",
       "      <th>state_name</th>\n",
       "      <th>Week</th>\n",
       "      <th>Year</th>\n",
       "      <th>avg_aqi</th>\n",
       "    </tr>\n",
       "  </thead>\n",
       "  <tbody>\n",
       "    <tr>\n",
       "      <td>0</td>\n",
       "      <td>California</td>\n",
       "      <td>0</td>\n",
       "      <td>1999</td>\n",
       "      <td>92.500000</td>\n",
       "    </tr>\n",
       "    <tr>\n",
       "      <td>1</td>\n",
       "      <td>California</td>\n",
       "      <td>0</td>\n",
       "      <td>2000</td>\n",
       "      <td>75.437500</td>\n",
       "    </tr>\n",
       "    <tr>\n",
       "      <td>2</td>\n",
       "      <td>California</td>\n",
       "      <td>0</td>\n",
       "      <td>2001</td>\n",
       "      <td>87.254457</td>\n",
       "    </tr>\n",
       "    <tr>\n",
       "      <td>3</td>\n",
       "      <td>California</td>\n",
       "      <td>0</td>\n",
       "      <td>2002</td>\n",
       "      <td>61.261568</td>\n",
       "    </tr>\n",
       "    <tr>\n",
       "      <td>4</td>\n",
       "      <td>California</td>\n",
       "      <td>0</td>\n",
       "      <td>2003</td>\n",
       "      <td>55.143505</td>\n",
       "    </tr>\n",
       "  </tbody>\n",
       "</table>\n",
       "</div>"
      ],
      "text/plain": [
       "   state_name  Week  Year    avg_aqi\n",
       "0  California     0  1999  92.500000\n",
       "1  California     0  2000  75.437500\n",
       "2  California     0  2001  87.254457\n",
       "3  California     0  2002  61.261568\n",
       "4  California     0  2003  55.143505"
      ]
     },
     "execution_count": 11,
     "metadata": {},
     "output_type": "execute_result"
    }
   ],
   "source": [
    "airQ_data_mean.head()"
   ]
  },
  {
   "cell_type": "code",
   "execution_count": 16,
   "metadata": {},
   "outputs": [
    {
     "data": {
      "text/html": [
       "<div>\n",
       "<style scoped>\n",
       "    .dataframe tbody tr th:only-of-type {\n",
       "        vertical-align: middle;\n",
       "    }\n",
       "\n",
       "    .dataframe tbody tr th {\n",
       "        vertical-align: top;\n",
       "    }\n",
       "\n",
       "    .dataframe thead th {\n",
       "        text-align: right;\n",
       "    }\n",
       "</style>\n",
       "<table border=\"1\" class=\"dataframe\">\n",
       "  <thead>\n",
       "    <tr style=\"text-align: right;\">\n",
       "      <th></th>\n",
       "      <th>Year</th>\n",
       "      <th>Week</th>\n",
       "      <th>AgeGroup</th>\n",
       "      <th>A(H1)</th>\n",
       "      <th>A(UnabletoSubtype)</th>\n",
       "      <th>A(H3)</th>\n",
       "      <th>A(H1N1)pdm09</th>\n",
       "      <th>A(SubtypingNotPerformed)</th>\n",
       "      <th>B(VictoriaLineage)</th>\n",
       "      <th>B(Yamagata Lineage)</th>\n",
       "      <th>B(Lineage Unspecified)</th>\n",
       "      <th>H3N2v</th>\n",
       "    </tr>\n",
       "  </thead>\n",
       "  <tbody>\n",
       "    <tr>\n",
       "      <td>0</td>\n",
       "      <td>2019</td>\n",
       "      <td>40</td>\n",
       "      <td>(0-4)yr</td>\n",
       "      <td>0</td>\n",
       "      <td>0</td>\n",
       "      <td>4</td>\n",
       "      <td>3</td>\n",
       "      <td>4</td>\n",
       "      <td>6</td>\n",
       "      <td>0</td>\n",
       "      <td>1</td>\n",
       "      <td>0</td>\n",
       "    </tr>\n",
       "    <tr>\n",
       "      <td>1</td>\n",
       "      <td>2019</td>\n",
       "      <td>41</td>\n",
       "      <td>(0-4)yr</td>\n",
       "      <td>0</td>\n",
       "      <td>0</td>\n",
       "      <td>2</td>\n",
       "      <td>5</td>\n",
       "      <td>3</td>\n",
       "      <td>15</td>\n",
       "      <td>0</td>\n",
       "      <td>0</td>\n",
       "      <td>0</td>\n",
       "    </tr>\n",
       "    <tr>\n",
       "      <td>2</td>\n",
       "      <td>2019</td>\n",
       "      <td>42</td>\n",
       "      <td>(0-4)yr</td>\n",
       "      <td>0</td>\n",
       "      <td>0</td>\n",
       "      <td>14</td>\n",
       "      <td>3</td>\n",
       "      <td>0</td>\n",
       "      <td>15</td>\n",
       "      <td>0</td>\n",
       "      <td>4</td>\n",
       "      <td>0</td>\n",
       "    </tr>\n",
       "    <tr>\n",
       "      <td>3</td>\n",
       "      <td>2019</td>\n",
       "      <td>43</td>\n",
       "      <td>(0-4)yr</td>\n",
       "      <td>0</td>\n",
       "      <td>0</td>\n",
       "      <td>4</td>\n",
       "      <td>4</td>\n",
       "      <td>0</td>\n",
       "      <td>12</td>\n",
       "      <td>0</td>\n",
       "      <td>3</td>\n",
       "      <td>0</td>\n",
       "    </tr>\n",
       "    <tr>\n",
       "      <td>4</td>\n",
       "      <td>2019</td>\n",
       "      <td>44</td>\n",
       "      <td>(0-4)yr</td>\n",
       "      <td>0</td>\n",
       "      <td>0</td>\n",
       "      <td>7</td>\n",
       "      <td>6</td>\n",
       "      <td>0</td>\n",
       "      <td>12</td>\n",
       "      <td>1</td>\n",
       "      <td>0</td>\n",
       "      <td>0</td>\n",
       "    </tr>\n",
       "  </tbody>\n",
       "</table>\n",
       "</div>"
      ],
      "text/plain": [
       "   Year  Week AgeGroup  A(H1)  A(UnabletoSubtype)  A(H3)  A(H1N1)pdm09  \\\n",
       "0  2019    40  (0-4)yr      0                   0      4             3   \n",
       "1  2019    41  (0-4)yr      0                   0      2             5   \n",
       "2  2019    42  (0-4)yr      0                   0     14             3   \n",
       "3  2019    43  (0-4)yr      0                   0      4             4   \n",
       "4  2019    44  (0-4)yr      0                   0      7             6   \n",
       "\n",
       "   A(SubtypingNotPerformed)  B(VictoriaLineage)  B(Yamagata Lineage)  \\\n",
       "0                         4                   6                    0   \n",
       "1                         3                  15                    0   \n",
       "2                         0                  15                    0   \n",
       "3                         0                  12                    0   \n",
       "4                         0                  12                    1   \n",
       "\n",
       "   B(Lineage Unspecified)  H3N2v  \n",
       "0                       1      0  \n",
       "1                       0      0  \n",
       "2                       4      0  \n",
       "3                       3      0  \n",
       "4                       0      0  "
      ]
     },
     "execution_count": 16,
     "metadata": {},
     "output_type": "execute_result"
    }
   ],
   "source": [
    "#we will use this influenza data\n",
    "influenza_data = pd.read_csv('../Datasets/Disease cases/influenza/AgeViewByWeek_Influenza.csv', low_memory=False)\n",
    "influenza_data.head()"
   ]
  },
  {
   "cell_type": "code",
   "execution_count": 17,
   "metadata": {},
   "outputs": [
    {
     "data": {
      "text/plain": [
       "array(['(0-4)yr', '(5-24)yr', '(25-64)yr', '(65+)yr'], dtype=object)"
      ]
     },
     "execution_count": 17,
     "metadata": {},
     "output_type": "execute_result"
    }
   ],
   "source": [
    "influenza_data['AgeGroup'].unique()"
   ]
  },
  {
   "cell_type": "code",
   "execution_count": 18,
   "metadata": {},
   "outputs": [
    {
     "data": {
      "text/plain": [
       "array([2019, 2018, 2017, 2016, 2015, 2014, 2013, 2012, 2011, 2010, 2009,\n",
       "       2008, 2007, 2006, 2005, 2004, 2003, 2002, 2001, 2000, 1999, 1998,\n",
       "       1997], dtype=int64)"
      ]
     },
     "execution_count": 18,
     "metadata": {},
     "output_type": "execute_result"
    }
   ],
   "source": [
    "influenza_data['Year'].unique()"
   ]
  },
  {
   "cell_type": "code",
   "execution_count": 20,
   "metadata": {},
   "outputs": [
    {
     "data": {
      "text/html": [
       "<div>\n",
       "<style scoped>\n",
       "    .dataframe tbody tr th:only-of-type {\n",
       "        vertical-align: middle;\n",
       "    }\n",
       "\n",
       "    .dataframe tbody tr th {\n",
       "        vertical-align: top;\n",
       "    }\n",
       "\n",
       "    .dataframe thead th {\n",
       "        text-align: right;\n",
       "    }\n",
       "</style>\n",
       "<table border=\"1\" class=\"dataframe\">\n",
       "  <thead>\n",
       "    <tr style=\"text-align: right;\">\n",
       "      <th></th>\n",
       "      <th>state_name</th>\n",
       "      <th>Week</th>\n",
       "      <th>Year</th>\n",
       "      <th>avg_aqi</th>\n",
       "      <th>AgeGroup</th>\n",
       "      <th>A(H1)</th>\n",
       "      <th>A(UnabletoSubtype)</th>\n",
       "      <th>A(H3)</th>\n",
       "      <th>A(H1N1)pdm09</th>\n",
       "      <th>A(SubtypingNotPerformed)</th>\n",
       "      <th>B(VictoriaLineage)</th>\n",
       "      <th>B(Yamagata Lineage)</th>\n",
       "      <th>B(Lineage Unspecified)</th>\n",
       "      <th>H3N2v</th>\n",
       "    </tr>\n",
       "  </thead>\n",
       "  <tbody>\n",
       "    <tr>\n",
       "      <td>0</td>\n",
       "      <td>California</td>\n",
       "      <td>1</td>\n",
       "      <td>1999</td>\n",
       "      <td>92.5000</td>\n",
       "      <td>(0-4)yr</td>\n",
       "      <td>0</td>\n",
       "      <td>0</td>\n",
       "      <td>7</td>\n",
       "      <td>0</td>\n",
       "      <td>1</td>\n",
       "      <td>0</td>\n",
       "      <td>0</td>\n",
       "      <td>7</td>\n",
       "      <td>0</td>\n",
       "    </tr>\n",
       "    <tr>\n",
       "      <td>1</td>\n",
       "      <td>California</td>\n",
       "      <td>1</td>\n",
       "      <td>1999</td>\n",
       "      <td>92.5000</td>\n",
       "      <td>(5-24)yr</td>\n",
       "      <td>0</td>\n",
       "      <td>0</td>\n",
       "      <td>14</td>\n",
       "      <td>0</td>\n",
       "      <td>5</td>\n",
       "      <td>0</td>\n",
       "      <td>0</td>\n",
       "      <td>15</td>\n",
       "      <td>0</td>\n",
       "    </tr>\n",
       "    <tr>\n",
       "      <td>2</td>\n",
       "      <td>California</td>\n",
       "      <td>1</td>\n",
       "      <td>1999</td>\n",
       "      <td>92.5000</td>\n",
       "      <td>(25-64)yr</td>\n",
       "      <td>0</td>\n",
       "      <td>0</td>\n",
       "      <td>29</td>\n",
       "      <td>0</td>\n",
       "      <td>5</td>\n",
       "      <td>0</td>\n",
       "      <td>0</td>\n",
       "      <td>12</td>\n",
       "      <td>0</td>\n",
       "    </tr>\n",
       "    <tr>\n",
       "      <td>3</td>\n",
       "      <td>California</td>\n",
       "      <td>1</td>\n",
       "      <td>1999</td>\n",
       "      <td>92.5000</td>\n",
       "      <td>(65+)yr</td>\n",
       "      <td>0</td>\n",
       "      <td>0</td>\n",
       "      <td>12</td>\n",
       "      <td>0</td>\n",
       "      <td>14</td>\n",
       "      <td>0</td>\n",
       "      <td>0</td>\n",
       "      <td>6</td>\n",
       "      <td>0</td>\n",
       "    </tr>\n",
       "    <tr>\n",
       "      <td>4</td>\n",
       "      <td>California</td>\n",
       "      <td>1</td>\n",
       "      <td>2000</td>\n",
       "      <td>75.4375</td>\n",
       "      <td>(0-4)yr</td>\n",
       "      <td>1</td>\n",
       "      <td>0</td>\n",
       "      <td>47</td>\n",
       "      <td>0</td>\n",
       "      <td>27</td>\n",
       "      <td>0</td>\n",
       "      <td>0</td>\n",
       "      <td>0</td>\n",
       "      <td>0</td>\n",
       "    </tr>\n",
       "  </tbody>\n",
       "</table>\n",
       "</div>"
      ],
      "text/plain": [
       "   state_name  Week  Year  avg_aqi   AgeGroup  A(H1)  A(UnabletoSubtype)  \\\n",
       "0  California     1  1999  92.5000    (0-4)yr      0                   0   \n",
       "1  California     1  1999  92.5000   (5-24)yr      0                   0   \n",
       "2  California     1  1999  92.5000  (25-64)yr      0                   0   \n",
       "3  California     1  1999  92.5000    (65+)yr      0                   0   \n",
       "4  California     1  2000  75.4375    (0-4)yr      1                   0   \n",
       "\n",
       "   A(H3)  A(H1N1)pdm09  A(SubtypingNotPerformed)  B(VictoriaLineage)  \\\n",
       "0      7             0                         1                   0   \n",
       "1     14             0                         5                   0   \n",
       "2     29             0                         5                   0   \n",
       "3     12             0                        14                   0   \n",
       "4     47             0                        27                   0   \n",
       "\n",
       "   B(Yamagata Lineage)  B(Lineage Unspecified)  H3N2v  \n",
       "0                    0                       7      0  \n",
       "1                    0                      15      0  \n",
       "2                    0                      12      0  \n",
       "3                    0                       6      0  \n",
       "4                    0                       0      0  "
      ]
     },
     "execution_count": 20,
     "metadata": {},
     "output_type": "execute_result"
    }
   ],
   "source": [
    "#merging AQ data && influenza data\n",
    "\n",
    "merged = pd.merge(airQ_data_mean,influenza_data,how='inner', left_on=['Year', 'Week'], right_on=['Year','Week'])\n",
    "merged.head()"
   ]
  },
  {
   "cell_type": "code",
   "execution_count": 21,
   "metadata": {},
   "outputs": [
    {
     "data": {
      "text/plain": [
       "3944"
      ]
     },
     "execution_count": 21,
     "metadata": {},
     "output_type": "execute_result"
    }
   ],
   "source": [
    "len(merged)"
   ]
  },
  {
   "cell_type": "code",
   "execution_count": 26,
   "metadata": {},
   "outputs": [
    {
     "data": {
      "image/png": "[encoded data removed]",
      "text/plain": [
       "<Figure size 1152x720 with 2 Axes>"
      ]
     },
     "metadata": {
      "needs_background": "light"
     },
     "output_type": "display_data"
    }
   ],
   "source": [
    "corr = merged.corr()\n",
    "g = sns.heatmap(corr, vmax=.9, center=0,\n",
    "               square=True, linewidths=.9, cbar_kws={\"shrink\": .8}, annot=True, fmt='.2f', cmap='coolwarm')\n",
    "bottom, top = g.get_ylim()\n",
    "g.set_ylim(bottom + 0.5, top - 0.5)\n",
    "sns.despine()\n",
    "g.figure.set_size_inches(16, 10)"
   ]
  },
  {
   "cell_type": "code",
   "execution_count": 23,
   "metadata": {},
   "outputs": [],
   "source": [
    "merged_filtered = merged[merged['AgeGroup'] == '(0-4)yr']"
   ]
  },
  {
   "cell_type": "code",
   "execution_count": 24,
   "metadata": {},
   "outputs": [
    {
     "data": {
      "text/html": [
       "<div>\n",
       "<style scoped>\n",
       "    .dataframe tbody tr th:only-of-type {\n",
       "        vertical-align: middle;\n",
       "    }\n",
       "\n",
       "    .dataframe tbody tr th {\n",
       "        vertical-align: top;\n",
       "    }\n",
       "\n",
       "    .dataframe thead th {\n",
       "        text-align: right;\n",
       "    }\n",
       "</style>\n",
       "<table border=\"1\" class=\"dataframe\">\n",
       "  <thead>\n",
       "    <tr style=\"text-align: right;\">\n",
       "      <th></th>\n",
       "      <th>state_name</th>\n",
       "      <th>Week</th>\n",
       "      <th>Year</th>\n",
       "      <th>avg_aqi</th>\n",
       "      <th>AgeGroup</th>\n",
       "      <th>A(H1)</th>\n",
       "      <th>A(UnabletoSubtype)</th>\n",
       "      <th>A(H3)</th>\n",
       "      <th>A(H1N1)pdm09</th>\n",
       "      <th>A(SubtypingNotPerformed)</th>\n",
       "      <th>B(VictoriaLineage)</th>\n",
       "      <th>B(Yamagata Lineage)</th>\n",
       "      <th>B(Lineage Unspecified)</th>\n",
       "      <th>H3N2v</th>\n",
       "    </tr>\n",
       "  </thead>\n",
       "  <tbody>\n",
       "    <tr>\n",
       "      <td>0</td>\n",
       "      <td>California</td>\n",
       "      <td>1</td>\n",
       "      <td>1999</td>\n",
       "      <td>92.500000</td>\n",
       "      <td>(0-4)yr</td>\n",
       "      <td>0</td>\n",
       "      <td>0</td>\n",
       "      <td>7</td>\n",
       "      <td>0</td>\n",
       "      <td>1</td>\n",
       "      <td>0</td>\n",
       "      <td>0</td>\n",
       "      <td>7</td>\n",
       "      <td>0</td>\n",
       "    </tr>\n",
       "    <tr>\n",
       "      <td>4</td>\n",
       "      <td>California</td>\n",
       "      <td>1</td>\n",
       "      <td>2000</td>\n",
       "      <td>75.437500</td>\n",
       "      <td>(0-4)yr</td>\n",
       "      <td>1</td>\n",
       "      <td>0</td>\n",
       "      <td>47</td>\n",
       "      <td>0</td>\n",
       "      <td>27</td>\n",
       "      <td>0</td>\n",
       "      <td>0</td>\n",
       "      <td>0</td>\n",
       "      <td>0</td>\n",
       "    </tr>\n",
       "    <tr>\n",
       "      <td>8</td>\n",
       "      <td>California</td>\n",
       "      <td>1</td>\n",
       "      <td>2001</td>\n",
       "      <td>87.254457</td>\n",
       "      <td>(0-4)yr</td>\n",
       "      <td>32</td>\n",
       "      <td>0</td>\n",
       "      <td>2</td>\n",
       "      <td>0</td>\n",
       "      <td>7</td>\n",
       "      <td>0</td>\n",
       "      <td>0</td>\n",
       "      <td>4</td>\n",
       "      <td>0</td>\n",
       "    </tr>\n",
       "    <tr>\n",
       "      <td>12</td>\n",
       "      <td>California</td>\n",
       "      <td>1</td>\n",
       "      <td>2002</td>\n",
       "      <td>61.261568</td>\n",
       "      <td>(0-4)yr</td>\n",
       "      <td>0</td>\n",
       "      <td>0</td>\n",
       "      <td>28</td>\n",
       "      <td>0</td>\n",
       "      <td>12</td>\n",
       "      <td>0</td>\n",
       "      <td>0</td>\n",
       "      <td>0</td>\n",
       "      <td>0</td>\n",
       "    </tr>\n",
       "    <tr>\n",
       "      <td>16</td>\n",
       "      <td>California</td>\n",
       "      <td>1</td>\n",
       "      <td>2003</td>\n",
       "      <td>55.143505</td>\n",
       "      <td>(0-4)yr</td>\n",
       "      <td>4</td>\n",
       "      <td>0</td>\n",
       "      <td>1</td>\n",
       "      <td>0</td>\n",
       "      <td>1</td>\n",
       "      <td>0</td>\n",
       "      <td>0</td>\n",
       "      <td>5</td>\n",
       "      <td>0</td>\n",
       "    </tr>\n",
       "  </tbody>\n",
       "</table>\n",
       "</div>"
      ],
      "text/plain": [
       "    state_name  Week  Year    avg_aqi AgeGroup  A(H1)  A(UnabletoSubtype)  \\\n",
       "0   California     1  1999  92.500000  (0-4)yr      0                   0   \n",
       "4   California     1  2000  75.437500  (0-4)yr      1                   0   \n",
       "8   California     1  2001  87.254457  (0-4)yr     32                   0   \n",
       "12  California     1  2002  61.261568  (0-4)yr      0                   0   \n",
       "16  California     1  2003  55.143505  (0-4)yr      4                   0   \n",
       "\n",
       "    A(H3)  A(H1N1)pdm09  A(SubtypingNotPerformed)  B(VictoriaLineage)  \\\n",
       "0       7             0                         1                   0   \n",
       "4      47             0                        27                   0   \n",
       "8       2             0                         7                   0   \n",
       "12     28             0                        12                   0   \n",
       "16      1             0                         1                   0   \n",
       "\n",
       "    B(Yamagata Lineage)  B(Lineage Unspecified)  H3N2v  \n",
       "0                     0                       7      0  \n",
       "4                     0                       0      0  \n",
       "8                     0                       4      0  \n",
       "12                    0                       0      0  \n",
       "16                    0                       5      0  "
      ]
     },
     "execution_count": 24,
     "metadata": {},
     "output_type": "execute_result"
    }
   ],
   "source": [
    "merged_filtered.head()"
   ]
  },
  {
   "cell_type": "code",
   "execution_count": 27,
   "metadata": {},
   "outputs": [
    {
     "data": {
      "image/png": "[encoded data removed]",
      "text/plain": [
       "<Figure size 1152x720 with 2 Axes>"
      ]
     },
     "metadata": {
      "needs_background": "light"
     },
     "output_type": "display_data"
    }
   ],
   "source": [
    "corr = merged_filtered.corr()\n",
    "g = sns.heatmap(corr, vmax=.9, center=0,\n",
    "               square=True, linewidths=.9, cbar_kws={\"shrink\": .8}, annot=True, fmt='.2f', cmap='coolwarm')\n",
    "bottom, top = g.get_ylim()\n",
    "g.set_ylim(bottom + 0.5, top - 0.5)\n",
    "sns.despine()\n",
    "g.figure.set_size_inches(16, 10)"
   ]
  },
  {
   "cell_type": "code",
   "execution_count": 27,
   "metadata": {},
   "outputs": [
    {
     "data": {
      "text/plain": [
       "<matplotlib.axes._subplots.AxesSubplot at 0x1a20021390>"
      ]
     },
     "execution_count": 27,
     "metadata": {},
     "output_type": "execute_result"
    },
    {
     "data": {
      "image/png": "[encoded data removed]",
      "text/plain": [
       "<Figure size 432x288 with 1 Axes>"
      ]
     },
     "metadata": {
      "needs_background": "light"
     },
     "output_type": "display_data"
    }
   ],
   "source": [
    "sns.barplot(x='Age group', y='Patient_count', hue='Year', data=merged, saturation=0.8)\n"
   ]
  },
  {
   "cell_type": "code",
   "execution_count": 28,
   "metadata": {},
   "outputs": [
    {
     "data": {
      "text/plain": [
       "<matplotlib.axes._subplots.AxesSubplot at 0x1a20364190>"
      ]
     },
     "execution_count": 28,
     "metadata": {},
     "output_type": "execute_result"
    },
    {
     "data": {
      "image/png": "[encoded data removed]",
      "text/plain": [
       "<Figure size 432x288 with 1 Axes>"
      ]
     },
     "metadata": {
      "needs_background": "light"
     },
     "output_type": "display_data"
    }
   ],
   "source": [
    "sns.barplot(x='County', y='Crude rates per 10,000', hue='Year', data=merged, saturation=0.8)\n",
    "\n"
   ]
  },
  {
   "cell_type": "code",
   "execution_count": 29,
   "metadata": {},
   "outputs": [
    {
     "data": {
      "text/plain": [
       "<matplotlib.axes._subplots.AxesSubplot at 0x1a2089e750>"
      ]
     },
     "execution_count": 29,
     "metadata": {},
     "output_type": "execute_result"
    },
    {
     "data": {
      "image/png": "[encoded data removed]",
      "text/plain": [
       "<Figure size 432x288 with 1 Axes>"
      ]
     },
     "metadata": {
      "needs_background": "light"
     },
     "output_type": "display_data"
    }
   ],
   "source": [
    "sns.barplot(x='Age group', y='Crude rates per 10,000', hue='Year', data=merged, saturation=0.8)"
   ]
  },
  {
   "cell_type": "code",
   "execution_count": 30,
   "metadata": {},
   "outputs": [
    {
     "data": {
      "text/plain": [
       "<matplotlib.axes._subplots.AxesSubplot at 0x1a20a05050>"
      ]
     },
     "execution_count": 30,
     "metadata": {},
     "output_type": "execute_result"
    },
    {
     "data": {
      "image/png": "[encoded data removed]",
      "text/plain": [
       "<Figure size 432x288 with 1 Axes>"
      ]
     },
     "metadata": {
      "needs_background": "light"
     },
     "output_type": "display_data"
    }
   ],
   "source": [
    "sns.barplot(x='County', y='Value', hue='Year', data=merged, saturation=0.8)\n",
    "\n"
   ]
  },
  {
   "cell_type": "code",
   "execution_count": 31,
   "metadata": {},
   "outputs": [
    {
     "data": {
      "text/plain": [
       "<matplotlib.axes._subplots.AxesSubplot at 0x1a20feea50>"
      ]
     },
     "execution_count": 31,
     "metadata": {},
     "output_type": "execute_result"
    },
    {
     "data": {
      "image/png": "[encoded data removed]",
      "text/plain": [
       "<Figure size 432x288 with 1 Axes>"
      ]
     },
     "metadata": {
      "needs_background": "light"
     },
     "output_type": "display_data"
    }
   ],
   "source": [
    "sns.barplot(x='Patient_count', y='Value', hue='Year', data=merged, saturation=0.8)\n",
    "\n"
   ]
  },
  {
   "cell_type": "code",
   "execution_count": 34,
   "metadata": {},
   "outputs": [
    {
     "data": {
      "text/plain": [
       "<matplotlib.axes._subplots.AxesSubplot at 0x1a2760e650>"
      ]
     },
     "execution_count": 34,
     "metadata": {},
     "output_type": "execute_result"
    },
    {
     "data": {
      "image/png": "[encoded data removed]",
      "text/plain": [
       "<Figure size 432x288 with 1 Axes>"
      ]
     },
     "metadata": {
      "needs_background": "light"
     },
     "output_type": "display_data"
    }
   ],
   "source": [
    "sns.barplot(x='Crude rates per 10,000', y='Value', hue='Year', data=merged, saturation=0.8)\n",
    "\n"
   ]
  },
  {
   "cell_type": "code",
   "execution_count": 193,
   "metadata": {},
   "outputs": [
    {
     "data": {
      "text/html": [
       "<div>\n",
       "<style scoped>\n",
       "    .dataframe tbody tr th:only-of-type {\n",
       "        vertical-align: middle;\n",
       "    }\n",
       "\n",
       "    .dataframe tbody tr th {\n",
       "        vertical-align: top;\n",
       "    }\n",
       "\n",
       "    .dataframe thead th {\n",
       "        text-align: right;\n",
       "    }\n",
       "</style>\n",
       "<table border=\"1\" class=\"dataframe\">\n",
       "  <thead>\n",
       "    <tr style=\"text-align: right;\">\n",
       "      <th></th>\n",
       "      <th>County</th>\n",
       "      <th>Year</th>\n",
       "      <th>Value</th>\n",
       "      <th>CountyCode</th>\n",
       "      <th>Crude rates per 10,000</th>\n",
       "      <th>Lower 95% Limit</th>\n",
       "      <th>Upper 95% Limit</th>\n",
       "      <th>Patient_count</th>\n",
       "    </tr>\n",
       "  </thead>\n",
       "  <tbody>\n",
       "  </tbody>\n",
       "</table>\n",
       "</div>"
      ],
      "text/plain": [
       "Empty DataFrame\n",
       "Columns: [County, Year, Value, CountyCode, Crude rates per 10,000, Lower 95% Limit, Upper 95% Limit, Patient_count]\n",
       "Index: []"
      ]
     },
     "execution_count": 193,
     "metadata": {},
     "output_type": "execute_result"
    }
   ],
   "source": [
    "merged.head()"
   ]
  },
  {
   "cell_type": "code",
   "execution_count": 37,
   "metadata": {},
   "outputs": [
    {
     "data": {
      "text/html": [
       "<div>\n",
       "<style scoped>\n",
       "    .dataframe tbody tr th:only-of-type {\n",
       "        vertical-align: middle;\n",
       "    }\n",
       "\n",
       "    .dataframe tbody tr th {\n",
       "        vertical-align: top;\n",
       "    }\n",
       "\n",
       "    .dataframe thead th {\n",
       "        text-align: right;\n",
       "    }\n",
       "</style>\n",
       "<table border=\"1\" class=\"dataframe\">\n",
       "  <thead>\n",
       "    <tr style=\"text-align: right;\">\n",
       "      <th></th>\n",
       "      <th>County</th>\n",
       "      <th>Year</th>\n",
       "      <th>Population</th>\n",
       "    </tr>\n",
       "  </thead>\n",
       "  <tbody>\n",
       "    <tr>\n",
       "      <td>0</td>\n",
       "      <td>Alameda</td>\n",
       "      <td>2014</td>\n",
       "      <td>1,588,576</td>\n",
       "    </tr>\n",
       "    <tr>\n",
       "      <td>1</td>\n",
       "      <td>Alpine</td>\n",
       "      <td>2014</td>\n",
       "      <td>1,163</td>\n",
       "    </tr>\n",
       "    <tr>\n",
       "      <td>2</td>\n",
       "      <td>Amador</td>\n",
       "      <td>2014</td>\n",
       "      <td>37,815</td>\n",
       "    </tr>\n",
       "    <tr>\n",
       "      <td>3</td>\n",
       "      <td>Butte</td>\n",
       "      <td>2014</td>\n",
       "      <td>223,137</td>\n",
       "    </tr>\n",
       "    <tr>\n",
       "      <td>4</td>\n",
       "      <td>Calaveras</td>\n",
       "      <td>2014</td>\n",
       "      <td>45,358</td>\n",
       "    </tr>\n",
       "  </tbody>\n",
       "</table>\n",
       "</div>"
      ],
      "text/plain": [
       "      County  Year   Population\n",
       "0    Alameda  2014   1,588,576 \n",
       "1     Alpine  2014       1,163 \n",
       "2     Amador  2014      37,815 \n",
       "3      Butte  2014     223,137 \n",
       "4  Calaveras  2014      45,358 "
      ]
     },
     "execution_count": 37,
     "metadata": {},
     "output_type": "execute_result"
    }
   ],
   "source": [
    "#county population file\n",
    "county_population = pd.read_csv('../Datasets/Disease cases/asthma-4/county_population.csv',low_memory=False)\n",
    "county_population.head()"
   ]
  },
  {
   "cell_type": "code",
   "execution_count": 38,
   "metadata": {},
   "outputs": [
    {
     "data": {
      "text/html": [
       "<div>\n",
       "<style scoped>\n",
       "    .dataframe tbody tr th:only-of-type {\n",
       "        vertical-align: middle;\n",
       "    }\n",
       "\n",
       "    .dataframe tbody tr th {\n",
       "        vertical-align: top;\n",
       "    }\n",
       "\n",
       "    .dataframe thead th {\n",
       "        text-align: right;\n",
       "    }\n",
       "</style>\n",
       "<table border=\"1\" class=\"dataframe\">\n",
       "  <thead>\n",
       "    <tr style=\"text-align: right;\">\n",
       "      <th></th>\n",
       "      <th>County</th>\n",
       "      <th>Year</th>\n",
       "      <th>Population</th>\n",
       "    </tr>\n",
       "  </thead>\n",
       "  <tbody>\n",
       "    <tr>\n",
       "      <td>0</td>\n",
       "      <td>Alameda</td>\n",
       "      <td>2014</td>\n",
       "      <td>1588576</td>\n",
       "    </tr>\n",
       "    <tr>\n",
       "      <td>1</td>\n",
       "      <td>Alpine</td>\n",
       "      <td>2014</td>\n",
       "      <td>1163</td>\n",
       "    </tr>\n",
       "    <tr>\n",
       "      <td>2</td>\n",
       "      <td>Amador</td>\n",
       "      <td>2014</td>\n",
       "      <td>37815</td>\n",
       "    </tr>\n",
       "    <tr>\n",
       "      <td>3</td>\n",
       "      <td>Butte</td>\n",
       "      <td>2014</td>\n",
       "      <td>223137</td>\n",
       "    </tr>\n",
       "    <tr>\n",
       "      <td>4</td>\n",
       "      <td>Calaveras</td>\n",
       "      <td>2014</td>\n",
       "      <td>45358</td>\n",
       "    </tr>\n",
       "  </tbody>\n",
       "</table>\n",
       "</div>"
      ],
      "text/plain": [
       "      County  Year  Population\n",
       "0    Alameda  2014     1588576\n",
       "1     Alpine  2014        1163\n",
       "2     Amador  2014       37815\n",
       "3      Butte  2014      223137\n",
       "4  Calaveras  2014       45358"
      ]
     },
     "execution_count": 38,
     "metadata": {},
     "output_type": "execute_result"
    }
   ],
   "source": [
    "#remove comma from Population column\n",
    "county_population['Population'] = county_population['Population'].str.replace(',','').astype(int)\n",
    "county_population.head()"
   ]
  },
  {
   "cell_type": "code",
   "execution_count": 39,
   "metadata": {},
   "outputs": [
    {
     "data": {
      "text/html": [
       "<div>\n",
       "<style scoped>\n",
       "    .dataframe tbody tr th:only-of-type {\n",
       "        vertical-align: middle;\n",
       "    }\n",
       "\n",
       "    .dataframe tbody tr th {\n",
       "        vertical-align: top;\n",
       "    }\n",
       "\n",
       "    .dataframe thead th {\n",
       "        text-align: right;\n",
       "    }\n",
       "</style>\n",
       "<table border=\"1\" class=\"dataframe\">\n",
       "  <thead>\n",
       "    <tr style=\"text-align: right;\">\n",
       "      <th></th>\n",
       "      <th>County</th>\n",
       "      <th>Year</th>\n",
       "      <th>Value</th>\n",
       "      <th>CountyCode</th>\n",
       "      <th>Crude rates per 10,000</th>\n",
       "      <th>Lower 95% Limit</th>\n",
       "      <th>Upper 95% Limit</th>\n",
       "      <th>Patient_count</th>\n",
       "      <th>Age group</th>\n",
       "      <th>Population</th>\n",
       "    </tr>\n",
       "  </thead>\n",
       "  <tbody>\n",
       "    <tr>\n",
       "      <td>0</td>\n",
       "      <td>Alameda</td>\n",
       "      <td>2014</td>\n",
       "      <td>10.615572</td>\n",
       "      <td>6001</td>\n",
       "      <td>148.8</td>\n",
       "      <td>141.4</td>\n",
       "      <td>156.6</td>\n",
       "      <td>1487</td>\n",
       "      <td>ages (0-4)</td>\n",
       "      <td>1588576</td>\n",
       "    </tr>\n",
       "    <tr>\n",
       "      <td>1</td>\n",
       "      <td>Alameda</td>\n",
       "      <td>2014</td>\n",
       "      <td>10.615572</td>\n",
       "      <td>6001</td>\n",
       "      <td>84.5</td>\n",
       "      <td>80.9</td>\n",
       "      <td>88.2</td>\n",
       "      <td>2100</td>\n",
       "      <td>ages (5-17)</td>\n",
       "      <td>1588576</td>\n",
       "    </tr>\n",
       "    <tr>\n",
       "      <td>2</td>\n",
       "      <td>Alameda</td>\n",
       "      <td>2014</td>\n",
       "      <td>10.615572</td>\n",
       "      <td>6001</td>\n",
       "      <td>47.7</td>\n",
       "      <td>45.5</td>\n",
       "      <td>50.0</td>\n",
       "      <td>1806</td>\n",
       "      <td>ages (18-34)</td>\n",
       "      <td>1588576</td>\n",
       "    </tr>\n",
       "    <tr>\n",
       "      <td>3</td>\n",
       "      <td>Alameda</td>\n",
       "      <td>2014</td>\n",
       "      <td>10.615572</td>\n",
       "      <td>6001</td>\n",
       "      <td>54.5</td>\n",
       "      <td>52.7</td>\n",
       "      <td>56.3</td>\n",
       "      <td>3505</td>\n",
       "      <td>ages (35-64)</td>\n",
       "      <td>1588576</td>\n",
       "    </tr>\n",
       "    <tr>\n",
       "      <td>4</td>\n",
       "      <td>Alameda</td>\n",
       "      <td>2014</td>\n",
       "      <td>10.615572</td>\n",
       "      <td>6001</td>\n",
       "      <td>51.4</td>\n",
       "      <td>48.3</td>\n",
       "      <td>54.7</td>\n",
       "      <td>1011</td>\n",
       "      <td>Above 65</td>\n",
       "      <td>1588576</td>\n",
       "    </tr>\n",
       "  </tbody>\n",
       "</table>\n",
       "</div>"
      ],
      "text/plain": [
       "    County  Year      Value  CountyCode  Crude rates per 10,000  \\\n",
       "0  Alameda  2014  10.615572        6001                   148.8   \n",
       "1  Alameda  2014  10.615572        6001                    84.5   \n",
       "2  Alameda  2014  10.615572        6001                    47.7   \n",
       "3  Alameda  2014  10.615572        6001                    54.5   \n",
       "4  Alameda  2014  10.615572        6001                    51.4   \n",
       "\n",
       "   Lower 95% Limit  Upper 95% Limit  Patient_count     Age group  Population  \n",
       "0            141.4            156.6           1487    ages (0-4)     1588576  \n",
       "1             80.9             88.2           2100   ages (5-17)     1588576  \n",
       "2             45.5             50.0           1806  ages (18-34)     1588576  \n",
       "3             52.7             56.3           3505  ages (35-64)     1588576  \n",
       "4             48.3             54.7           1011      Above 65     1588576  "
      ]
     },
     "execution_count": 39,
     "metadata": {},
     "output_type": "execute_result"
    }
   ],
   "source": [
    "#merging merged data && county_population data to get population column\n",
    "\n",
    "merged = pd.merge(merged,county_population,how='inner', left_on=['Year', 'County'], right_on=['Year','County'])\n",
    "merged.head()"
   ]
  },
  {
   "cell_type": "code",
   "execution_count": 40,
   "metadata": {},
   "outputs": [
    {
     "data": {
      "text/html": [
       "<div>\n",
       "<style scoped>\n",
       "    .dataframe tbody tr th:only-of-type {\n",
       "        vertical-align: middle;\n",
       "    }\n",
       "\n",
       "    .dataframe tbody tr th {\n",
       "        vertical-align: top;\n",
       "    }\n",
       "\n",
       "    .dataframe thead th {\n",
       "        text-align: right;\n",
       "    }\n",
       "</style>\n",
       "<table border=\"1\" class=\"dataframe\">\n",
       "  <thead>\n",
       "    <tr style=\"text-align: right;\">\n",
       "      <th></th>\n",
       "      <th>County</th>\n",
       "      <th>Year</th>\n",
       "      <th>Value</th>\n",
       "      <th>CountyCode</th>\n",
       "      <th>Crude rates per 10,000</th>\n",
       "      <th>Lower 95% Limit</th>\n",
       "      <th>Upper 95% Limit</th>\n",
       "      <th>Patient_count</th>\n",
       "      <th>Age group</th>\n",
       "      <th>Population</th>\n",
       "      <th>Patient_ratio</th>\n",
       "    </tr>\n",
       "  </thead>\n",
       "  <tbody>\n",
       "    <tr>\n",
       "      <td>0</td>\n",
       "      <td>Alameda</td>\n",
       "      <td>2014</td>\n",
       "      <td>10.615572</td>\n",
       "      <td>6001</td>\n",
       "      <td>148.8</td>\n",
       "      <td>141.4</td>\n",
       "      <td>156.6</td>\n",
       "      <td>1487</td>\n",
       "      <td>ages (0-4)</td>\n",
       "      <td>1588576</td>\n",
       "      <td>0.000936</td>\n",
       "    </tr>\n",
       "    <tr>\n",
       "      <td>1</td>\n",
       "      <td>Alameda</td>\n",
       "      <td>2014</td>\n",
       "      <td>10.615572</td>\n",
       "      <td>6001</td>\n",
       "      <td>84.5</td>\n",
       "      <td>80.9</td>\n",
       "      <td>88.2</td>\n",
       "      <td>2100</td>\n",
       "      <td>ages (5-17)</td>\n",
       "      <td>1588576</td>\n",
       "      <td>0.001322</td>\n",
       "    </tr>\n",
       "    <tr>\n",
       "      <td>2</td>\n",
       "      <td>Alameda</td>\n",
       "      <td>2014</td>\n",
       "      <td>10.615572</td>\n",
       "      <td>6001</td>\n",
       "      <td>47.7</td>\n",
       "      <td>45.5</td>\n",
       "      <td>50.0</td>\n",
       "      <td>1806</td>\n",
       "      <td>ages (18-34)</td>\n",
       "      <td>1588576</td>\n",
       "      <td>0.001137</td>\n",
       "    </tr>\n",
       "    <tr>\n",
       "      <td>3</td>\n",
       "      <td>Alameda</td>\n",
       "      <td>2014</td>\n",
       "      <td>10.615572</td>\n",
       "      <td>6001</td>\n",
       "      <td>54.5</td>\n",
       "      <td>52.7</td>\n",
       "      <td>56.3</td>\n",
       "      <td>3505</td>\n",
       "      <td>ages (35-64)</td>\n",
       "      <td>1588576</td>\n",
       "      <td>0.002206</td>\n",
       "    </tr>\n",
       "    <tr>\n",
       "      <td>4</td>\n",
       "      <td>Alameda</td>\n",
       "      <td>2014</td>\n",
       "      <td>10.615572</td>\n",
       "      <td>6001</td>\n",
       "      <td>51.4</td>\n",
       "      <td>48.3</td>\n",
       "      <td>54.7</td>\n",
       "      <td>1011</td>\n",
       "      <td>Above 65</td>\n",
       "      <td>1588576</td>\n",
       "      <td>0.000636</td>\n",
       "    </tr>\n",
       "  </tbody>\n",
       "</table>\n",
       "</div>"
      ],
      "text/plain": [
       "    County  Year      Value  CountyCode  Crude rates per 10,000  \\\n",
       "0  Alameda  2014  10.615572        6001                   148.8   \n",
       "1  Alameda  2014  10.615572        6001                    84.5   \n",
       "2  Alameda  2014  10.615572        6001                    47.7   \n",
       "3  Alameda  2014  10.615572        6001                    54.5   \n",
       "4  Alameda  2014  10.615572        6001                    51.4   \n",
       "\n",
       "   Lower 95% Limit  Upper 95% Limit  Patient_count     Age group  Population  \\\n",
       "0            141.4            156.6           1487    ages (0-4)     1588576   \n",
       "1             80.9             88.2           2100   ages (5-17)     1588576   \n",
       "2             45.5             50.0           1806  ages (18-34)     1588576   \n",
       "3             52.7             56.3           3505  ages (35-64)     1588576   \n",
       "4             48.3             54.7           1011      Above 65     1588576   \n",
       "\n",
       "   Patient_ratio  \n",
       "0       0.000936  \n",
       "1       0.001322  \n",
       "2       0.001137  \n",
       "3       0.002206  \n",
       "4       0.000636  "
      ]
     },
     "execution_count": 40,
     "metadata": {},
     "output_type": "execute_result"
    }
   ],
   "source": [
    "#Calculating patient ratio\n",
    "\n",
    "merged['Patient_ratio'] = merged['Patient_count']/merged['Population']\n",
    "merged.head()"
   ]
  },
  {
   "cell_type": "code",
   "execution_count": 41,
   "metadata": {},
   "outputs": [
    {
     "data": {
      "text/html": [
       "<div>\n",
       "<style scoped>\n",
       "    .dataframe tbody tr th:only-of-type {\n",
       "        vertical-align: middle;\n",
       "    }\n",
       "\n",
       "    .dataframe tbody tr th {\n",
       "        vertical-align: top;\n",
       "    }\n",
       "\n",
       "    .dataframe thead th {\n",
       "        text-align: right;\n",
       "    }\n",
       "</style>\n",
       "<table border=\"1\" class=\"dataframe\">\n",
       "  <thead>\n",
       "    <tr style=\"text-align: right;\">\n",
       "      <th></th>\n",
       "      <th>County</th>\n",
       "      <th>Year</th>\n",
       "      <th>Value</th>\n",
       "      <th>CountyCode</th>\n",
       "      <th>Crude rates per 10,000</th>\n",
       "      <th>Lower 95% Limit</th>\n",
       "      <th>Upper 95% Limit</th>\n",
       "      <th>Patient_count</th>\n",
       "      <th>Age group</th>\n",
       "      <th>Population</th>\n",
       "      <th>Patient_ratio</th>\n",
       "      <th>Patient_percent%</th>\n",
       "    </tr>\n",
       "  </thead>\n",
       "  <tbody>\n",
       "    <tr>\n",
       "      <td>0</td>\n",
       "      <td>Alameda</td>\n",
       "      <td>2014</td>\n",
       "      <td>10.615572</td>\n",
       "      <td>6001</td>\n",
       "      <td>148.8</td>\n",
       "      <td>141.4</td>\n",
       "      <td>156.6</td>\n",
       "      <td>1487</td>\n",
       "      <td>ages (0-4)</td>\n",
       "      <td>1588576</td>\n",
       "      <td>0.000936</td>\n",
       "      <td>9.360585</td>\n",
       "    </tr>\n",
       "    <tr>\n",
       "      <td>1</td>\n",
       "      <td>Alameda</td>\n",
       "      <td>2014</td>\n",
       "      <td>10.615572</td>\n",
       "      <td>6001</td>\n",
       "      <td>84.5</td>\n",
       "      <td>80.9</td>\n",
       "      <td>88.2</td>\n",
       "      <td>2100</td>\n",
       "      <td>ages (5-17)</td>\n",
       "      <td>1588576</td>\n",
       "      <td>0.001322</td>\n",
       "      <td>13.219386</td>\n",
       "    </tr>\n",
       "    <tr>\n",
       "      <td>2</td>\n",
       "      <td>Alameda</td>\n",
       "      <td>2014</td>\n",
       "      <td>10.615572</td>\n",
       "      <td>6001</td>\n",
       "      <td>47.7</td>\n",
       "      <td>45.5</td>\n",
       "      <td>50.0</td>\n",
       "      <td>1806</td>\n",
       "      <td>ages (18-34)</td>\n",
       "      <td>1588576</td>\n",
       "      <td>0.001137</td>\n",
       "      <td>11.368672</td>\n",
       "    </tr>\n",
       "    <tr>\n",
       "      <td>3</td>\n",
       "      <td>Alameda</td>\n",
       "      <td>2014</td>\n",
       "      <td>10.615572</td>\n",
       "      <td>6001</td>\n",
       "      <td>54.5</td>\n",
       "      <td>52.7</td>\n",
       "      <td>56.3</td>\n",
       "      <td>3505</td>\n",
       "      <td>ages (35-64)</td>\n",
       "      <td>1588576</td>\n",
       "      <td>0.002206</td>\n",
       "      <td>22.063785</td>\n",
       "    </tr>\n",
       "    <tr>\n",
       "      <td>4</td>\n",
       "      <td>Alameda</td>\n",
       "      <td>2014</td>\n",
       "      <td>10.615572</td>\n",
       "      <td>6001</td>\n",
       "      <td>51.4</td>\n",
       "      <td>48.3</td>\n",
       "      <td>54.7</td>\n",
       "      <td>1011</td>\n",
       "      <td>Above 65</td>\n",
       "      <td>1588576</td>\n",
       "      <td>0.000636</td>\n",
       "      <td>6.364190</td>\n",
       "    </tr>\n",
       "  </tbody>\n",
       "</table>\n",
       "</div>"
      ],
      "text/plain": [
       "    County  Year      Value  CountyCode  Crude rates per 10,000  \\\n",
       "0  Alameda  2014  10.615572        6001                   148.8   \n",
       "1  Alameda  2014  10.615572        6001                    84.5   \n",
       "2  Alameda  2014  10.615572        6001                    47.7   \n",
       "3  Alameda  2014  10.615572        6001                    54.5   \n",
       "4  Alameda  2014  10.615572        6001                    51.4   \n",
       "\n",
       "   Lower 95% Limit  Upper 95% Limit  Patient_count     Age group  Population  \\\n",
       "0            141.4            156.6           1487    ages (0-4)     1588576   \n",
       "1             80.9             88.2           2100   ages (5-17)     1588576   \n",
       "2             45.5             50.0           1806  ages (18-34)     1588576   \n",
       "3             52.7             56.3           3505  ages (35-64)     1588576   \n",
       "4             48.3             54.7           1011      Above 65     1588576   \n",
       "\n",
       "   Patient_ratio  Patient_percent%  \n",
       "0       0.000936          9.360585  \n",
       "1       0.001322         13.219386  \n",
       "2       0.001137         11.368672  \n",
       "3       0.002206         22.063785  \n",
       "4       0.000636          6.364190  "
      ]
     },
     "execution_count": 41,
     "metadata": {},
     "output_type": "execute_result"
    }
   ],
   "source": [
    "#Calculating patient percentage\n",
    "\n",
    "merged['Patient_percent%'] = merged['Patient_ratio']* 10000\n",
    "merged.head()"
   ]
  },
  {
   "cell_type": "code",
   "execution_count": 42,
   "metadata": {},
   "outputs": [],
   "source": [
    "merged.dtypes\n",
    "merged['AgeGroupCat']= merged['Age group'].cat.codes"
   ]
  },
  {
   "cell_type": "code",
   "execution_count": 43,
   "metadata": {},
   "outputs": [
    {
     "data": {
      "text/html": [
       "<div>\n",
       "<style scoped>\n",
       "    .dataframe tbody tr th:only-of-type {\n",
       "        vertical-align: middle;\n",
       "    }\n",
       "\n",
       "    .dataframe tbody tr th {\n",
       "        vertical-align: top;\n",
       "    }\n",
       "\n",
       "    .dataframe thead th {\n",
       "        text-align: right;\n",
       "    }\n",
       "</style>\n",
       "<table border=\"1\" class=\"dataframe\">\n",
       "  <thead>\n",
       "    <tr style=\"text-align: right;\">\n",
       "      <th></th>\n",
       "      <th>County</th>\n",
       "      <th>Year</th>\n",
       "      <th>Value</th>\n",
       "      <th>CountyCode</th>\n",
       "      <th>Crude rates per 10,000</th>\n",
       "      <th>Lower 95% Limit</th>\n",
       "      <th>Upper 95% Limit</th>\n",
       "      <th>Patient_count</th>\n",
       "      <th>Age group</th>\n",
       "      <th>Population</th>\n",
       "      <th>Patient_ratio</th>\n",
       "      <th>Patient_percent%</th>\n",
       "      <th>AgeGroupCat</th>\n",
       "    </tr>\n",
       "  </thead>\n",
       "  <tbody>\n",
       "    <tr>\n",
       "      <td>0</td>\n",
       "      <td>Alameda</td>\n",
       "      <td>2014</td>\n",
       "      <td>10.615572</td>\n",
       "      <td>6001</td>\n",
       "      <td>148.8</td>\n",
       "      <td>141.4</td>\n",
       "      <td>156.6</td>\n",
       "      <td>1487</td>\n",
       "      <td>ages (0-4)</td>\n",
       "      <td>1588576</td>\n",
       "      <td>0.000936</td>\n",
       "      <td>9.360585</td>\n",
       "      <td>1</td>\n",
       "    </tr>\n",
       "    <tr>\n",
       "      <td>1</td>\n",
       "      <td>Alameda</td>\n",
       "      <td>2014</td>\n",
       "      <td>10.615572</td>\n",
       "      <td>6001</td>\n",
       "      <td>84.5</td>\n",
       "      <td>80.9</td>\n",
       "      <td>88.2</td>\n",
       "      <td>2100</td>\n",
       "      <td>ages (5-17)</td>\n",
       "      <td>1588576</td>\n",
       "      <td>0.001322</td>\n",
       "      <td>13.219386</td>\n",
       "      <td>4</td>\n",
       "    </tr>\n",
       "    <tr>\n",
       "      <td>2</td>\n",
       "      <td>Alameda</td>\n",
       "      <td>2014</td>\n",
       "      <td>10.615572</td>\n",
       "      <td>6001</td>\n",
       "      <td>47.7</td>\n",
       "      <td>45.5</td>\n",
       "      <td>50.0</td>\n",
       "      <td>1806</td>\n",
       "      <td>ages (18-34)</td>\n",
       "      <td>1588576</td>\n",
       "      <td>0.001137</td>\n",
       "      <td>11.368672</td>\n",
       "      <td>2</td>\n",
       "    </tr>\n",
       "    <tr>\n",
       "      <td>3</td>\n",
       "      <td>Alameda</td>\n",
       "      <td>2014</td>\n",
       "      <td>10.615572</td>\n",
       "      <td>6001</td>\n",
       "      <td>54.5</td>\n",
       "      <td>52.7</td>\n",
       "      <td>56.3</td>\n",
       "      <td>3505</td>\n",
       "      <td>ages (35-64)</td>\n",
       "      <td>1588576</td>\n",
       "      <td>0.002206</td>\n",
       "      <td>22.063785</td>\n",
       "      <td>3</td>\n",
       "    </tr>\n",
       "    <tr>\n",
       "      <td>4</td>\n",
       "      <td>Alameda</td>\n",
       "      <td>2014</td>\n",
       "      <td>10.615572</td>\n",
       "      <td>6001</td>\n",
       "      <td>51.4</td>\n",
       "      <td>48.3</td>\n",
       "      <td>54.7</td>\n",
       "      <td>1011</td>\n",
       "      <td>Above 65</td>\n",
       "      <td>1588576</td>\n",
       "      <td>0.000636</td>\n",
       "      <td>6.364190</td>\n",
       "      <td>0</td>\n",
       "    </tr>\n",
       "  </tbody>\n",
       "</table>\n",
       "</div>"
      ],
      "text/plain": [
       "    County  Year      Value  CountyCode  Crude rates per 10,000  \\\n",
       "0  Alameda  2014  10.615572        6001                   148.8   \n",
       "1  Alameda  2014  10.615572        6001                    84.5   \n",
       "2  Alameda  2014  10.615572        6001                    47.7   \n",
       "3  Alameda  2014  10.615572        6001                    54.5   \n",
       "4  Alameda  2014  10.615572        6001                    51.4   \n",
       "\n",
       "   Lower 95% Limit  Upper 95% Limit  Patient_count     Age group  Population  \\\n",
       "0            141.4            156.6           1487    ages (0-4)     1588576   \n",
       "1             80.9             88.2           2100   ages (5-17)     1588576   \n",
       "2             45.5             50.0           1806  ages (18-34)     1588576   \n",
       "3             52.7             56.3           3505  ages (35-64)     1588576   \n",
       "4             48.3             54.7           1011      Above 65     1588576   \n",
       "\n",
       "   Patient_ratio  Patient_percent%  AgeGroupCat  \n",
       "0       0.000936          9.360585            1  \n",
       "1       0.001322         13.219386            4  \n",
       "2       0.001137         11.368672            2  \n",
       "3       0.002206         22.063785            3  \n",
       "4       0.000636          6.364190            0  "
      ]
     },
     "execution_count": 43,
     "metadata": {},
     "output_type": "execute_result"
    }
   ],
   "source": [
    "merged.head()"
   ]
  },
  {
   "cell_type": "code",
   "execution_count": 44,
   "metadata": {},
   "outputs": [
    {
     "data": {
      "image/png": "[encoded data removed]",
      "text/plain": [
       "<Figure size 1152x720 with 2 Axes>"
      ]
     },
     "metadata": {
      "needs_background": "light"
     },
     "output_type": "display_data"
    }
   ],
   "source": [
    "#again measuring the correlation - without applying county filter\n",
    "\n",
    "corr = merged.corr()\n",
    "g = sns.heatmap(corr, vmax=.9, center=0,\n",
    "               square=True, linewidths=.9, cbar_kws={\"shrink\": .8}, annot=True, fmt='.2f', cmap='coolwarm')\n",
    "bottom, top = g.get_ylim()\n",
    "g.set_ylim(bottom + 0.5, top - 0.5)\n",
    "sns.despine()\n",
    "g.figure.set_size_inches(16, 10)"
   ]
  },
  {
   "cell_type": "code",
   "execution_count": 45,
   "metadata": {},
   "outputs": [
    {
     "data": {
      "text/plain": [
       "<matplotlib.axes._subplots.AxesSubplot at 0x1a2c1f4e10>"
      ]
     },
     "execution_count": 45,
     "metadata": {},
     "output_type": "execute_result"
    },
    {
     "data": {
      "image/png": "[encoded data removed]",
      "text/plain": [
       "<Figure size 432x288 with 1 Axes>"
      ]
     },
     "metadata": {
      "needs_background": "light"
     },
     "output_type": "display_data"
    }
   ],
   "source": [
    "#plotting AQ index value vs. patient ratio\n",
    "merged[['Value','Patient_percent%']].plot()"
   ]
  },
  {
   "cell_type": "code",
   "execution_count": null,
   "metadata": {},
   "outputs": [],
   "source": [
    "merged[['Value','Crude rates per 10,000']].plot()"
   ]
  },
  {
   "cell_type": "code",
   "execution_count": null,
   "metadata": {},
   "outputs": [],
   "source": [
    "len(merged['County'].unique())"
   ]
  },
  {
   "cell_type": "code",
   "execution_count": null,
   "metadata": {},
   "outputs": [],
   "source": [
    "merged_filter_for_plot = merged[(merged['County'].isin(['Santa Clara']))]\n",
    "merged_filter_for_plot"
   ]
  },
  {
   "cell_type": "code",
   "execution_count": null,
   "metadata": {},
   "outputs": [],
   "source": [
    "#plotting AQ index value vs. patient ratio\n",
    "merged_filter_for_plot[['Value','Patient_percent%']].plot()"
   ]
  },
  {
   "cell_type": "code",
   "execution_count": null,
   "metadata": {},
   "outputs": [],
   "source": [
    "merged_filter_for_plot[['Value','Crude rates per 10,000']].plot()"
   ]
  },
  {
   "cell_type": "code",
   "execution_count": null,
   "metadata": {},
   "outputs": [],
   "source": [
    "merged_filter_for_plot"
   ]
  },
  {
   "cell_type": "code",
   "execution_count": null,
   "metadata": {},
   "outputs": [],
   "source": [
    "plt.figure()\n",
    "\n",
    "x = merged_filter_for_plot['Crude rates per 10,000']\n",
    "y = merged_filter_for_plot['Value']\n",
    "\n",
    "\n",
    "plt.plot(x,y)\n"
   ]
  },
  {
   "cell_type": "code",
   "execution_count": null,
   "metadata": {},
   "outputs": [],
   "source": [
    "plt.figure()\n",
    "\n",
    "x = merged_filter_for_plot['Year']\n",
    "y = merged_filter_for_plot['Patient_percent%']\n",
    "\n",
    "plt.plot(x,y)"
   ]
  },
  {
   "cell_type": "code",
   "execution_count": null,
   "metadata": {},
   "outputs": [],
   "source": [
    "plt.figure()\n",
    "\n",
    "x = merged_filter_for_plot['Value']\n",
    "y = merged_filter_for_plot['Year']\n",
    "\n",
    "plt.plot(y,x)"
   ]
  },
  {
   "cell_type": "code",
   "execution_count": null,
   "metadata": {},
   "outputs": [],
   "source": [
    "plt.figure()\n",
    "\n",
    "x = merged_filter_for_plot['Year']\n",
    "y1 = merged_filter_for_plot['Patient_ratio'] * 10000\n",
    "y2 = merged_filter_for_plot['Value']\n",
    "\n",
    "plt.plot(x,y1)\n",
    "plt.plot(x,y2)"
   ]
  },
  {
   "cell_type": "code",
   "execution_count": null,
   "metadata": {},
   "outputs": [],
   "source": [
    "min(merged['Value'])"
   ]
  },
  {
   "cell_type": "code",
   "execution_count": null,
   "metadata": {},
   "outputs": [],
   "source": [
    "fig = plt.figure()\n",
    "ax = fig.add_subplot(111)\n",
    "\n",
    "x = merged['County']\n",
    "y1 = merged['Crude rates per 10,000'] / 10\n",
    "y2 = merged['Value']\n",
    "y3 = merged['Age group']\n",
    "#plt.axes([6000,6200,10,10])\n",
    "\n",
    "r_colors = (1,0,0)\n",
    "g_colors = (0,1,0)\n",
    "colors = (1,0,0)\n",
    "\n",
    "\n",
    "plt.scatter(x, y1,  c=r_colors, alpha=0.5)\n",
    "plt.scatter(x, y2,  c=g_colors, alpha=0.5)\n",
    "\n",
    "\n",
    "plt.axis([-1,10,0,30])\n",
    "plt.xticks(rotation=90)\n",
    "# ax.plot(x,y1)\n",
    "# ax.plot(x,y2)\n",
    "ax.set_aspect(aspect=0.2)"
   ]
  },
  {
   "cell_type": "code",
   "execution_count": null,
   "metadata": {},
   "outputs": [],
   "source": [
    "fig = plt.figure()\n",
    "ax = fig.add_subplot(111)\n",
    "\n",
    "x = merged['County']\n",
    "y1 = merged['Crude rates per 10,000'] / 10\n",
    "y2 = merged['Value']\n",
    "y3 = merged['Age group']\n",
    "#plt.axes([6000,6200,10,10])\n",
    "\n",
    "r_colors = (1,0,0)\n",
    "g_colors = (0,1,0)\n",
    "b_colors = (0,0,1)\n",
    "colors = (1,0,0)\n",
    "\n",
    "\n",
    "plt.scatter(x, y1,  c=r_colors, alpha=0.5)\n",
    "plt.scatter(x, y2,  c=g_colors, alpha=0.5)\n",
    "#plt.scatter(x,y3, c=b_colors, alpha=0.5)\n",
    "\n",
    "plt.axis([0,10,0,30])\n",
    "plt.xticks(rotation=90)\n",
    "# ax.plot(x,y1)\n",
    "# ax.plot(x,y2)\n",
    "ax.set_aspect(aspect=0.2)"
   ]
  },
  {
   "cell_type": "code",
   "execution_count": null,
   "metadata": {},
   "outputs": [],
   "source": [
    "plt.figure(figsize=[10,8])\n",
    "x = 0.3*np.random.randn(1000)\n",
    "y = 0.3*np.random.randn(1000)\n",
    "\n",
    "x = merged['County']\n",
    "y1 = merged['Crude rates per 10,000'] / 10\n",
    "y2 = merged['Value']\n",
    "y3 = merged['AgeGroupCat']\n",
    "\n",
    "plt.xticks(rotation=90)\n",
    "n, bins, patches = plt.hist([y2,y1], bins = 'auto')\n",
    "plt.xlabel('County')\n",
    "#plt.hist(y2, bins, histtype='step', label=['second again'])\n",
    "\n"
   ]
  },
  {
   "cell_type": "code",
   "execution_count": null,
   "metadata": {},
   "outputs": [],
   "source": [
    "means = 10, 20\n",
    "stdevs = 4,2\n",
    "dist = pd.DataFrame(np.random.normal(loc=means, scale=stdevs, size=(1000, 2)),columns=['Value','Crude rates per 10,000'])\n",
    "dist.agg(['min', 'max', 'mean', 'std']).round(decimals=2)"
   ]
  },
  {
   "cell_type": "code",
   "execution_count": null,
   "metadata": {},
   "outputs": [],
   "source": [
    "fig, ax = plt.subplots()\n",
    "\n",
    "dist.plot.kde(ax=ax, legend=False, title='Histogram: A vs. B')\n",
    "dist.plot.hist(density=True, ax=ax)\n",
    "ax.set_ylabel('Probability')\n",
    "ax.grid(axis='y')\n",
    "ax.set_facecolor('#d8dcd6')"
   ]
  },
  {
   "cell_type": "code",
   "execution_count": null,
   "metadata": {},
   "outputs": [],
   "source": [
    "merged.head()"
   ]
  },
  {
   "cell_type": "code",
   "execution_count": null,
   "metadata": {},
   "outputs": [],
   "source": [
    "import plotly.figure_factory as ff\n",
    "\n",
    "colorscale = [\n",
    "    'rgb(193, 193, 193)',\n",
    "    'rgb(239,239,239)',\n",
    "    'rgb(195, 196, 222)',\n",
    "    'rgb(144,148,194)',\n",
    "    'rgb(101,104,168)',\n",
    "    'rgb(65, 53, 132)'\n",
    "]\n",
    "\n",
    "fig = ff.create_choropleth(\n",
    "    fips=merged['County'], values=merged['Crude rates per 10,000'], scope=['CA', 'AZ', 'Nevada', 'Oregon', ' Idaho'],\n",
    "    binning_endpoints=[14348, 63983, 134827, 426762, 2081313], colorscale=colorscale,\n",
    "    county_outline={'color': 'rgb(255,255,255)', 'width': 0.5}, round_legend_values=True,\n",
    "    legend_title='Population by County', title='California and Nearby States'\n",
    ")\n",
    "fig.layout.template = None\n",
    "fig.show()"
   ]
  },
  {
   "cell_type": "code",
   "execution_count": null,
   "metadata": {},
   "outputs": [],
   "source": [
    "! conda install -c plotly plotly-geo geopandas -y"
   ]
  },
  {
   "cell_type": "code",
   "execution_count": null,
   "metadata": {},
   "outputs": [],
   "source": [
    "! conda install pyshp -y"
   ]
  },
  {
   "cell_type": "code",
   "execution_count": null,
   "metadata": {},
   "outputs": [],
   "source": [
    "!pip install geopandas==0.3.0\n",
    "!pip install pyshp==1.2.10\n",
    "!pip install shapely==1.6.3"
   ]
  },
  {
   "cell_type": "code",
   "execution_count": null,
   "metadata": {},
   "outputs": [],
   "source": [
    "y1.shape"
   ]
  },
  {
   "cell_type": "code",
   "execution_count": null,
   "metadata": {},
   "outputs": [],
   "source": [
    "#merged.groupby('County')\n",
    "\n",
    "airQ_data_min = merged.groupby(['County', 'Age group', 'Year'], as_index=False)['Crude rates per 10,000'].max()\n",
    "airQ_data_min.head()"
   ]
  },
  {
   "cell_type": "code",
   "execution_count": null,
   "metadata": {},
   "outputs": [],
   "source": [
    "merged[merged['County'] == 'Alameda']"
   ]
  },
  {
   "cell_type": "code",
   "execution_count": null,
   "metadata": {},
   "outputs": [],
   "source": [
    "sns.distplot(merged_filter_for_plot['Patient_ratio'])\n",
    "plt.show()"
   ]
  },
  {
   "cell_type": "code",
   "execution_count": null,
   "metadata": {},
   "outputs": [],
   "source": [
    "sns.distplot(merged_filter_for_plot['Patient_ratio']* 10000)\n",
    "plt.show()"
   ]
  },
  {
   "cell_type": "code",
   "execution_count": null,
   "metadata": {},
   "outputs": [],
   "source": [
    "sns.distplot(merged_filter_for_plot['Value'])\n",
    "plt.show()"
   ]
  },
  {
   "cell_type": "code",
   "execution_count": null,
   "metadata": {},
   "outputs": [],
   "source": [
    "# Method 1: on the same Axis\n",
    "sns.distplot( (merged_filter_for_plot[\"Patient_percent%\"]) , color=\"blue\", label=\"Patient_ratio\")\n",
    "sns.distplot( merged_filter_for_plot[\"Value\"] , color=\"red\", label=\"Value\")\n",
    "plt.legend()\n",
    " \n",
    "plt.show()\n"
   ]
  },
  {
   "cell_type": "code",
   "execution_count": null,
   "metadata": {},
   "outputs": [],
   "source": [
    "merged_filter_for_plot.Value = merged_filter_for_plot.Value.astype(float)\n",
    "merged_filter_for_plot"
   ]
  },
  {
   "cell_type": "code",
   "execution_count": null,
   "metadata": {},
   "outputs": [],
   "source": [
    "merged"
   ]
  },
  {
   "cell_type": "code",
   "execution_count": null,
   "metadata": {},
   "outputs": [],
   "source": [
    "# Prep Training and Test data.\n",
    "trainData, testData = train_test_split(merged, train_size=0.7, random_state=100)"
   ]
  },
  {
   "cell_type": "code",
   "execution_count": null,
   "metadata": {},
   "outputs": [],
   "source": [
    "#X and Y(target) for linear regression\n",
    "Y_trainData = trainData[['Crude rates per 10,000']]\n",
    "X_trainData= trainData.drop('Crude rates per 10,000', axis =1 )\n",
    "\n",
    "Y_testData = testData[['Crude rates per 10,000']]\n",
    "X_testData= testData.drop('Crude rates per 10,000', axis =1 )\n",
    "X_trainData = X_trainData.drop('County', axis=1)"
   ]
  },
  {
   "cell_type": "code",
   "execution_count": null,
   "metadata": {},
   "outputs": [],
   "source": [
    "\n",
    "X_testData = X_testData.drop('County', axis=1)\n",
    "X_testData"
   ]
  },
  {
   "cell_type": "code",
   "execution_count": null,
   "metadata": {},
   "outputs": [],
   "source": [
    "# Creating linear regression model.\n",
    "model1= LinearRegression()"
   ]
  },
  {
   "cell_type": "code",
   "execution_count": null,
   "metadata": {},
   "outputs": [],
   "source": [
    "model1.fit(X_trainData,Y_trainData)\n",
    "predictions = model1.predict(X_testData)"
   ]
  },
  {
   "cell_type": "code",
   "execution_count": null,
   "metadata": {},
   "outputs": [],
   "source": [
    "# Get the slope and intercept of the line best fit.\n",
    "print(model1.intercept_)\n",
    "\n",
    "\n",
    "print(model1.coef_)"
   ]
  },
  {
   "cell_type": "code",
   "execution_count": null,
   "metadata": {},
   "outputs": [],
   "source": [
    "# print the R-squared value for the model\n",
    "model1.score(X_trainData, Y_trainData)"
   ]
  },
  {
   "cell_type": "code",
   "execution_count": null,
   "metadata": {},
   "outputs": [],
   "source": [
    "# print the R-squared value for the model\n",
    "print(model1.score(X_testData,Y_testData)  )"
   ]
  },
  {
   "cell_type": "code",
   "execution_count": null,
   "metadata": {},
   "outputs": [],
   "source": [
    "#X and Y(target) for logistic regression \n",
    "X_trainData = trainData[['Value','CountyCode']]\n",
    "Y_trainData= trainData.Patient_ratio\n",
    "X_testData= testData[['Value','CountyCode']]\n",
    "Y_testData= testData.Patient_ratio"
   ]
  },
  {
   "cell_type": "code",
   "execution_count": null,
   "metadata": {},
   "outputs": [],
   "source": [
    "Y_trainData = trainData[['Crude rates per 10,000']]\n",
    "X_trainData= trainData.drop('Crude rates per 10,000', axis =1 )\n",
    "\n",
    "Y_testData = testData[['Crude rates per 10,000']]\n",
    "X_testData= testData.drop('Crude rates per 10,000', axis =1 )\n",
    "X_trainData = X_trainData.drop('County', axis=1)\n",
    "X_testData = X_testData.drop('County', axis=1)\n",
    "\n"
   ]
  },
  {
   "cell_type": "code",
   "execution_count": null,
   "metadata": {},
   "outputs": [],
   "source": [
    "X_testData"
   ]
  },
  {
   "cell_type": "code",
   "execution_count": null,
   "metadata": {},
   "outputs": [],
   "source": [
    "# Creating Logistic regression model.\n",
    "model2= LogisticRegression()"
   ]
  },
  {
   "cell_type": "code",
   "execution_count": null,
   "metadata": {},
   "outputs": [],
   "source": [
    "model2.fit(X_trainData,Y_trainData)\n",
    "predictions = model2.predict(X_testData)"
   ]
  },
  {
   "cell_type": "code",
   "execution_count": null,
   "metadata": {},
   "outputs": [],
   "source": [
    "X_train, X_test, y_train, y_test = train_test_split(\n",
    "    merged.drop(labels=['Crude rates per 10,000', 'County'], axis=1),\n",
    "    merged['Crude rates per 10,000'],\n",
    "    test_size=0.3,\n",
    "    random_state=0)\n",
    "X_train.shape, X_test.shape"
   ]
  },
  {
   "cell_type": "code",
   "execution_count": null,
   "metadata": {},
   "outputs": [],
   "source": [
    "from sklearn import linear_model\n",
    "\n",
    "clf = linear_model.LinearRegression()\n",
    "clf.fit(X_train, y_train)\n",
    "predictions = clf.predict(X_test)\n",
    "\n",
    "\n"
   ]
  },
  {
   "cell_type": "code",
   "execution_count": null,
   "metadata": {},
   "outputs": [],
   "source": [
    "print(clf.intercept_)\n",
    "\n",
    "\n",
    "print(clf.coef_)"
   ]
  },
  {
   "cell_type": "code",
   "execution_count": null,
   "metadata": {},
   "outputs": [],
   "source": [
    "np.round(clf.coef_, decimals=2) > 0"
   ]
  },
  {
   "cell_type": "code",
   "execution_count": null,
   "metadata": {},
   "outputs": [],
   "source": [
    "from sklearn.feature_selection import RFE\n",
    "selector = RFE(clf, n_features_to_select=1)\n",
    "selector = selector.fit(X_train, y_train)"
   ]
  },
  {
   "cell_type": "code",
   "execution_count": null,
   "metadata": {},
   "outputs": [],
   "source": [
    "order = selector.ranking_\n",
    "order"
   ]
  },
  {
   "cell_type": "code",
   "execution_count": null,
   "metadata": {},
   "outputs": [],
   "source": [
    "feature_ranks = []\n",
    "\n",
    "for i in order:\n",
    "    feature_ranks.append(f\"{i}.{merged.columns[i]}\")\n",
    "\n",
    "feature_ranks    "
   ]
  },
  {
   "cell_type": "markdown",
   "metadata": {},
   "source": [
    "## Below code is reference from \n",
    "\n",
    "https://github.com/kidaufo/StatisticalModeling/blob/master/GLM.ipynb\n",
    "https://towardsdatascience.com/generalized-linear-models-9cbf848bb8ab"
   ]
  },
  {
   "cell_type": "code",
   "execution_count": null,
   "metadata": {},
   "outputs": [],
   "source": [
    "X_train.head()"
   ]
  },
  {
   "cell_type": "code",
   "execution_count": null,
   "metadata": {},
   "outputs": [],
   "source": [
    "x_train_filtered = X_train[X_train['Year'] == 2016]\n",
    "#x_train_filtered['CountyCode']\n",
    "x_train_filtered"
   ]
  },
  {
   "cell_type": "code",
   "execution_count": null,
   "metadata": {},
   "outputs": [],
   "source": [
    "# Poisson regression code\n",
    "\n",
    "import statsmodels.api as sm\n",
    "np.random.seed(5)\n",
    "n_sample = 100\n",
    "a = 0.6\n",
    "b = -0.4\n",
    "\n",
    "#x = uniform(1, 5, size=n_sample)\n",
    "mu = np.exp(a * x + b)\n",
    "#y = poisson(mu)\n",
    "\n",
    "\n",
    "filtered = merged[merged['Year'] == 2016].reset_index() \n",
    "\n",
    "x = filtered['CountyCode']\n",
    "y = filtered['Value']\n",
    "\n",
    "\n",
    "exog, endog = sm.add_constant(x), y\n",
    "\n",
    "# Poisson regression\n",
    "mod = sm.GLM(endog, exog, family=sm.families.Poisson(link=sm.families.links.log()))\n",
    "res = mod.fit()\n",
    "display(res.summary())\n"
   ]
  },
  {
   "cell_type": "code",
   "execution_count": null,
   "metadata": {},
   "outputs": [],
   "source": [
    "filtered.head()"
   ]
  },
  {
   "cell_type": "code",
   "execution_count": null,
   "metadata": {},
   "outputs": [],
   "source": [
    "\n",
    "y_pred = res.predict(exog)\n",
    "\n",
    "y_pred.head()\n"
   ]
  },
  {
   "cell_type": "code",
   "execution_count": null,
   "metadata": {},
   "outputs": [],
   "source": [
    "idx = np.array(x).argsort()\n",
    "x_ord, y_pred_ord = np.array(x[idx]), y_pred[idx]\n",
    "\n"
   ]
  },
  {
   "cell_type": "code",
   "execution_count": null,
   "metadata": {},
   "outputs": [],
   "source": [
    "plt.plot(x_ord, y_pred_ord, color='m')\n",
    "plt.scatter(x, y,  s=20, alpha=0.8)\n",
    "plt.xlabel(\"X\")\n",
    "plt.ylabel(\"Y\")\n",
    "\n"
   ]
  },
  {
   "cell_type": "code",
   "execution_count": null,
   "metadata": {},
   "outputs": [],
   "source": [
    "# Normal distribution + log link function\n",
    "from numpy.random import uniform, normal, poisson, binomial\n",
    "\n",
    "\n",
    "np.random.seed(5)\n",
    "n_sample = 100\n",
    "a = 0.6\n",
    "b = -0.4\n",
    "\n",
    "x = uniform(1, 5, size=n_sample)\n",
    "mu = np.exp(a * x + b)\n",
    "y = poisson(mu)\n",
    "exog, endog = sm.add_constant(x), y\n",
    "\n",
    "\n",
    "norm_mod = sm.GLM(endog, exog, family=sm.families.Gaussian(sm.families.links.log()))\n",
    "res = norm_mod.fit()\n",
    "display(res.summary())\n",
    "\n",
    "y_pred = res.predict(exog)\n",
    "\n",
    "idx = x.argsort()\n",
    "x_ord, y_pred_ord = x[idx], y_pred[idx]\n",
    "\n",
    "plt.plot(x_ord, y_pred_ord, color='m')\n",
    "plt.scatter(x, y,  s=20, alpha=0.8)\n",
    "plt.xlabel(\"X\")\n",
    "plt.ylabel(\"Y\")"
   ]
  },
  {
   "cell_type": "code",
   "execution_count": null,
   "metadata": {},
   "outputs": [],
   "source": [
    "def logistic(x):\n",
    "    return 1 / (1 + np.exp(-x))\n",
    "\n",
    "\n",
    "xx = np.linspace(-8, 8)\n",
    "plt.plot(xx, logistic(xx))"
   ]
  },
  {
   "cell_type": "code",
   "execution_count": null,
   "metadata": {},
   "outputs": [],
   "source": [
    "#logistic regression\n",
    "\n",
    "\n",
    "np.random.seed(5)\n",
    "n_sample = 100\n",
    "a = 3.0\n",
    "b = -9.0\n",
    "\n",
    "x = uniform(1, 5, size=n_sample)\n",
    "x = np.sort(x)\n",
    "\n",
    "q = logistic(a * x + b)\n",
    "y = binomial(n=1, p=q)\n",
    "\n",
    "exog, endog = sm.add_constant(X_train), y_train\n",
    "\n",
    "# Logistic regression\n",
    "mod = sm.GLM(endog, exog, family=sm.families.Binomial(link=sm.families.links.logit()))\n",
    "res = mod.fit()\n",
    "display(res.summary())\n",
    "\n",
    "y_pred = res.predict(exog)\n",
    "\n",
    "idx = x.argsort()\n",
    "x_ord, y_pred_ord = x[idx], y_pred[idx]\n",
    "plt.plot(x_ord, y_pred_ord, color='m')\n",
    "plt.scatter(x, y,  s=20, alpha=0.8)\n",
    "plt.xlabel(\"X\")\n",
    "plt.ylabel(\"Y\")\n",
    "# plt.savefig('logistic_regression.png')"
   ]
  },
  {
   "cell_type": "code",
   "execution_count": null,
   "metadata": {},
   "outputs": [],
   "source": [
    "np.random.seed(5)\n",
    "n_sample = 100\n",
    "a = 0.6\n",
    "b = -0.4\n",
    "sd = 0.8\n",
    "\n",
    "x = uniform(1, 5, size=n_sample)\n",
    "mu = np.exp(a * x + b)\n",
    "y = normal(mu, sd)"
   ]
  },
  {
   "cell_type": "code",
   "execution_count": null,
   "metadata": {},
   "outputs": [],
   "source": [
    "plt.scatter(x, y,  s=20, alpha=0.8)\n",
    "plt.xlabel(\"X\")\n",
    "plt.ylabel(\"Y\")\n",
    "# plt.savefig('custom_GLM_data.png')"
   ]
  },
  {
   "cell_type": "code",
   "execution_count": null,
   "metadata": {},
   "outputs": [],
   "source": [
    "exog = sm.add_constant(x)\n",
    "endog = y\n",
    "\n",
    "# Normal distribution + log link function\n",
    "mod = sm.GLM(endog, exog, family=sm.families.Gaussian(sm.families.links.log()))\n",
    "res = mod.fit()\n",
    "display(res.summary())\n",
    "\n",
    "y_pred = res.predict(exog)\n",
    "\n",
    "idx = x.argsort()\n",
    "x_ord, y_pred_ord = x[idx], y_pred[idx]\n",
    "\n",
    "plt.plot(x_ord, y_pred_ord, color='m')\n",
    "plt.scatter(x, y,  s=20, alpha=0.8)\n",
    "plt.xlabel(\"X\")\n",
    "plt.ylabel(\"Y\")"
   ]
  },
  {
   "cell_type": "code",
   "execution_count": null,
   "metadata": {},
   "outputs": [],
   "source": [
    "\n",
    "merged2_filtered2 = merged[merged['County'] == 'Santa Clara']\n",
    "\n",
    "\n",
    "\n",
    "merged2_filtered2"
   ]
  },
  {
   "cell_type": "code",
   "execution_count": null,
   "metadata": {},
   "outputs": [],
   "source": [
    "endog = np.asarray(merged2_filtered2['Crude rates per 10,000'])\n",
    "exog = sm.add_constant(np.asarray(merged2_filtered2['Value']))\n",
    "\n",
    "# Normal distribution + log link function\n",
    "mod = sm.GLM(endog, exog, family=sm.families.Gaussian(sm.families.links.log()))\n",
    "res = mod.fit()\n",
    "display(res.summary())"
   ]
  },
  {
   "cell_type": "code",
   "execution_count": null,
   "metadata": {},
   "outputs": [],
   "source": [
    "#n12 = np.squeeze(np.asarray(X_test))\n",
    "\n",
    "\n",
    "y_pred = res.predict(exog)\n",
    "\n"
   ]
  },
  {
   "cell_type": "code",
   "execution_count": null,
   "metadata": {},
   "outputs": [],
   "source": [
    "X_train['Value']"
   ]
  },
  {
   "cell_type": "code",
   "execution_count": null,
   "metadata": {},
   "outputs": [],
   "source": [
    "idx = x.argsort()\n",
    "x_ord, y_pred_ord = x[idx], y_pred[idx]\n",
    "\n",
    "plt.plot(x_ord, y_pred_ord, color='m')\n",
    "plt.scatter(x, y,  s=20, alpha=0.8)\n",
    "plt.xlabel(\"X\")\n",
    "plt.ylabel(\"Y\")"
   ]
  },
  {
   "cell_type": "code",
   "execution_count": null,
   "metadata": {},
   "outputs": [],
   "source": [
    "idx"
   ]
  },
  {
   "cell_type": "code",
   "execution_count": null,
   "metadata": {},
   "outputs": [],
   "source": [
    "merged2_filtered"
   ]
  },
  {
   "cell_type": "code",
   "execution_count": null,
   "metadata": {},
   "outputs": [],
   "source": [
    "# Air quality Vs County - Poisson regression code \n",
    "\n",
    "import statsmodels.api as sm\n",
    "np.random.seed(5)\n",
    "n_sample = 100\n",
    "a = 0.5\n",
    "b = -0.5\n",
    "\n",
    "#x1 = np.array(filtered['CountyCode']).astype(np.int64)\n",
    "\n",
    "x = np.array(merged['Value'])\n",
    "\n",
    "#x = uniform(1, 5, size=n_sample)\n",
    "mu = np.exp(a * x + b)\n",
    "#y_possion = poisson(mu)\n",
    "\n",
    "\n",
    "filtered = merged[merged['Year'] == 2016].reset_index() \n",
    "\n",
    "\n",
    "#y1 = filtered['Value']\n",
    "y = merged['Crude rates per 10,000']\n",
    "sd = 0.8\n",
    "#y_norm = normal(mu, sd)\n",
    "\n",
    "\n",
    "a = 3.0\n",
    "b = -9.0\n",
    "\n",
    "x = np.sort(x)\n",
    "\n",
    "q = logistic(a * x + b)\n",
    "#y_log = binomial(n=1, p=q)\n",
    "\n",
    "\n",
    "exog, endog = sm.add_constant(x), y\n",
    "\n",
    "# Poisson regression\n",
    "poisson_mod = sm.GLM(endog, exog, family=sm.families.Poisson(link=sm.families.links.log()))\n",
    "poisson_res = poisson_mod.fit()\n",
    "display(poisson_res.summary())\n",
    "\n",
    "exog, endog = sm.add_constant(x), y\n",
    "\n",
    "\n",
    "# Normal distribution + log link function\n",
    "norm_mod = sm.GLM(endog, exog, family=sm.families.Gaussian(sm.families.links.log()))\n",
    "norm_res = norm_mod.fit()\n",
    "display(norm_res.summary())\n",
    "\n",
    "exog, endog = sm.add_constant(x), y\n",
    "\n",
    "\n",
    "# Logistic regression\n",
    "log_mod = sm.GLM(endog, exog, family=sm.families.Binomial(link=sm.families.links.logit()))\n",
    "log_res = log_mod.fit()\n",
    "display(log_res.summary())\n"
   ]
  },
  {
   "cell_type": "code",
   "execution_count": null,
   "metadata": {},
   "outputs": [],
   "source": [
    "mu"
   ]
  },
  {
   "cell_type": "code",
   "execution_count": null,
   "metadata": {},
   "outputs": [],
   "source": [
    "\n",
    "for model in [poisson_res, norm_res, log_res]:\n",
    "    print('model ')\n",
    "    \n",
    "    y_pred = model.predict(exog)\n",
    "\n",
    "\n",
    "    idx = x.argsort()\n",
    "    x_ord, y_pred_ord = x[idx], y_pred[idx]\n",
    "    plt.figure()\n",
    "\n",
    "\n",
    "    plt.plot(x_ord, y_pred_ord, color='m')\n",
    "    plt.scatter(x, y,  s=20, alpha=0.8)\n",
    "    plt.xlabel(\"X\")\n",
    "    plt.ylabel(\"Y\")"
   ]
  },
  {
   "cell_type": "code",
   "execution_count": 49,
   "metadata": {},
   "outputs": [],
   "source": [
    "merged['Date_Time'] = pd.to_datetime(merged.Year , format = '%Y')\n",
    "merged.index = merged.Date_Time"
   ]
  },
  {
   "cell_type": "code",
   "execution_count": null,
   "metadata": {},
   "outputs": [],
   "source": [
    "from pyramid import arima\n",
    "stepwise_model = auto_arima(data, start_p=1, start_q=1,\n",
    "                           max_p=3, max_q=3, m=12,\n",
    "                           start_P=0, seasonal=True,\n",
    "                           d=1, D=1, trace=True,\n",
    "                           error_action='ignore',  \n",
    "                           suppress_warnings=True, \n",
    "                           stepwise=True)\n",
    "print(stepwise_model.aic())"
   ]
  },
  {
   "cell_type": "code",
   "execution_count": 208,
   "metadata": {},
   "outputs": [
    {
     "data": {
      "text/html": [
       "<div>\n",
       "<style scoped>\n",
       "    .dataframe tbody tr th:only-of-type {\n",
       "        vertical-align: middle;\n",
       "    }\n",
       "\n",
       "    .dataframe tbody tr th {\n",
       "        vertical-align: top;\n",
       "    }\n",
       "\n",
       "    .dataframe thead th {\n",
       "        text-align: right;\n",
       "    }\n",
       "</style>\n",
       "<table border=\"1\" class=\"dataframe\">\n",
       "  <thead>\n",
       "    <tr style=\"text-align: right;\">\n",
       "      <th></th>\n",
       "      <th>County</th>\n",
       "      <th>Year</th>\n",
       "      <th>Value</th>\n",
       "      <th>CountyCode</th>\n",
       "      <th>Crude rates per 10,000</th>\n",
       "      <th>Lower 95% Limit</th>\n",
       "      <th>Upper 95% Limit</th>\n",
       "      <th>Patient_count</th>\n",
       "    </tr>\n",
       "  </thead>\n",
       "  <tbody>\n",
       "    <tr>\n",
       "      <td>0</td>\n",
       "      <td>Alameda</td>\n",
       "      <td>2014</td>\n",
       "      <td>10.615572</td>\n",
       "      <td>6001</td>\n",
       "      <td>63.2</td>\n",
       "      <td>62.0</td>\n",
       "      <td>64.5</td>\n",
       "      <td>9909</td>\n",
       "    </tr>\n",
       "    <tr>\n",
       "      <td>1</td>\n",
       "      <td>Alameda</td>\n",
       "      <td>2015</td>\n",
       "      <td>11.195880</td>\n",
       "      <td>6001</td>\n",
       "      <td>62.9</td>\n",
       "      <td>61.7</td>\n",
       "      <td>64.2</td>\n",
       "      <td>9929</td>\n",
       "    </tr>\n",
       "    <tr>\n",
       "      <td>2</td>\n",
       "      <td>Alameda</td>\n",
       "      <td>2016</td>\n",
       "      <td>9.924854</td>\n",
       "      <td>6001</td>\n",
       "      <td>55.4</td>\n",
       "      <td>54.3</td>\n",
       "      <td>56.5</td>\n",
       "      <td>9073</td>\n",
       "    </tr>\n",
       "    <tr>\n",
       "      <td>3</td>\n",
       "      <td>Alameda</td>\n",
       "      <td>2017</td>\n",
       "      <td>13.576661</td>\n",
       "      <td>6001</td>\n",
       "      <td>53.9</td>\n",
       "      <td>52.7</td>\n",
       "      <td>55.0</td>\n",
       "      <td>8916</td>\n",
       "    </tr>\n",
       "    <tr>\n",
       "      <td>4</td>\n",
       "      <td>Butte</td>\n",
       "      <td>2014</td>\n",
       "      <td>11.526889</td>\n",
       "      <td>6007</td>\n",
       "      <td>43.8</td>\n",
       "      <td>41.1</td>\n",
       "      <td>46.6</td>\n",
       "      <td>978</td>\n",
       "    </tr>\n",
       "  </tbody>\n",
       "</table>\n",
       "</div>"
      ],
      "text/plain": [
       "    County  Year      Value  CountyCode  Crude rates per 10,000  \\\n",
       "0  Alameda  2014  10.615572        6001                    63.2   \n",
       "1  Alameda  2015  11.195880        6001                    62.9   \n",
       "2  Alameda  2016   9.924854        6001                    55.4   \n",
       "3  Alameda  2017  13.576661        6001                    53.9   \n",
       "4    Butte  2014  11.526889        6007                    43.8   \n",
       "\n",
       "   Lower 95% Limit  Upper 95% Limit  Patient_count  \n",
       "0             62.0             64.5           9909  \n",
       "1             61.7             64.2           9929  \n",
       "2             54.3             56.5           9073  \n",
       "3             52.7             55.0           8916  \n",
       "4             41.1             46.6            978  "
      ]
     },
     "execution_count": 208,
     "metadata": {},
     "output_type": "execute_result"
    }
   ],
   "source": [
    "merged['Patient_count'] = merged['Patient_count'].str.replace(',','').astype(int)\n",
    "\n",
    "merged.head()\n",
    "\n"
   ]
  },
  {
   "cell_type": "code",
   "execution_count": 209,
   "metadata": {},
   "outputs": [
    {
     "data": {
      "text/html": [
       "<div>\n",
       "<style scoped>\n",
       "    .dataframe tbody tr th:only-of-type {\n",
       "        vertical-align: middle;\n",
       "    }\n",
       "\n",
       "    .dataframe tbody tr th {\n",
       "        vertical-align: top;\n",
       "    }\n",
       "\n",
       "    .dataframe thead th {\n",
       "        text-align: right;\n",
       "    }\n",
       "</style>\n",
       "<table border=\"1\" class=\"dataframe\">\n",
       "  <thead>\n",
       "    <tr style=\"text-align: right;\">\n",
       "      <th></th>\n",
       "      <th>Year</th>\n",
       "      <th>Value</th>\n",
       "      <th>Crude rates per 10,000</th>\n",
       "      <th>Lower 95% Limit</th>\n",
       "      <th>Upper 95% Limit</th>\n",
       "      <th>CountyCode</th>\n",
       "      <th>Patient_count</th>\n",
       "    </tr>\n",
       "  </thead>\n",
       "  <tbody>\n",
       "    <tr>\n",
       "      <td>0</td>\n",
       "      <td>2014</td>\n",
       "      <td>10.615572</td>\n",
       "      <td>63.2</td>\n",
       "      <td>62.0</td>\n",
       "      <td>64.5</td>\n",
       "      <td>6001</td>\n",
       "      <td>9909</td>\n",
       "    </tr>\n",
       "    <tr>\n",
       "      <td>1</td>\n",
       "      <td>2015</td>\n",
       "      <td>11.195880</td>\n",
       "      <td>62.9</td>\n",
       "      <td>61.7</td>\n",
       "      <td>64.2</td>\n",
       "      <td>6001</td>\n",
       "      <td>9929</td>\n",
       "    </tr>\n",
       "    <tr>\n",
       "      <td>2</td>\n",
       "      <td>2016</td>\n",
       "      <td>9.924854</td>\n",
       "      <td>55.4</td>\n",
       "      <td>54.3</td>\n",
       "      <td>56.5</td>\n",
       "      <td>6001</td>\n",
       "      <td>9073</td>\n",
       "    </tr>\n",
       "    <tr>\n",
       "      <td>3</td>\n",
       "      <td>2017</td>\n",
       "      <td>13.576661</td>\n",
       "      <td>53.9</td>\n",
       "      <td>52.7</td>\n",
       "      <td>55.0</td>\n",
       "      <td>6001</td>\n",
       "      <td>8916</td>\n",
       "    </tr>\n",
       "    <tr>\n",
       "      <td>4</td>\n",
       "      <td>2014</td>\n",
       "      <td>11.526889</td>\n",
       "      <td>43.8</td>\n",
       "      <td>41.1</td>\n",
       "      <td>46.6</td>\n",
       "      <td>6007</td>\n",
       "      <td>978</td>\n",
       "    </tr>\n",
       "    <tr>\n",
       "      <td>...</td>\n",
       "      <td>...</td>\n",
       "      <td>...</td>\n",
       "      <td>...</td>\n",
       "      <td>...</td>\n",
       "      <td>...</td>\n",
       "      <td>...</td>\n",
       "      <td>...</td>\n",
       "    </tr>\n",
       "    <tr>\n",
       "      <td>191</td>\n",
       "      <td>2017</td>\n",
       "      <td>17.019749</td>\n",
       "      <td>32.9</td>\n",
       "      <td>31.7</td>\n",
       "      <td>34.1</td>\n",
       "      <td>6111</td>\n",
       "      <td>2826</td>\n",
       "    </tr>\n",
       "    <tr>\n",
       "      <td>192</td>\n",
       "      <td>2014</td>\n",
       "      <td>9.245116</td>\n",
       "      <td>39.2</td>\n",
       "      <td>36.6</td>\n",
       "      <td>42.0</td>\n",
       "      <td>6113</td>\n",
       "      <td>813</td>\n",
       "    </tr>\n",
       "    <tr>\n",
       "      <td>193</td>\n",
       "      <td>2015</td>\n",
       "      <td>11.344165</td>\n",
       "      <td>40.7</td>\n",
       "      <td>38.0</td>\n",
       "      <td>43.5</td>\n",
       "      <td>6113</td>\n",
       "      <td>851</td>\n",
       "    </tr>\n",
       "    <tr>\n",
       "      <td>194</td>\n",
       "      <td>2016</td>\n",
       "      <td>10.715124</td>\n",
       "      <td>35.4</td>\n",
       "      <td>33.0</td>\n",
       "      <td>38.0</td>\n",
       "      <td>6113</td>\n",
       "      <td>768</td>\n",
       "    </tr>\n",
       "    <tr>\n",
       "      <td>195</td>\n",
       "      <td>2017</td>\n",
       "      <td>10.430445</td>\n",
       "      <td>40.4</td>\n",
       "      <td>37.8</td>\n",
       "      <td>43.2</td>\n",
       "      <td>6113</td>\n",
       "      <td>890</td>\n",
       "    </tr>\n",
       "  </tbody>\n",
       "</table>\n",
       "<p>196 rows × 7 columns</p>\n",
       "</div>"
      ],
      "text/plain": [
       "     Year      Value  Crude rates per 10,000  Lower 95% Limit  \\\n",
       "0    2014  10.615572                    63.2             62.0   \n",
       "1    2015  11.195880                    62.9             61.7   \n",
       "2    2016   9.924854                    55.4             54.3   \n",
       "3    2017  13.576661                    53.9             52.7   \n",
       "4    2014  11.526889                    43.8             41.1   \n",
       "..    ...        ...                     ...              ...   \n",
       "191  2017  17.019749                    32.9             31.7   \n",
       "192  2014   9.245116                    39.2             36.6   \n",
       "193  2015  11.344165                    40.7             38.0   \n",
       "194  2016  10.715124                    35.4             33.0   \n",
       "195  2017  10.430445                    40.4             37.8   \n",
       "\n",
       "     Upper 95% Limit  CountyCode  Patient_count  \n",
       "0               64.5        6001           9909  \n",
       "1               64.2        6001           9929  \n",
       "2               56.5        6001           9073  \n",
       "3               55.0        6001           8916  \n",
       "4               46.6        6007            978  \n",
       "..               ...         ...            ...  \n",
       "191             34.1        6111           2826  \n",
       "192             42.0        6113            813  \n",
       "193             43.5        6113            851  \n",
       "194             38.0        6113            768  \n",
       "195             43.2        6113            890  \n",
       "\n",
       "[196 rows x 7 columns]"
      ]
     },
     "execution_count": 209,
     "metadata": {},
     "output_type": "execute_result"
    }
   ],
   "source": [
    "merged = merged.reset_index(drop=True)  \n",
    "columns = ['Year','Value','Crude rates per 10,000','Lower 95% Limit','Upper 95% Limit','CountyCode','Patient_count']\n",
    "\n",
    "merged_features = merged[columns]\n",
    "    \n",
    "merged_features "
   ]
  },
  {
   "cell_type": "code",
   "execution_count": 132,
   "metadata": {},
   "outputs": [],
   "source": [
    "#creating the train and validation set\n",
    "train = merged_features[:int(0.8*(len(merged_features)))]\n",
    "valid = merged_features[int(0.8*(len(merged_features))):]\n",
    "\n"
   ]
  },
  {
   "cell_type": "code",
   "execution_count": null,
   "metadata": {},
   "outputs": [],
   "source": []
  },
  {
   "cell_type": "code",
   "execution_count": 95,
   "metadata": {},
   "outputs": [],
   "source": [
    "train_array = np.asarray(train)\n",
    "valid_array = np.asarray(valid)"
   ]
  },
  {
   "cell_type": "code",
   "execution_count": 96,
   "metadata": {},
   "outputs": [
    {
     "name": "stderr",
     "output_type": "stream",
     "text": [
      "/Users/jeyasri/opt/anaconda3/lib/python3.7/site-packages/statsmodels/base/wrapper.py:35: FutureWarning: y is a deprecated alias for endog, will be removed in version 0.11.0\n",
      "  obj = getattr(results, attr)\n"
     ]
    },
    {
     "data": {
      "text/plain": [
       "array([[6.00100000e+03, 1.06155720e+01, 1.48800000e+02, 1.00000000e+00],\n",
       "       [6.00100000e+03, 1.06155720e+01, 8.45000000e+01, 4.00000000e+00],\n",
       "       [6.00100000e+03, 1.06155720e+01, 4.77000000e+01, 2.00000000e+00],\n",
       "       ...,\n",
       "       [6.08900000e+03, 1.42615329e+01, 7.40000000e+01, 4.00000000e+00],\n",
       "       [6.08900000e+03, 1.42615329e+01, 7.64000000e+01, 2.00000000e+00],\n",
       "       [6.08900000e+03, 1.42615329e+01, 5.87000000e+01, 3.00000000e+00]])"
      ]
     },
     "execution_count": 96,
     "metadata": {},
     "output_type": "execute_result"
    }
   ],
   "source": [
    "#fit the model\n",
    "from statsmodels.tsa.vector_ar.var_model import VAR\n",
    "\n",
    "model = VAR(endog=train_array)\n",
    "model_fit = model.fit()\n",
    "model_fit.y"
   ]
  },
  {
   "cell_type": "code",
   "execution_count": 97,
   "metadata": {},
   "outputs": [
    {
     "data": {
      "text/plain": [
       "array([[6.08896043e+03, 1.40463342e+01, 3.97152993e+01, 1.91566368e+00],\n",
       "       [6.08907740e+03, 1.39089157e+01, 4.45959330e+01, 1.91847815e+00],\n",
       "       [6.08918218e+03, 1.37842039e+01, 4.58685138e+01, 2.01789504e+00],\n",
       "       [6.08927307e+03, 1.36626368e+01, 4.51718657e+01, 2.01250226e+00],\n",
       "       [6.08936560e+03, 1.35499212e+01, 4.49258052e+01, 2.00408781e+00],\n",
       "       [6.08945908e+03, 1.34458929e+01, 4.48449317e+01, 2.00539950e+00],\n",
       "       [6.08955215e+03, 1.33493693e+01, 4.47231709e+01, 2.00642242e+00],\n",
       "       [6.08964494e+03, 1.32598089e+01, 4.45974240e+01, 2.00655048e+00],\n",
       "       [6.08973760e+03, 1.31767717e+01, 4.44838526e+01, 2.00673466e+00],\n",
       "       [6.08983010e+03, 1.30997941e+01, 4.43776026e+01, 2.00697883e+00],\n",
       "       [6.08992245e+03, 1.30284429e+01, 4.42769273e+01, 2.00719714e+00],\n",
       "       [6.09001466e+03, 1.29623203e+01, 4.41818668e+01, 2.00739525e+00],\n",
       "       [6.09010673e+03, 1.29010569e+01, 4.40921130e+01, 2.00758184e+00],\n",
       "       [6.09019868e+03, 1.28443087e+01, 4.40072467e+01, 2.00775696e+00],\n",
       "       [6.09029050e+03, 1.27917564e+01, 4.39269173e+01, 2.00792081e+00],\n",
       "       [6.09038220e+03, 1.27431030e+01, 4.38508090e+01, 2.00807429e+00],\n",
       "       [6.09047379e+03, 1.26980727e+01, 4.37786243e+01, 2.00821817e+00],\n",
       "       [6.09056527e+03, 1.26564090e+01, 4.37100859e+01, 2.00835314e+00],\n",
       "       [6.09065664e+03, 1.26178738e+01, 4.36449367e+01, 2.00847980e+00],\n",
       "       [6.09074792e+03, 1.25822458e+01, 4.35829377e+01, 2.00859876e+00],\n",
       "       [6.09083910e+03, 1.25493191e+01, 4.35238668e+01, 2.00871055e+00],\n",
       "       [6.09093019e+03, 1.25189026e+01, 4.34675176e+01, 2.00881568e+00],\n",
       "       [6.09102119e+03, 1.24908187e+01, 4.34136984e+01, 2.00891463e+00],\n",
       "       [6.09111210e+03, 1.24649023e+01, 4.33622309e+01, 2.00900782e+00],\n",
       "       [6.09120294e+03, 1.24409999e+01, 4.33129495e+01, 2.00909567e+00],\n",
       "       [6.09129369e+03, 1.24189691e+01, 4.32657003e+01, 2.00917855e+00],\n",
       "       [6.09138436e+03, 1.23986774e+01, 4.32203404e+01, 2.00925681e+00],\n",
       "       [6.09147496e+03, 1.23800016e+01, 4.31767367e+01, 2.00933078e+00],\n",
       "       [6.09156549e+03, 1.23628274e+01, 4.31347658e+01, 2.00940077e+00],\n",
       "       [6.09165594e+03, 1.23470485e+01, 4.30943129e+01, 2.00946704e+00],\n",
       "       [6.09174632e+03, 1.23325660e+01, 4.30552715e+01, 2.00952988e+00],\n",
       "       [6.09183664e+03, 1.23192883e+01, 4.30175423e+01, 2.00958951e+00],\n",
       "       [6.09192689e+03, 1.23071300e+01, 4.29810333e+01, 2.00964616e+00],\n",
       "       [6.09201708e+03, 1.22960117e+01, 4.29456589e+01, 2.00970005e+00],\n",
       "       [6.09210720e+03, 1.22858600e+01, 4.29113396e+01, 2.00975137e+00],\n",
       "       [6.09219727e+03, 1.22766063e+01, 4.28780014e+01, 2.00980029e+00],\n",
       "       [6.09228727e+03, 1.22681869e+01, 4.28455758e+01, 2.00984700e+00],\n",
       "       [6.09237721e+03, 1.22605429e+01, 4.28139988e+01, 2.00989164e+00],\n",
       "       [6.09246709e+03, 1.22536192e+01, 4.27832112e+01, 2.00993436e+00],\n",
       "       [6.09255692e+03, 1.22473649e+01, 4.27531579e+01, 2.00997530e+00],\n",
       "       [6.09264669e+03, 1.22417324e+01, 4.27237877e+01, 2.01001457e+00],\n",
       "       [6.09273640e+03, 1.22366778e+01, 4.26950528e+01, 2.01005231e+00],\n",
       "       [6.09282606e+03, 1.22321600e+01, 4.26669093e+01, 2.01008861e+00],\n",
       "       [6.09291567e+03, 1.22281410e+01, 4.26393158e+01, 2.01012358e+00],\n",
       "       [6.09300522e+03, 1.22245854e+01, 4.26122343e+01, 2.01015731e+00],\n",
       "       [6.09309472e+03, 1.22214604e+01, 4.25856293e+01, 2.01018989e+00],\n",
       "       [6.09318417e+03, 1.22187354e+01, 4.25594678e+01, 2.01022139e+00],\n",
       "       [6.09327356e+03, 1.22163820e+01, 4.25337190e+01, 2.01025190e+00],\n",
       "       [6.09336290e+03, 1.22143738e+01, 4.25083547e+01, 2.01028149e+00],\n",
       "       [6.09345220e+03, 1.22126864e+01, 4.24833482e+01, 2.01031021e+00],\n",
       "       [6.09354144e+03, 1.22112970e+01, 4.24586750e+01, 2.01033813e+00],\n",
       "       [6.09363063e+03, 1.22101843e+01, 4.24343122e+01, 2.01036531e+00],\n",
       "       [6.09371977e+03, 1.22093288e+01, 4.24102387e+01, 2.01039179e+00],\n",
       "       [6.09380887e+03, 1.22087121e+01, 4.23864346e+01, 2.01041763e+00],\n",
       "       [6.09389791e+03, 1.22083173e+01, 4.23628816e+01, 2.01044287e+00],\n",
       "       [6.09398691e+03, 1.22081286e+01, 4.23395627e+01, 2.01046755e+00],\n",
       "       [6.09407586e+03, 1.22081313e+01, 4.23164620e+01, 2.01049171e+00],\n",
       "       [6.09416476e+03, 1.22083118e+01, 4.22935649e+01, 2.01051539e+00],\n",
       "       [6.09425361e+03, 1.22086574e+01, 4.22708576e+01, 2.01053862e+00],\n",
       "       [6.09434242e+03, 1.22091564e+01, 4.22483274e+01, 2.01056143e+00],\n",
       "       [6.09443118e+03, 1.22097977e+01, 4.22259625e+01, 2.01058386e+00],\n",
       "       [6.09451989e+03, 1.22105714e+01, 4.22037520e+01, 2.01060592e+00],\n",
       "       [6.09460855e+03, 1.22114679e+01, 4.21816856e+01, 2.01062764e+00],\n",
       "       [6.09469717e+03, 1.22124784e+01, 4.21597539e+01, 2.01064905e+00],\n",
       "       [6.09478574e+03, 1.22135947e+01, 4.21379480e+01, 2.01067017e+00],\n",
       "       [6.09487427e+03, 1.22148094e+01, 4.21162598e+01, 2.01069101e+00],\n",
       "       [6.09496275e+03, 1.22161154e+01, 4.20946816e+01, 2.01071160e+00],\n",
       "       [6.09505118e+03, 1.22175060e+01, 4.20732064e+01, 2.01073196e+00],\n",
       "       [6.09513957e+03, 1.22189753e+01, 4.20518276e+01, 2.01075209e+00],\n",
       "       [6.09522791e+03, 1.22205176e+01, 4.20305392e+01, 2.01077202e+00],\n",
       "       [6.09531621e+03, 1.22221276e+01, 4.20093353e+01, 2.01079176e+00],\n",
       "       [6.09540446e+03, 1.22238005e+01, 4.19882108e+01, 2.01081131e+00],\n",
       "       [6.09549266e+03, 1.22255317e+01, 4.19671608e+01, 2.01083071e+00],\n",
       "       [6.09558082e+03, 1.22273170e+01, 4.19461807e+01, 2.01084994e+00],\n",
       "       [6.09566894e+03, 1.22291525e+01, 4.19252662e+01, 2.01086904e+00],\n",
       "       [6.09575701e+03, 1.22310346e+01, 4.19044135e+01, 2.01088799e+00],\n",
       "       [6.09584503e+03, 1.22329598e+01, 4.18836188e+01, 2.01090682e+00],\n",
       "       [6.09593301e+03, 1.22349250e+01, 4.18628789e+01, 2.01092554e+00],\n",
       "       [6.09602095e+03, 1.22369274e+01, 4.18421904e+01, 2.01094414e+00],\n",
       "       [6.09610884e+03, 1.22389641e+01, 4.18215506e+01, 2.01096264e+00],\n",
       "       [6.09619669e+03, 1.22410328e+01, 4.18009566e+01, 2.01098104e+00],\n",
       "       [6.09628449e+03, 1.22431309e+01, 4.17804059e+01, 2.01099936e+00],\n",
       "       [6.09637225e+03, 1.22452564e+01, 4.17598962e+01, 2.01101758e+00],\n",
       "       [6.09645996e+03, 1.22474073e+01, 4.17394253e+01, 2.01103573e+00],\n",
       "       [6.09654763e+03, 1.22495816e+01, 4.17189911e+01, 2.01105381e+00],\n",
       "       [6.09663525e+03, 1.22517776e+01, 4.16985918e+01, 2.01107182e+00],\n",
       "       [6.09672283e+03, 1.22539937e+01, 4.16782255e+01, 2.01108976e+00],\n",
       "       [6.09681036e+03, 1.22562284e+01, 4.16578908e+01, 2.01110764e+00],\n",
       "       [6.09689786e+03, 1.22584802e+01, 4.16375859e+01, 2.01112546e+00],\n",
       "       [6.09698530e+03, 1.22607479e+01, 4.16173096e+01, 2.01114323e+00],\n",
       "       [6.09707270e+03, 1.22630303e+01, 4.15970605e+01, 2.01116095e+00],\n",
       "       [6.09716006e+03, 1.22653262e+01, 4.15768375e+01, 2.01117862e+00],\n",
       "       [6.09724738e+03, 1.22676346e+01, 4.15566392e+01, 2.01119624e+00],\n",
       "       [6.09733465e+03, 1.22699545e+01, 4.15364648e+01, 2.01121382e+00],\n",
       "       [6.09742187e+03, 1.22722850e+01, 4.15163132e+01, 2.01123137e+00],\n",
       "       [6.09750906e+03, 1.22746253e+01, 4.14961836e+01, 2.01124887e+00],\n",
       "       [6.09759620e+03, 1.22769746e+01, 4.14760750e+01, 2.01126634e+00],\n",
       "       [6.09768329e+03, 1.22793322e+01, 4.14559867e+01, 2.01128378e+00],\n",
       "       [6.09777034e+03, 1.22816974e+01, 4.14359179e+01, 2.01130118e+00],\n",
       "       [6.09785735e+03, 1.22840695e+01, 4.14158680e+01, 2.01131855e+00],\n",
       "       [6.09794431e+03, 1.22864481e+01, 4.13958364e+01, 2.01133590e+00],\n",
       "       [6.09803123e+03, 1.22888325e+01, 4.13758224e+01, 2.01135321e+00],\n",
       "       [6.09811811e+03, 1.22912222e+01, 4.13558255e+01, 2.01137050e+00],\n",
       "       [6.09820494e+03, 1.22936169e+01, 4.13358452e+01, 2.01138777e+00],\n",
       "       [6.09829173e+03, 1.22960160e+01, 4.13158810e+01, 2.01140501e+00],\n",
       "       [6.09837847e+03, 1.22984191e+01, 4.12959326e+01, 2.01142223e+00],\n",
       "       [6.09846518e+03, 1.23008260e+01, 4.12759993e+01, 2.01143943e+00],\n",
       "       [6.09855183e+03, 1.23032362e+01, 4.12560810e+01, 2.01145661e+00],\n",
       "       [6.09863845e+03, 1.23056493e+01, 4.12361772e+01, 2.01147377e+00],\n",
       "       [6.09872502e+03, 1.23080652e+01, 4.12162877e+01, 2.01149091e+00],\n",
       "       [6.09881155e+03, 1.23104836e+01, 4.11964120e+01, 2.01150803e+00],\n",
       "       [6.09889803e+03, 1.23129040e+01, 4.11765499e+01, 2.01152513e+00],\n",
       "       [6.09898447e+03, 1.23153265e+01, 4.11567012e+01, 2.01154222e+00],\n",
       "       [6.09907087e+03, 1.23177506e+01, 4.11368656e+01, 2.01155929e+00],\n",
       "       [6.09915722e+03, 1.23201762e+01, 4.11170429e+01, 2.01157634e+00],\n",
       "       [6.09924353e+03, 1.23226032e+01, 4.10972328e+01, 2.01159338e+00],\n",
       "       [6.09932980e+03, 1.23250313e+01, 4.10774352e+01, 2.01161040e+00],\n",
       "       [6.09941602e+03, 1.23274603e+01, 4.10576499e+01, 2.01162741e+00],\n",
       "       [6.09950220e+03, 1.23298901e+01, 4.10378767e+01, 2.01164441e+00],\n",
       "       [6.09958834e+03, 1.23323206e+01, 4.10181154e+01, 2.01166139e+00],\n",
       "       [6.09967444e+03, 1.23347517e+01, 4.09983659e+01, 2.01167836e+00],\n",
       "       [6.09976049e+03, 1.23371831e+01, 4.09786281e+01, 2.01169532e+00],\n",
       "       [6.09984650e+03, 1.23396149e+01, 4.09589018e+01, 2.01171226e+00],\n",
       "       [6.09993246e+03, 1.23420468e+01, 4.09391869e+01, 2.01172919e+00],\n",
       "       [6.10001838e+03, 1.23444788e+01, 4.09194833e+01, 2.01174611e+00],\n",
       "       [6.10010426e+03, 1.23469108e+01, 4.08997909e+01, 2.01176302e+00],\n",
       "       [6.10019010e+03, 1.23493427e+01, 4.08801096e+01, 2.01177992e+00],\n",
       "       [6.10027589e+03, 1.23517744e+01, 4.08604392e+01, 2.01179681e+00],\n",
       "       [6.10036164e+03, 1.23542059e+01, 4.08407798e+01, 2.01181368e+00],\n",
       "       [6.10044734e+03, 1.23566371e+01, 4.08211312e+01, 2.01183054e+00],\n",
       "       [6.10053301e+03, 1.23590679e+01, 4.08014934e+01, 2.01184740e+00],\n",
       "       [6.10061863e+03, 1.23614982e+01, 4.07818662e+01, 2.01186424e+00],\n",
       "       [6.10070421e+03, 1.23639281e+01, 4.07622497e+01, 2.01188107e+00],\n",
       "       [6.10078974e+03, 1.23663574e+01, 4.07426437e+01, 2.01189789e+00],\n",
       "       [6.10087523e+03, 1.23687861e+01, 4.07230482e+01, 2.01191470e+00],\n",
       "       [6.10096068e+03, 1.23712142e+01, 4.07034632e+01, 2.01193151e+00],\n",
       "       [6.10104609e+03, 1.23736416e+01, 4.06838886e+01, 2.01194830e+00],\n",
       "       [6.10113145e+03, 1.23760683e+01, 4.06643244e+01, 2.01196508e+00],\n",
       "       [6.10121677e+03, 1.23784943e+01, 4.06447704e+01, 2.01198185e+00],\n",
       "       [6.10130205e+03, 1.23809194e+01, 4.06252267e+01, 2.01199862e+00],\n",
       "       [6.10138728e+03, 1.23833438e+01, 4.06056933e+01, 2.01201537e+00],\n",
       "       [6.10147247e+03, 1.23857673e+01, 4.05861701e+01, 2.01203211e+00],\n",
       "       [6.10155762e+03, 1.23881900e+01, 4.05666570e+01, 2.01204885e+00],\n",
       "       [6.10164273e+03, 1.23906117e+01, 4.05471540e+01, 2.01206557e+00],\n",
       "       [6.10172780e+03, 1.23930326e+01, 4.05276612e+01, 2.01208229e+00],\n",
       "       [6.10181282e+03, 1.23954525e+01, 4.05081784e+01, 2.01209900e+00],\n",
       "       [6.10189780e+03, 1.23978714e+01, 4.04887057e+01, 2.01211570e+00],\n",
       "       [6.10198273e+03, 1.24002894e+01, 4.04692429e+01, 2.01213239e+00],\n",
       "       [6.10206763e+03, 1.24027064e+01, 4.04497902e+01, 2.01214907e+00],\n",
       "       [6.10215248e+03, 1.24051224e+01, 4.04303475e+01, 2.01216574e+00],\n",
       "       [6.10223728e+03, 1.24075374e+01, 4.04109147e+01, 2.01218240e+00],\n",
       "       [6.10232205e+03, 1.24099513e+01, 4.03914919e+01, 2.01219905e+00],\n",
       "       [6.10240677e+03, 1.24123642e+01, 4.03720790e+01, 2.01221570e+00],\n",
       "       [6.10249146e+03, 1.24147761e+01, 4.03526759e+01, 2.01223233e+00],\n",
       "       [6.10257609e+03, 1.24171868e+01, 4.03332828e+01, 2.01224896e+00],\n",
       "       [6.10266069e+03, 1.24195966e+01, 4.03138995e+01, 2.01226558e+00],\n",
       "       [6.10274524e+03, 1.24220052e+01, 4.02945261e+01, 2.01228219e+00],\n",
       "       [6.10282975e+03, 1.24244127e+01, 4.02751625e+01, 2.01229879e+00],\n",
       "       [6.10291422e+03, 1.24268192e+01, 4.02558087e+01, 2.01231539e+00],\n",
       "       [6.10299865e+03, 1.24292245e+01, 4.02364648e+01, 2.01233197e+00],\n",
       "       [6.10308303e+03, 1.24316287e+01, 4.02171306e+01, 2.01234855e+00],\n",
       "       [6.10316738e+03, 1.24340318e+01, 4.01978062e+01, 2.01236511e+00],\n",
       "       [6.10325168e+03, 1.24364338e+01, 4.01784916e+01, 2.01238167e+00],\n",
       "       [6.10333593e+03, 1.24388346e+01, 4.01591868e+01, 2.01239822e+00],\n",
       "       [6.10342015e+03, 1.24412343e+01, 4.01398917e+01, 2.01241476e+00],\n",
       "       [6.10350432e+03, 1.24436329e+01, 4.01206064e+01, 2.01243130e+00],\n",
       "       [6.10358845e+03, 1.24460303e+01, 4.01013308e+01, 2.01244782e+00],\n",
       "       [6.10367254e+03, 1.24484266e+01, 4.00820649e+01, 2.01246434e+00],\n",
       "       [6.10375659e+03, 1.24508217e+01, 4.00628087e+01, 2.01248084e+00],\n",
       "       [6.10384059e+03, 1.24532157e+01, 4.00435622e+01, 2.01249734e+00],\n",
       "       [6.10392455e+03, 1.24556085e+01, 4.00243254e+01, 2.01251384e+00],\n",
       "       [6.10400847e+03, 1.24580002e+01, 4.00050984e+01, 2.01253032e+00],\n",
       "       [6.10409235e+03, 1.24603907e+01, 3.99858810e+01, 2.01254679e+00],\n",
       "       [6.10417619e+03, 1.24627801e+01, 3.99666732e+01, 2.01256326e+00],\n",
       "       [6.10425998e+03, 1.24651682e+01, 3.99474752e+01, 2.01257972e+00],\n",
       "       [6.10434374e+03, 1.24675552e+01, 3.99282867e+01, 2.01259617e+00],\n",
       "       [6.10442745e+03, 1.24699411e+01, 3.99091080e+01, 2.01261261e+00],\n",
       "       [6.10451111e+03, 1.24723258e+01, 3.98899389e+01, 2.01262904e+00],\n",
       "       [6.10459474e+03, 1.24747093e+01, 3.98707794e+01, 2.01264546e+00],\n",
       "       [6.10467832e+03, 1.24770916e+01, 3.98516295e+01, 2.01266188e+00],\n",
       "       [6.10476187e+03, 1.24794728e+01, 3.98324893e+01, 2.01267829e+00],\n",
       "       [6.10484537e+03, 1.24818528e+01, 3.98133587e+01, 2.01269469e+00],\n",
       "       [6.10492882e+03, 1.24842316e+01, 3.97942377e+01, 2.01271108e+00],\n",
       "       [6.10501224e+03, 1.24866092e+01, 3.97751263e+01, 2.01272746e+00],\n",
       "       [6.10509562e+03, 1.24889857e+01, 3.97560245e+01, 2.01274384e+00],\n",
       "       [6.10517895e+03, 1.24913609e+01, 3.97369323e+01, 2.01276020e+00],\n",
       "       [6.10526224e+03, 1.24937351e+01, 3.97178496e+01, 2.01277656e+00],\n",
       "       [6.10534549e+03, 1.24961080e+01, 3.96987766e+01, 2.01279291e+00],\n",
       "       [6.10542870e+03, 1.24984797e+01, 3.96797131e+01, 2.01280925e+00],\n",
       "       [6.10551186e+03, 1.25008503e+01, 3.96606592e+01, 2.01282559e+00],\n",
       "       [6.10559499e+03, 1.25032197e+01, 3.96416149e+01, 2.01284191e+00],\n",
       "       [6.10567807e+03, 1.25055879e+01, 3.96225801e+01, 2.01285823e+00],\n",
       "       [6.10576111e+03, 1.25079550e+01, 3.96035549e+01, 2.01287454e+00],\n",
       "       [6.10584411e+03, 1.25103208e+01, 3.95845392e+01, 2.01289084e+00],\n",
       "       [6.10592707e+03, 1.25126855e+01, 3.95655330e+01, 2.01290713e+00],\n",
       "       [6.10600999e+03, 1.25150490e+01, 3.95465364e+01, 2.01292342e+00]])"
      ]
     },
     "execution_count": 97,
     "metadata": {},
     "output_type": "execute_result"
    }
   ],
   "source": [
    "\n",
    "# make prediction on validation\n",
    "prediction = model_fit.forecast(model_fit.y, steps=len(valid_array))\n",
    "prediction"
   ]
  },
  {
   "cell_type": "code",
   "execution_count": 98,
   "metadata": {},
   "outputs": [],
   "source": [
    "cols = train.columns\n",
    "pred = pd.DataFrame(index=range(0,len(prediction)),columns=cols)"
   ]
  },
  {
   "cell_type": "code",
   "execution_count": 99,
   "metadata": {},
   "outputs": [
    {
     "name": "stdout",
     "output_type": "stream",
     "text": [
      "rmse value for CountyCode is :  5.086413846029044\n",
      "rmse value for Value is :  4.4840947869257\n",
      "rmse value for Crude rates per 10,000 is :  30.99157795345708\n",
      "rmse value for AgeGroupCat is :  1.4168771964336442\n"
     ]
    }
   ],
   "source": [
    "\n",
    "from sklearn.metrics import mean_squared_error \n",
    "\n",
    "for j in range(0,4):\n",
    "    for i in range(0, len(prediction)):\n",
    "       pred.iloc[i][j] = prediction[i][j]\n",
    "\n",
    "#check rmse\n",
    "for i in cols:\n",
    "    print('rmse value for', i, 'is : ', np.sqrt(mean_squared_error(pred[i], valid[i])))"
   ]
  },
  {
   "cell_type": "code",
   "execution_count": 100,
   "metadata": {},
   "outputs": [
    {
     "name": "stdout",
     "output_type": "stream",
     "text": [
      "[[6.11332270e+03 1.06968447e+01 6.01133381e+01 2.58798065e+00]]\n"
     ]
    },
    {
     "name": "stderr",
     "output_type": "stream",
     "text": [
      "/Users/jeyasri/opt/anaconda3/lib/python3.7/site-packages/statsmodels/tsa/base/tsa_model.py:219: ValueWarning: A date index has been provided, but it has no associated frequency information and so will be ignored when e.g. forecasting.\n",
      "  ' ignored when e.g. forecasting.', ValueWarning)\n",
      "/Users/jeyasri/opt/anaconda3/lib/python3.7/site-packages/statsmodels/base/wrapper.py:35: FutureWarning: y is a deprecated alias for endog, will be removed in version 0.11.0\n",
      "  obj = getattr(results, attr)\n"
     ]
    }
   ],
   "source": [
    "#make final predictions\n",
    "model = VAR(endog=merged_features)\n",
    "model_fit = model.fit()\n",
    "yhat = model_fit.forecast(model_fit.y, steps=1)\n",
    "print(yhat)"
   ]
  },
  {
   "cell_type": "code",
   "execution_count": 222,
   "metadata": {},
   "outputs": [
    {
     "data": {
      "text/plain": [
       "(20, 6)"
      ]
     },
     "execution_count": 222,
     "metadata": {},
     "output_type": "execute_result"
    }
   ],
   "source": [
    "from sklearn.model_selection import train_test_split\n",
    "\n",
    "y=  merged_features['Crude rates per 10,000']\n",
    "X= merged_features.drop('Crude rates per 10,000' , axis =1)  # Labels\n",
    "\n",
    "# Split dataset into training set and test set\n",
    "X_train, X_test, y_train, y_test = train_test_split(X, y, test_size=0.1)\n",
    "X_test.shape"
   ]
  },
  {
   "cell_type": "code",
   "execution_count": 227,
   "metadata": {},
   "outputs": [],
   "source": [
    "\n",
    "\n",
    "y_train1 = np.asarray(y_train.values, dtype=\"int\")\n",
    "y_test1 = np.asarray(y_test.values, dtype=\"int\")"
   ]
  },
  {
   "cell_type": "code",
   "execution_count": 228,
   "metadata": {},
   "outputs": [],
   "source": [
    "#Import Random Forest Model\n",
    "from sklearn.ensemble import RandomForestClassifier\n",
    "\n",
    "#Create a Gaussian Classifier\n",
    "clf=RandomForestClassifier(n_estimators=100)\n",
    "\n",
    "#Train the model using the training sets y_pred=clf.predict(X_test)\n",
    "clf.fit(X_train,y_train1)\n",
    "\n",
    "y_pred=clf.predict(X_test)"
   ]
  },
  {
   "cell_type": "code",
   "execution_count": 229,
   "metadata": {},
   "outputs": [
    {
     "data": {
      "text/plain": [
       "(array([37, 66, 63, 62, 50, 30, 37, 50, 55, 51, 35, 38, 57, 31, 80, 32, 25,\n",
       "        55, 46, 29]),\n",
       " array([38, 64, 62, 63, 53, 31, 40, 52, 57, 52, 34, 38, 54, 30, 78, 31, 21,\n",
       "        53, 40, 30]))"
      ]
     },
     "execution_count": 229,
     "metadata": {},
     "output_type": "execute_result"
    }
   ],
   "source": [
    "y_test1, y_pred"
   ]
  },
  {
   "cell_type": "code",
   "execution_count": 230,
   "metadata": {},
   "outputs": [
    {
     "data": {
      "text/plain": [
       "5.0"
      ]
     },
     "execution_count": 230,
     "metadata": {},
     "output_type": "execute_result"
    }
   ],
   "source": [
    "\n",
    "from sklearn.metrics import accuracy_score\n",
    "accuracy_score(y_test1,y_pred)*100"
   ]
  },
  {
   "cell_type": "code",
   "execution_count": null,
   "metadata": {},
   "outputs": [],
   "source": []
  }
 ],
 "metadata": {
  "kernelspec": {
   "display_name": "Python 3",
   "language": "python",
   "name": "python3"
  },
  "language_info": {
   "codemirror_mode": {
    "name": "ipython",
    "version": 3
   },
   "file_extension": ".py",
   "mimetype": "text/x-python",
   "name": "python",
   "nbconvert_exporter": "python",
   "pygments_lexer": "ipython3",
   "version": "3.7.4"
  }
 },
 "nbformat": 4,
 "nbformat_minor": 2
}
