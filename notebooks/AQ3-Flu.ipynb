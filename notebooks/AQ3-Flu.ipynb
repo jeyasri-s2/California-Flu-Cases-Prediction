{
 "cells": [
  {
   "cell_type": "code",
   "execution_count": 12,
   "metadata": {},
   "outputs": [],
   "source": [
    "import pandas as pd\n",
    "import matplotlib.pyplot as plt\n",
    "import numpy as np\n",
    "import math\n",
    "import seaborn as sns\n",
    "from sklearn.linear_model import LinearRegression, LogisticRegression\n",
    "from sklearn.model_selection import train_test_split\n",
    "from sklearn.metrics import mean_squared_error\n",
    "from sklearn.metrics import accuracy_score\n",
    "from sklearn.utils import resample\n",
    "\n",
    "from sklearn.linear_model import Ridge\n",
    "from sklearn.linear_model import Lasso\n",
    "from sklearn.linear_model import ElasticNet\n",
    "from sklearn.preprocessing import PolynomialFeatures\n",
    "from sklearn.preprocessing import StandardScaler\n",
    "from sklearn.pipeline import Pipeline"
   ]
  },
  {
   "cell_type": "code",
   "execution_count": 13,
   "metadata": {},
   "outputs": [
    {
     "data": {
      "text/html": [
       "<div>\n",
       "<style scoped>\n",
       "    .dataframe tbody tr th:only-of-type {\n",
       "        vertical-align: middle;\n",
       "    }\n",
       "\n",
       "    .dataframe tbody tr th {\n",
       "        vertical-align: top;\n",
       "    }\n",
       "\n",
       "    .dataframe thead th {\n",
       "        text-align: right;\n",
       "    }\n",
       "</style>\n",
       "<table border=\"1\" class=\"dataframe\">\n",
       "  <thead>\n",
       "    <tr style=\"text-align: right;\">\n",
       "      <th></th>\n",
       "      <th>id</th>\n",
       "      <th>city_name</th>\n",
       "      <th>state_name</th>\n",
       "      <th>Week</th>\n",
       "      <th>Year</th>\n",
       "      <th>avg_aqi</th>\n",
       "    </tr>\n",
       "  </thead>\n",
       "  <tbody>\n",
       "    <tr>\n",
       "      <td>61771</td>\n",
       "      <td>61382</td>\n",
       "      <td>Long Beach</td>\n",
       "      <td>California</td>\n",
       "      <td>53</td>\n",
       "      <td>2017</td>\n",
       "      <td>127.333333</td>\n",
       "    </tr>\n",
       "    <tr>\n",
       "      <td>61772</td>\n",
       "      <td>61454</td>\n",
       "      <td>Anaheim</td>\n",
       "      <td>California</td>\n",
       "      <td>53</td>\n",
       "      <td>2017</td>\n",
       "      <td>116.000000</td>\n",
       "    </tr>\n",
       "    <tr>\n",
       "      <td>61773</td>\n",
       "      <td>61540</td>\n",
       "      <td>El Cajon</td>\n",
       "      <td>California</td>\n",
       "      <td>53</td>\n",
       "      <td>2017</td>\n",
       "      <td>92.000000</td>\n",
       "    </tr>\n",
       "    <tr>\n",
       "      <td>61774</td>\n",
       "      <td>61596</td>\n",
       "      <td>Chico</td>\n",
       "      <td>California</td>\n",
       "      <td>53</td>\n",
       "      <td>2017</td>\n",
       "      <td>95.000000</td>\n",
       "    </tr>\n",
       "    <tr>\n",
       "      <td>61775</td>\n",
       "      <td>61764</td>\n",
       "      <td>Yuba City</td>\n",
       "      <td>California</td>\n",
       "      <td>53</td>\n",
       "      <td>2017</td>\n",
       "      <td>82.000000</td>\n",
       "    </tr>\n",
       "  </tbody>\n",
       "</table>\n",
       "</div>"
      ],
      "text/plain": [
       "          id   city_name  state_name  Week  Year     avg_aqi\n",
       "61771  61382  Long Beach  California    53  2017  127.333333\n",
       "61772  61454     Anaheim  California    53  2017  116.000000\n",
       "61773  61540    El Cajon  California    53  2017   92.000000\n",
       "61774  61596       Chico  California    53  2017   95.000000\n",
       "61775  61764   Yuba City  California    53  2017   82.000000"
      ]
     },
     "execution_count": 13,
     "metadata": {},
     "output_type": "execute_result"
    }
   ],
   "source": [
    "airQ_data = pd.read_csv('../Datasets/AirQuality/AirQualityData_3/airquality-1998_2017.csv', low_memory =False)\n",
    "len(airQ_data)\n",
    "airQ_data.tail()"
   ]
  },
  {
   "cell_type": "code",
   "execution_count": 14,
   "metadata": {},
   "outputs": [
    {
     "data": {
      "text/plain": [
       "61776"
      ]
     },
     "execution_count": 14,
     "metadata": {},
     "output_type": "execute_result"
    }
   ],
   "source": [
    "len(airQ_data)"
   ]
  },
  {
   "cell_type": "code",
   "execution_count": 15,
   "metadata": {},
   "outputs": [
    {
     "data": {
      "text/html": [
       "<div>\n",
       "<style scoped>\n",
       "    .dataframe tbody tr th:only-of-type {\n",
       "        vertical-align: middle;\n",
       "    }\n",
       "\n",
       "    .dataframe tbody tr th {\n",
       "        vertical-align: top;\n",
       "    }\n",
       "\n",
       "    .dataframe thead th {\n",
       "        text-align: right;\n",
       "    }\n",
       "</style>\n",
       "<table border=\"1\" class=\"dataframe\">\n",
       "  <thead>\n",
       "    <tr style=\"text-align: right;\">\n",
       "      <th></th>\n",
       "      <th>state_name</th>\n",
       "      <th>Week</th>\n",
       "      <th>Year</th>\n",
       "      <th>avg_aqi</th>\n",
       "    </tr>\n",
       "  </thead>\n",
       "  <tbody>\n",
       "    <tr>\n",
       "      <td>0</td>\n",
       "      <td>California</td>\n",
       "      <td>0</td>\n",
       "      <td>1999</td>\n",
       "      <td>92.500000</td>\n",
       "    </tr>\n",
       "    <tr>\n",
       "      <td>1</td>\n",
       "      <td>California</td>\n",
       "      <td>0</td>\n",
       "      <td>2000</td>\n",
       "      <td>75.437500</td>\n",
       "    </tr>\n",
       "    <tr>\n",
       "      <td>2</td>\n",
       "      <td>California</td>\n",
       "      <td>0</td>\n",
       "      <td>2001</td>\n",
       "      <td>87.254457</td>\n",
       "    </tr>\n",
       "    <tr>\n",
       "      <td>3</td>\n",
       "      <td>California</td>\n",
       "      <td>0</td>\n",
       "      <td>2002</td>\n",
       "      <td>61.261568</td>\n",
       "    </tr>\n",
       "    <tr>\n",
       "      <td>4</td>\n",
       "      <td>California</td>\n",
       "      <td>0</td>\n",
       "      <td>2003</td>\n",
       "      <td>55.143505</td>\n",
       "    </tr>\n",
       "  </tbody>\n",
       "</table>\n",
       "</div>"
      ],
      "text/plain": [
       "   state_name  Week  Year    avg_aqi\n",
       "0  California     0  1999  92.500000\n",
       "1  California     0  2000  75.437500\n",
       "2  California     0  2001  87.254457\n",
       "3  California     0  2002  61.261568\n",
       "4  California     0  2003  55.143505"
      ]
     },
     "execution_count": 15,
     "metadata": {},
     "output_type": "execute_result"
    }
   ],
   "source": [
    "#Removing city and taking avg\n",
    "airQ_data_mean = airQ_data.groupby(['state_name','Week','Year'])['avg_aqi'].mean().reset_index()\n",
    "airQ_data_mean.head()"
   ]
  },
  {
   "cell_type": "code",
   "execution_count": 16,
   "metadata": {},
   "outputs": [
    {
     "data": {
      "text/plain": [
       "1011"
      ]
     },
     "execution_count": 16,
     "metadata": {},
     "output_type": "execute_result"
    }
   ],
   "source": [
    "len(airQ_data_mean)"
   ]
  },
  {
   "cell_type": "code",
   "execution_count": 17,
   "metadata": {},
   "outputs": [
    {
     "data": {
      "text/html": [
       "<div>\n",
       "<style scoped>\n",
       "    .dataframe tbody tr th:only-of-type {\n",
       "        vertical-align: middle;\n",
       "    }\n",
       "\n",
       "    .dataframe tbody tr th {\n",
       "        vertical-align: top;\n",
       "    }\n",
       "\n",
       "    .dataframe thead th {\n",
       "        text-align: right;\n",
       "    }\n",
       "</style>\n",
       "<table border=\"1\" class=\"dataframe\">\n",
       "  <thead>\n",
       "    <tr style=\"text-align: right;\">\n",
       "      <th></th>\n",
       "      <th>state_name</th>\n",
       "      <th>Week</th>\n",
       "      <th>Year</th>\n",
       "      <th>avg_aqi</th>\n",
       "    </tr>\n",
       "  </thead>\n",
       "  <tbody>\n",
       "    <tr>\n",
       "      <td>0</td>\n",
       "      <td>California</td>\n",
       "      <td>0</td>\n",
       "      <td>1999</td>\n",
       "      <td>92.500000</td>\n",
       "    </tr>\n",
       "    <tr>\n",
       "      <td>1</td>\n",
       "      <td>California</td>\n",
       "      <td>0</td>\n",
       "      <td>2000</td>\n",
       "      <td>75.437500</td>\n",
       "    </tr>\n",
       "    <tr>\n",
       "      <td>2</td>\n",
       "      <td>California</td>\n",
       "      <td>0</td>\n",
       "      <td>2001</td>\n",
       "      <td>87.254457</td>\n",
       "    </tr>\n",
       "    <tr>\n",
       "      <td>3</td>\n",
       "      <td>California</td>\n",
       "      <td>0</td>\n",
       "      <td>2002</td>\n",
       "      <td>61.261568</td>\n",
       "    </tr>\n",
       "    <tr>\n",
       "      <td>4</td>\n",
       "      <td>California</td>\n",
       "      <td>0</td>\n",
       "      <td>2003</td>\n",
       "      <td>55.143505</td>\n",
       "    </tr>\n",
       "  </tbody>\n",
       "</table>\n",
       "</div>"
      ],
      "text/plain": [
       "   state_name  Week  Year    avg_aqi\n",
       "0  California     0  1999  92.500000\n",
       "1  California     0  2000  75.437500\n",
       "2  California     0  2001  87.254457\n",
       "3  California     0  2002  61.261568\n",
       "4  California     0  2003  55.143505"
      ]
     },
     "execution_count": 17,
     "metadata": {},
     "output_type": "execute_result"
    }
   ],
   "source": [
    "#dropping 0 values\n",
    "indexNames = airQ_data_mean[ (airQ_data_mean['avg_aqi'] == 0.000000)].index\n",
    "airQ_data_mean.drop(indexNames , inplace=True)\n",
    "airQ_data_mean.head()\n"
   ]
  },
  {
   "cell_type": "code",
   "execution_count": 18,
   "metadata": {},
   "outputs": [
    {
     "data": {
      "text/plain": [
       "1011"
      ]
     },
     "execution_count": 18,
     "metadata": {},
     "output_type": "execute_result"
    }
   ],
   "source": [
    "len(airQ_data_mean)"
   ]
  },
  {
   "cell_type": "code",
   "execution_count": 19,
   "metadata": {},
   "outputs": [
    {
     "data": {
      "text/plain": [
       "array([ 0,  1,  2,  3,  4,  5,  6,  7,  8,  9, 10, 11, 12, 13, 14, 15, 16,\n",
       "       17, 18, 19, 20, 21, 22, 23, 24, 25, 26, 27, 28, 29, 30, 31, 32, 33,\n",
       "       34, 35, 36, 37, 38, 39, 40, 41, 42, 43, 44, 45, 46, 47, 48, 49, 50,\n",
       "       51, 52, 53])"
      ]
     },
     "execution_count": 19,
     "metadata": {},
     "output_type": "execute_result"
    }
   ],
   "source": [
    "airQ_data_mean['Week'].unique()"
   ]
  },
  {
   "cell_type": "code",
   "execution_count": 20,
   "metadata": {},
   "outputs": [
    {
     "data": {
      "text/plain": [
       "array([ 1,  2,  3,  4,  5,  6,  7,  8,  9, 10, 11, 12, 13, 14, 15, 16, 17,\n",
       "       18, 19, 20, 21, 22, 23, 24, 25, 26, 27, 28, 29, 30, 31, 32, 33, 34,\n",
       "       35, 36, 37, 38, 39, 40, 41, 42, 43, 44, 45, 46, 47, 48, 49, 50, 51,\n",
       "       52, 53, 54])"
      ]
     },
     "execution_count": 20,
     "metadata": {},
     "output_type": "execute_result"
    }
   ],
   "source": [
    "#increasing week number by 1 to match influenza data\n",
    "airQ_data_mean['Week'] = airQ_data_mean['Week']+1\n",
    "airQ_data_mean['Week'].unique()"
   ]
  },
  {
   "cell_type": "code",
   "execution_count": 21,
   "metadata": {},
   "outputs": [
    {
     "data": {
      "text/plain": [
       "array([1999, 2000, 2001, 2002, 2003, 2004, 2005, 2007, 2008, 2009, 2010,\n",
       "       2011, 2013, 2014, 2015, 2016, 2006, 2012, 2017, 1998])"
      ]
     },
     "execution_count": 21,
     "metadata": {},
     "output_type": "execute_result"
    }
   ],
   "source": [
    "airQ_data_mean['Year'].unique()"
   ]
  },
  {
   "cell_type": "code",
   "execution_count": 22,
   "metadata": {},
   "outputs": [
    {
     "data": {
      "text/html": [
       "<div>\n",
       "<style scoped>\n",
       "    .dataframe tbody tr th:only-of-type {\n",
       "        vertical-align: middle;\n",
       "    }\n",
       "\n",
       "    .dataframe tbody tr th {\n",
       "        vertical-align: top;\n",
       "    }\n",
       "\n",
       "    .dataframe thead th {\n",
       "        text-align: right;\n",
       "    }\n",
       "</style>\n",
       "<table border=\"1\" class=\"dataframe\">\n",
       "  <thead>\n",
       "    <tr style=\"text-align: right;\">\n",
       "      <th></th>\n",
       "      <th>state_name</th>\n",
       "      <th>Week</th>\n",
       "      <th>Year</th>\n",
       "      <th>avg_aqi</th>\n",
       "    </tr>\n",
       "  </thead>\n",
       "  <tbody>\n",
       "    <tr>\n",
       "      <td>0</td>\n",
       "      <td>California</td>\n",
       "      <td>1</td>\n",
       "      <td>1999</td>\n",
       "      <td>92.500000</td>\n",
       "    </tr>\n",
       "    <tr>\n",
       "      <td>1</td>\n",
       "      <td>California</td>\n",
       "      <td>1</td>\n",
       "      <td>2000</td>\n",
       "      <td>75.437500</td>\n",
       "    </tr>\n",
       "    <tr>\n",
       "      <td>2</td>\n",
       "      <td>California</td>\n",
       "      <td>1</td>\n",
       "      <td>2001</td>\n",
       "      <td>87.254457</td>\n",
       "    </tr>\n",
       "    <tr>\n",
       "      <td>3</td>\n",
       "      <td>California</td>\n",
       "      <td>1</td>\n",
       "      <td>2002</td>\n",
       "      <td>61.261568</td>\n",
       "    </tr>\n",
       "    <tr>\n",
       "      <td>4</td>\n",
       "      <td>California</td>\n",
       "      <td>1</td>\n",
       "      <td>2003</td>\n",
       "      <td>55.143505</td>\n",
       "    </tr>\n",
       "    <tr>\n",
       "      <td>...</td>\n",
       "      <td>...</td>\n",
       "      <td>...</td>\n",
       "      <td>...</td>\n",
       "      <td>...</td>\n",
       "    </tr>\n",
       "    <tr>\n",
       "      <td>1006</td>\n",
       "      <td>California</td>\n",
       "      <td>53</td>\n",
       "      <td>2017</td>\n",
       "      <td>78.873386</td>\n",
       "    </tr>\n",
       "    <tr>\n",
       "      <td>1007</td>\n",
       "      <td>California</td>\n",
       "      <td>54</td>\n",
       "      <td>2000</td>\n",
       "      <td>130.863636</td>\n",
       "    </tr>\n",
       "    <tr>\n",
       "      <td>1008</td>\n",
       "      <td>California</td>\n",
       "      <td>54</td>\n",
       "      <td>2006</td>\n",
       "      <td>83.514493</td>\n",
       "    </tr>\n",
       "    <tr>\n",
       "      <td>1009</td>\n",
       "      <td>California</td>\n",
       "      <td>54</td>\n",
       "      <td>2012</td>\n",
       "      <td>63.000000</td>\n",
       "    </tr>\n",
       "    <tr>\n",
       "      <td>1010</td>\n",
       "      <td>California</td>\n",
       "      <td>54</td>\n",
       "      <td>2017</td>\n",
       "      <td>121.755556</td>\n",
       "    </tr>\n",
       "  </tbody>\n",
       "</table>\n",
       "<p>1011 rows × 4 columns</p>\n",
       "</div>"
      ],
      "text/plain": [
       "      state_name  Week  Year     avg_aqi\n",
       "0     California     1  1999   92.500000\n",
       "1     California     1  2000   75.437500\n",
       "2     California     1  2001   87.254457\n",
       "3     California     1  2002   61.261568\n",
       "4     California     1  2003   55.143505\n",
       "...          ...   ...   ...         ...\n",
       "1006  California    53  2017   78.873386\n",
       "1007  California    54  2000  130.863636\n",
       "1008  California    54  2006   83.514493\n",
       "1009  California    54  2012   63.000000\n",
       "1010  California    54  2017  121.755556\n",
       "\n",
       "[1011 rows x 4 columns]"
      ]
     },
     "execution_count": 22,
     "metadata": {},
     "output_type": "execute_result"
    }
   ],
   "source": [
    "airQ_data_mean"
   ]
  },
  {
   "cell_type": "code",
   "execution_count": 38,
   "metadata": {},
   "outputs": [
    {
     "data": {
      "text/html": [
       "<div>\n",
       "<style scoped>\n",
       "    .dataframe tbody tr th:only-of-type {\n",
       "        vertical-align: middle;\n",
       "    }\n",
       "\n",
       "    .dataframe tbody tr th {\n",
       "        vertical-align: top;\n",
       "    }\n",
       "\n",
       "    .dataframe thead th {\n",
       "        text-align: right;\n",
       "    }\n",
       "</style>\n",
       "<table border=\"1\" class=\"dataframe\">\n",
       "  <thead>\n",
       "    <tr style=\"text-align: right;\">\n",
       "      <th></th>\n",
       "      <th>CATCHMENT</th>\n",
       "      <th>NETWORK</th>\n",
       "      <th>SEASON</th>\n",
       "      <th>MMWR-YEAR</th>\n",
       "      <th>MMWR-WEEK</th>\n",
       "      <th>AGE CATEGORY</th>\n",
       "      <th>CUMULATIVE RATE</th>\n",
       "      <th>WEEKLY RATE</th>\n",
       "    </tr>\n",
       "  </thead>\n",
       "  <tbody>\n",
       "    <tr>\n",
       "      <td>0</td>\n",
       "      <td>California</td>\n",
       "      <td>EIP</td>\n",
       "      <td>2005-06</td>\n",
       "      <td>2005</td>\n",
       "      <td>40</td>\n",
       "      <td>0-4 yr</td>\n",
       "      <td>0.9</td>\n",
       "      <td>0.9</td>\n",
       "    </tr>\n",
       "    <tr>\n",
       "      <td>1</td>\n",
       "      <td>California</td>\n",
       "      <td>EIP</td>\n",
       "      <td>2005-06</td>\n",
       "      <td>2005</td>\n",
       "      <td>41</td>\n",
       "      <td>0-4 yr</td>\n",
       "      <td>2.6</td>\n",
       "      <td>1.7</td>\n",
       "    </tr>\n",
       "    <tr>\n",
       "      <td>2</td>\n",
       "      <td>California</td>\n",
       "      <td>EIP</td>\n",
       "      <td>2005-06</td>\n",
       "      <td>2005</td>\n",
       "      <td>42</td>\n",
       "      <td>0-4 yr</td>\n",
       "      <td>2.6</td>\n",
       "      <td>0.0</td>\n",
       "    </tr>\n",
       "    <tr>\n",
       "      <td>3</td>\n",
       "      <td>California</td>\n",
       "      <td>EIP</td>\n",
       "      <td>2005-06</td>\n",
       "      <td>2005</td>\n",
       "      <td>43</td>\n",
       "      <td>0-4 yr</td>\n",
       "      <td>2.6</td>\n",
       "      <td>0.0</td>\n",
       "    </tr>\n",
       "    <tr>\n",
       "      <td>4</td>\n",
       "      <td>California</td>\n",
       "      <td>EIP</td>\n",
       "      <td>2005-06</td>\n",
       "      <td>2005</td>\n",
       "      <td>44</td>\n",
       "      <td>0-4 yr</td>\n",
       "      <td>2.6</td>\n",
       "      <td>0.0</td>\n",
       "    </tr>\n",
       "  </tbody>\n",
       "</table>\n",
       "</div>"
      ],
      "text/plain": [
       "    CATCHMENT NETWORK   SEASON  MMWR-YEAR  MMWR-WEEK AGE CATEGORY  \\\n",
       "0  California     EIP  2005-06       2005         40       0-4 yr   \n",
       "1  California     EIP  2005-06       2005         41       0-4 yr   \n",
       "2  California     EIP  2005-06       2005         42       0-4 yr   \n",
       "3  California     EIP  2005-06       2005         43       0-4 yr   \n",
       "4  California     EIP  2005-06       2005         44       0-4 yr   \n",
       "\n",
       "   CUMULATIVE RATE  WEEKLY RATE   \n",
       "0              0.9           0.9  \n",
       "1              2.6           1.7  \n",
       "2              2.6           0.0  \n",
       "3              2.6           0.0  \n",
       "4              2.6           0.0  "
      ]
     },
     "execution_count": 38,
     "metadata": {},
     "output_type": "execute_result"
    }
   ],
   "source": [
    "#we will use this influenza data\n",
    "flu_data = pd.read_csv('../Datasets/Disease cases/Flu/Flu_California_Data.csv', low_memory=False)\n",
    "flu_data.head()"
   ]
  },
  {
   "cell_type": "code",
   "execution_count": 40,
   "metadata": {},
   "outputs": [
    {
     "data": {
      "text/plain": [
       "array(['0-4 yr', '5-17 yr', '18-49 yr', '50-64 yr', '65+ yr', 'Overall',\n",
       "       '65-74 yr', '75-84 yr', '85+'], dtype=object)"
      ]
     },
     "execution_count": 40,
     "metadata": {},
     "output_type": "execute_result"
    }
   ],
   "source": [
    "flu_data['AGE CATEGORY'].unique()"
   ]
  },
  {
   "cell_type": "code",
   "execution_count": 42,
   "metadata": {},
   "outputs": [
    {
     "data": {
      "text/plain": [
       "array([2005, 2006, 2007, 2008, 2009, 2010, 2011, 2012, 2013, 2014, 2015,\n",
       "       2016, 2017, 2018, 2019])"
      ]
     },
     "execution_count": 42,
     "metadata": {},
     "output_type": "execute_result"
    }
   ],
   "source": [
    "flu_data['MMWR-YEAR'].unique()"
   ]
  },
  {
   "cell_type": "code",
   "execution_count": 44,
   "metadata": {},
   "outputs": [],
   "source": [
    "#merging AQ data && influenza data\n",
    "\n",
    "merged = pd.merge(airQ_data_mean,flu_data,how='inner', left_on=['Year', 'Week'], right_on=['MMWR-YEAR','MMWR-WEEK'])"
   ]
  },
  {
   "cell_type": "code",
   "execution_count": 45,
   "metadata": {},
   "outputs": [
    {
     "data": {
      "text/plain": [
       "3393"
      ]
     },
     "execution_count": 45,
     "metadata": {},
     "output_type": "execute_result"
    }
   ],
   "source": [
    "len(merged)"
   ]
  },
  {
   "cell_type": "code",
   "execution_count": 46,
   "metadata": {},
   "outputs": [
    {
     "data": {
      "text/html": [
       "<div>\n",
       "<style scoped>\n",
       "    .dataframe tbody tr th:only-of-type {\n",
       "        vertical-align: middle;\n",
       "    }\n",
       "\n",
       "    .dataframe tbody tr th {\n",
       "        vertical-align: top;\n",
       "    }\n",
       "\n",
       "    .dataframe thead th {\n",
       "        text-align: right;\n",
       "    }\n",
       "</style>\n",
       "<table border=\"1\" class=\"dataframe\">\n",
       "  <thead>\n",
       "    <tr style=\"text-align: right;\">\n",
       "      <th></th>\n",
       "      <th>state_name</th>\n",
       "      <th>Week</th>\n",
       "      <th>Year</th>\n",
       "      <th>avg_aqi</th>\n",
       "      <th>CATCHMENT</th>\n",
       "      <th>NETWORK</th>\n",
       "      <th>SEASON</th>\n",
       "      <th>MMWR-YEAR</th>\n",
       "      <th>MMWR-WEEK</th>\n",
       "      <th>AGE CATEGORY</th>\n",
       "      <th>CUMULATIVE RATE</th>\n",
       "      <th>WEEKLY RATE</th>\n",
       "    </tr>\n",
       "  </thead>\n",
       "  <tbody>\n",
       "    <tr>\n",
       "      <td>0</td>\n",
       "      <td>California</td>\n",
       "      <td>1</td>\n",
       "      <td>2007</td>\n",
       "      <td>48.906338</td>\n",
       "      <td>California</td>\n",
       "      <td>EIP</td>\n",
       "      <td>2006-07</td>\n",
       "      <td>2007</td>\n",
       "      <td>1</td>\n",
       "      <td>0-4 yr</td>\n",
       "      <td>3.0</td>\n",
       "      <td>0.5</td>\n",
       "    </tr>\n",
       "    <tr>\n",
       "      <td>1</td>\n",
       "      <td>California</td>\n",
       "      <td>1</td>\n",
       "      <td>2007</td>\n",
       "      <td>48.906338</td>\n",
       "      <td>California</td>\n",
       "      <td>EIP</td>\n",
       "      <td>2006-07</td>\n",
       "      <td>2007</td>\n",
       "      <td>1</td>\n",
       "      <td>5-17 yr</td>\n",
       "      <td>0.2</td>\n",
       "      <td>0.0</td>\n",
       "    </tr>\n",
       "    <tr>\n",
       "      <td>2</td>\n",
       "      <td>California</td>\n",
       "      <td>1</td>\n",
       "      <td>2007</td>\n",
       "      <td>48.906338</td>\n",
       "      <td>California</td>\n",
       "      <td>EIP</td>\n",
       "      <td>2006-07</td>\n",
       "      <td>2007</td>\n",
       "      <td>1</td>\n",
       "      <td>18-49 yr</td>\n",
       "      <td>0.1</td>\n",
       "      <td>0.1</td>\n",
       "    </tr>\n",
       "    <tr>\n",
       "      <td>3</td>\n",
       "      <td>California</td>\n",
       "      <td>1</td>\n",
       "      <td>2007</td>\n",
       "      <td>48.906338</td>\n",
       "      <td>California</td>\n",
       "      <td>EIP</td>\n",
       "      <td>2006-07</td>\n",
       "      <td>2007</td>\n",
       "      <td>1</td>\n",
       "      <td>50-64 yr</td>\n",
       "      <td>0.5</td>\n",
       "      <td>0.5</td>\n",
       "    </tr>\n",
       "    <tr>\n",
       "      <td>4</td>\n",
       "      <td>California</td>\n",
       "      <td>1</td>\n",
       "      <td>2007</td>\n",
       "      <td>48.906338</td>\n",
       "      <td>California</td>\n",
       "      <td>EIP</td>\n",
       "      <td>2006-07</td>\n",
       "      <td>2007</td>\n",
       "      <td>1</td>\n",
       "      <td>65+ yr</td>\n",
       "      <td>0.5</td>\n",
       "      <td>0.0</td>\n",
       "    </tr>\n",
       "    <tr>\n",
       "      <td>...</td>\n",
       "      <td>...</td>\n",
       "      <td>...</td>\n",
       "      <td>...</td>\n",
       "      <td>...</td>\n",
       "      <td>...</td>\n",
       "      <td>...</td>\n",
       "      <td>...</td>\n",
       "      <td>...</td>\n",
       "      <td>...</td>\n",
       "      <td>...</td>\n",
       "      <td>...</td>\n",
       "      <td>...</td>\n",
       "    </tr>\n",
       "    <tr>\n",
       "      <td>3388</td>\n",
       "      <td>California</td>\n",
       "      <td>53</td>\n",
       "      <td>2014</td>\n",
       "      <td>53.122396</td>\n",
       "      <td>California</td>\n",
       "      <td>EIP</td>\n",
       "      <td>2014-15</td>\n",
       "      <td>2014</td>\n",
       "      <td>53</td>\n",
       "      <td>65+ yr</td>\n",
       "      <td>18.3</td>\n",
       "      <td>8.5</td>\n",
       "    </tr>\n",
       "    <tr>\n",
       "      <td>3389</td>\n",
       "      <td>California</td>\n",
       "      <td>53</td>\n",
       "      <td>2014</td>\n",
       "      <td>53.122396</td>\n",
       "      <td>California</td>\n",
       "      <td>EIP</td>\n",
       "      <td>2014-15</td>\n",
       "      <td>2014</td>\n",
       "      <td>53</td>\n",
       "      <td>Overall</td>\n",
       "      <td>4.3</td>\n",
       "      <td>1.9</td>\n",
       "    </tr>\n",
       "    <tr>\n",
       "      <td>3390</td>\n",
       "      <td>California</td>\n",
       "      <td>53</td>\n",
       "      <td>2014</td>\n",
       "      <td>53.122396</td>\n",
       "      <td>California</td>\n",
       "      <td>EIP</td>\n",
       "      <td>2014-15</td>\n",
       "      <td>2014</td>\n",
       "      <td>53</td>\n",
       "      <td>65-74 yr</td>\n",
       "      <td>8.1</td>\n",
       "      <td>4.4</td>\n",
       "    </tr>\n",
       "    <tr>\n",
       "      <td>3391</td>\n",
       "      <td>California</td>\n",
       "      <td>53</td>\n",
       "      <td>2014</td>\n",
       "      <td>53.122396</td>\n",
       "      <td>California</td>\n",
       "      <td>EIP</td>\n",
       "      <td>2014-15</td>\n",
       "      <td>2014</td>\n",
       "      <td>53</td>\n",
       "      <td>75-84 yr</td>\n",
       "      <td>21.6</td>\n",
       "      <td>12.2</td>\n",
       "    </tr>\n",
       "    <tr>\n",
       "      <td>3392</td>\n",
       "      <td>California</td>\n",
       "      <td>53</td>\n",
       "      <td>2014</td>\n",
       "      <td>53.122396</td>\n",
       "      <td>California</td>\n",
       "      <td>EIP</td>\n",
       "      <td>2014-15</td>\n",
       "      <td>2014</td>\n",
       "      <td>53</td>\n",
       "      <td>85+</td>\n",
       "      <td>51.6</td>\n",
       "      <td>17.2</td>\n",
       "    </tr>\n",
       "  </tbody>\n",
       "</table>\n",
       "<p>3393 rows × 12 columns</p>\n",
       "</div>"
      ],
      "text/plain": [
       "      state_name  Week  Year    avg_aqi   CATCHMENT NETWORK   SEASON  \\\n",
       "0     California     1  2007  48.906338  California     EIP  2006-07   \n",
       "1     California     1  2007  48.906338  California     EIP  2006-07   \n",
       "2     California     1  2007  48.906338  California     EIP  2006-07   \n",
       "3     California     1  2007  48.906338  California     EIP  2006-07   \n",
       "4     California     1  2007  48.906338  California     EIP  2006-07   \n",
       "...          ...   ...   ...        ...         ...     ...      ...   \n",
       "3388  California    53  2014  53.122396  California     EIP  2014-15   \n",
       "3389  California    53  2014  53.122396  California     EIP  2014-15   \n",
       "3390  California    53  2014  53.122396  California     EIP  2014-15   \n",
       "3391  California    53  2014  53.122396  California     EIP  2014-15   \n",
       "3392  California    53  2014  53.122396  California     EIP  2014-15   \n",
       "\n",
       "      MMWR-YEAR  MMWR-WEEK AGE CATEGORY  CUMULATIVE RATE  WEEKLY RATE   \n",
       "0          2007          1       0-4 yr              3.0           0.5  \n",
       "1          2007          1      5-17 yr              0.2           0.0  \n",
       "2          2007          1     18-49 yr              0.1           0.1  \n",
       "3          2007          1     50-64 yr              0.5           0.5  \n",
       "4          2007          1       65+ yr              0.5           0.0  \n",
       "...         ...        ...          ...              ...           ...  \n",
       "3388       2014         53       65+ yr             18.3           8.5  \n",
       "3389       2014         53      Overall              4.3           1.9  \n",
       "3390       2014         53     65-74 yr              8.1           4.4  \n",
       "3391       2014         53     75-84 yr             21.6          12.2  \n",
       "3392       2014         53          85+             51.6          17.2  \n",
       "\n",
       "[3393 rows x 12 columns]"
      ]
     },
     "execution_count": 46,
     "metadata": {},
     "output_type": "execute_result"
    }
   ],
   "source": [
    "merged"
   ]
  },
  {
   "cell_type": "code",
   "execution_count": 47,
   "metadata": {},
   "outputs": [
    {
     "data": {
      "image/png": "[encoded data removed]",
      "text/plain": [
       "<Figure size 1152x720 with 2 Axes>"
      ]
     },
     "metadata": {
      "needs_background": "light"
     },
     "output_type": "display_data"
    }
   ],
   "source": [
    "corr = merged.corr()\n",
    "g = sns.heatmap(corr, vmax=.9, center=0,\n",
    "               square=True, linewidths=.9, cbar_kws={\"shrink\": .8}, annot=True, fmt='.2f', cmap='coolwarm')\n",
    "bottom, top = g.get_ylim()\n",
    "g.set_ylim(bottom + 0.5, top - 0.5)\n",
    "sns.despine()\n",
    "g.figure.set_size_inches(16, 10)"
   ]
  },
  {
   "cell_type": "code",
   "execution_count": 51,
   "metadata": {},
   "outputs": [
    {
     "data": {
      "text/plain": [
       "array(['0-4 yr', '5-17 yr', '18-49 yr', '50-64 yr', '65+ yr', 'Overall',\n",
       "       '65-74 yr', '75-84 yr', '85+'], dtype=object)"
      ]
     },
     "execution_count": 51,
     "metadata": {},
     "output_type": "execute_result"
    }
   ],
   "source": [
    "merged_filtered = merged[merged['AGE CATEGORY'] == '18-49 yr']\n",
    "flu_data['AGE CATEGORY'].unique()"
   ]
  },
  {
   "cell_type": "code",
   "execution_count": 52,
   "metadata": {},
   "outputs": [
    {
     "data": {
      "text/html": [
       "<div>\n",
       "<style scoped>\n",
       "    .dataframe tbody tr th:only-of-type {\n",
       "        vertical-align: middle;\n",
       "    }\n",
       "\n",
       "    .dataframe tbody tr th {\n",
       "        vertical-align: top;\n",
       "    }\n",
       "\n",
       "    .dataframe thead th {\n",
       "        text-align: right;\n",
       "    }\n",
       "</style>\n",
       "<table border=\"1\" class=\"dataframe\">\n",
       "  <thead>\n",
       "    <tr style=\"text-align: right;\">\n",
       "      <th></th>\n",
       "      <th>state_name</th>\n",
       "      <th>Week</th>\n",
       "      <th>Year</th>\n",
       "      <th>avg_aqi</th>\n",
       "      <th>CATCHMENT</th>\n",
       "      <th>NETWORK</th>\n",
       "      <th>SEASON</th>\n",
       "      <th>MMWR-YEAR</th>\n",
       "      <th>MMWR-WEEK</th>\n",
       "      <th>AGE CATEGORY</th>\n",
       "      <th>CUMULATIVE RATE</th>\n",
       "      <th>WEEKLY RATE</th>\n",
       "    </tr>\n",
       "  </thead>\n",
       "  <tbody>\n",
       "    <tr>\n",
       "      <td>2</td>\n",
       "      <td>California</td>\n",
       "      <td>1</td>\n",
       "      <td>2007</td>\n",
       "      <td>48.906338</td>\n",
       "      <td>California</td>\n",
       "      <td>EIP</td>\n",
       "      <td>2006-07</td>\n",
       "      <td>2007</td>\n",
       "      <td>1</td>\n",
       "      <td>18-49 yr</td>\n",
       "      <td>0.1</td>\n",
       "      <td>0.1</td>\n",
       "    </tr>\n",
       "    <tr>\n",
       "      <td>11</td>\n",
       "      <td>California</td>\n",
       "      <td>1</td>\n",
       "      <td>2008</td>\n",
       "      <td>42.092245</td>\n",
       "      <td>California</td>\n",
       "      <td>EIP</td>\n",
       "      <td>2007-08</td>\n",
       "      <td>2008</td>\n",
       "      <td>1</td>\n",
       "      <td>18-49 yr</td>\n",
       "      <td>0.3</td>\n",
       "      <td>0.2</td>\n",
       "    </tr>\n",
       "    <tr>\n",
       "      <td>20</td>\n",
       "      <td>California</td>\n",
       "      <td>1</td>\n",
       "      <td>2009</td>\n",
       "      <td>78.039744</td>\n",
       "      <td>California</td>\n",
       "      <td>EIP</td>\n",
       "      <td>2008-09</td>\n",
       "      <td>2009</td>\n",
       "      <td>1</td>\n",
       "      <td>18-49 yr</td>\n",
       "      <td>0.1</td>\n",
       "      <td>0.0</td>\n",
       "    </tr>\n",
       "    <tr>\n",
       "      <td>29</td>\n",
       "      <td>California</td>\n",
       "      <td>1</td>\n",
       "      <td>2010</td>\n",
       "      <td>45.354839</td>\n",
       "      <td>California</td>\n",
       "      <td>EIP</td>\n",
       "      <td>2009-10</td>\n",
       "      <td>2010</td>\n",
       "      <td>1</td>\n",
       "      <td>18-49 yr</td>\n",
       "      <td>13.8</td>\n",
       "      <td>0.3</td>\n",
       "    </tr>\n",
       "    <tr>\n",
       "      <td>38</td>\n",
       "      <td>California</td>\n",
       "      <td>1</td>\n",
       "      <td>2011</td>\n",
       "      <td>48.000000</td>\n",
       "      <td>California</td>\n",
       "      <td>EIP</td>\n",
       "      <td>2010-11</td>\n",
       "      <td>2011</td>\n",
       "      <td>1</td>\n",
       "      <td>18-49 yr</td>\n",
       "      <td>0.4</td>\n",
       "      <td>0.1</td>\n",
       "    </tr>\n",
       "  </tbody>\n",
       "</table>\n",
       "</div>"
      ],
      "text/plain": [
       "    state_name  Week  Year    avg_aqi   CATCHMENT NETWORK   SEASON  MMWR-YEAR  \\\n",
       "2   California     1  2007  48.906338  California     EIP  2006-07       2007   \n",
       "11  California     1  2008  42.092245  California     EIP  2007-08       2008   \n",
       "20  California     1  2009  78.039744  California     EIP  2008-09       2009   \n",
       "29  California     1  2010  45.354839  California     EIP  2009-10       2010   \n",
       "38  California     1  2011  48.000000  California     EIP  2010-11       2011   \n",
       "\n",
       "    MMWR-WEEK AGE CATEGORY  CUMULATIVE RATE  WEEKLY RATE   \n",
       "2           1     18-49 yr              0.1           0.1  \n",
       "11          1     18-49 yr              0.3           0.2  \n",
       "20          1     18-49 yr              0.1           0.0  \n",
       "29          1     18-49 yr             13.8           0.3  \n",
       "38          1     18-49 yr              0.4           0.1  "
      ]
     },
     "execution_count": 52,
     "metadata": {},
     "output_type": "execute_result"
    }
   ],
   "source": [
    "merged_filtered.head()"
   ]
  },
  {
   "cell_type": "code",
   "execution_count": 53,
   "metadata": {},
   "outputs": [
    {
     "data": {
      "image/png": "[encoded data removed]",
      "text/plain": [
       "<Figure size 1152x720 with 2 Axes>"
      ]
     },
     "metadata": {
      "needs_background": "light"
     },
     "output_type": "display_data"
    }
   ],
   "source": [
    "corr = merged_filtered.corr()\n",
    "g = sns.heatmap(corr, vmax=.9, center=0,\n",
    "               square=True, linewidths=.9, cbar_kws={\"shrink\": .8}, annot=True, fmt='.2f', cmap='coolwarm')\n",
    "bottom, top = g.get_ylim()\n",
    "g.set_ylim(bottom + 0.5, top - 0.5)\n",
    "sns.despine()\n",
    "g.figure.set_size_inches(16, 10)"
   ]
  },
  {
   "cell_type": "code",
   "execution_count": 54,
   "metadata": {},
   "outputs": [
    {
     "data": {
      "text/plain": [
       "(array([ 0,  1,  2,  3,  4,  5,  6,  7,  8,  9, 10, 11, 12]),\n",
       " <a list of 13 Text xticklabel objects>)"
      ]
     },
     "execution_count": 54,
     "metadata": {},
     "output_type": "execute_result"
    },
    {
     "data": {
      "image/png": "[encoded data removed]",
      "text/plain": [
       "<Figure size 432x288 with 1 Axes>"
      ]
     },
     "metadata": {
      "needs_background": "light"
     },
     "output_type": "display_data"
    }
   ],
   "source": [
    "sns.barplot(x='Year', y='avg_aqi', data=merged_filtered, saturation=0.8)\n",
    "plt.xticks(rotation=90)"
   ]
  },
  {
   "cell_type": "code",
   "execution_count": 57,
   "metadata": {},
   "outputs": [
    {
     "data": {
      "text/plain": [
       "(array([ 0,  1,  2,  3,  4,  5,  6,  7,  8,  9, 10, 11, 12]),\n",
       " <a list of 13 Text xticklabel objects>)"
      ]
     },
     "execution_count": 57,
     "metadata": {},
     "output_type": "execute_result"
    },
    {
     "data": {
      "image/png": "[encoded data removed]",
      "text/plain": [
       "<Figure size 432x288 with 1 Axes>"
      ]
     },
     "metadata": {
      "needs_background": "light"
     },
     "output_type": "display_data"
    }
   ],
   "source": [
    "sns.barplot(x='Year', y='CUMULATIVE RATE', hue='AGE CATEGORY', data=merged, saturation=0.8)\n",
    "plt.xticks(rotation=90)"
   ]
  },
  {
   "cell_type": "code",
   "execution_count": 58,
   "metadata": {},
   "outputs": [
    {
     "data": {
      "text/html": [
       "<div>\n",
       "<style scoped>\n",
       "    .dataframe tbody tr th:only-of-type {\n",
       "        vertical-align: middle;\n",
       "    }\n",
       "\n",
       "    .dataframe tbody tr th {\n",
       "        vertical-align: top;\n",
       "    }\n",
       "\n",
       "    .dataframe thead th {\n",
       "        text-align: right;\n",
       "    }\n",
       "</style>\n",
       "<table border=\"1\" class=\"dataframe\">\n",
       "  <thead>\n",
       "    <tr style=\"text-align: right;\">\n",
       "      <th></th>\n",
       "      <th>state_name</th>\n",
       "      <th>Week</th>\n",
       "      <th>Year</th>\n",
       "      <th>avg_aqi</th>\n",
       "      <th>CATCHMENT</th>\n",
       "      <th>NETWORK</th>\n",
       "      <th>SEASON</th>\n",
       "      <th>MMWR-YEAR</th>\n",
       "      <th>MMWR-WEEK</th>\n",
       "      <th>AGE CATEGORY</th>\n",
       "      <th>CUMULATIVE RATE</th>\n",
       "      <th>WEEKLY RATE</th>\n",
       "    </tr>\n",
       "  </thead>\n",
       "  <tbody>\n",
       "    <tr>\n",
       "      <td>0</td>\n",
       "      <td>California</td>\n",
       "      <td>1</td>\n",
       "      <td>2007</td>\n",
       "      <td>48.906338</td>\n",
       "      <td>California</td>\n",
       "      <td>EIP</td>\n",
       "      <td>2006-07</td>\n",
       "      <td>2007</td>\n",
       "      <td>1</td>\n",
       "      <td>0-4 yr</td>\n",
       "      <td>3.0</td>\n",
       "      <td>0.5</td>\n",
       "    </tr>\n",
       "    <tr>\n",
       "      <td>1</td>\n",
       "      <td>California</td>\n",
       "      <td>1</td>\n",
       "      <td>2007</td>\n",
       "      <td>48.906338</td>\n",
       "      <td>California</td>\n",
       "      <td>EIP</td>\n",
       "      <td>2006-07</td>\n",
       "      <td>2007</td>\n",
       "      <td>1</td>\n",
       "      <td>5-17 yr</td>\n",
       "      <td>0.2</td>\n",
       "      <td>0.0</td>\n",
       "    </tr>\n",
       "    <tr>\n",
       "      <td>2</td>\n",
       "      <td>California</td>\n",
       "      <td>1</td>\n",
       "      <td>2007</td>\n",
       "      <td>48.906338</td>\n",
       "      <td>California</td>\n",
       "      <td>EIP</td>\n",
       "      <td>2006-07</td>\n",
       "      <td>2007</td>\n",
       "      <td>1</td>\n",
       "      <td>18-49 yr</td>\n",
       "      <td>0.1</td>\n",
       "      <td>0.1</td>\n",
       "    </tr>\n",
       "    <tr>\n",
       "      <td>3</td>\n",
       "      <td>California</td>\n",
       "      <td>1</td>\n",
       "      <td>2007</td>\n",
       "      <td>48.906338</td>\n",
       "      <td>California</td>\n",
       "      <td>EIP</td>\n",
       "      <td>2006-07</td>\n",
       "      <td>2007</td>\n",
       "      <td>1</td>\n",
       "      <td>50-64 yr</td>\n",
       "      <td>0.5</td>\n",
       "      <td>0.5</td>\n",
       "    </tr>\n",
       "    <tr>\n",
       "      <td>4</td>\n",
       "      <td>California</td>\n",
       "      <td>1</td>\n",
       "      <td>2007</td>\n",
       "      <td>48.906338</td>\n",
       "      <td>California</td>\n",
       "      <td>EIP</td>\n",
       "      <td>2006-07</td>\n",
       "      <td>2007</td>\n",
       "      <td>1</td>\n",
       "      <td>65+ yr</td>\n",
       "      <td>0.5</td>\n",
       "      <td>0.0</td>\n",
       "    </tr>\n",
       "    <tr>\n",
       "      <td>...</td>\n",
       "      <td>...</td>\n",
       "      <td>...</td>\n",
       "      <td>...</td>\n",
       "      <td>...</td>\n",
       "      <td>...</td>\n",
       "      <td>...</td>\n",
       "      <td>...</td>\n",
       "      <td>...</td>\n",
       "      <td>...</td>\n",
       "      <td>...</td>\n",
       "      <td>...</td>\n",
       "      <td>...</td>\n",
       "    </tr>\n",
       "    <tr>\n",
       "      <td>3388</td>\n",
       "      <td>California</td>\n",
       "      <td>53</td>\n",
       "      <td>2014</td>\n",
       "      <td>53.122396</td>\n",
       "      <td>California</td>\n",
       "      <td>EIP</td>\n",
       "      <td>2014-15</td>\n",
       "      <td>2014</td>\n",
       "      <td>53</td>\n",
       "      <td>65+ yr</td>\n",
       "      <td>18.3</td>\n",
       "      <td>8.5</td>\n",
       "    </tr>\n",
       "    <tr>\n",
       "      <td>3389</td>\n",
       "      <td>California</td>\n",
       "      <td>53</td>\n",
       "      <td>2014</td>\n",
       "      <td>53.122396</td>\n",
       "      <td>California</td>\n",
       "      <td>EIP</td>\n",
       "      <td>2014-15</td>\n",
       "      <td>2014</td>\n",
       "      <td>53</td>\n",
       "      <td>Overall</td>\n",
       "      <td>4.3</td>\n",
       "      <td>1.9</td>\n",
       "    </tr>\n",
       "    <tr>\n",
       "      <td>3390</td>\n",
       "      <td>California</td>\n",
       "      <td>53</td>\n",
       "      <td>2014</td>\n",
       "      <td>53.122396</td>\n",
       "      <td>California</td>\n",
       "      <td>EIP</td>\n",
       "      <td>2014-15</td>\n",
       "      <td>2014</td>\n",
       "      <td>53</td>\n",
       "      <td>65-74 yr</td>\n",
       "      <td>8.1</td>\n",
       "      <td>4.4</td>\n",
       "    </tr>\n",
       "    <tr>\n",
       "      <td>3391</td>\n",
       "      <td>California</td>\n",
       "      <td>53</td>\n",
       "      <td>2014</td>\n",
       "      <td>53.122396</td>\n",
       "      <td>California</td>\n",
       "      <td>EIP</td>\n",
       "      <td>2014-15</td>\n",
       "      <td>2014</td>\n",
       "      <td>53</td>\n",
       "      <td>75-84 yr</td>\n",
       "      <td>21.6</td>\n",
       "      <td>12.2</td>\n",
       "    </tr>\n",
       "    <tr>\n",
       "      <td>3392</td>\n",
       "      <td>California</td>\n",
       "      <td>53</td>\n",
       "      <td>2014</td>\n",
       "      <td>53.122396</td>\n",
       "      <td>California</td>\n",
       "      <td>EIP</td>\n",
       "      <td>2014-15</td>\n",
       "      <td>2014</td>\n",
       "      <td>53</td>\n",
       "      <td>85+</td>\n",
       "      <td>51.6</td>\n",
       "      <td>17.2</td>\n",
       "    </tr>\n",
       "  </tbody>\n",
       "</table>\n",
       "<p>3393 rows × 12 columns</p>\n",
       "</div>"
      ],
      "text/plain": [
       "      state_name  Week  Year    avg_aqi   CATCHMENT NETWORK   SEASON  \\\n",
       "0     California     1  2007  48.906338  California     EIP  2006-07   \n",
       "1     California     1  2007  48.906338  California     EIP  2006-07   \n",
       "2     California     1  2007  48.906338  California     EIP  2006-07   \n",
       "3     California     1  2007  48.906338  California     EIP  2006-07   \n",
       "4     California     1  2007  48.906338  California     EIP  2006-07   \n",
       "...          ...   ...   ...        ...         ...     ...      ...   \n",
       "3388  California    53  2014  53.122396  California     EIP  2014-15   \n",
       "3389  California    53  2014  53.122396  California     EIP  2014-15   \n",
       "3390  California    53  2014  53.122396  California     EIP  2014-15   \n",
       "3391  California    53  2014  53.122396  California     EIP  2014-15   \n",
       "3392  California    53  2014  53.122396  California     EIP  2014-15   \n",
       "\n",
       "      MMWR-YEAR  MMWR-WEEK AGE CATEGORY  CUMULATIVE RATE  WEEKLY RATE   \n",
       "0          2007          1       0-4 yr              3.0           0.5  \n",
       "1          2007          1      5-17 yr              0.2           0.0  \n",
       "2          2007          1     18-49 yr              0.1           0.1  \n",
       "3          2007          1     50-64 yr              0.5           0.5  \n",
       "4          2007          1       65+ yr              0.5           0.0  \n",
       "...         ...        ...          ...              ...           ...  \n",
       "3388       2014         53       65+ yr             18.3           8.5  \n",
       "3389       2014         53      Overall              4.3           1.9  \n",
       "3390       2014         53     65-74 yr              8.1           4.4  \n",
       "3391       2014         53     75-84 yr             21.6          12.2  \n",
       "3392       2014         53          85+             51.6          17.2  \n",
       "\n",
       "[3393 rows x 12 columns]"
      ]
     },
     "execution_count": 58,
     "metadata": {},
     "output_type": "execute_result"
    }
   ],
   "source": [
    "merged"
   ]
  },
  {
   "cell_type": "code",
   "execution_count": 59,
   "metadata": {},
   "outputs": [
    {
     "data": {
      "text/plain": [
       "<matplotlib.axes._subplots.AxesSubplot at 0x1a26d59710>"
      ]
     },
     "execution_count": 59,
     "metadata": {},
     "output_type": "execute_result"
    },
    {
     "data": {
      "image/png": "[encoded data removed]",
      "text/plain": [
       "<Figure size 432x288 with 1 Axes>"
      ]
     },
     "metadata": {
      "needs_background": "light"
     },
     "output_type": "display_data"
    }
   ],
   "source": [
    "#plotting AQ index value vs. Virus\n",
    "merged_filtered=merged[merged['AGE CATEGORY'] == '0-4 yr']\n",
    "merged_filtered[['avg_aqi','CUMULATIVE RATE']].plot()"
   ]
  },
  {
   "cell_type": "code",
   "execution_count": 61,
   "metadata": {},
   "outputs": [
    {
     "data": {
      "text/plain": [
       "(array([2004., 2006., 2008., 2010., 2012., 2014., 2016., 2018.]),\n",
       " <a list of 8 Text xticklabel objects>)"
      ]
     },
     "execution_count": 61,
     "metadata": {},
     "output_type": "execute_result"
    },
    {
     "data": {
      "image/png": "[encoded data removed]",
      "text/plain": [
       "<Figure size 432x288 with 1 Axes>"
      ]
     },
     "metadata": {
      "needs_background": "light"
     },
     "output_type": "display_data"
    }
   ],
   "source": [
    "plt.figure()\n",
    "\n",
    "merged_filtered=merged[merged['AGE CATEGORY'] == '0-4 yr']\n",
    "\n",
    "\n",
    "x = merged_filtered['Year']\n",
    "y1 = merged_filtered['avg_aqi'] \n",
    "y2 = merged_filtered['CUMULATIVE RATE']\n",
    "\n",
    "\n",
    "plt.plot(x,y1)\n",
    "plt.plot(x,y2)\n",
    "plt.xticks(rotation=90)"
   ]
  },
  {
   "cell_type": "code",
   "execution_count": 62,
   "metadata": {},
   "outputs": [
    {
     "data": {
      "image/png": "[encoded data removed]",
      "text/plain": [
       "<Figure size 432x288 with 1 Axes>"
      ]
     },
     "metadata": {
      "needs_background": "light"
     },
     "output_type": "display_data"
    }
   ],
   "source": [
    "sns.distplot(merged_filtered['avg_aqi'])\n",
    "plt.show()"
   ]
  },
  {
   "cell_type": "code",
   "execution_count": 63,
   "metadata": {},
   "outputs": [
    {
     "data": {
      "image/png": "[encoded data removed]",
      "text/plain": [
       "<Figure size 432x288 with 1 Axes>"
      ]
     },
     "metadata": {
      "needs_background": "light"
     },
     "output_type": "display_data"
    }
   ],
   "source": [
    "sns.distplot(merged_filtered['CUMULATIVE RATE'])\n",
    "plt.show()"
   ]
  },
  {
   "cell_type": "code",
   "execution_count": 64,
   "metadata": {},
   "outputs": [
    {
     "data": {
      "image/png": "[encoded data removed]",
      "text/plain": [
       "<Figure size 432x288 with 1 Axes>"
      ]
     },
     "metadata": {
      "needs_background": "light"
     },
     "output_type": "display_data"
    }
   ],
   "source": [
    "# Method 1: on the same Axis\n",
    "sns.distplot( (merged_filtered[\"avg_aqi\"]) , color=\"blue\", label=\"avg_aqi\")\n",
    "sns.distplot( merged_filtered[\"CUMULATIVE RATE\"] , color=\"red\", label=\"Patient+\")\n",
    "plt.legend()\n",
    " \n",
    "plt.show()\n"
   ]
  },
  {
   "cell_type": "code",
   "execution_count": 65,
   "metadata": {},
   "outputs": [
    {
     "data": {
      "text/html": [
       "<div>\n",
       "<style scoped>\n",
       "    .dataframe tbody tr th:only-of-type {\n",
       "        vertical-align: middle;\n",
       "    }\n",
       "\n",
       "    .dataframe tbody tr th {\n",
       "        vertical-align: top;\n",
       "    }\n",
       "\n",
       "    .dataframe thead th {\n",
       "        text-align: right;\n",
       "    }\n",
       "</style>\n",
       "<table border=\"1\" class=\"dataframe\">\n",
       "  <thead>\n",
       "    <tr style=\"text-align: right;\">\n",
       "      <th></th>\n",
       "      <th>state_name</th>\n",
       "      <th>Week</th>\n",
       "      <th>Year</th>\n",
       "      <th>avg_aqi</th>\n",
       "      <th>CATCHMENT</th>\n",
       "      <th>NETWORK</th>\n",
       "      <th>SEASON</th>\n",
       "      <th>MMWR-YEAR</th>\n",
       "      <th>MMWR-WEEK</th>\n",
       "      <th>AGE CATEGORY</th>\n",
       "      <th>CUMULATIVE RATE</th>\n",
       "      <th>WEEKLY RATE</th>\n",
       "    </tr>\n",
       "  </thead>\n",
       "  <tbody>\n",
       "    <tr>\n",
       "      <td>0</td>\n",
       "      <td>California</td>\n",
       "      <td>1</td>\n",
       "      <td>2007</td>\n",
       "      <td>48.906338</td>\n",
       "      <td>California</td>\n",
       "      <td>EIP</td>\n",
       "      <td>2006-07</td>\n",
       "      <td>2007</td>\n",
       "      <td>1</td>\n",
       "      <td>0-4 yr</td>\n",
       "      <td>3.0</td>\n",
       "      <td>0.5</td>\n",
       "    </tr>\n",
       "    <tr>\n",
       "      <td>1</td>\n",
       "      <td>California</td>\n",
       "      <td>1</td>\n",
       "      <td>2007</td>\n",
       "      <td>48.906338</td>\n",
       "      <td>California</td>\n",
       "      <td>EIP</td>\n",
       "      <td>2006-07</td>\n",
       "      <td>2007</td>\n",
       "      <td>1</td>\n",
       "      <td>5-17 yr</td>\n",
       "      <td>0.2</td>\n",
       "      <td>0.0</td>\n",
       "    </tr>\n",
       "    <tr>\n",
       "      <td>2</td>\n",
       "      <td>California</td>\n",
       "      <td>1</td>\n",
       "      <td>2007</td>\n",
       "      <td>48.906338</td>\n",
       "      <td>California</td>\n",
       "      <td>EIP</td>\n",
       "      <td>2006-07</td>\n",
       "      <td>2007</td>\n",
       "      <td>1</td>\n",
       "      <td>18-49 yr</td>\n",
       "      <td>0.1</td>\n",
       "      <td>0.1</td>\n",
       "    </tr>\n",
       "    <tr>\n",
       "      <td>3</td>\n",
       "      <td>California</td>\n",
       "      <td>1</td>\n",
       "      <td>2007</td>\n",
       "      <td>48.906338</td>\n",
       "      <td>California</td>\n",
       "      <td>EIP</td>\n",
       "      <td>2006-07</td>\n",
       "      <td>2007</td>\n",
       "      <td>1</td>\n",
       "      <td>50-64 yr</td>\n",
       "      <td>0.5</td>\n",
       "      <td>0.5</td>\n",
       "    </tr>\n",
       "    <tr>\n",
       "      <td>4</td>\n",
       "      <td>California</td>\n",
       "      <td>1</td>\n",
       "      <td>2007</td>\n",
       "      <td>48.906338</td>\n",
       "      <td>California</td>\n",
       "      <td>EIP</td>\n",
       "      <td>2006-07</td>\n",
       "      <td>2007</td>\n",
       "      <td>1</td>\n",
       "      <td>65+ yr</td>\n",
       "      <td>0.5</td>\n",
       "      <td>0.0</td>\n",
       "    </tr>\n",
       "  </tbody>\n",
       "</table>\n",
       "</div>"
      ],
      "text/plain": [
       "   state_name  Week  Year    avg_aqi   CATCHMENT NETWORK   SEASON  MMWR-YEAR  \\\n",
       "0  California     1  2007  48.906338  California     EIP  2006-07       2007   \n",
       "1  California     1  2007  48.906338  California     EIP  2006-07       2007   \n",
       "2  California     1  2007  48.906338  California     EIP  2006-07       2007   \n",
       "3  California     1  2007  48.906338  California     EIP  2006-07       2007   \n",
       "4  California     1  2007  48.906338  California     EIP  2006-07       2007   \n",
       "\n",
       "   MMWR-WEEK AGE CATEGORY  CUMULATIVE RATE  WEEKLY RATE   \n",
       "0          1       0-4 yr              3.0           0.5  \n",
       "1          1      5-17 yr              0.2           0.0  \n",
       "2          1     18-49 yr              0.1           0.1  \n",
       "3          1     50-64 yr              0.5           0.5  \n",
       "4          1       65+ yr              0.5           0.0  "
      ]
     },
     "execution_count": 65,
     "metadata": {},
     "output_type": "execute_result"
    }
   ],
   "source": [
    "merged.head()"
   ]
  },
  {
   "cell_type": "code",
   "execution_count": 86,
   "metadata": {},
   "outputs": [],
   "source": [
    "# Prep Training and Test data -from combined age group\n",
    "trainData, testData = train_test_split(merged, train_size=0.7, random_state=100)"
   ]
  },
  {
   "cell_type": "code",
   "execution_count": 69,
   "metadata": {},
   "outputs": [
    {
     "data": {
      "text/plain": [
       "Index(['state_name', 'Week', 'Year', 'avg_aqi', 'CATCHMENT', 'NETWORK',\n",
       "       'SEASON', 'MMWR-YEAR', 'MMWR-WEEK', 'AGE CATEGORY', 'CUMULATIVE RATE',\n",
       "       'WEEKLY RATE '],\n",
       "      dtype='object')"
      ]
     },
     "execution_count": 69,
     "metadata": {},
     "output_type": "execute_result"
    }
   ],
   "source": [
    "merged.columns"
   ]
  },
  {
   "cell_type": "code",
   "execution_count": 82,
   "metadata": {},
   "outputs": [],
   "source": [
    "merged['AGE CATEGORY CODE'] = merged['AGE CATEGORY'].astype('category').cat.codes"
   ]
  },
  {
   "cell_type": "code",
   "execution_count": 83,
   "metadata": {},
   "outputs": [
    {
     "data": {
      "text/plain": [
       "state_name            object\n",
       "Week                   int64\n",
       "Year                   int64\n",
       "avg_aqi              float64\n",
       "CATCHMENT             object\n",
       "NETWORK               object\n",
       "SEASON                object\n",
       "MMWR-YEAR              int64\n",
       "MMWR-WEEK              int64\n",
       "AGE CATEGORY          object\n",
       "CUMULATIVE RATE      float64\n",
       "WEEKLY RATE          float64\n",
       "AGE CATEGORY CODE       int8\n",
       "dtype: object"
      ]
     },
     "execution_count": 83,
     "metadata": {},
     "output_type": "execute_result"
    }
   ],
   "source": [
    "merged.dtypes"
   ]
  },
  {
   "cell_type": "code",
   "execution_count": 87,
   "metadata": {},
   "outputs": [],
   "source": [
    "#X and Y(target) for linear regression\n",
    "Y_trainData = trainData[['CUMULATIVE RATE']]\n",
    "X_trainData= trainData.drop(['state_name','CUMULATIVE RATE','CATCHMENT','NETWORK','WEEKLY RATE ','SEASON','AGE CATEGORY'], axis =1 )\n",
    "X_trainData.head()\n",
    "\n",
    "#test data\n",
    "Y_testData = testData[['CUMULATIVE RATE']]\n",
    "X_testData= testData.drop(['state_name','CUMULATIVE RATE','CATCHMENT','NETWORK','WEEKLY RATE ','SEASON','AGE CATEGORY'], axis =1 )\n"
   ]
  },
  {
   "cell_type": "code",
   "execution_count": 88,
   "metadata": {},
   "outputs": [
    {
     "data": {
      "text/html": [
       "<div>\n",
       "<style scoped>\n",
       "    .dataframe tbody tr th:only-of-type {\n",
       "        vertical-align: middle;\n",
       "    }\n",
       "\n",
       "    .dataframe tbody tr th {\n",
       "        vertical-align: top;\n",
       "    }\n",
       "\n",
       "    .dataframe thead th {\n",
       "        text-align: right;\n",
       "    }\n",
       "</style>\n",
       "<table border=\"1\" class=\"dataframe\">\n",
       "  <thead>\n",
       "    <tr style=\"text-align: right;\">\n",
       "      <th></th>\n",
       "      <th>Week</th>\n",
       "      <th>Year</th>\n",
       "      <th>avg_aqi</th>\n",
       "      <th>MMWR-YEAR</th>\n",
       "      <th>MMWR-WEEK</th>\n",
       "      <th>AGE CATEGORY CODE</th>\n",
       "    </tr>\n",
       "  </thead>\n",
       "  <tbody>\n",
       "    <tr>\n",
       "      <td>2100</td>\n",
       "      <td>42</td>\n",
       "      <td>2006</td>\n",
       "      <td>39.273309</td>\n",
       "      <td>2006</td>\n",
       "      <td>42</td>\n",
       "      <td>3</td>\n",
       "    </tr>\n",
       "    <tr>\n",
       "      <td>1775</td>\n",
       "      <td>17</td>\n",
       "      <td>2014</td>\n",
       "      <td>21.690497</td>\n",
       "      <td>2014</td>\n",
       "      <td>17</td>\n",
       "      <td>1</td>\n",
       "    </tr>\n",
       "    <tr>\n",
       "      <td>2172</td>\n",
       "      <td>42</td>\n",
       "      <td>2014</td>\n",
       "      <td>33.953684</td>\n",
       "      <td>2014</td>\n",
       "      <td>42</td>\n",
       "      <td>3</td>\n",
       "    </tr>\n",
       "    <tr>\n",
       "      <td>2351</td>\n",
       "      <td>44</td>\n",
       "      <td>2008</td>\n",
       "      <td>54.500021</td>\n",
       "      <td>2008</td>\n",
       "      <td>44</td>\n",
       "      <td>1</td>\n",
       "    </tr>\n",
       "    <tr>\n",
       "      <td>503</td>\n",
       "      <td>5</td>\n",
       "      <td>2016</td>\n",
       "      <td>37.438897</td>\n",
       "      <td>2016</td>\n",
       "      <td>5</td>\n",
       "      <td>7</td>\n",
       "    </tr>\n",
       "  </tbody>\n",
       "</table>\n",
       "</div>"
      ],
      "text/plain": [
       "      Week  Year    avg_aqi  MMWR-YEAR  MMWR-WEEK  AGE CATEGORY CODE\n",
       "2100    42  2006  39.273309       2006         42                  3\n",
       "1775    17  2014  21.690497       2014         17                  1\n",
       "2172    42  2014  33.953684       2014         42                  3\n",
       "2351    44  2008  54.500021       2008         44                  1\n",
       "503      5  2016  37.438897       2016          5                  7"
      ]
     },
     "execution_count": 88,
     "metadata": {},
     "output_type": "execute_result"
    }
   ],
   "source": [
    "X_trainData.head()"
   ]
  },
  {
   "cell_type": "code",
   "execution_count": 89,
   "metadata": {},
   "outputs": [
    {
     "name": "stdout",
     "output_type": "stream",
     "text": [
      "Training score%:  15.127866164659665 %\n",
      "Test score:  17.006590757180618 %\n",
      "RMSE: 63.506734653291915\n",
      "[-13029.21109737]\n",
      "[[ 7.52114934e+13  3.75984144e+10 -4.78773568e-01 -3.75984144e+10\n",
      "  -7.52114934e+13  6.73816327e+00]]\n"
     ]
    }
   ],
   "source": [
    "# Creating linear regression model.\n",
    "lr_model = LinearRegression()\n",
    "lr_model.fit(X_trainData,Y_trainData)\n",
    "\n",
    "# print the R-squared value for the model\n",
    "print('Training score%: ',lr_model.score(X_trainData, Y_trainData) *100, '%')\n",
    "print('Test score: ',lr_model.score(X_testData,Y_testData)*100, '%')\n",
    "\n",
    "y_pred = lr_model.predict(X_testData)\n",
    "mse = mean_squared_error(Y_testData, y_pred)\n",
    "rmse = math.sqrt(mse)\n",
    "\n",
    "print('RMSE: {}'.format(rmse))\n",
    "\n",
    "# Get the slope and intercept of the line best fit.\n",
    "print(lr_model.intercept_)\n",
    "print(lr_model.coef_)"
   ]
  },
  {
   "cell_type": "code",
   "execution_count": 90,
   "metadata": {},
   "outputs": [],
   "source": [
    "#for individual age group \n",
    "merged_filtered=merged[merged['AGE CATEGORY'] == '18-49 yr']\n",
    "# Prep Training and Test data -from combined age group\n",
    "trainData, testData = train_test_split(merged_filtered, train_size=0.7, random_state=100)"
   ]
  },
  {
   "cell_type": "code",
   "execution_count": 92,
   "metadata": {},
   "outputs": [
    {
     "data": {
      "text/html": [
       "<div>\n",
       "<style scoped>\n",
       "    .dataframe tbody tr th:only-of-type {\n",
       "        vertical-align: middle;\n",
       "    }\n",
       "\n",
       "    .dataframe tbody tr th {\n",
       "        vertical-align: top;\n",
       "    }\n",
       "\n",
       "    .dataframe thead th {\n",
       "        text-align: right;\n",
       "    }\n",
       "</style>\n",
       "<table border=\"1\" class=\"dataframe\">\n",
       "  <thead>\n",
       "    <tr style=\"text-align: right;\">\n",
       "      <th></th>\n",
       "      <th>state_name</th>\n",
       "      <th>Week</th>\n",
       "      <th>Year</th>\n",
       "      <th>avg_aqi</th>\n",
       "      <th>CATCHMENT</th>\n",
       "      <th>NETWORK</th>\n",
       "      <th>SEASON</th>\n",
       "      <th>MMWR-YEAR</th>\n",
       "      <th>MMWR-WEEK</th>\n",
       "      <th>AGE CATEGORY</th>\n",
       "      <th>CUMULATIVE RATE</th>\n",
       "      <th>WEEKLY RATE</th>\n",
       "      <th>AGE CATEGORY CODE</th>\n",
       "    </tr>\n",
       "  </thead>\n",
       "  <tbody>\n",
       "    <tr>\n",
       "      <td>1568</td>\n",
       "      <td>California</td>\n",
       "      <td>15</td>\n",
       "      <td>2015</td>\n",
       "      <td>21.035916</td>\n",
       "      <td>California</td>\n",
       "      <td>EIP</td>\n",
       "      <td>2014-15</td>\n",
       "      <td>2015</td>\n",
       "      <td>15</td>\n",
       "      <td>18-49 yr</td>\n",
       "      <td>9.5</td>\n",
       "      <td>0.0</td>\n",
       "      <td>1</td>\n",
       "    </tr>\n",
       "    <tr>\n",
       "      <td>317</td>\n",
       "      <td>California</td>\n",
       "      <td>4</td>\n",
       "      <td>2008</td>\n",
       "      <td>20.648614</td>\n",
       "      <td>California</td>\n",
       "      <td>EIP</td>\n",
       "      <td>2007-08</td>\n",
       "      <td>2008</td>\n",
       "      <td>4</td>\n",
       "      <td>18-49 yr</td>\n",
       "      <td>0.8</td>\n",
       "      <td>0.3</td>\n",
       "      <td>1</td>\n",
       "    </tr>\n",
       "    <tr>\n",
       "      <td>1325</td>\n",
       "      <td>California</td>\n",
       "      <td>13</td>\n",
       "      <td>2012</td>\n",
       "      <td>26.046515</td>\n",
       "      <td>California</td>\n",
       "      <td>EIP</td>\n",
       "      <td>2011-12</td>\n",
       "      <td>2012</td>\n",
       "      <td>13</td>\n",
       "      <td>18-49 yr</td>\n",
       "      <td>4.0</td>\n",
       "      <td>0.6</td>\n",
       "      <td>1</td>\n",
       "    </tr>\n",
       "    <tr>\n",
       "      <td>353</td>\n",
       "      <td>California</td>\n",
       "      <td>4</td>\n",
       "      <td>2012</td>\n",
       "      <td>48.860765</td>\n",
       "      <td>California</td>\n",
       "      <td>EIP</td>\n",
       "      <td>2011-12</td>\n",
       "      <td>2012</td>\n",
       "      <td>4</td>\n",
       "      <td>18-49 yr</td>\n",
       "      <td>0.5</td>\n",
       "      <td>0.1</td>\n",
       "      <td>1</td>\n",
       "    </tr>\n",
       "    <tr>\n",
       "      <td>2621</td>\n",
       "      <td>California</td>\n",
       "      <td>46</td>\n",
       "      <td>2012</td>\n",
       "      <td>37.755362</td>\n",
       "      <td>California</td>\n",
       "      <td>EIP</td>\n",
       "      <td>2012-13</td>\n",
       "      <td>2012</td>\n",
       "      <td>46</td>\n",
       "      <td>18-49 yr</td>\n",
       "      <td>0.0</td>\n",
       "      <td>0.0</td>\n",
       "      <td>1</td>\n",
       "    </tr>\n",
       "  </tbody>\n",
       "</table>\n",
       "</div>"
      ],
      "text/plain": [
       "      state_name  Week  Year    avg_aqi   CATCHMENT NETWORK   SEASON  \\\n",
       "1568  California    15  2015  21.035916  California     EIP  2014-15   \n",
       "317   California     4  2008  20.648614  California     EIP  2007-08   \n",
       "1325  California    13  2012  26.046515  California     EIP  2011-12   \n",
       "353   California     4  2012  48.860765  California     EIP  2011-12   \n",
       "2621  California    46  2012  37.755362  California     EIP  2012-13   \n",
       "\n",
       "      MMWR-YEAR  MMWR-WEEK AGE CATEGORY  CUMULATIVE RATE  WEEKLY RATE   \\\n",
       "1568       2015         15     18-49 yr              9.5           0.0   \n",
       "317        2008          4     18-49 yr              0.8           0.3   \n",
       "1325       2012         13     18-49 yr              4.0           0.6   \n",
       "353        2012          4     18-49 yr              0.5           0.1   \n",
       "2621       2012         46     18-49 yr              0.0           0.0   \n",
       "\n",
       "      AGE CATEGORY CODE  \n",
       "1568                  1  \n",
       "317                   1  \n",
       "1325                  1  \n",
       "353                   1  \n",
       "2621                  1  "
      ]
     },
     "execution_count": 92,
     "metadata": {},
     "output_type": "execute_result"
    }
   ],
   "source": [
    "trainData.head()"
   ]
  },
  {
   "cell_type": "code",
   "execution_count": 93,
   "metadata": {},
   "outputs": [],
   "source": [
    "#X and Y(target) for linear regression-individual age group \n",
    "Y_trainData = trainData[['CUMULATIVE RATE']]\n",
    "X_trainData= trainData.drop(['state_name','CUMULATIVE RATE','CATCHMENT','NETWORK','WEEKLY RATE ','SEASON','AGE CATEGORY'], axis =1 )\n",
    "X_trainData.head()\n",
    "\n",
    "#test data\n",
    "Y_testData = testData[['CUMULATIVE RATE']]\n",
    "X_testData= testData.drop(['state_name','CUMULATIVE RATE','CATCHMENT','NETWORK','WEEKLY RATE ','SEASON','AGE CATEGORY'], axis =1 )\n",
    "\n"
   ]
  },
  {
   "cell_type": "code",
   "execution_count": 94,
   "metadata": {},
   "outputs": [
    {
     "name": "stdout",
     "output_type": "stream",
     "text": [
      "Training score%:  29.829450104636045 %\n",
      "Test score:  33.264923709879454 %\n",
      "RMSE: 3.879770575506874\n",
      "intercept: [-899.45953891]\n",
      "coef [[-0.05141575  0.22551207 -0.02793659  0.22551207 -0.05141575  0.        ]]\n"
     ]
    }
   ],
   "source": [
    "# Creating linear regression model--individual age group\n",
    "lr_model = LinearRegression()\n",
    "lr_model.fit(X_trainData,Y_trainData)\n",
    "\n",
    "# print the R-squared value for the model\n",
    "print('Training score%: ',lr_model.score(X_trainData, Y_trainData) *100, '%')\n",
    "print('Test score: ',lr_model.score(X_testData,Y_testData)*100, '%')\n",
    "\n",
    "y_pred = lr_model.predict(X_testData)\n",
    "mse = mean_squared_error(Y_testData, y_pred)\n",
    "rmse = math.sqrt(mse)\n",
    "print('RMSE: {}'.format(rmse))\n",
    "\n",
    "# Get the slope and intercept of the line best fit.\n",
    "print('intercept:',lr_model.intercept_)\n",
    "print('coef', lr_model.coef_)"
   ]
  },
  {
   "cell_type": "code",
   "execution_count": 95,
   "metadata": {},
   "outputs": [
    {
     "name": "stdout",
     "output_type": "stream",
     "text": [
      "Training score%:  43.56201850233967 %\n",
      "Test score:  51.21531701982677 %\n"
     ]
    }
   ],
   "source": [
    "#creating polynomial features--individual age group \n",
    "\n",
    "steps = [\n",
    "    ('scalar', StandardScaler()),\n",
    "    ('poly', PolynomialFeatures(degree=2)),\n",
    "    ('model', LinearRegression())\n",
    "]\n",
    "\n",
    "pipeline = Pipeline(steps)\n",
    "pipeline.fit(X_trainData, Y_trainData)\n",
    "\n",
    "print('Training score%: ',pipeline.score(X_trainData, Y_trainData) *100, '%')\n",
    "print('Test score: ',pipeline.score(X_testData, Y_testData)*100, '%')\n",
    "# Testing score has decreased due to overfitting"
   ]
  },
  {
   "cell_type": "code",
   "execution_count": 96,
   "metadata": {},
   "outputs": [
    {
     "name": "stdout",
     "output_type": "stream",
     "text": [
      "Training score%:  43.246937184919254 %\n",
      "Test score:  50.626658123080325 %\n",
      "RMSE: 3.879770575506874\n"
     ]
    }
   ],
   "source": [
    "#l2 Regularization or Ridge Regression-alpha value =50-individual age group \n",
    "\n",
    "steps = [\n",
    "    ('scalar', StandardScaler()),\n",
    "    ('poly', PolynomialFeatures(degree=2)),\n",
    "    ('model', Ridge(alpha=50, fit_intercept=True))\n",
    "]\n",
    "\n",
    "ridge_pipe = Pipeline(steps)\n",
    "ridge_pipe.fit(X_trainData, Y_trainData)\n",
    "\n",
    "\n",
    "print('Training score%: ',ridge_pipe.score(X_trainData, Y_trainData) *100, '%')\n",
    "print('Test score: ',ridge_pipe.score(X_testData, Y_testData)*100, '%')\n",
    "\n",
    "mse = mean_squared_error(Y_testData, y_pred)\n",
    "rmse = math.sqrt(mse)\n",
    "\n",
    "print('RMSE: {}'.format(rmse))"
   ]
  },
  {
   "cell_type": "code",
   "execution_count": 97,
   "metadata": {},
   "outputs": [
    {
     "name": "stdout",
     "output_type": "stream",
     "text": [
      "Training score%:  40.74038095189682 %\n",
      "Test score:  43.99520217436009 %\n",
      "RMSE: 3.879770575506874\n"
     ]
    }
   ],
   "source": [
    "# l1 Regularization or Lasso Regression-individual age group \n",
    "\n",
    "steps = [\n",
    "    ('scalar', StandardScaler()),\n",
    "    ('poly', PolynomialFeatures(degree=2)),\n",
    "    ('model', Lasso(alpha=0.3, fit_intercept=True))\n",
    "]\n",
    "\n",
    "lasso_pipe = Pipeline(steps)\n",
    "lasso_pipe.fit(X_trainData, Y_trainData)\n",
    "\n",
    "\n",
    "print('Training score%: ',lasso_pipe.score(X_trainData, Y_trainData) *100, '%')\n",
    "print('Test score: ',lasso_pipe.score(X_testData, Y_testData)*100, '%')\n",
    "\n",
    "mse = mean_squared_error(Y_testData, y_pred)\n",
    "rmse = math.sqrt(mse)\n",
    "\n",
    "print('RMSE: {}'.format(rmse))"
   ]
  },
  {
   "cell_type": "markdown",
   "metadata": {},
   "source": [
    "# Random Forest"
   ]
  },
  {
   "cell_type": "code",
   "execution_count": 103,
   "metadata": {},
   "outputs": [
    {
     "data": {
      "text/html": [
       "<div>\n",
       "<style scoped>\n",
       "    .dataframe tbody tr th:only-of-type {\n",
       "        vertical-align: middle;\n",
       "    }\n",
       "\n",
       "    .dataframe tbody tr th {\n",
       "        vertical-align: top;\n",
       "    }\n",
       "\n",
       "    .dataframe thead th {\n",
       "        text-align: right;\n",
       "    }\n",
       "</style>\n",
       "<table border=\"1\" class=\"dataframe\">\n",
       "  <thead>\n",
       "    <tr style=\"text-align: right;\">\n",
       "      <th></th>\n",
       "      <th>CUMULATIVE RATE</th>\n",
       "    </tr>\n",
       "  </thead>\n",
       "  <tbody>\n",
       "    <tr>\n",
       "      <td>2100</td>\n",
       "      <td>0.0</td>\n",
       "    </tr>\n",
       "    <tr>\n",
       "      <td>1775</td>\n",
       "      <td>13.8</td>\n",
       "    </tr>\n",
       "    <tr>\n",
       "      <td>2172</td>\n",
       "      <td>0.3</td>\n",
       "    </tr>\n",
       "    <tr>\n",
       "      <td>2351</td>\n",
       "      <td>0.0</td>\n",
       "    </tr>\n",
       "    <tr>\n",
       "      <td>503</td>\n",
       "      <td>57.3</td>\n",
       "    </tr>\n",
       "  </tbody>\n",
       "</table>\n",
       "</div>"
      ],
      "text/plain": [
       "      CUMULATIVE RATE\n",
       "2100              0.0\n",
       "1775             13.8\n",
       "2172              0.3\n",
       "2351              0.0\n",
       "503              57.3"
      ]
     },
     "execution_count": 103,
     "metadata": {},
     "output_type": "execute_result"
    }
   ],
   "source": [
    "Y_trainData.head()"
   ]
  },
  {
   "cell_type": "code",
   "execution_count": 104,
   "metadata": {},
   "outputs": [],
   "source": [
    "\n",
    "y_train1 = np.asarray(Y_trainData.values, dtype=\"int\")\n",
    "y_test1 = np.asarray(Y_testData.values, dtype=\"int\")"
   ]
  },
  {
   "cell_type": "code",
   "execution_count": 108,
   "metadata": {},
   "outputs": [
    {
     "name": "stderr",
     "output_type": "stream",
     "text": [
      "/Users/jeyasri/opt/anaconda3/lib/python3.7/site-packages/ipykernel_launcher.py:8: DataConversionWarning: A column-vector y was passed when a 1d array was expected. Please change the shape of y to (n_samples,), for example using ravel().\n",
      "  \n"
     ]
    }
   ],
   "source": [
    "#Import Random Forest Model\n",
    "from sklearn.ensemble import RandomForestClassifier\n",
    "\n",
    "#Create a Gaussian Classifier\n",
    "clf=RandomForestClassifier(n_estimators=100)\n",
    "\n",
    "#Train the model using the training sets y_pred=clf.predict(X_test)\n",
    "clf.fit(X_trainData,y_train1)\n",
    "\n",
    "y_pred=clf.predict(X_testData)"
   ]
  },
  {
   "cell_type": "code",
   "execution_count": 109,
   "metadata": {},
   "outputs": [
    {
     "data": {
      "text/plain": [
       "38.80157170923379"
      ]
     },
     "execution_count": 109,
     "metadata": {},
     "output_type": "execute_result"
    }
   ],
   "source": [
    "from sklearn.metrics import accuracy_score\n",
    "accuracy_score(y_test1,y_pred)*100"
   ]
  },
  {
   "cell_type": "markdown",
   "metadata": {},
   "source": [
    "# Running for new field "
   ]
  },
  {
   "cell_type": "code",
   "execution_count": 114,
   "metadata": {},
   "outputs": [
    {
     "data": {
      "text/plain": [
       "Index(['state_name', 'Week', 'Year', 'avg_aqi', 'CATCHMENT', 'NETWORK',\n",
       "       'SEASON', 'MMWR-YEAR', 'MMWR-WEEK', 'AGE CATEGORY', 'CUMULATIVE RATE',\n",
       "       'WEEKLY RATE ', 'AGE CATEGORY CODE'],\n",
       "      dtype='object')"
      ]
     },
     "execution_count": 114,
     "metadata": {},
     "output_type": "execute_result"
    }
   ],
   "source": [
    "trainData.columns"
   ]
  },
  {
   "cell_type": "code",
   "execution_count": 115,
   "metadata": {},
   "outputs": [],
   "source": [
    "#X and Y(target) for linear regression-individual age group \n",
    "Y_trainData = trainData[['WEEKLY RATE ']]\n",
    "X_trainData= trainData.drop(['state_name','CUMULATIVE RATE','CATCHMENT','NETWORK','WEEKLY RATE ','SEASON','AGE CATEGORY'], axis =1 )\n",
    "X_trainData.head()\n",
    "\n",
    "#test data\n",
    "Y_testData = testData[['WEEKLY RATE ']]\n",
    "X_testData= testData.drop(['state_name','CUMULATIVE RATE','CATCHMENT','NETWORK','WEEKLY RATE ','SEASON','AGE CATEGORY'], axis =1 )\n",
    "\n",
    "\n"
   ]
  },
  {
   "cell_type": "code",
   "execution_count": 116,
   "metadata": {},
   "outputs": [
    {
     "name": "stdout",
     "output_type": "stream",
     "text": [
      "Training score%:  8.528995657677708 %\n",
      "Test score:  11.27768236838602 %\n",
      "RMSE: 5.75228258429566\n",
      "intercept: [-1159.88612105]\n",
      "coef [[ 4.03617643e+12  2.01769473e+09  8.55225693e-02 -2.01769473e+09\n",
      "  -4.03617643e+12  5.07177713e-01]]\n"
     ]
    }
   ],
   "source": [
    "# Creating linear regression model--individual age group\n",
    "lr_model = LinearRegression()\n",
    "lr_model.fit(X_trainData,Y_trainData)\n",
    "\n",
    "# print the R-squared value for the model\n",
    "print('Training score%: ',lr_model.score(X_trainData, Y_trainData) *100, '%')\n",
    "print('Test score: ',lr_model.score(X_testData,Y_testData)*100, '%')\n",
    "\n",
    "y_pred = lr_model.predict(X_testData)\n",
    "mse = mean_squared_error(Y_testData, y_pred)\n",
    "rmse = math.sqrt(mse)\n",
    "print('RMSE: {}'.format(rmse))\n",
    "\n",
    "# Get the slope and intercept of the line best fit.\n",
    "print('intercept:',lr_model.intercept_)\n",
    "print('coef', lr_model.coef_)"
   ]
  },
  {
   "cell_type": "code",
   "execution_count": 117,
   "metadata": {},
   "outputs": [
    {
     "name": "stdout",
     "output_type": "stream",
     "text": [
      "Training score%:  16.678883932704213 %\n",
      "Test score:  17.77421567482198 %\n"
     ]
    }
   ],
   "source": [
    "#creating polynomial features--individual age group \n",
    "\n",
    "steps = [\n",
    "    ('scalar', StandardScaler()),\n",
    "    ('poly', PolynomialFeatures(degree=2)),\n",
    "    ('model', LinearRegression())\n",
    "]\n",
    "\n",
    "pipeline = Pipeline(steps)\n",
    "pipeline.fit(X_trainData, Y_trainData)\n",
    "\n",
    "print('Training score%: ',pipeline.score(X_trainData, Y_trainData) *100, '%')\n",
    "print('Test score: ',pipeline.score(X_testData, Y_testData)*100, '%')\n",
    "# Testing score has decreased due to overfitting"
   ]
  },
  {
   "cell_type": "code",
   "execution_count": 118,
   "metadata": {},
   "outputs": [
    {
     "name": "stdout",
     "output_type": "stream",
     "text": [
      "Training score%:  16.677100940439193 %\n",
      "Test score:  18.23073053056553 %\n",
      "RMSE: 5.75228258429566\n"
     ]
    }
   ],
   "source": [
    "#l2 Regularization or Ridge Regression-alpha value =50-individual age group \n",
    "\n",
    "steps = [\n",
    "    ('scalar', StandardScaler()),\n",
    "    ('poly', PolynomialFeatures(degree=2)),\n",
    "    ('model', Ridge(alpha=50, fit_intercept=True))\n",
    "]\n",
    "\n",
    "ridge_pipe = Pipeline(steps)\n",
    "ridge_pipe.fit(X_trainData, Y_trainData)\n",
    "\n",
    "\n",
    "print('Training score%: ',ridge_pipe.score(X_trainData, Y_trainData) *100, '%')\n",
    "print('Test score: ',ridge_pipe.score(X_testData, Y_testData)*100, '%')\n",
    "\n",
    "mse = mean_squared_error(Y_testData, y_pred)\n",
    "rmse = math.sqrt(mse)\n",
    "\n",
    "print('RMSE: {}'.format(rmse))"
   ]
  },
  {
   "cell_type": "code",
   "execution_count": 119,
   "metadata": {},
   "outputs": [
    {
     "name": "stdout",
     "output_type": "stream",
     "text": [
      "Training score%:  14.850091274421484 %\n",
      "Test score:  18.652959936388424 %\n",
      "RMSE: 5.75228258429566\n"
     ]
    }
   ],
   "source": [
    "# l1 Regularization or Lasso Regression-individual age group \n",
    "\n",
    "steps = [\n",
    "    ('scalar', StandardScaler()),\n",
    "    ('poly', PolynomialFeatures(degree=2)),\n",
    "    ('model', Lasso(alpha=0.3, fit_intercept=True))\n",
    "]\n",
    "\n",
    "lasso_pipe = Pipeline(steps)\n",
    "lasso_pipe.fit(X_trainData, Y_trainData)\n",
    "\n",
    "\n",
    "print('Training score%: ',lasso_pipe.score(X_trainData, Y_trainData) *100, '%')\n",
    "print('Test score: ',lasso_pipe.score(X_testData, Y_testData)*100, '%')\n",
    "\n",
    "mse = mean_squared_error(Y_testData, y_pred)\n",
    "rmse = math.sqrt(mse)\n",
    "\n",
    "print('RMSE: {}'.format(rmse))"
   ]
  },
  {
   "cell_type": "markdown",
   "metadata": {},
   "source": [
    "## Random Forest"
   ]
  },
  {
   "cell_type": "code",
   "execution_count": 125,
   "metadata": {},
   "outputs": [],
   "source": [
    "\n",
    "y_train1 = np.asarray(Y_trainData.values, dtype=\"int\")\n",
    "y_test1 = np.asarray(Y_testData.values, dtype=\"int\")"
   ]
  },
  {
   "cell_type": "code",
   "execution_count": 126,
   "metadata": {},
   "outputs": [
    {
     "name": "stderr",
     "output_type": "stream",
     "text": [
      "/Users/jeyasri/opt/anaconda3/lib/python3.7/site-packages/ipykernel_launcher.py:8: DataConversionWarning: A column-vector y was passed when a 1d array was expected. Please change the shape of y to (n_samples,), for example using ravel().\n",
      "  \n"
     ]
    }
   ],
   "source": [
    "#Import Random Forest Model\n",
    "from sklearn.ensemble import RandomForestClassifier\n",
    "\n",
    "#Create a Gaussian Classifier\n",
    "clf=RandomForestClassifier(n_estimators=100)\n",
    "\n",
    "#Train the model using the training sets y_pred=clf.predict(X_test)\n",
    "clf.fit(X_trainData,y_train1)\n",
    "\n",
    "y_pred=clf.predict(X_testData)"
   ]
  },
  {
   "cell_type": "code",
   "execution_count": 127,
   "metadata": {},
   "outputs": [
    {
     "data": {
      "text/plain": [
       "66.60117878192534"
      ]
     },
     "execution_count": 127,
     "metadata": {},
     "output_type": "execute_result"
    }
   ],
   "source": [
    "from sklearn.metrics import accuracy_score\n",
    "accuracy_score(y_test1,y_pred)*100"
   ]
  },
  {
   "cell_type": "markdown",
   "metadata": {},
   "source": [
    "## Below code is reference from \n",
    "\n",
    "https://github.com/kidaufo/StatisticalModeling/blob/master/GLM.ipynb\n",
    "https://towardsdatascience.com/generalized-linear-models-9cbf848bb8ab"
   ]
  },
  {
   "cell_type": "code",
   "execution_count": 100,
   "metadata": {},
   "outputs": [
    {
     "ename": "NameError",
     "evalue": "name 'uniform' is not defined",
     "output_type": "error",
     "traceback": [
      "\u001b[0;31m---------------------------------------------------------------------------\u001b[0m",
      "\u001b[0;31mNameError\u001b[0m                                 Traceback (most recent call last)",
      "\u001b[0;32m<ipython-input-100-1c5c4497d2f6>\u001b[0m in \u001b[0;36m<module>\u001b[0;34m\u001b[0m\n\u001b[1;32m      7\u001b[0m \u001b[0mb\u001b[0m \u001b[0;34m=\u001b[0m \u001b[0;34m-\u001b[0m\u001b[0;36m0.4\u001b[0m\u001b[0;34m\u001b[0m\u001b[0;34m\u001b[0m\u001b[0m\n\u001b[1;32m      8\u001b[0m \u001b[0;34m\u001b[0m\u001b[0m\n\u001b[0;32m----> 9\u001b[0;31m \u001b[0mx\u001b[0m \u001b[0;34m=\u001b[0m \u001b[0muniform\u001b[0m\u001b[0;34m(\u001b[0m\u001b[0;36m1\u001b[0m\u001b[0;34m,\u001b[0m \u001b[0;36m5\u001b[0m\u001b[0;34m,\u001b[0m \u001b[0msize\u001b[0m\u001b[0;34m=\u001b[0m\u001b[0mn_sample\u001b[0m\u001b[0;34m)\u001b[0m\u001b[0;34m\u001b[0m\u001b[0;34m\u001b[0m\u001b[0m\n\u001b[0m\u001b[1;32m     10\u001b[0m \u001b[0mmu\u001b[0m \u001b[0;34m=\u001b[0m \u001b[0mnp\u001b[0m\u001b[0;34m.\u001b[0m\u001b[0mexp\u001b[0m\u001b[0;34m(\u001b[0m\u001b[0ma\u001b[0m \u001b[0;34m*\u001b[0m \u001b[0mx\u001b[0m \u001b[0;34m+\u001b[0m \u001b[0mb\u001b[0m\u001b[0;34m)\u001b[0m\u001b[0;34m\u001b[0m\u001b[0;34m\u001b[0m\u001b[0m\n\u001b[1;32m     11\u001b[0m \u001b[0my\u001b[0m \u001b[0;34m=\u001b[0m \u001b[0mpoisson\u001b[0m\u001b[0;34m(\u001b[0m\u001b[0mmu\u001b[0m\u001b[0;34m)\u001b[0m\u001b[0;34m\u001b[0m\u001b[0;34m\u001b[0m\u001b[0m\n",
      "\u001b[0;31mNameError\u001b[0m: name 'uniform' is not defined"
     ]
    }
   ],
   "source": [
    "# Poisson regression code\n",
    "\n",
    "import statsmodels.api as sm\n",
    "np.random.seed(5)\n",
    "n_sample = 100\n",
    "a = 0.6\n",
    "b = -0.4\n",
    "\n",
    "x = uniform(1, 5, size=n_sample)\n",
    "mu = np.exp(a * x + b)\n",
    "y = poisson(mu)\n",
    "\n",
    "exog, endog = sm.add_constant(x), y\n",
    "\n",
    "# Poisson regression\n",
    "mod = sm.GLM(endog, exog, family=sm.families.Poisson(link=sm.families.links.log()))\n",
    "res = mod.fit()\n",
    "display(res.summary())\n",
    "\n",
    "y_pred = res.predict(exog)\n",
    "\n",
    "idx = x.argsort()\n",
    "x_ord, y_pred_ord = x[idx], y_pred[idx]\n",
    "plt.plot(x_ord, y_pred_ord, color='m')\n",
    "plt.scatter(x, y,  s=20, alpha=0.8)\n",
    "plt.xlabel(\"X\")\n",
    "plt.ylabel(\"Y\")"
   ]
  },
  {
   "cell_type": "code",
   "execution_count": 140,
   "metadata": {},
   "outputs": [
    {
     "data": {
      "text/html": [
       "<table class=\"simpletable\">\n",
       "<caption>Generalized Linear Model Regression Results</caption>\n",
       "<tr>\n",
       "  <th>Dep. Variable:</th>           <td>y</td>        <th>  No. Observations:  </th>  <td>   100</td> \n",
       "</tr>\n",
       "<tr>\n",
       "  <th>Model:</th>                  <td>GLM</td>       <th>  Df Residuals:      </th>  <td>    98</td> \n",
       "</tr>\n",
       "<tr>\n",
       "  <th>Model Family:</th>        <td>Gaussian</td>     <th>  Df Model:          </th>  <td>     1</td> \n",
       "</tr>\n",
       "<tr>\n",
       "  <th>Link Function:</th>          <td>log</td>       <th>  Scale:             </th> <td>  6.1765</td>\n",
       "</tr>\n",
       "<tr>\n",
       "  <th>Method:</th>                <td>IRLS</td>       <th>  Log-Likelihood:    </th> <td> -231.93</td>\n",
       "</tr>\n",
       "<tr>\n",
       "  <th>Date:</th>            <td>Fri, 22 Nov 2019</td> <th>  Deviance:          </th> <td>  605.30</td>\n",
       "</tr>\n",
       "<tr>\n",
       "  <th>Time:</th>                <td>08:25:54</td>     <th>  Pearson chi2:      </th>  <td>  605.</td> \n",
       "</tr>\n",
       "<tr>\n",
       "  <th>No. Iterations:</th>          <td>6</td>        <th>                     </th>     <td> </td>   \n",
       "</tr>\n",
       "<tr>\n",
       "  <th>Covariance Type:</th>     <td>nonrobust</td>    <th>                     </th>     <td> </td>   \n",
       "</tr>\n",
       "</table>\n",
       "<table class=\"simpletable\">\n",
       "<tr>\n",
       "    <td></td>       <th>coef</th>     <th>std err</th>      <th>z</th>      <th>P>|z|</th>  <th>[0.025</th>    <th>0.975]</th>  \n",
       "</tr>\n",
       "<tr>\n",
       "  <th>const</th> <td>   -0.2369</td> <td>    0.224</td> <td>   -1.059</td> <td> 0.290</td> <td>   -0.675</td> <td>    0.202</td>\n",
       "</tr>\n",
       "<tr>\n",
       "  <th>x1</th>    <td>    0.5541</td> <td>    0.052</td> <td>   10.583</td> <td> 0.000</td> <td>    0.451</td> <td>    0.657</td>\n",
       "</tr>\n",
       "</table>"
      ],
      "text/plain": [
       "<class 'statsmodels.iolib.summary.Summary'>\n",
       "\"\"\"\n",
       "                 Generalized Linear Model Regression Results                  \n",
       "==============================================================================\n",
       "Dep. Variable:                      y   No. Observations:                  100\n",
       "Model:                            GLM   Df Residuals:                       98\n",
       "Model Family:                Gaussian   Df Model:                            1\n",
       "Link Function:                    log   Scale:                          6.1765\n",
       "Method:                          IRLS   Log-Likelihood:                -231.93\n",
       "Date:                Fri, 22 Nov 2019   Deviance:                       605.30\n",
       "Time:                        08:25:54   Pearson chi2:                     605.\n",
       "No. Iterations:                     6                                         \n",
       "Covariance Type:            nonrobust                                         \n",
       "==============================================================================\n",
       "                 coef    std err          z      P>|z|      [0.025      0.975]\n",
       "------------------------------------------------------------------------------\n",
       "const         -0.2369      0.224     -1.059      0.290      -0.675       0.202\n",
       "x1             0.5541      0.052     10.583      0.000       0.451       0.657\n",
       "==============================================================================\n",
       "\"\"\""
      ]
     },
     "metadata": {},
     "output_type": "display_data"
    },
    {
     "data": {
      "text/plain": [
       "Text(0, 0.5, 'Y')"
      ]
     },
     "execution_count": 140,
     "metadata": {},
     "output_type": "execute_result"
    },
    {
     "data": {
      "image/png": "[encoded data removed]",
      "text/plain": [
       "<Figure size 432x288 with 1 Axes>"
      ]
     },
     "metadata": {
      "needs_background": "light"
     },
     "output_type": "display_data"
    }
   ],
   "source": [
    "# Normal distribution + log link function\n",
    "from numpy.random import uniform, normal, poisson, binomial\n",
    "\n",
    "\n",
    "np.random.seed(5)\n",
    "n_sample = 100\n",
    "a = 0.6\n",
    "b = -0.4\n",
    "\n",
    "x = uniform(1, 5, size=n_sample)\n",
    "mu = np.exp(a * x + b)\n",
    "y = poisson(mu)\n",
    "exog, endog = sm.add_constant(x), y\n",
    "\n",
    "\n",
    "mod = sm.GLM(endog, exog, family=sm.families.Gaussian(sm.families.links.log()))\n",
    "res = mod.fit()\n",
    "display(res.summary())\n",
    "\n",
    "y_pred = res.predict(exog)\n",
    "\n",
    "idx = x.argsort()\n",
    "x_ord, y_pred_ord = x[idx], y_pred[idx]\n",
    "\n",
    "plt.plot(x_ord, y_pred_ord, color='m')\n",
    "plt.scatter(x, y,  s=20, alpha=0.8)\n",
    "plt.xlabel(\"X\")\n",
    "plt.ylabel(\"Y\")"
   ]
  },
  {
   "cell_type": "code",
   "execution_count": 129,
   "metadata": {},
   "outputs": [
    {
     "data": {
      "text/plain": [
       "[<matplotlib.lines.Line2D at 0x1c35e33350>]"
      ]
     },
     "execution_count": 129,
     "metadata": {},
     "output_type": "execute_result"
    },
    {
     "data": {
      "image/png": "[encoded data removed]",
      "text/plain": [
       "<Figure size 432x288 with 1 Axes>"
      ]
     },
     "metadata": {
      "needs_background": "light"
     },
     "output_type": "display_data"
    }
   ],
   "source": [
    "def logistic(x):\n",
    "    return 1 / (1 + np.exp(-x))\n",
    "\n",
    "\n",
    "xx = np.linspace(-8, 8)\n",
    "plt.plot(xx, logistic(xx))"
   ]
  },
  {
   "cell_type": "code",
   "execution_count": 133,
   "metadata": {},
   "outputs": [
    {
     "data": {
      "text/html": [
       "<table class=\"simpletable\">\n",
       "<caption>Generalized Linear Model Regression Results</caption>\n",
       "<tr>\n",
       "  <th>Dep. Variable:</th>           <td>y</td>        <th>  No. Observations:  </th>  <td>   100</td> \n",
       "</tr>\n",
       "<tr>\n",
       "  <th>Model:</th>                  <td>GLM</td>       <th>  Df Residuals:      </th>  <td>    98</td> \n",
       "</tr>\n",
       "<tr>\n",
       "  <th>Model Family:</th>        <td>Binomial</td>     <th>  Df Model:          </th>  <td>     1</td> \n",
       "</tr>\n",
       "<tr>\n",
       "  <th>Link Function:</th>         <td>logit</td>      <th>  Scale:             </th> <td>  1.0000</td>\n",
       "</tr>\n",
       "<tr>\n",
       "  <th>Method:</th>                <td>IRLS</td>       <th>  Log-Likelihood:    </th> <td> -31.508</td>\n",
       "</tr>\n",
       "<tr>\n",
       "  <th>Date:</th>            <td>Fri, 22 Nov 2019</td> <th>  Deviance:          </th> <td>  63.016</td>\n",
       "</tr>\n",
       "<tr>\n",
       "  <th>Time:</th>                <td>08:19:27</td>     <th>  Pearson chi2:      </th>  <td>  109.</td> \n",
       "</tr>\n",
       "<tr>\n",
       "  <th>No. Iterations:</th>          <td>6</td>        <th>                     </th>     <td> </td>   \n",
       "</tr>\n",
       "<tr>\n",
       "  <th>Covariance Type:</th>     <td>nonrobust</td>    <th>                     </th>     <td> </td>   \n",
       "</tr>\n",
       "</table>\n",
       "<table class=\"simpletable\">\n",
       "<tr>\n",
       "    <td></td>       <th>coef</th>     <th>std err</th>      <th>z</th>      <th>P>|z|</th>  <th>[0.025</th>    <th>0.975]</th>  \n",
       "</tr>\n",
       "<tr>\n",
       "  <th>const</th> <td>   -7.0444</td> <td>    1.385</td> <td>   -5.087</td> <td> 0.000</td> <td>   -9.758</td> <td>   -4.330</td>\n",
       "</tr>\n",
       "<tr>\n",
       "  <th>x1</th>    <td>    2.4211</td> <td>    0.465</td> <td>    5.207</td> <td> 0.000</td> <td>    1.510</td> <td>    3.332</td>\n",
       "</tr>\n",
       "</table>"
      ],
      "text/plain": [
       "<class 'statsmodels.iolib.summary.Summary'>\n",
       "\"\"\"\n",
       "                 Generalized Linear Model Regression Results                  \n",
       "==============================================================================\n",
       "Dep. Variable:                      y   No. Observations:                  100\n",
       "Model:                            GLM   Df Residuals:                       98\n",
       "Model Family:                Binomial   Df Model:                            1\n",
       "Link Function:                  logit   Scale:                          1.0000\n",
       "Method:                          IRLS   Log-Likelihood:                -31.508\n",
       "Date:                Fri, 22 Nov 2019   Deviance:                       63.016\n",
       "Time:                        08:19:27   Pearson chi2:                     109.\n",
       "No. Iterations:                     6                                         \n",
       "Covariance Type:            nonrobust                                         \n",
       "==============================================================================\n",
       "                 coef    std err          z      P>|z|      [0.025      0.975]\n",
       "------------------------------------------------------------------------------\n",
       "const         -7.0444      1.385     -5.087      0.000      -9.758      -4.330\n",
       "x1             2.4211      0.465      5.207      0.000       1.510       3.332\n",
       "==============================================================================\n",
       "\"\"\""
      ]
     },
     "metadata": {},
     "output_type": "display_data"
    },
    {
     "data": {
      "text/plain": [
       "Text(0, 0.5, 'Y')"
      ]
     },
     "execution_count": 133,
     "metadata": {},
     "output_type": "execute_result"
    },
    {
     "data": {
      "image/png": "[encoded data removed]",
      "text/plain": [
       "<Figure size 432x288 with 1 Axes>"
      ]
     },
     "metadata": {
      "needs_background": "light"
     },
     "output_type": "display_data"
    }
   ],
   "source": [
    "#logistic regression\n",
    "\n",
    "\n",
    "np.random.seed(5)\n",
    "n_sample = 100\n",
    "a = 3.0\n",
    "b = -9.0\n",
    "\n",
    "x = uniform(1, 5, size=n_sample)\n",
    "x = np.sort(x)\n",
    "\n",
    "q = logistic(a * x + b)\n",
    "y = binomial(n=1, p=q)\n",
    "\n",
    "exog, endog = sm.add_constant(X_train), y_train\n",
    "\n",
    "# Logistic regression\n",
    "mod = sm.GLM(endog, exog, family=sm.families.Binomial(link=sm.families.links.logit()))\n",
    "res = mod.fit()\n",
    "display(res.summary())\n",
    "\n",
    "y_pred = res.predict(exog)\n",
    "\n",
    "idx = x.argsort()\n",
    "x_ord, y_pred_ord = x[idx], y_pred[idx]\n",
    "plt.plot(x_ord, y_pred_ord, color='m')\n",
    "plt.scatter(x, y,  s=20, alpha=0.8)\n",
    "plt.xlabel(\"X\")\n",
    "plt.ylabel(\"Y\")\n",
    "# plt.savefig('logistic_regression.png')"
   ]
  },
  {
   "cell_type": "code",
   "execution_count": 134,
   "metadata": {},
   "outputs": [],
   "source": [
    "np.random.seed(5)\n",
    "n_sample = 100\n",
    "a = 0.6\n",
    "b = -0.4\n",
    "sd = 0.8\n",
    "\n",
    "x = uniform(1, 5, size=n_sample)\n",
    "mu = np.exp(a * x + b)\n",
    "y = normal(mu, sd)"
   ]
  },
  {
   "cell_type": "code",
   "execution_count": 135,
   "metadata": {},
   "outputs": [
    {
     "data": {
      "text/plain": [
       "Text(0, 0.5, 'Y')"
      ]
     },
     "execution_count": 135,
     "metadata": {},
     "output_type": "execute_result"
    },
    {
     "data": {
      "image/png": "[encoded data removed]",
      "text/plain": [
       "<Figure size 432x288 with 1 Axes>"
      ]
     },
     "metadata": {
      "needs_background": "light"
     },
     "output_type": "display_data"
    }
   ],
   "source": [
    "plt.scatter(x, y,  s=20, alpha=0.8)\n",
    "plt.xlabel(\"X\")\n",
    "plt.ylabel(\"Y\")\n",
    "# plt.savefig('custom_GLM_data.png')"
   ]
  },
  {
   "cell_type": "code",
   "execution_count": 136,
   "metadata": {},
   "outputs": [
    {
     "data": {
      "text/html": [
       "<table class=\"simpletable\">\n",
       "<caption>Generalized Linear Model Regression Results</caption>\n",
       "<tr>\n",
       "  <th>Dep. Variable:</th>           <td>y</td>        <th>  No. Observations:  </th>  <td>   100</td> \n",
       "</tr>\n",
       "<tr>\n",
       "  <th>Model:</th>                  <td>GLM</td>       <th>  Df Residuals:      </th>  <td>    98</td> \n",
       "</tr>\n",
       "<tr>\n",
       "  <th>Model Family:</th>        <td>Gaussian</td>     <th>  Df Model:          </th>  <td>     1</td> \n",
       "</tr>\n",
       "<tr>\n",
       "  <th>Link Function:</th>          <td>log</td>       <th>  Scale:             </th> <td> 0.69261</td>\n",
       "</tr>\n",
       "<tr>\n",
       "  <th>Method:</th>                <td>IRLS</td>       <th>  Log-Likelihood:    </th> <td> -122.53</td>\n",
       "</tr>\n",
       "<tr>\n",
       "  <th>Date:</th>            <td>Fri, 22 Nov 2019</td> <th>  Deviance:          </th> <td>  67.876</td>\n",
       "</tr>\n",
       "<tr>\n",
       "  <th>Time:</th>                <td>08:20:36</td>     <th>  Pearson chi2:      </th>  <td>  67.9</td> \n",
       "</tr>\n",
       "<tr>\n",
       "  <th>No. Iterations:</th>          <td>6</td>        <th>                     </th>     <td> </td>   \n",
       "</tr>\n",
       "<tr>\n",
       "  <th>Covariance Type:</th>     <td>nonrobust</td>    <th>                     </th>     <td> </td>   \n",
       "</tr>\n",
       "</table>\n",
       "<table class=\"simpletable\">\n",
       "<tr>\n",
       "    <td></td>       <th>coef</th>     <th>std err</th>      <th>z</th>      <th>P>|z|</th>  <th>[0.025</th>    <th>0.975]</th>  \n",
       "</tr>\n",
       "<tr>\n",
       "  <th>const</th> <td>   -0.3115</td> <td>    0.075</td> <td>   -4.130</td> <td> 0.000</td> <td>   -0.459</td> <td>   -0.164</td>\n",
       "</tr>\n",
       "<tr>\n",
       "  <th>x1</th>    <td>    0.5789</td> <td>    0.018</td> <td>   32.984</td> <td> 0.000</td> <td>    0.545</td> <td>    0.613</td>\n",
       "</tr>\n",
       "</table>"
      ],
      "text/plain": [
       "<class 'statsmodels.iolib.summary.Summary'>\n",
       "\"\"\"\n",
       "                 Generalized Linear Model Regression Results                  \n",
       "==============================================================================\n",
       "Dep. Variable:                      y   No. Observations:                  100\n",
       "Model:                            GLM   Df Residuals:                       98\n",
       "Model Family:                Gaussian   Df Model:                            1\n",
       "Link Function:                    log   Scale:                         0.69261\n",
       "Method:                          IRLS   Log-Likelihood:                -122.53\n",
       "Date:                Fri, 22 Nov 2019   Deviance:                       67.876\n",
       "Time:                        08:20:36   Pearson chi2:                     67.9\n",
       "No. Iterations:                     6                                         \n",
       "Covariance Type:            nonrobust                                         \n",
       "==============================================================================\n",
       "                 coef    std err          z      P>|z|      [0.025      0.975]\n",
       "------------------------------------------------------------------------------\n",
       "const         -0.3115      0.075     -4.130      0.000      -0.459      -0.164\n",
       "x1             0.5789      0.018     32.984      0.000       0.545       0.613\n",
       "==============================================================================\n",
       "\"\"\""
      ]
     },
     "metadata": {},
     "output_type": "display_data"
    },
    {
     "data": {
      "text/plain": [
       "Text(0, 0.5, 'Y')"
      ]
     },
     "execution_count": 136,
     "metadata": {},
     "output_type": "execute_result"
    },
    {
     "data": {
      "image/png": "[encoded data removed]",
      "text/plain": [
       "<Figure size 432x288 with 1 Axes>"
      ]
     },
     "metadata": {
      "needs_background": "light"
     },
     "output_type": "display_data"
    }
   ],
   "source": [
    "exog = sm.add_constant(x)\n",
    "endog = y\n",
    "\n",
    "# Normal distribution + log link function\n",
    "mod = sm.GLM(endog, exog, family=sm.families.Gaussian(sm.families.links.log()))\n",
    "res = mod.fit()\n",
    "display(res.summary())\n",
    "\n",
    "y_pred = res.predict(exog)\n",
    "\n",
    "idx = x.argsort()\n",
    "x_ord, y_pred_ord = x[idx], y_pred[idx]\n",
    "\n",
    "plt.plot(x_ord, y_pred_ord, color='m')\n",
    "plt.scatter(x, y,  s=20, alpha=0.8)\n",
    "plt.xlabel(\"X\")\n",
    "plt.ylabel(\"Y\")"
   ]
  }
 ],
 "metadata": {
  "kernelspec": {
   "display_name": "Python 3",
   "language": "python",
   "name": "python3"
  },
  "language_info": {
   "codemirror_mode": {
    "name": "ipython",
    "version": 3
   },
   "file_extension": ".py",
   "mimetype": "text/x-python",
   "name": "python",
   "nbconvert_exporter": "python",
   "pygments_lexer": "ipython3",
   "version": "3.7.4"
  }
 },
 "nbformat": 4,
 "nbformat_minor": 2
}
