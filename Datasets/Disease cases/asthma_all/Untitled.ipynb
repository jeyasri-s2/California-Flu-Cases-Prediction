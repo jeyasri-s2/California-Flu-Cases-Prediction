{
 "cells": [
  {
   "cell_type": "code",
   "execution_count": 7,
   "metadata": {
    "scrolled": false
   },
   "outputs": [],
   "source": [
    "import pandas as pd\n",
    "\n",
    "data_1 = pd.read_csv(\"chis-data-current-asthma-prevalence-by-county.csv\", encoding = \"ISO-8859-1\")\n",
    "data_2 = pd.read_csv(\"CA_Population_by_county_2016.csv\", encoding = \"ISO-8859-1\")\n",
    "\n",
    "data_comb = pd.merge(data_1, data_2, left_on=['COUNTY'], right_on = ['COUNTY'], how='left')\n",
    "data_comb.to_csv (r'comb.csv', index = None, header=True)"
   ]
  },
  {
   "cell_type": "code",
   "execution_count": null,
   "metadata": {},
   "outputs": [],
   "source": []
  }
 ],
 "metadata": {
  "kernelspec": {
   "display_name": "Python 3",
   "language": "python",
   "name": "python3"
  },
  "language_info": {
   "codemirror_mode": {
    "name": "ipython",
    "version": 3
   },
   "file_extension": ".py",
   "mimetype": "text/x-python",
   "name": "python",
   "nbconvert_exporter": "python",
   "pygments_lexer": "ipython3",
   "version": "3.7.3"
  }
 },
 "nbformat": 4,
 "nbformat_minor": 2
}
