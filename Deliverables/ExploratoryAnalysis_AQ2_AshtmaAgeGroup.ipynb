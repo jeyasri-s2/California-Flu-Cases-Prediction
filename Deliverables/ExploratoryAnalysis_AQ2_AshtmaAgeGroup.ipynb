{
 "cells": [
  {
   "cell_type": "code",
   "execution_count": 1,
   "metadata": {},
   "outputs": [],
   "source": [
    "import pandas as pd\n",
    "import matplotlib.pyplot as plt\n",
    "import numpy as np\n",
    "import seaborn as sns\n",
    "from sklearn.linear_model import LinearRegression, LogisticRegression\n",
    "from sklearn.model_selection import train_test_split\n",
    "from sklearn.metrics import accuracy_score\n",
    "from sklearn.utils import resample"
   ]
  },
  {
   "cell_type": "code",
   "execution_count": 3,
   "metadata": {},
   "outputs": [
    {
     "name": "stdout",
     "output_type": "stream",
     "text": [
      "\u001b[34mAirQualityData_1\u001b[m\u001b[m \u001b[34mAirQualityData_2\u001b[m\u001b[m Link.txt         \u001b[34mPurple Air\u001b[m\u001b[m\r\n"
     ]
    }
   ],
   "source": [
    "!ls ../Datasets/AirQuality"
   ]
  },
  {
   "cell_type": "code",
   "execution_count": 2,
   "metadata": {},
   "outputs": [
    {
     "data": {
      "text/html": [
       "<div>\n",
       "<style scoped>\n",
       "    .dataframe tbody tr th:only-of-type {\n",
       "        vertical-align: middle;\n",
       "    }\n",
       "\n",
       "    .dataframe tbody tr th {\n",
       "        vertical-align: top;\n",
       "    }\n",
       "\n",
       "    .dataframe thead th {\n",
       "        text-align: right;\n",
       "    }\n",
       "</style>\n",
       "<table border=\"1\" class=\"dataframe\">\n",
       "  <thead>\n",
       "    <tr style=\"text-align: right;\">\n",
       "      <th></th>\n",
       "      <th>County</th>\n",
       "      <th>Year</th>\n",
       "      <th>MonthNo</th>\n",
       "      <th>Value</th>\n",
       "    </tr>\n",
       "  </thead>\n",
       "  <tbody>\n",
       "    <tr>\n",
       "      <td>3535</td>\n",
       "      <td>Yolo</td>\n",
       "      <td>2019</td>\n",
       "      <td>8</td>\n",
       "      <td>6.658065</td>\n",
       "    </tr>\n",
       "    <tr>\n",
       "      <td>3536</td>\n",
       "      <td>Yolo</td>\n",
       "      <td>2019</td>\n",
       "      <td>9</td>\n",
       "      <td>5.130000</td>\n",
       "    </tr>\n",
       "    <tr>\n",
       "      <td>3537</td>\n",
       "      <td>Yolo</td>\n",
       "      <td>2019</td>\n",
       "      <td>10</td>\n",
       "      <td>9.777419</td>\n",
       "    </tr>\n",
       "    <tr>\n",
       "      <td>3538</td>\n",
       "      <td>Yolo</td>\n",
       "      <td>2019</td>\n",
       "      <td>11</td>\n",
       "      <td>8.803333</td>\n",
       "    </tr>\n",
       "    <tr>\n",
       "      <td>3539</td>\n",
       "      <td>Yolo</td>\n",
       "      <td>2019</td>\n",
       "      <td>12</td>\n",
       "      <td>0.000000</td>\n",
       "    </tr>\n",
       "  </tbody>\n",
       "</table>\n",
       "</div>"
      ],
      "text/plain": [
       "     County  Year  MonthNo     Value\n",
       "3535   Yolo  2019        8  6.658065\n",
       "3536   Yolo  2019        9  5.130000\n",
       "3537   Yolo  2019       10  9.777419\n",
       "3538   Yolo  2019       11  8.803333\n",
       "3539   Yolo  2019       12  0.000000"
      ]
     },
     "execution_count": 2,
     "metadata": {},
     "output_type": "execute_result"
    }
   ],
   "source": [
    "airQ_data = pd.read_csv('../Datasets/AirQuality/AirQualityData_2/AirQualityData_2_byCounty_Monthly.csv', low_memory =False)\n",
    "airQ_data.tail()"
   ]
  },
  {
   "cell_type": "code",
   "execution_count": 3,
   "metadata": {},
   "outputs": [
    {
     "data": {
      "text/html": [
       "<div>\n",
       "<style scoped>\n",
       "    .dataframe tbody tr th:only-of-type {\n",
       "        vertical-align: middle;\n",
       "    }\n",
       "\n",
       "    .dataframe tbody tr th {\n",
       "        vertical-align: top;\n",
       "    }\n",
       "\n",
       "    .dataframe thead th {\n",
       "        text-align: right;\n",
       "    }\n",
       "</style>\n",
       "<table border=\"1\" class=\"dataframe\">\n",
       "  <thead>\n",
       "    <tr style=\"text-align: right;\">\n",
       "      <th></th>\n",
       "      <th>County</th>\n",
       "      <th>Year</th>\n",
       "      <th>Value</th>\n",
       "    </tr>\n",
       "  </thead>\n",
       "  <tbody>\n",
       "    <tr>\n",
       "      <td>0</td>\n",
       "      <td>Alameda</td>\n",
       "      <td>2014</td>\n",
       "      <td>10.615572</td>\n",
       "    </tr>\n",
       "    <tr>\n",
       "      <td>1</td>\n",
       "      <td>Alameda</td>\n",
       "      <td>2015</td>\n",
       "      <td>11.195880</td>\n",
       "    </tr>\n",
       "    <tr>\n",
       "      <td>2</td>\n",
       "      <td>Alameda</td>\n",
       "      <td>2016</td>\n",
       "      <td>9.924854</td>\n",
       "    </tr>\n",
       "    <tr>\n",
       "      <td>3</td>\n",
       "      <td>Alameda</td>\n",
       "      <td>2017</td>\n",
       "      <td>13.576661</td>\n",
       "    </tr>\n",
       "    <tr>\n",
       "      <td>4</td>\n",
       "      <td>Alameda</td>\n",
       "      <td>2018</td>\n",
       "      <td>16.584750</td>\n",
       "    </tr>\n",
       "  </tbody>\n",
       "</table>\n",
       "</div>"
      ],
      "text/plain": [
       "    County  Year      Value\n",
       "0  Alameda  2014  10.615572\n",
       "1  Alameda  2015  11.195880\n",
       "2  Alameda  2016   9.924854\n",
       "3  Alameda  2017  13.576661\n",
       "4  Alameda  2018  16.584750"
      ]
     },
     "execution_count": 3,
     "metadata": {},
     "output_type": "execute_result"
    }
   ],
   "source": [
    "#monthly -> yearly Mean value: method 1\n",
    "airQ_data_mean = airQ_data.groupby(['County','Year'])['Value'].mean().reset_index()\n",
    "airQ_data_mean.head()"
   ]
  },
  {
   "cell_type": "code",
   "execution_count": 6,
   "metadata": {},
   "outputs": [
    {
     "data": {
      "text/plain": [
       "295"
      ]
     },
     "execution_count": 6,
     "metadata": {},
     "output_type": "execute_result"
    }
   ],
   "source": [
    "len(airQ_data_mean)"
   ]
  },
  {
   "cell_type": "code",
   "execution_count": 4,
   "metadata": {},
   "outputs": [
    {
     "data": {
      "text/html": [
       "<div>\n",
       "<style scoped>\n",
       "    .dataframe tbody tr th:only-of-type {\n",
       "        vertical-align: middle;\n",
       "    }\n",
       "\n",
       "    .dataframe tbody tr th {\n",
       "        vertical-align: top;\n",
       "    }\n",
       "\n",
       "    .dataframe thead th {\n",
       "        text-align: right;\n",
       "    }\n",
       "</style>\n",
       "<table border=\"1\" class=\"dataframe\">\n",
       "  <thead>\n",
       "    <tr style=\"text-align: right;\">\n",
       "      <th></th>\n",
       "      <th>County</th>\n",
       "      <th>Year</th>\n",
       "      <th>Value</th>\n",
       "    </tr>\n",
       "  </thead>\n",
       "  <tbody>\n",
       "    <tr>\n",
       "      <td>0</td>\n",
       "      <td>Alameda</td>\n",
       "      <td>2014</td>\n",
       "      <td>10.615572</td>\n",
       "    </tr>\n",
       "    <tr>\n",
       "      <td>1</td>\n",
       "      <td>Alameda</td>\n",
       "      <td>2015</td>\n",
       "      <td>11.195880</td>\n",
       "    </tr>\n",
       "    <tr>\n",
       "      <td>2</td>\n",
       "      <td>Alameda</td>\n",
       "      <td>2016</td>\n",
       "      <td>9.924854</td>\n",
       "    </tr>\n",
       "    <tr>\n",
       "      <td>3</td>\n",
       "      <td>Alameda</td>\n",
       "      <td>2017</td>\n",
       "      <td>13.576661</td>\n",
       "    </tr>\n",
       "    <tr>\n",
       "      <td>4</td>\n",
       "      <td>Alameda</td>\n",
       "      <td>2018</td>\n",
       "      <td>16.584750</td>\n",
       "    </tr>\n",
       "  </tbody>\n",
       "</table>\n",
       "</div>"
      ],
      "text/plain": [
       "    County  Year      Value\n",
       "0  Alameda  2014  10.615572\n",
       "1  Alameda  2015  11.195880\n",
       "2  Alameda  2016   9.924854\n",
       "3  Alameda  2017  13.576661\n",
       "4  Alameda  2018  16.584750"
      ]
     },
     "execution_count": 4,
     "metadata": {},
     "output_type": "execute_result"
    }
   ],
   "source": [
    "#monthly -> yearly Mean value: method 2\n",
    "airQ_data_mean1 = airQ_data.groupby(['County','Year'], as_index=False)['Value'].mean()\n",
    "airQ_data_mean1.head()"
   ]
  },
  {
   "cell_type": "code",
   "execution_count": 5,
   "metadata": {},
   "outputs": [
    {
     "data": {
      "text/html": [
       "<div>\n",
       "<style scoped>\n",
       "    .dataframe tbody tr th:only-of-type {\n",
       "        vertical-align: middle;\n",
       "    }\n",
       "\n",
       "    .dataframe tbody tr th {\n",
       "        vertical-align: top;\n",
       "    }\n",
       "\n",
       "    .dataframe thead th {\n",
       "        text-align: right;\n",
       "    }\n",
       "</style>\n",
       "<table border=\"1\" class=\"dataframe\">\n",
       "  <thead>\n",
       "    <tr style=\"text-align: right;\">\n",
       "      <th></th>\n",
       "      <th>County</th>\n",
       "      <th>Year</th>\n",
       "      <th>Value</th>\n",
       "    </tr>\n",
       "  </thead>\n",
       "  <tbody>\n",
       "    <tr>\n",
       "      <td>0</td>\n",
       "      <td>Alameda</td>\n",
       "      <td>2014</td>\n",
       "      <td>10.615572</td>\n",
       "    </tr>\n",
       "    <tr>\n",
       "      <td>1</td>\n",
       "      <td>Alameda</td>\n",
       "      <td>2015</td>\n",
       "      <td>11.195880</td>\n",
       "    </tr>\n",
       "    <tr>\n",
       "      <td>2</td>\n",
       "      <td>Alameda</td>\n",
       "      <td>2016</td>\n",
       "      <td>9.924854</td>\n",
       "    </tr>\n",
       "    <tr>\n",
       "      <td>3</td>\n",
       "      <td>Alameda</td>\n",
       "      <td>2017</td>\n",
       "      <td>13.576661</td>\n",
       "    </tr>\n",
       "    <tr>\n",
       "      <td>4</td>\n",
       "      <td>Alameda</td>\n",
       "      <td>2018</td>\n",
       "      <td>16.584750</td>\n",
       "    </tr>\n",
       "  </tbody>\n",
       "</table>\n",
       "</div>"
      ],
      "text/plain": [
       "    County  Year      Value\n",
       "0  Alameda  2014  10.615572\n",
       "1  Alameda  2015  11.195880\n",
       "2  Alameda  2016   9.924854\n",
       "3  Alameda  2017  13.576661\n",
       "4  Alameda  2018  16.584750"
      ]
     },
     "execution_count": 5,
     "metadata": {},
     "output_type": "execute_result"
    }
   ],
   "source": [
    "#dropping 0 values\n",
    "indexNames = airQ_data_mean[ (airQ_data_mean['Value'] == 0.000000)].index\n",
    "airQ_data_mean.drop(indexNames , inplace=True)\n",
    "airQ_data_mean.head()\n"
   ]
  },
  {
   "cell_type": "code",
   "execution_count": 9,
   "metadata": {},
   "outputs": [
    {
     "data": {
      "text/plain": [
       "295"
      ]
     },
     "execution_count": 9,
     "metadata": {},
     "output_type": "execute_result"
    }
   ],
   "source": [
    "len(airQ_data_mean)"
   ]
  },
  {
   "cell_type": "code",
   "execution_count": 10,
   "metadata": {},
   "outputs": [
    {
     "data": {
      "text/plain": [
       "array(['Alameda', 'Butte', 'Calaveras', 'Colusa', 'Contra Costa',\n",
       "       'Del Norte', 'El Dorado', 'Fresno', 'Glenn', 'Humboldt',\n",
       "       'Humboldt ', 'Imperial', 'Inyo', 'Kern', 'Kings', 'LA', 'Lake',\n",
       "       'Madera', 'Marin', 'Mariposa', 'Mendocino', 'Merced', 'Mono',\n",
       "       'Monterey', 'Napa', 'Nevada', 'Orange', 'Placer', 'Plumas',\n",
       "       'Riverside', 'Sacramento', 'San Benito', 'San Bernardino',\n",
       "       'San Diego', 'San Francisco', 'San Joaquin', 'San Luis Obispo',\n",
       "       'San Mateo', 'Santa Barbara', 'Santa Clara', 'Santa Cruz',\n",
       "       'Shasta', 'Solano', 'Sonoma', 'Stanislaus', 'Sutter', 'Tehama',\n",
       "       'Trinity', 'Tulare', 'Ventura', 'Yolo'], dtype=object)"
      ]
     },
     "execution_count": 10,
     "metadata": {},
     "output_type": "execute_result"
    }
   ],
   "source": [
    "airQ_data_mean['County'].unique()"
   ]
  },
  {
   "cell_type": "code",
   "execution_count": 6,
   "metadata": {},
   "outputs": [
    {
     "data": {
      "text/html": [
       "<div>\n",
       "<style scoped>\n",
       "    .dataframe tbody tr th:only-of-type {\n",
       "        vertical-align: middle;\n",
       "    }\n",
       "\n",
       "    .dataframe tbody tr th {\n",
       "        vertical-align: top;\n",
       "    }\n",
       "\n",
       "    .dataframe thead th {\n",
       "        text-align: right;\n",
       "    }\n",
       "</style>\n",
       "<table border=\"1\" class=\"dataframe\">\n",
       "  <thead>\n",
       "    <tr style=\"text-align: right;\">\n",
       "      <th></th>\n",
       "      <th>County</th>\n",
       "      <th>Year</th>\n",
       "      <th>Value</th>\n",
       "    </tr>\n",
       "  </thead>\n",
       "  <tbody>\n",
       "    <tr>\n",
       "      <td>0</td>\n",
       "      <td>Alameda</td>\n",
       "      <td>2014</td>\n",
       "      <td>10.615572</td>\n",
       "    </tr>\n",
       "    <tr>\n",
       "      <td>1</td>\n",
       "      <td>Alameda</td>\n",
       "      <td>2015</td>\n",
       "      <td>11.195880</td>\n",
       "    </tr>\n",
       "    <tr>\n",
       "      <td>2</td>\n",
       "      <td>Alameda</td>\n",
       "      <td>2016</td>\n",
       "      <td>9.924854</td>\n",
       "    </tr>\n",
       "    <tr>\n",
       "      <td>3</td>\n",
       "      <td>Alameda</td>\n",
       "      <td>2017</td>\n",
       "      <td>13.576661</td>\n",
       "    </tr>\n",
       "    <tr>\n",
       "      <td>4</td>\n",
       "      <td>Alameda</td>\n",
       "      <td>2018</td>\n",
       "      <td>16.584750</td>\n",
       "    </tr>\n",
       "  </tbody>\n",
       "</table>\n",
       "</div>"
      ],
      "text/plain": [
       "    County  Year      Value\n",
       "0  Alameda  2014  10.615572\n",
       "1  Alameda  2015  11.195880\n",
       "2  Alameda  2016   9.924854\n",
       "3  Alameda  2017  13.576661\n",
       "4  Alameda  2018  16.584750"
      ]
     },
     "execution_count": 6,
     "metadata": {},
     "output_type": "execute_result"
    }
   ],
   "source": [
    "airQ_data_mean.head()"
   ]
  },
  {
   "cell_type": "code",
   "execution_count": 172,
   "metadata": {},
   "outputs": [
    {
     "data": {
      "text/html": [
       "<div>\n",
       "<style scoped>\n",
       "    .dataframe tbody tr th:only-of-type {\n",
       "        vertical-align: middle;\n",
       "    }\n",
       "\n",
       "    .dataframe tbody tr th {\n",
       "        vertical-align: top;\n",
       "    }\n",
       "\n",
       "    .dataframe thead th {\n",
       "        text-align: right;\n",
       "    }\n",
       "</style>\n",
       "<table border=\"1\" class=\"dataframe\">\n",
       "  <thead>\n",
       "    <tr style=\"text-align: right;\">\n",
       "      <th></th>\n",
       "      <th>CountyCode</th>\n",
       "      <th>Crude rates per 10,000</th>\n",
       "      <th>Lower 95% Limit</th>\n",
       "      <th>Upper 95% Limit</th>\n",
       "      <th>Patient_count</th>\n",
       "      <th>Year</th>\n",
       "      <th>Age group</th>\n",
       "    </tr>\n",
       "  </thead>\n",
       "  <tbody>\n",
       "    <tr>\n",
       "      <td>1411</td>\n",
       "      <td>6107</td>\n",
       "      <td>45.0</td>\n",
       "      <td>43.1</td>\n",
       "      <td>47.0</td>\n",
       "      <td>2,132</td>\n",
       "      <td>2017</td>\n",
       "      <td>All ages</td>\n",
       "    </tr>\n",
       "    <tr>\n",
       "      <td>1412</td>\n",
       "      <td>6109</td>\n",
       "      <td>45.0</td>\n",
       "      <td>39.5</td>\n",
       "      <td>51.0</td>\n",
       "      <td>244</td>\n",
       "      <td>2017</td>\n",
       "      <td>All ages</td>\n",
       "    </tr>\n",
       "    <tr>\n",
       "      <td>1413</td>\n",
       "      <td>6111</td>\n",
       "      <td>32.9</td>\n",
       "      <td>31.7</td>\n",
       "      <td>34.1</td>\n",
       "      <td>2,826</td>\n",
       "      <td>2017</td>\n",
       "      <td>All ages</td>\n",
       "    </tr>\n",
       "    <tr>\n",
       "      <td>1414</td>\n",
       "      <td>6113</td>\n",
       "      <td>40.4</td>\n",
       "      <td>37.8</td>\n",
       "      <td>43.2</td>\n",
       "      <td>890</td>\n",
       "      <td>2017</td>\n",
       "      <td>All ages</td>\n",
       "    </tr>\n",
       "    <tr>\n",
       "      <td>1415</td>\n",
       "      <td>6115</td>\n",
       "      <td>47.6</td>\n",
       "      <td>42.8</td>\n",
       "      <td>52.7</td>\n",
       "      <td>366</td>\n",
       "      <td>2017</td>\n",
       "      <td>All ages</td>\n",
       "    </tr>\n",
       "  </tbody>\n",
       "</table>\n",
       "</div>"
      ],
      "text/plain": [
       "      CountyCode  Crude rates per 10,000  Lower 95% Limit  Upper 95% Limit  \\\n",
       "1411        6107                    45.0             43.1             47.0   \n",
       "1412        6109                    45.0             39.5             51.0   \n",
       "1413        6111                    32.9             31.7             34.1   \n",
       "1414        6113                    40.4             37.8             43.2   \n",
       "1415        6115                    47.6             42.8             52.7   \n",
       "\n",
       "     Patient_count  Year Age group  \n",
       "1411         2,132  2017  All ages  \n",
       "1412           244  2017  All ages  \n",
       "1413         2,826  2017  All ages  \n",
       "1414           890  2017  All ages  \n",
       "1415           366  2017  All ages  "
      ]
     },
     "execution_count": 172,
     "metadata": {},
     "output_type": "execute_result"
    }
   ],
   "source": [
    "#we will use this asthma4 data-Age Quality\n",
    "ashtma4 = pd.read_csv('../Datasets/Disease cases/asthma_2014_2017.csv', low_memory=False)\n",
    "ashtma4.tail()"
   ]
  },
  {
   "cell_type": "code",
   "execution_count": 8,
   "metadata": {},
   "outputs": [
    {
     "data": {
      "text/html": [
       "<div>\n",
       "<style scoped>\n",
       "    .dataframe tbody tr th:only-of-type {\n",
       "        vertical-align: middle;\n",
       "    }\n",
       "\n",
       "    .dataframe tbody tr th {\n",
       "        vertical-align: top;\n",
       "    }\n",
       "\n",
       "    .dataframe thead th {\n",
       "        text-align: right;\n",
       "    }\n",
       "</style>\n",
       "<table border=\"1\" class=\"dataframe\">\n",
       "  <thead>\n",
       "    <tr style=\"text-align: right;\">\n",
       "      <th></th>\n",
       "      <th>County</th>\n",
       "      <th>CountyCode</th>\n",
       "    </tr>\n",
       "  </thead>\n",
       "  <tbody>\n",
       "    <tr>\n",
       "      <td>0</td>\n",
       "      <td>Alameda</td>\n",
       "      <td>6001</td>\n",
       "    </tr>\n",
       "    <tr>\n",
       "      <td>1</td>\n",
       "      <td>Amador</td>\n",
       "      <td>6005</td>\n",
       "    </tr>\n",
       "    <tr>\n",
       "      <td>2</td>\n",
       "      <td>Butte</td>\n",
       "      <td>6007</td>\n",
       "    </tr>\n",
       "    <tr>\n",
       "      <td>3</td>\n",
       "      <td>Calaveras</td>\n",
       "      <td>6009</td>\n",
       "    </tr>\n",
       "    <tr>\n",
       "      <td>4</td>\n",
       "      <td>California/Statewide</td>\n",
       "      <td>6000</td>\n",
       "    </tr>\n",
       "  </tbody>\n",
       "</table>\n",
       "</div>"
      ],
      "text/plain": [
       "                 County  CountyCode\n",
       "0              Alameda         6001\n",
       "1               Amador         6005\n",
       "2                Butte         6007\n",
       "3            Calaveras         6009\n",
       "4  California/Statewide        6000"
      ]
     },
     "execution_count": 8,
     "metadata": {},
     "output_type": "execute_result"
    }
   ],
   "source": [
    "#county-countycode mapping file\n",
    "county_code = pd.read_csv('../Datasets/Disease cases/asthma-4/County_codes.csv',low_memory=False)\n",
    "county_code.head()"
   ]
  },
  {
   "cell_type": "code",
   "execution_count": 173,
   "metadata": {},
   "outputs": [
    {
     "data": {
      "text/html": [
       "<div>\n",
       "<style scoped>\n",
       "    .dataframe tbody tr th:only-of-type {\n",
       "        vertical-align: middle;\n",
       "    }\n",
       "\n",
       "    .dataframe tbody tr th {\n",
       "        vertical-align: top;\n",
       "    }\n",
       "\n",
       "    .dataframe thead th {\n",
       "        text-align: right;\n",
       "    }\n",
       "</style>\n",
       "<table border=\"1\" class=\"dataframe\">\n",
       "  <thead>\n",
       "    <tr style=\"text-align: right;\">\n",
       "      <th></th>\n",
       "      <th>CountyCode</th>\n",
       "      <th>Crude rates per 10,000</th>\n",
       "      <th>Lower 95% Limit</th>\n",
       "      <th>Upper 95% Limit</th>\n",
       "      <th>Patient_count</th>\n",
       "      <th>Year</th>\n",
       "      <th>Age group</th>\n",
       "      <th>County</th>\n",
       "    </tr>\n",
       "  </thead>\n",
       "  <tbody>\n",
       "    <tr>\n",
       "      <td>0</td>\n",
       "      <td>6000</td>\n",
       "      <td>102.5</td>\n",
       "      <td>101.3</td>\n",
       "      <td>103.7</td>\n",
       "      <td>26,225</td>\n",
       "      <td>2014</td>\n",
       "      <td>ages (0-4)</td>\n",
       "      <td>California/Statewide</td>\n",
       "    </tr>\n",
       "    <tr>\n",
       "      <td>1</td>\n",
       "      <td>6000</td>\n",
       "      <td>72.0</td>\n",
       "      <td>71.4</td>\n",
       "      <td>72.7</td>\n",
       "      <td>47,516</td>\n",
       "      <td>2014</td>\n",
       "      <td>ages (5-17)</td>\n",
       "      <td>California/Statewide</td>\n",
       "    </tr>\n",
       "    <tr>\n",
       "      <td>2</td>\n",
       "      <td>6000</td>\n",
       "      <td>39.9</td>\n",
       "      <td>39.5</td>\n",
       "      <td>40.3</td>\n",
       "      <td>38,153</td>\n",
       "      <td>2014</td>\n",
       "      <td>ages (18-34)</td>\n",
       "      <td>California/Statewide</td>\n",
       "    </tr>\n",
       "    <tr>\n",
       "      <td>3</td>\n",
       "      <td>6000</td>\n",
       "      <td>38.5</td>\n",
       "      <td>38.2</td>\n",
       "      <td>38.9</td>\n",
       "      <td>57,281</td>\n",
       "      <td>2014</td>\n",
       "      <td>ages (35-64)</td>\n",
       "      <td>California/Statewide</td>\n",
       "    </tr>\n",
       "    <tr>\n",
       "      <td>4</td>\n",
       "      <td>6000</td>\n",
       "      <td>35.6</td>\n",
       "      <td>35.1</td>\n",
       "      <td>36.1</td>\n",
       "      <td>17,365</td>\n",
       "      <td>2014</td>\n",
       "      <td>Above 65</td>\n",
       "      <td>California/Statewide</td>\n",
       "    </tr>\n",
       "  </tbody>\n",
       "</table>\n",
       "</div>"
      ],
      "text/plain": [
       "   CountyCode  Crude rates per 10,000  Lower 95% Limit  Upper 95% Limit  \\\n",
       "0        6000                   102.5            101.3            103.7   \n",
       "1        6000                    72.0             71.4             72.7   \n",
       "2        6000                    39.9             39.5             40.3   \n",
       "3        6000                    38.5             38.2             38.9   \n",
       "4        6000                    35.6             35.1             36.1   \n",
       "\n",
       "  Patient_count  Year     Age group                County  \n",
       "0        26,225  2014    ages (0-4)  California/Statewide  \n",
       "1        47,516  2014   ages (5-17)  California/Statewide  \n",
       "2        38,153  2014  ages (18-34)  California/Statewide  \n",
       "3        57,281  2014  ages (35-64)  California/Statewide  \n",
       "4        17,365  2014      Above 65  California/Statewide  "
      ]
     },
     "execution_count": 173,
     "metadata": {},
     "output_type": "execute_result"
    }
   ],
   "source": [
    "#merging asthma4 data with county code data to get county names\n",
    "\n",
    "ashtma4_final = pd.merge(ashtma4,county_code,on='CountyCode')\n",
    "ashtma4_final.head()"
   ]
  },
  {
   "cell_type": "code",
   "execution_count": 15,
   "metadata": {},
   "outputs": [
    {
     "data": {
      "text/plain": [
       "array(['California/Statewide', 'Alameda ', 'Amador ', 'Butte ',\n",
       "       'Calaveras ', 'Colusa ', 'Contra Costa ', 'Del Norte ',\n",
       "       'El Dorado ', 'Fresno ', 'Glenn ', 'Humboldt ', 'Imperial ',\n",
       "       'Inyo ', 'Kern ', 'Kings ', 'Lake ', 'Lassen ', 'Los Angeles ',\n",
       "       'Madera ', 'Marin ', 'Mariposa ', 'Mendocino ', 'Merced ',\n",
       "       'Modoc ', 'Mono ', 'Monterey ', 'Napa ', 'Nevada ', 'Orange ',\n",
       "       'Placer ', 'Plumas ', 'Riverside ', 'Sacramento ', 'San Benito ',\n",
       "       'San Bernardino ', 'San Diego ', 'San Francisco ', 'San Joaquin ',\n",
       "       'San Luis Obispo ', 'San Mateo ', 'Santa Barbara ', 'Santa Clara ',\n",
       "       'Santa Cruz ', 'Shasta ', 'Siskiyou ', 'Solano ', 'Sonoma ',\n",
       "       'Stanislaus ', 'Sutter ', 'Tehama ', 'Trinity ', 'Tulare ',\n",
       "       'Tuolumne ', 'Ventura ', 'Yolo ', 'Yuba '], dtype=object)"
      ]
     },
     "execution_count": 15,
     "metadata": {},
     "output_type": "execute_result"
    }
   ],
   "source": [
    "ashtma4_final['County'].unique()"
   ]
  },
  {
   "cell_type": "code",
   "execution_count": 174,
   "metadata": {},
   "outputs": [
    {
     "data": {
      "text/plain": [
       "0       California/Statewide\n",
       "1       California/Statewide\n",
       "2       California/Statewide\n",
       "3       California/Statewide\n",
       "4       California/Statewide\n",
       "                ...         \n",
       "1363                    Yuba\n",
       "1364                    Yuba\n",
       "1365                    Yuba\n",
       "1366                    Yuba\n",
       "1367                    Yuba\n",
       "Name: County, Length: 1368, dtype: object"
      ]
     },
     "execution_count": 174,
     "metadata": {},
     "output_type": "execute_result"
    }
   ],
   "source": [
    "ashtma4_final['County'] = ashtma4_final['County'].str.strip()\n",
    "ashtma4_final['County']"
   ]
  },
  {
   "cell_type": "code",
   "execution_count": 176,
   "metadata": {},
   "outputs": [
    {
     "data": {
      "text/html": [
       "<div>\n",
       "<style scoped>\n",
       "    .dataframe tbody tr th:only-of-type {\n",
       "        vertical-align: middle;\n",
       "    }\n",
       "\n",
       "    .dataframe tbody tr th {\n",
       "        vertical-align: top;\n",
       "    }\n",
       "\n",
       "    .dataframe thead th {\n",
       "        text-align: right;\n",
       "    }\n",
       "</style>\n",
       "<table border=\"1\" class=\"dataframe\">\n",
       "  <thead>\n",
       "    <tr style=\"text-align: right;\">\n",
       "      <th></th>\n",
       "      <th>CountyCode</th>\n",
       "      <th>Crude rates per 10,000</th>\n",
       "      <th>Lower 95% Limit</th>\n",
       "      <th>Upper 95% Limit</th>\n",
       "      <th>Patient_count</th>\n",
       "      <th>Year</th>\n",
       "      <th>Age group</th>\n",
       "      <th>County</th>\n",
       "    </tr>\n",
       "  </thead>\n",
       "  <tbody>\n",
       "    <tr>\n",
       "      <td>0</td>\n",
       "      <td>6000</td>\n",
       "      <td>102.5</td>\n",
       "      <td>101.3</td>\n",
       "      <td>103.7</td>\n",
       "      <td>26,225</td>\n",
       "      <td>2014</td>\n",
       "      <td>ages (0-4)</td>\n",
       "      <td>California/Statewide</td>\n",
       "    </tr>\n",
       "    <tr>\n",
       "      <td>1</td>\n",
       "      <td>6000</td>\n",
       "      <td>72.0</td>\n",
       "      <td>71.4</td>\n",
       "      <td>72.7</td>\n",
       "      <td>47,516</td>\n",
       "      <td>2014</td>\n",
       "      <td>ages (5-17)</td>\n",
       "      <td>California/Statewide</td>\n",
       "    </tr>\n",
       "    <tr>\n",
       "      <td>2</td>\n",
       "      <td>6000</td>\n",
       "      <td>39.9</td>\n",
       "      <td>39.5</td>\n",
       "      <td>40.3</td>\n",
       "      <td>38,153</td>\n",
       "      <td>2014</td>\n",
       "      <td>ages (18-34)</td>\n",
       "      <td>California/Statewide</td>\n",
       "    </tr>\n",
       "    <tr>\n",
       "      <td>3</td>\n",
       "      <td>6000</td>\n",
       "      <td>38.5</td>\n",
       "      <td>38.2</td>\n",
       "      <td>38.9</td>\n",
       "      <td>57,281</td>\n",
       "      <td>2014</td>\n",
       "      <td>ages (35-64)</td>\n",
       "      <td>California/Statewide</td>\n",
       "    </tr>\n",
       "    <tr>\n",
       "      <td>4</td>\n",
       "      <td>6000</td>\n",
       "      <td>35.6</td>\n",
       "      <td>35.1</td>\n",
       "      <td>36.1</td>\n",
       "      <td>17,365</td>\n",
       "      <td>2014</td>\n",
       "      <td>Above 65</td>\n",
       "      <td>California/Statewide</td>\n",
       "    </tr>\n",
       "  </tbody>\n",
       "</table>\n",
       "</div>"
      ],
      "text/plain": [
       "   CountyCode  Crude rates per 10,000  Lower 95% Limit  Upper 95% Limit  \\\n",
       "0        6000                   102.5            101.3            103.7   \n",
       "1        6000                    72.0             71.4             72.7   \n",
       "2        6000                    39.9             39.5             40.3   \n",
       "3        6000                    38.5             38.2             38.9   \n",
       "4        6000                    35.6             35.1             36.1   \n",
       "\n",
       "  Patient_count  Year     Age group                County  \n",
       "0        26,225  2014    ages (0-4)  California/Statewide  \n",
       "1        47,516  2014   ages (5-17)  California/Statewide  \n",
       "2        38,153  2014  ages (18-34)  California/Statewide  \n",
       "3        57,281  2014  ages (35-64)  California/Statewide  \n",
       "4        17,365  2014      Above 65  California/Statewide  "
      ]
     },
     "execution_count": 176,
     "metadata": {},
     "output_type": "execute_result"
    }
   ],
   "source": [
    "ashtma4_final.head()"
   ]
  },
  {
   "cell_type": "code",
   "execution_count": 12,
   "metadata": {},
   "outputs": [
    {
     "data": {
      "text/plain": [
       "array([2014, 2015, 2016, 2017, 2018, 2019])"
      ]
     },
     "execution_count": 12,
     "metadata": {},
     "output_type": "execute_result"
    }
   ],
   "source": [
    "airQ_data_mean['Year'].unique()"
   ]
  },
  {
   "cell_type": "code",
   "execution_count": 178,
   "metadata": {},
   "outputs": [],
   "source": [
    "#merging AQ data && asthma4 data\n",
    "\n",
    "merged = pd.merge(airQ_data_mean,ashtma4_final,how='inner', left_on=['Year', 'County'], right_on=['Year','County'])"
   ]
  },
  {
   "cell_type": "code",
   "execution_count": 179,
   "metadata": {},
   "outputs": [],
   "source": [
    "merged['Patient_count'] = merged['Patient_count'].str.replace(',','').astype(int)"
   ]
  },
  {
   "cell_type": "code",
   "execution_count": 94,
   "metadata": {},
   "outputs": [
    {
     "data": {
      "text/plain": [
       "980"
      ]
     },
     "execution_count": 94,
     "metadata": {},
     "output_type": "execute_result"
    }
   ],
   "source": [
    "len(merged)"
   ]
  },
  {
   "cell_type": "code",
   "execution_count": 95,
   "metadata": {},
   "outputs": [
    {
     "data": {
      "text/html": [
       "<div>\n",
       "<style scoped>\n",
       "    .dataframe tbody tr th:only-of-type {\n",
       "        vertical-align: middle;\n",
       "    }\n",
       "\n",
       "    .dataframe tbody tr th {\n",
       "        vertical-align: top;\n",
       "    }\n",
       "\n",
       "    .dataframe thead th {\n",
       "        text-align: right;\n",
       "    }\n",
       "</style>\n",
       "<table border=\"1\" class=\"dataframe\">\n",
       "  <thead>\n",
       "    <tr style=\"text-align: right;\">\n",
       "      <th></th>\n",
       "      <th>County</th>\n",
       "      <th>Year</th>\n",
       "      <th>Value</th>\n",
       "      <th>CountyCode</th>\n",
       "      <th>Crude rates per 10,000</th>\n",
       "      <th>Lower 95% Limit</th>\n",
       "      <th>Upper 95% Limit</th>\n",
       "      <th>Patient_count</th>\n",
       "      <th>Age group</th>\n",
       "    </tr>\n",
       "  </thead>\n",
       "  <tbody>\n",
       "    <tr>\n",
       "      <td>0</td>\n",
       "      <td>Alameda</td>\n",
       "      <td>2014</td>\n",
       "      <td>10.615572</td>\n",
       "      <td>6001</td>\n",
       "      <td>148.8</td>\n",
       "      <td>141.4</td>\n",
       "      <td>156.6</td>\n",
       "      <td>1487</td>\n",
       "      <td>ages (0-4)</td>\n",
       "    </tr>\n",
       "    <tr>\n",
       "      <td>1</td>\n",
       "      <td>Alameda</td>\n",
       "      <td>2014</td>\n",
       "      <td>10.615572</td>\n",
       "      <td>6001</td>\n",
       "      <td>84.5</td>\n",
       "      <td>80.9</td>\n",
       "      <td>88.2</td>\n",
       "      <td>2100</td>\n",
       "      <td>ages (5-17)</td>\n",
       "    </tr>\n",
       "    <tr>\n",
       "      <td>2</td>\n",
       "      <td>Alameda</td>\n",
       "      <td>2014</td>\n",
       "      <td>10.615572</td>\n",
       "      <td>6001</td>\n",
       "      <td>47.7</td>\n",
       "      <td>45.5</td>\n",
       "      <td>50.0</td>\n",
       "      <td>1806</td>\n",
       "      <td>ages (18-34)</td>\n",
       "    </tr>\n",
       "    <tr>\n",
       "      <td>3</td>\n",
       "      <td>Alameda</td>\n",
       "      <td>2014</td>\n",
       "      <td>10.615572</td>\n",
       "      <td>6001</td>\n",
       "      <td>54.5</td>\n",
       "      <td>52.7</td>\n",
       "      <td>56.3</td>\n",
       "      <td>3505</td>\n",
       "      <td>ages (35-64)</td>\n",
       "    </tr>\n",
       "    <tr>\n",
       "      <td>4</td>\n",
       "      <td>Alameda</td>\n",
       "      <td>2014</td>\n",
       "      <td>10.615572</td>\n",
       "      <td>6001</td>\n",
       "      <td>51.4</td>\n",
       "      <td>48.3</td>\n",
       "      <td>54.7</td>\n",
       "      <td>1011</td>\n",
       "      <td>Above 65</td>\n",
       "    </tr>\n",
       "    <tr>\n",
       "      <td>...</td>\n",
       "      <td>...</td>\n",
       "      <td>...</td>\n",
       "      <td>...</td>\n",
       "      <td>...</td>\n",
       "      <td>...</td>\n",
       "      <td>...</td>\n",
       "      <td>...</td>\n",
       "      <td>...</td>\n",
       "      <td>...</td>\n",
       "    </tr>\n",
       "    <tr>\n",
       "      <td>975</td>\n",
       "      <td>Yolo</td>\n",
       "      <td>2017</td>\n",
       "      <td>10.430445</td>\n",
       "      <td>6113</td>\n",
       "      <td>60.6</td>\n",
       "      <td>47.8</td>\n",
       "      <td>75.9</td>\n",
       "      <td>76</td>\n",
       "      <td>ages (0-4)</td>\n",
       "    </tr>\n",
       "    <tr>\n",
       "      <td>976</td>\n",
       "      <td>Yolo</td>\n",
       "      <td>2017</td>\n",
       "      <td>10.430445</td>\n",
       "      <td>6113</td>\n",
       "      <td>59.3</td>\n",
       "      <td>51.6</td>\n",
       "      <td>67.7</td>\n",
       "      <td>217</td>\n",
       "      <td>ages (5-17)</td>\n",
       "    </tr>\n",
       "    <tr>\n",
       "      <td>977</td>\n",
       "      <td>Yolo</td>\n",
       "      <td>2017</td>\n",
       "      <td>10.430445</td>\n",
       "      <td>6113</td>\n",
       "      <td>34.4</td>\n",
       "      <td>30.3</td>\n",
       "      <td>39.0</td>\n",
       "      <td>249</td>\n",
       "      <td>ages (18-34)</td>\n",
       "    </tr>\n",
       "    <tr>\n",
       "      <td>978</td>\n",
       "      <td>Yolo</td>\n",
       "      <td>2017</td>\n",
       "      <td>10.430445</td>\n",
       "      <td>6113</td>\n",
       "      <td>34.4</td>\n",
       "      <td>30.2</td>\n",
       "      <td>38.9</td>\n",
       "      <td>246</td>\n",
       "      <td>ages (35-64)</td>\n",
       "    </tr>\n",
       "    <tr>\n",
       "      <td>979</td>\n",
       "      <td>Yolo</td>\n",
       "      <td>2017</td>\n",
       "      <td>10.430445</td>\n",
       "      <td>6113</td>\n",
       "      <td>37.7</td>\n",
       "      <td>30.7</td>\n",
       "      <td>45.8</td>\n",
       "      <td>102</td>\n",
       "      <td>Above 65</td>\n",
       "    </tr>\n",
       "  </tbody>\n",
       "</table>\n",
       "<p>980 rows × 9 columns</p>\n",
       "</div>"
      ],
      "text/plain": [
       "      County  Year      Value  CountyCode  Crude rates per 10,000  \\\n",
       "0    Alameda  2014  10.615572        6001                   148.8   \n",
       "1    Alameda  2014  10.615572        6001                    84.5   \n",
       "2    Alameda  2014  10.615572        6001                    47.7   \n",
       "3    Alameda  2014  10.615572        6001                    54.5   \n",
       "4    Alameda  2014  10.615572        6001                    51.4   \n",
       "..       ...   ...        ...         ...                     ...   \n",
       "975     Yolo  2017  10.430445        6113                    60.6   \n",
       "976     Yolo  2017  10.430445        6113                    59.3   \n",
       "977     Yolo  2017  10.430445        6113                    34.4   \n",
       "978     Yolo  2017  10.430445        6113                    34.4   \n",
       "979     Yolo  2017  10.430445        6113                    37.7   \n",
       "\n",
       "     Lower 95% Limit  Upper 95% Limit  Patient_count     Age group  \n",
       "0              141.4            156.6           1487    ages (0-4)  \n",
       "1               80.9             88.2           2100   ages (5-17)  \n",
       "2               45.5             50.0           1806  ages (18-34)  \n",
       "3               52.7             56.3           3505  ages (35-64)  \n",
       "4               48.3             54.7           1011      Above 65  \n",
       "..               ...              ...            ...           ...  \n",
       "975             47.8             75.9             76    ages (0-4)  \n",
       "976             51.6             67.7            217   ages (5-17)  \n",
       "977             30.3             39.0            249  ages (18-34)  \n",
       "978             30.2             38.9            246  ages (35-64)  \n",
       "979             30.7             45.8            102      Above 65  \n",
       "\n",
       "[980 rows x 9 columns]"
      ]
     },
     "execution_count": 95,
     "metadata": {},
     "output_type": "execute_result"
    }
   ],
   "source": [
    "merged"
   ]
  },
  {
   "cell_type": "code",
   "execution_count": 181,
   "metadata": {},
   "outputs": [],
   "source": [
    "merged['Age group']=merged['Age group'].astype('category')"
   ]
  },
  {
   "cell_type": "code",
   "execution_count": 24,
   "metadata": {},
   "outputs": [],
   "source": [
    "merged2_filtered = ashtma4_final[ashtma4_final['County'] == 'Santa Clara']"
   ]
  },
  {
   "cell_type": "code",
   "execution_count": 25,
   "metadata": {},
   "outputs": [
    {
     "data": {
      "text/html": [
       "<div>\n",
       "<style scoped>\n",
       "    .dataframe tbody tr th:only-of-type {\n",
       "        vertical-align: middle;\n",
       "    }\n",
       "\n",
       "    .dataframe tbody tr th {\n",
       "        vertical-align: top;\n",
       "    }\n",
       "\n",
       "    .dataframe thead th {\n",
       "        text-align: right;\n",
       "    }\n",
       "</style>\n",
       "<table border=\"1\" class=\"dataframe\">\n",
       "  <thead>\n",
       "    <tr style=\"text-align: right;\">\n",
       "      <th></th>\n",
       "      <th>CountyCode</th>\n",
       "      <th>Crude rates per 10,000</th>\n",
       "      <th>Lower 95% Limit</th>\n",
       "      <th>Upper 95% Limit</th>\n",
       "      <th>Patient_count</th>\n",
       "      <th>Year</th>\n",
       "      <th>Age group</th>\n",
       "      <th>County</th>\n",
       "    </tr>\n",
       "  </thead>\n",
       "  <tbody>\n",
       "    <tr>\n",
       "      <td>840</td>\n",
       "      <td>6085</td>\n",
       "      <td>54.4</td>\n",
       "      <td>50.4</td>\n",
       "      <td>58.7</td>\n",
       "      <td>676</td>\n",
       "      <td>2014</td>\n",
       "      <td>ages (0-4)</td>\n",
       "      <td>Santa Clara</td>\n",
       "    </tr>\n",
       "    <tr>\n",
       "      <td>841</td>\n",
       "      <td>6085</td>\n",
       "      <td>36.8</td>\n",
       "      <td>34.7</td>\n",
       "      <td>39.0</td>\n",
       "      <td>1,171</td>\n",
       "      <td>2014</td>\n",
       "      <td>ages (5-17)</td>\n",
       "      <td>Santa Clara</td>\n",
       "    </tr>\n",
       "    <tr>\n",
       "      <td>842</td>\n",
       "      <td>6085</td>\n",
       "      <td>26.3</td>\n",
       "      <td>24.7</td>\n",
       "      <td>27.8</td>\n",
       "      <td>1,118</td>\n",
       "      <td>2014</td>\n",
       "      <td>ages (18-34)</td>\n",
       "      <td>Santa Clara</td>\n",
       "    </tr>\n",
       "    <tr>\n",
       "      <td>843</td>\n",
       "      <td>6085</td>\n",
       "      <td>25.8</td>\n",
       "      <td>24.7</td>\n",
       "      <td>26.9</td>\n",
       "      <td>1,973</td>\n",
       "      <td>2014</td>\n",
       "      <td>ages (35-64)</td>\n",
       "      <td>Santa Clara</td>\n",
       "    </tr>\n",
       "    <tr>\n",
       "      <td>844</td>\n",
       "      <td>6085</td>\n",
       "      <td>31.1</td>\n",
       "      <td>28.9</td>\n",
       "      <td>33.5</td>\n",
       "      <td>705</td>\n",
       "      <td>2014</td>\n",
       "      <td>Above 65</td>\n",
       "      <td>Santa Clara</td>\n",
       "    </tr>\n",
       "  </tbody>\n",
       "</table>\n",
       "</div>"
      ],
      "text/plain": [
       "     CountyCode  Crude rates per 10,000  Lower 95% Limit  Upper 95% Limit  \\\n",
       "840        6085                    54.4             50.4             58.7   \n",
       "841        6085                    36.8             34.7             39.0   \n",
       "842        6085                    26.3             24.7             27.8   \n",
       "843        6085                    25.8             24.7             26.9   \n",
       "844        6085                    31.1             28.9             33.5   \n",
       "\n",
       "    Patient_count  Year     Age group       County  \n",
       "840           676  2014    ages (0-4)  Santa Clara  \n",
       "841         1,171  2014   ages (5-17)  Santa Clara  \n",
       "842         1,118  2014  ages (18-34)  Santa Clara  \n",
       "843         1,973  2014  ages (35-64)  Santa Clara  \n",
       "844           705  2014      Above 65  Santa Clara  "
      ]
     },
     "execution_count": 25,
     "metadata": {},
     "output_type": "execute_result"
    }
   ],
   "source": [
    "merged2_filtered.head()"
   ]
  },
  {
   "cell_type": "code",
   "execution_count": 182,
   "metadata": {},
   "outputs": [
    {
     "data": {
      "image/png": "[encoded data removed]",
      "text/plain": [
       "<Figure size 1152x720 with 2 Axes>"
      ]
     },
     "metadata": {
      "needs_background": "light"
     },
     "output_type": "display_data"
    }
   ],
   "source": [
    "corr = merged.corr()\n",
    "g = sns.heatmap(corr, vmax=.9, center=0,\n",
    "               square=True, linewidths=.9, cbar_kws={\"shrink\": .8}, annot=True, fmt='.2f', cmap='coolwarm')\n",
    "bottom, top = g.get_ylim()\n",
    "g.set_ylim(bottom + 0.5, top - 0.5)\n",
    "sns.despine()\n",
    "g.figure.set_size_inches(16, 10)"
   ]
  },
  {
   "cell_type": "code",
   "execution_count": 27,
   "metadata": {},
   "outputs": [
    {
     "data": {
      "text/plain": [
       "<matplotlib.axes._subplots.AxesSubplot at 0x1a20021390>"
      ]
     },
     "execution_count": 27,
     "metadata": {},
     "output_type": "execute_result"
    },
    {
     "data": {
      "image/png": "[encoded data removed]",
      "text/plain": [
       "<Figure size 432x288 with 1 Axes>"
      ]
     },
     "metadata": {
      "needs_background": "light"
     },
     "output_type": "display_data"
    }
   ],
   "source": [
    "sns.barplot(x='Age group', y='Patient_count', hue='Year', data=merged, saturation=0.8)\n"
   ]
  },
  {
   "cell_type": "code",
   "execution_count": 28,
   "metadata": {},
   "outputs": [
    {
     "data": {
      "text/plain": [
       "<matplotlib.axes._subplots.AxesSubplot at 0x1a20364190>"
      ]
     },
     "execution_count": 28,
     "metadata": {},
     "output_type": "execute_result"
    },
    {
     "data": {
      "image/png": "[encoded data removed]",
      "text/plain": [
       "<Figure size 432x288 with 1 Axes>"
      ]
     },
     "metadata": {
      "needs_background": "light"
     },
     "output_type": "display_data"
    }
   ],
   "source": [
    "sns.barplot(x='County', y='Crude rates per 10,000', hue='Year', data=merged, saturation=0.8)\n",
    "\n"
   ]
  },
  {
   "cell_type": "code",
   "execution_count": 29,
   "metadata": {},
   "outputs": [
    {
     "data": {
      "text/plain": [
       "<matplotlib.axes._subplots.AxesSubplot at 0x1a2089e750>"
      ]
     },
     "execution_count": 29,
     "metadata": {},
     "output_type": "execute_result"
    },
    {
     "data": {
      "image/png": "[encoded data removed]",
      "text/plain": [
       "<Figure size 432x288 with 1 Axes>"
      ]
     },
     "metadata": {
      "needs_background": "light"
     },
     "output_type": "display_data"
    }
   ],
   "source": [
    "sns.barplot(x='Age group', y='Crude rates per 10,000', hue='Year', data=merged, saturation=0.8)"
   ]
  },
  {
   "cell_type": "code",
   "execution_count": 30,
   "metadata": {},
   "outputs": [
    {
     "data": {
      "text/plain": [
       "<matplotlib.axes._subplots.AxesSubplot at 0x1a20a05050>"
      ]
     },
     "execution_count": 30,
     "metadata": {},
     "output_type": "execute_result"
    },
    {
     "data": {
      "image/png": "[encoded data removed]",
      "text/plain": [
       "<Figure size 432x288 with 1 Axes>"
      ]
     },
     "metadata": {
      "needs_background": "light"
     },
     "output_type": "display_data"
    }
   ],
   "source": [
    "sns.barplot(x='County', y='Value', hue='Year', data=merged, saturation=0.8)\n",
    "\n"
   ]
  },
  {
   "cell_type": "code",
   "execution_count": 31,
   "metadata": {},
   "outputs": [
    {
     "data": {
      "text/plain": [
       "<matplotlib.axes._subplots.AxesSubplot at 0x1a20feea50>"
      ]
     },
     "execution_count": 31,
     "metadata": {},
     "output_type": "execute_result"
    },
    {
     "data": {
      "image/png": "[encoded data removed]",
      "text/plain": [
       "<Figure size 432x288 with 1 Axes>"
      ]
     },
     "metadata": {
      "needs_background": "light"
     },
     "output_type": "display_data"
    }
   ],
   "source": [
    "sns.barplot(x='Patient_count', y='Value', hue='Year', data=merged, saturation=0.8)\n",
    "\n"
   ]
  },
  {
   "cell_type": "code",
   "execution_count": 34,
   "metadata": {},
   "outputs": [
    {
     "data": {
      "text/plain": [
       "<matplotlib.axes._subplots.AxesSubplot at 0x1a2760e650>"
      ]
     },
     "execution_count": 34,
     "metadata": {},
     "output_type": "execute_result"
    },
    {
     "data": {
      "image/png": "[encoded data removed]",
      "text/plain": [
       "<Figure size 432x288 with 1 Axes>"
      ]
     },
     "metadata": {
      "needs_background": "light"
     },
     "output_type": "display_data"
    }
   ],
   "source": [
    "sns.barplot(x='Crude rates per 10,000', y='Value', hue='Year', data=merged, saturation=0.8)\n",
    "\n"
   ]
  },
  {
   "cell_type": "code",
   "execution_count": 98,
   "metadata": {},
   "outputs": [
    {
     "data": {
      "text/html": [
       "<div>\n",
       "<style scoped>\n",
       "    .dataframe tbody tr th:only-of-type {\n",
       "        vertical-align: middle;\n",
       "    }\n",
       "\n",
       "    .dataframe tbody tr th {\n",
       "        vertical-align: top;\n",
       "    }\n",
       "\n",
       "    .dataframe thead th {\n",
       "        text-align: right;\n",
       "    }\n",
       "</style>\n",
       "<table border=\"1\" class=\"dataframe\">\n",
       "  <thead>\n",
       "    <tr style=\"text-align: right;\">\n",
       "      <th></th>\n",
       "      <th>County</th>\n",
       "      <th>Year</th>\n",
       "      <th>Value</th>\n",
       "      <th>CountyCode</th>\n",
       "      <th>Crude rates per 10,000</th>\n",
       "      <th>Lower 95% Limit</th>\n",
       "      <th>Upper 95% Limit</th>\n",
       "      <th>Patient_count</th>\n",
       "      <th>Age group</th>\n",
       "    </tr>\n",
       "  </thead>\n",
       "  <tbody>\n",
       "    <tr>\n",
       "      <td>0</td>\n",
       "      <td>Alameda</td>\n",
       "      <td>2014</td>\n",
       "      <td>10.615572</td>\n",
       "      <td>6001</td>\n",
       "      <td>148.8</td>\n",
       "      <td>141.4</td>\n",
       "      <td>156.6</td>\n",
       "      <td>1487</td>\n",
       "      <td>ages (0-4)</td>\n",
       "    </tr>\n",
       "    <tr>\n",
       "      <td>1</td>\n",
       "      <td>Alameda</td>\n",
       "      <td>2014</td>\n",
       "      <td>10.615572</td>\n",
       "      <td>6001</td>\n",
       "      <td>84.5</td>\n",
       "      <td>80.9</td>\n",
       "      <td>88.2</td>\n",
       "      <td>2100</td>\n",
       "      <td>ages (5-17)</td>\n",
       "    </tr>\n",
       "    <tr>\n",
       "      <td>2</td>\n",
       "      <td>Alameda</td>\n",
       "      <td>2014</td>\n",
       "      <td>10.615572</td>\n",
       "      <td>6001</td>\n",
       "      <td>47.7</td>\n",
       "      <td>45.5</td>\n",
       "      <td>50.0</td>\n",
       "      <td>1806</td>\n",
       "      <td>ages (18-34)</td>\n",
       "    </tr>\n",
       "    <tr>\n",
       "      <td>3</td>\n",
       "      <td>Alameda</td>\n",
       "      <td>2014</td>\n",
       "      <td>10.615572</td>\n",
       "      <td>6001</td>\n",
       "      <td>54.5</td>\n",
       "      <td>52.7</td>\n",
       "      <td>56.3</td>\n",
       "      <td>3505</td>\n",
       "      <td>ages (35-64)</td>\n",
       "    </tr>\n",
       "    <tr>\n",
       "      <td>4</td>\n",
       "      <td>Alameda</td>\n",
       "      <td>2014</td>\n",
       "      <td>10.615572</td>\n",
       "      <td>6001</td>\n",
       "      <td>51.4</td>\n",
       "      <td>48.3</td>\n",
       "      <td>54.7</td>\n",
       "      <td>1011</td>\n",
       "      <td>Above 65</td>\n",
       "    </tr>\n",
       "  </tbody>\n",
       "</table>\n",
       "</div>"
      ],
      "text/plain": [
       "    County  Year      Value  CountyCode  Crude rates per 10,000  \\\n",
       "0  Alameda  2014  10.615572        6001                   148.8   \n",
       "1  Alameda  2014  10.615572        6001                    84.5   \n",
       "2  Alameda  2014  10.615572        6001                    47.7   \n",
       "3  Alameda  2014  10.615572        6001                    54.5   \n",
       "4  Alameda  2014  10.615572        6001                    51.4   \n",
       "\n",
       "   Lower 95% Limit  Upper 95% Limit  Patient_count     Age group  \n",
       "0            141.4            156.6           1487    ages (0-4)  \n",
       "1             80.9             88.2           2100   ages (5-17)  \n",
       "2             45.5             50.0           1806  ages (18-34)  \n",
       "3             52.7             56.3           3505  ages (35-64)  \n",
       "4             48.3             54.7           1011      Above 65  "
      ]
     },
     "execution_count": 98,
     "metadata": {},
     "output_type": "execute_result"
    }
   ],
   "source": [
    "merged.head()"
   ]
  },
  {
   "cell_type": "code",
   "execution_count": 99,
   "metadata": {},
   "outputs": [
    {
     "data": {
      "text/html": [
       "<div>\n",
       "<style scoped>\n",
       "    .dataframe tbody tr th:only-of-type {\n",
       "        vertical-align: middle;\n",
       "    }\n",
       "\n",
       "    .dataframe tbody tr th {\n",
       "        vertical-align: top;\n",
       "    }\n",
       "\n",
       "    .dataframe thead th {\n",
       "        text-align: right;\n",
       "    }\n",
       "</style>\n",
       "<table border=\"1\" class=\"dataframe\">\n",
       "  <thead>\n",
       "    <tr style=\"text-align: right;\">\n",
       "      <th></th>\n",
       "      <th>County</th>\n",
       "      <th>Year</th>\n",
       "      <th>Population</th>\n",
       "    </tr>\n",
       "  </thead>\n",
       "  <tbody>\n",
       "    <tr>\n",
       "      <td>0</td>\n",
       "      <td>Alameda</td>\n",
       "      <td>2014</td>\n",
       "      <td>1,588,576</td>\n",
       "    </tr>\n",
       "    <tr>\n",
       "      <td>1</td>\n",
       "      <td>Alpine</td>\n",
       "      <td>2014</td>\n",
       "      <td>1,163</td>\n",
       "    </tr>\n",
       "    <tr>\n",
       "      <td>2</td>\n",
       "      <td>Amador</td>\n",
       "      <td>2014</td>\n",
       "      <td>37,815</td>\n",
       "    </tr>\n",
       "    <tr>\n",
       "      <td>3</td>\n",
       "      <td>Butte</td>\n",
       "      <td>2014</td>\n",
       "      <td>223,137</td>\n",
       "    </tr>\n",
       "    <tr>\n",
       "      <td>4</td>\n",
       "      <td>Calaveras</td>\n",
       "      <td>2014</td>\n",
       "      <td>45,358</td>\n",
       "    </tr>\n",
       "  </tbody>\n",
       "</table>\n",
       "</div>"
      ],
      "text/plain": [
       "      County  Year   Population\n",
       "0    Alameda  2014   1,588,576 \n",
       "1     Alpine  2014       1,163 \n",
       "2     Amador  2014      37,815 \n",
       "3      Butte  2014     223,137 \n",
       "4  Calaveras  2014      45,358 "
      ]
     },
     "execution_count": 99,
     "metadata": {},
     "output_type": "execute_result"
    }
   ],
   "source": [
    "#county population file\n",
    "county_population = pd.read_csv('../Datasets/Disease cases/asthma-4/county_population.csv',low_memory=False)\n",
    "county_population.head()"
   ]
  },
  {
   "cell_type": "code",
   "execution_count": 100,
   "metadata": {},
   "outputs": [
    {
     "data": {
      "text/html": [
       "<div>\n",
       "<style scoped>\n",
       "    .dataframe tbody tr th:only-of-type {\n",
       "        vertical-align: middle;\n",
       "    }\n",
       "\n",
       "    .dataframe tbody tr th {\n",
       "        vertical-align: top;\n",
       "    }\n",
       "\n",
       "    .dataframe thead th {\n",
       "        text-align: right;\n",
       "    }\n",
       "</style>\n",
       "<table border=\"1\" class=\"dataframe\">\n",
       "  <thead>\n",
       "    <tr style=\"text-align: right;\">\n",
       "      <th></th>\n",
       "      <th>County</th>\n",
       "      <th>Year</th>\n",
       "      <th>Population</th>\n",
       "    </tr>\n",
       "  </thead>\n",
       "  <tbody>\n",
       "    <tr>\n",
       "      <td>0</td>\n",
       "      <td>Alameda</td>\n",
       "      <td>2014</td>\n",
       "      <td>1588576</td>\n",
       "    </tr>\n",
       "    <tr>\n",
       "      <td>1</td>\n",
       "      <td>Alpine</td>\n",
       "      <td>2014</td>\n",
       "      <td>1163</td>\n",
       "    </tr>\n",
       "    <tr>\n",
       "      <td>2</td>\n",
       "      <td>Amador</td>\n",
       "      <td>2014</td>\n",
       "      <td>37815</td>\n",
       "    </tr>\n",
       "    <tr>\n",
       "      <td>3</td>\n",
       "      <td>Butte</td>\n",
       "      <td>2014</td>\n",
       "      <td>223137</td>\n",
       "    </tr>\n",
       "    <tr>\n",
       "      <td>4</td>\n",
       "      <td>Calaveras</td>\n",
       "      <td>2014</td>\n",
       "      <td>45358</td>\n",
       "    </tr>\n",
       "  </tbody>\n",
       "</table>\n",
       "</div>"
      ],
      "text/plain": [
       "      County  Year  Population\n",
       "0    Alameda  2014     1588576\n",
       "1     Alpine  2014        1163\n",
       "2     Amador  2014       37815\n",
       "3      Butte  2014      223137\n",
       "4  Calaveras  2014       45358"
      ]
     },
     "execution_count": 100,
     "metadata": {},
     "output_type": "execute_result"
    }
   ],
   "source": [
    "#remove comma from Population column\n",
    "county_population['Population'] = county_population['Population'].str.replace(',','').astype(int)\n",
    "county_population.head()"
   ]
  },
  {
   "cell_type": "code",
   "execution_count": 189,
   "metadata": {},
   "outputs": [
    {
     "data": {
      "text/html": [
       "<div>\n",
       "<style scoped>\n",
       "    .dataframe tbody tr th:only-of-type {\n",
       "        vertical-align: middle;\n",
       "    }\n",
       "\n",
       "    .dataframe tbody tr th {\n",
       "        vertical-align: top;\n",
       "    }\n",
       "\n",
       "    .dataframe thead th {\n",
       "        text-align: right;\n",
       "    }\n",
       "</style>\n",
       "<table border=\"1\" class=\"dataframe\">\n",
       "  <thead>\n",
       "    <tr style=\"text-align: right;\">\n",
       "      <th></th>\n",
       "      <th>County</th>\n",
       "      <th>Year</th>\n",
       "      <th>Value</th>\n",
       "      <th>CountyCode</th>\n",
       "      <th>Crude rates per 10,000</th>\n",
       "      <th>Lower 95% Limit</th>\n",
       "      <th>Upper 95% Limit</th>\n",
       "      <th>Patient_count</th>\n",
       "      <th>Age group</th>\n",
       "      <th>AgeGroupCat</th>\n",
       "      <th>Population</th>\n",
       "    </tr>\n",
       "  </thead>\n",
       "  <tbody>\n",
       "    <tr>\n",
       "      <td>0</td>\n",
       "      <td>Alameda</td>\n",
       "      <td>2014</td>\n",
       "      <td>10.615572</td>\n",
       "      <td>6001</td>\n",
       "      <td>148.8</td>\n",
       "      <td>141.4</td>\n",
       "      <td>156.6</td>\n",
       "      <td>1487</td>\n",
       "      <td>ages (0-4)</td>\n",
       "      <td>2</td>\n",
       "      <td>1588576</td>\n",
       "    </tr>\n",
       "    <tr>\n",
       "      <td>1</td>\n",
       "      <td>Alameda</td>\n",
       "      <td>2014</td>\n",
       "      <td>10.615572</td>\n",
       "      <td>6001</td>\n",
       "      <td>84.5</td>\n",
       "      <td>80.9</td>\n",
       "      <td>88.2</td>\n",
       "      <td>2100</td>\n",
       "      <td>ages (5-17)</td>\n",
       "      <td>5</td>\n",
       "      <td>1588576</td>\n",
       "    </tr>\n",
       "    <tr>\n",
       "      <td>2</td>\n",
       "      <td>Alameda</td>\n",
       "      <td>2014</td>\n",
       "      <td>10.615572</td>\n",
       "      <td>6001</td>\n",
       "      <td>47.7</td>\n",
       "      <td>45.5</td>\n",
       "      <td>50.0</td>\n",
       "      <td>1806</td>\n",
       "      <td>ages (18-34)</td>\n",
       "      <td>3</td>\n",
       "      <td>1588576</td>\n",
       "    </tr>\n",
       "    <tr>\n",
       "      <td>3</td>\n",
       "      <td>Alameda</td>\n",
       "      <td>2014</td>\n",
       "      <td>10.615572</td>\n",
       "      <td>6001</td>\n",
       "      <td>54.5</td>\n",
       "      <td>52.7</td>\n",
       "      <td>56.3</td>\n",
       "      <td>3505</td>\n",
       "      <td>ages (35-64)</td>\n",
       "      <td>4</td>\n",
       "      <td>1588576</td>\n",
       "    </tr>\n",
       "    <tr>\n",
       "      <td>4</td>\n",
       "      <td>Alameda</td>\n",
       "      <td>2014</td>\n",
       "      <td>10.615572</td>\n",
       "      <td>6001</td>\n",
       "      <td>51.4</td>\n",
       "      <td>48.3</td>\n",
       "      <td>54.7</td>\n",
       "      <td>1011</td>\n",
       "      <td>Above 65</td>\n",
       "      <td>0</td>\n",
       "      <td>1588576</td>\n",
       "    </tr>\n",
       "  </tbody>\n",
       "</table>\n",
       "</div>"
      ],
      "text/plain": [
       "    County  Year      Value  CountyCode  Crude rates per 10,000  \\\n",
       "0  Alameda  2014  10.615572        6001                   148.8   \n",
       "1  Alameda  2014  10.615572        6001                    84.5   \n",
       "2  Alameda  2014  10.615572        6001                    47.7   \n",
       "3  Alameda  2014  10.615572        6001                    54.5   \n",
       "4  Alameda  2014  10.615572        6001                    51.4   \n",
       "\n",
       "   Lower 95% Limit  Upper 95% Limit  Patient_count     Age group  AgeGroupCat  \\\n",
       "0            141.4            156.6           1487    ages (0-4)            2   \n",
       "1             80.9             88.2           2100   ages (5-17)            5   \n",
       "2             45.5             50.0           1806  ages (18-34)            3   \n",
       "3             52.7             56.3           3505  ages (35-64)            4   \n",
       "4             48.3             54.7           1011      Above 65            0   \n",
       "\n",
       "   Population  \n",
       "0     1588576  \n",
       "1     1588576  \n",
       "2     1588576  \n",
       "3     1588576  \n",
       "4     1588576  "
      ]
     },
     "execution_count": 189,
     "metadata": {},
     "output_type": "execute_result"
    }
   ],
   "source": [
    "#merging merged data && county_population data to get population column\n",
    "\n",
    "merged = pd.merge(merged,county_population,how='inner', left_on=['Year', 'County'], right_on=['Year','County'])\n",
    "merged.head()"
   ]
  },
  {
   "cell_type": "code",
   "execution_count": 190,
   "metadata": {},
   "outputs": [
    {
     "data": {
      "text/html": [
       "<div>\n",
       "<style scoped>\n",
       "    .dataframe tbody tr th:only-of-type {\n",
       "        vertical-align: middle;\n",
       "    }\n",
       "\n",
       "    .dataframe tbody tr th {\n",
       "        vertical-align: top;\n",
       "    }\n",
       "\n",
       "    .dataframe thead th {\n",
       "        text-align: right;\n",
       "    }\n",
       "</style>\n",
       "<table border=\"1\" class=\"dataframe\">\n",
       "  <thead>\n",
       "    <tr style=\"text-align: right;\">\n",
       "      <th></th>\n",
       "      <th>County</th>\n",
       "      <th>Year</th>\n",
       "      <th>Value</th>\n",
       "      <th>CountyCode</th>\n",
       "      <th>Crude rates per 10,000</th>\n",
       "      <th>Lower 95% Limit</th>\n",
       "      <th>Upper 95% Limit</th>\n",
       "      <th>Patient_count</th>\n",
       "      <th>Age group</th>\n",
       "      <th>AgeGroupCat</th>\n",
       "      <th>Population</th>\n",
       "      <th>Patient_ratio</th>\n",
       "    </tr>\n",
       "  </thead>\n",
       "  <tbody>\n",
       "    <tr>\n",
       "      <td>0</td>\n",
       "      <td>Alameda</td>\n",
       "      <td>2014</td>\n",
       "      <td>10.615572</td>\n",
       "      <td>6001</td>\n",
       "      <td>148.8</td>\n",
       "      <td>141.4</td>\n",
       "      <td>156.6</td>\n",
       "      <td>1487</td>\n",
       "      <td>ages (0-4)</td>\n",
       "      <td>2</td>\n",
       "      <td>1588576</td>\n",
       "      <td>0.000936</td>\n",
       "    </tr>\n",
       "    <tr>\n",
       "      <td>1</td>\n",
       "      <td>Alameda</td>\n",
       "      <td>2014</td>\n",
       "      <td>10.615572</td>\n",
       "      <td>6001</td>\n",
       "      <td>84.5</td>\n",
       "      <td>80.9</td>\n",
       "      <td>88.2</td>\n",
       "      <td>2100</td>\n",
       "      <td>ages (5-17)</td>\n",
       "      <td>5</td>\n",
       "      <td>1588576</td>\n",
       "      <td>0.001322</td>\n",
       "    </tr>\n",
       "    <tr>\n",
       "      <td>2</td>\n",
       "      <td>Alameda</td>\n",
       "      <td>2014</td>\n",
       "      <td>10.615572</td>\n",
       "      <td>6001</td>\n",
       "      <td>47.7</td>\n",
       "      <td>45.5</td>\n",
       "      <td>50.0</td>\n",
       "      <td>1806</td>\n",
       "      <td>ages (18-34)</td>\n",
       "      <td>3</td>\n",
       "      <td>1588576</td>\n",
       "      <td>0.001137</td>\n",
       "    </tr>\n",
       "    <tr>\n",
       "      <td>3</td>\n",
       "      <td>Alameda</td>\n",
       "      <td>2014</td>\n",
       "      <td>10.615572</td>\n",
       "      <td>6001</td>\n",
       "      <td>54.5</td>\n",
       "      <td>52.7</td>\n",
       "      <td>56.3</td>\n",
       "      <td>3505</td>\n",
       "      <td>ages (35-64)</td>\n",
       "      <td>4</td>\n",
       "      <td>1588576</td>\n",
       "      <td>0.002206</td>\n",
       "    </tr>\n",
       "    <tr>\n",
       "      <td>4</td>\n",
       "      <td>Alameda</td>\n",
       "      <td>2014</td>\n",
       "      <td>10.615572</td>\n",
       "      <td>6001</td>\n",
       "      <td>51.4</td>\n",
       "      <td>48.3</td>\n",
       "      <td>54.7</td>\n",
       "      <td>1011</td>\n",
       "      <td>Above 65</td>\n",
       "      <td>0</td>\n",
       "      <td>1588576</td>\n",
       "      <td>0.000636</td>\n",
       "    </tr>\n",
       "  </tbody>\n",
       "</table>\n",
       "</div>"
      ],
      "text/plain": [
       "    County  Year      Value  CountyCode  Crude rates per 10,000  \\\n",
       "0  Alameda  2014  10.615572        6001                   148.8   \n",
       "1  Alameda  2014  10.615572        6001                    84.5   \n",
       "2  Alameda  2014  10.615572        6001                    47.7   \n",
       "3  Alameda  2014  10.615572        6001                    54.5   \n",
       "4  Alameda  2014  10.615572        6001                    51.4   \n",
       "\n",
       "   Lower 95% Limit  Upper 95% Limit  Patient_count     Age group  AgeGroupCat  \\\n",
       "0            141.4            156.6           1487    ages (0-4)            2   \n",
       "1             80.9             88.2           2100   ages (5-17)            5   \n",
       "2             45.5             50.0           1806  ages (18-34)            3   \n",
       "3             52.7             56.3           3505  ages (35-64)            4   \n",
       "4             48.3             54.7           1011      Above 65            0   \n",
       "\n",
       "   Population  Patient_ratio  \n",
       "0     1588576       0.000936  \n",
       "1     1588576       0.001322  \n",
       "2     1588576       0.001137  \n",
       "3     1588576       0.002206  \n",
       "4     1588576       0.000636  "
      ]
     },
     "execution_count": 190,
     "metadata": {},
     "output_type": "execute_result"
    }
   ],
   "source": [
    "#Calculating patient ratio\n",
    "\n",
    "merged['Patient_ratio'] = merged['Patient_count']/merged['Population']\n",
    "merged.head()"
   ]
  },
  {
   "cell_type": "code",
   "execution_count": 191,
   "metadata": {},
   "outputs": [
    {
     "data": {
      "text/html": [
       "<div>\n",
       "<style scoped>\n",
       "    .dataframe tbody tr th:only-of-type {\n",
       "        vertical-align: middle;\n",
       "    }\n",
       "\n",
       "    .dataframe tbody tr th {\n",
       "        vertical-align: top;\n",
       "    }\n",
       "\n",
       "    .dataframe thead th {\n",
       "        text-align: right;\n",
       "    }\n",
       "</style>\n",
       "<table border=\"1\" class=\"dataframe\">\n",
       "  <thead>\n",
       "    <tr style=\"text-align: right;\">\n",
       "      <th></th>\n",
       "      <th>County</th>\n",
       "      <th>Year</th>\n",
       "      <th>Value</th>\n",
       "      <th>CountyCode</th>\n",
       "      <th>Crude rates per 10,000</th>\n",
       "      <th>Lower 95% Limit</th>\n",
       "      <th>Upper 95% Limit</th>\n",
       "      <th>Patient_count</th>\n",
       "      <th>Age group</th>\n",
       "      <th>AgeGroupCat</th>\n",
       "      <th>Population</th>\n",
       "      <th>Patient_ratio</th>\n",
       "      <th>Patient_percent%</th>\n",
       "    </tr>\n",
       "  </thead>\n",
       "  <tbody>\n",
       "    <tr>\n",
       "      <td>0</td>\n",
       "      <td>Alameda</td>\n",
       "      <td>2014</td>\n",
       "      <td>10.615572</td>\n",
       "      <td>6001</td>\n",
       "      <td>148.8</td>\n",
       "      <td>141.4</td>\n",
       "      <td>156.6</td>\n",
       "      <td>1487</td>\n",
       "      <td>ages (0-4)</td>\n",
       "      <td>2</td>\n",
       "      <td>1588576</td>\n",
       "      <td>0.000936</td>\n",
       "      <td>9.360585</td>\n",
       "    </tr>\n",
       "    <tr>\n",
       "      <td>1</td>\n",
       "      <td>Alameda</td>\n",
       "      <td>2014</td>\n",
       "      <td>10.615572</td>\n",
       "      <td>6001</td>\n",
       "      <td>84.5</td>\n",
       "      <td>80.9</td>\n",
       "      <td>88.2</td>\n",
       "      <td>2100</td>\n",
       "      <td>ages (5-17)</td>\n",
       "      <td>5</td>\n",
       "      <td>1588576</td>\n",
       "      <td>0.001322</td>\n",
       "      <td>13.219386</td>\n",
       "    </tr>\n",
       "    <tr>\n",
       "      <td>2</td>\n",
       "      <td>Alameda</td>\n",
       "      <td>2014</td>\n",
       "      <td>10.615572</td>\n",
       "      <td>6001</td>\n",
       "      <td>47.7</td>\n",
       "      <td>45.5</td>\n",
       "      <td>50.0</td>\n",
       "      <td>1806</td>\n",
       "      <td>ages (18-34)</td>\n",
       "      <td>3</td>\n",
       "      <td>1588576</td>\n",
       "      <td>0.001137</td>\n",
       "      <td>11.368672</td>\n",
       "    </tr>\n",
       "    <tr>\n",
       "      <td>3</td>\n",
       "      <td>Alameda</td>\n",
       "      <td>2014</td>\n",
       "      <td>10.615572</td>\n",
       "      <td>6001</td>\n",
       "      <td>54.5</td>\n",
       "      <td>52.7</td>\n",
       "      <td>56.3</td>\n",
       "      <td>3505</td>\n",
       "      <td>ages (35-64)</td>\n",
       "      <td>4</td>\n",
       "      <td>1588576</td>\n",
       "      <td>0.002206</td>\n",
       "      <td>22.063785</td>\n",
       "    </tr>\n",
       "    <tr>\n",
       "      <td>4</td>\n",
       "      <td>Alameda</td>\n",
       "      <td>2014</td>\n",
       "      <td>10.615572</td>\n",
       "      <td>6001</td>\n",
       "      <td>51.4</td>\n",
       "      <td>48.3</td>\n",
       "      <td>54.7</td>\n",
       "      <td>1011</td>\n",
       "      <td>Above 65</td>\n",
       "      <td>0</td>\n",
       "      <td>1588576</td>\n",
       "      <td>0.000636</td>\n",
       "      <td>6.364190</td>\n",
       "    </tr>\n",
       "  </tbody>\n",
       "</table>\n",
       "</div>"
      ],
      "text/plain": [
       "    County  Year      Value  CountyCode  Crude rates per 10,000  \\\n",
       "0  Alameda  2014  10.615572        6001                   148.8   \n",
       "1  Alameda  2014  10.615572        6001                    84.5   \n",
       "2  Alameda  2014  10.615572        6001                    47.7   \n",
       "3  Alameda  2014  10.615572        6001                    54.5   \n",
       "4  Alameda  2014  10.615572        6001                    51.4   \n",
       "\n",
       "   Lower 95% Limit  Upper 95% Limit  Patient_count     Age group  AgeGroupCat  \\\n",
       "0            141.4            156.6           1487    ages (0-4)            2   \n",
       "1             80.9             88.2           2100   ages (5-17)            5   \n",
       "2             45.5             50.0           1806  ages (18-34)            3   \n",
       "3             52.7             56.3           3505  ages (35-64)            4   \n",
       "4             48.3             54.7           1011      Above 65            0   \n",
       "\n",
       "   Population  Patient_ratio  Patient_percent%  \n",
       "0     1588576       0.000936          9.360585  \n",
       "1     1588576       0.001322         13.219386  \n",
       "2     1588576       0.001137         11.368672  \n",
       "3     1588576       0.002206         22.063785  \n",
       "4     1588576       0.000636          6.364190  "
      ]
     },
     "execution_count": 191,
     "metadata": {},
     "output_type": "execute_result"
    }
   ],
   "source": [
    "#Calculating patient percentage\n",
    "\n",
    "merged['Patient_percent%'] = merged['Patient_ratio']* 10000\n",
    "merged.head()"
   ]
  },
  {
   "cell_type": "code",
   "execution_count": 183,
   "metadata": {},
   "outputs": [],
   "source": [
    "merged.dtypes\n",
    "merged['AgeGroupCat']= merged['Age group'].cat.codes"
   ]
  },
  {
   "cell_type": "code",
   "execution_count": 192,
   "metadata": {},
   "outputs": [
    {
     "data": {
      "text/html": [
       "<div>\n",
       "<style scoped>\n",
       "    .dataframe tbody tr th:only-of-type {\n",
       "        vertical-align: middle;\n",
       "    }\n",
       "\n",
       "    .dataframe tbody tr th {\n",
       "        vertical-align: top;\n",
       "    }\n",
       "\n",
       "    .dataframe thead th {\n",
       "        text-align: right;\n",
       "    }\n",
       "</style>\n",
       "<table border=\"1\" class=\"dataframe\">\n",
       "  <thead>\n",
       "    <tr style=\"text-align: right;\">\n",
       "      <th></th>\n",
       "      <th>County</th>\n",
       "      <th>Year</th>\n",
       "      <th>Value</th>\n",
       "      <th>CountyCode</th>\n",
       "      <th>Crude rates per 10,000</th>\n",
       "      <th>Lower 95% Limit</th>\n",
       "      <th>Upper 95% Limit</th>\n",
       "      <th>Patient_count</th>\n",
       "      <th>Age group</th>\n",
       "      <th>AgeGroupCat</th>\n",
       "      <th>Population</th>\n",
       "      <th>Patient_ratio</th>\n",
       "      <th>Patient_percent%</th>\n",
       "    </tr>\n",
       "  </thead>\n",
       "  <tbody>\n",
       "    <tr>\n",
       "      <td>1171</td>\n",
       "      <td>Yolo</td>\n",
       "      <td>2017</td>\n",
       "      <td>10.430445</td>\n",
       "      <td>6113</td>\n",
       "      <td>59.3</td>\n",
       "      <td>51.6</td>\n",
       "      <td>67.7</td>\n",
       "      <td>217</td>\n",
       "      <td>ages (5-17)</td>\n",
       "      <td>5</td>\n",
       "      <td>218673</td>\n",
       "      <td>0.000992</td>\n",
       "      <td>9.923493</td>\n",
       "    </tr>\n",
       "    <tr>\n",
       "      <td>1172</td>\n",
       "      <td>Yolo</td>\n",
       "      <td>2017</td>\n",
       "      <td>10.430445</td>\n",
       "      <td>6113</td>\n",
       "      <td>34.4</td>\n",
       "      <td>30.3</td>\n",
       "      <td>39.0</td>\n",
       "      <td>249</td>\n",
       "      <td>ages (18-34)</td>\n",
       "      <td>3</td>\n",
       "      <td>218673</td>\n",
       "      <td>0.001139</td>\n",
       "      <td>11.386865</td>\n",
       "    </tr>\n",
       "    <tr>\n",
       "      <td>1173</td>\n",
       "      <td>Yolo</td>\n",
       "      <td>2017</td>\n",
       "      <td>10.430445</td>\n",
       "      <td>6113</td>\n",
       "      <td>34.4</td>\n",
       "      <td>30.2</td>\n",
       "      <td>38.9</td>\n",
       "      <td>246</td>\n",
       "      <td>ages (35-64)</td>\n",
       "      <td>4</td>\n",
       "      <td>218673</td>\n",
       "      <td>0.001125</td>\n",
       "      <td>11.249674</td>\n",
       "    </tr>\n",
       "    <tr>\n",
       "      <td>1174</td>\n",
       "      <td>Yolo</td>\n",
       "      <td>2017</td>\n",
       "      <td>10.430445</td>\n",
       "      <td>6113</td>\n",
       "      <td>37.7</td>\n",
       "      <td>30.7</td>\n",
       "      <td>45.8</td>\n",
       "      <td>102</td>\n",
       "      <td>Above 65</td>\n",
       "      <td>0</td>\n",
       "      <td>218673</td>\n",
       "      <td>0.000466</td>\n",
       "      <td>4.664499</td>\n",
       "    </tr>\n",
       "    <tr>\n",
       "      <td>1175</td>\n",
       "      <td>Yolo</td>\n",
       "      <td>2017</td>\n",
       "      <td>10.430445</td>\n",
       "      <td>6113</td>\n",
       "      <td>40.4</td>\n",
       "      <td>37.8</td>\n",
       "      <td>43.2</td>\n",
       "      <td>890</td>\n",
       "      <td>All ages</td>\n",
       "      <td>1</td>\n",
       "      <td>218673</td>\n",
       "      <td>0.004070</td>\n",
       "      <td>40.700041</td>\n",
       "    </tr>\n",
       "  </tbody>\n",
       "</table>\n",
       "</div>"
      ],
      "text/plain": [
       "     County  Year      Value  CountyCode  Crude rates per 10,000  \\\n",
       "1171   Yolo  2017  10.430445        6113                    59.3   \n",
       "1172   Yolo  2017  10.430445        6113                    34.4   \n",
       "1173   Yolo  2017  10.430445        6113                    34.4   \n",
       "1174   Yolo  2017  10.430445        6113                    37.7   \n",
       "1175   Yolo  2017  10.430445        6113                    40.4   \n",
       "\n",
       "      Lower 95% Limit  Upper 95% Limit  Patient_count     Age group  \\\n",
       "1171             51.6             67.7            217   ages (5-17)   \n",
       "1172             30.3             39.0            249  ages (18-34)   \n",
       "1173             30.2             38.9            246  ages (35-64)   \n",
       "1174             30.7             45.8            102      Above 65   \n",
       "1175             37.8             43.2            890      All ages   \n",
       "\n",
       "      AgeGroupCat  Population  Patient_ratio  Patient_percent%  \n",
       "1171            5      218673       0.000992          9.923493  \n",
       "1172            3      218673       0.001139         11.386865  \n",
       "1173            4      218673       0.001125         11.249674  \n",
       "1174            0      218673       0.000466          4.664499  \n",
       "1175            1      218673       0.004070         40.700041  "
      ]
     },
     "execution_count": 192,
     "metadata": {},
     "output_type": "execute_result"
    }
   ],
   "source": [
    "merged.tail()"
   ]
  },
  {
   "cell_type": "code",
   "execution_count": 82,
   "metadata": {},
   "outputs": [
    {
     "data": {
      "image/png": "[encoded data removed]",
      "text/plain": [
       "<Figure size 1152x720 with 2 Axes>"
      ]
     },
     "metadata": {
      "needs_background": "light"
     },
     "output_type": "display_data"
    }
   ],
   "source": [
    "#again measuring the correlation - without applying county filter\n",
    "\n",
    "corr = merged.corr()\n",
    "g = sns.heatmap(corr, vmax=.9, center=0,\n",
    "               square=True, linewidths=.9, cbar_kws={\"shrink\": .8}, annot=True, fmt='.2f', cmap='coolwarm')\n",
    "bottom, top = g.get_ylim()\n",
    "g.set_ylim(bottom + 0.5, top - 0.5)\n",
    "sns.despine()\n",
    "g.figure.set_size_inches(16, 10)"
   ]
  },
  {
   "cell_type": "code",
   "execution_count": 45,
   "metadata": {},
   "outputs": [
    {
     "data": {
      "text/plain": [
       "<matplotlib.axes._subplots.AxesSubplot at 0x1a2c1f4e10>"
      ]
     },
     "execution_count": 45,
     "metadata": {},
     "output_type": "execute_result"
    },
    {
     "data": {
      "image/png": "[encoded data removed]",
      "text/plain": [
       "<Figure size 432x288 with 1 Axes>"
      ]
     },
     "metadata": {
      "needs_background": "light"
     },
     "output_type": "display_data"
    }
   ],
   "source": [
    "#plotting AQ index value vs. patient ratio\n",
    "merged[['Value','Patient_percent%']].plot()"
   ]
  },
  {
   "cell_type": "code",
   "execution_count": null,
   "metadata": {},
   "outputs": [],
   "source": [
    "merged[['Value','Crude rates per 10,000']].plot()"
   ]
  },
  {
   "cell_type": "code",
   "execution_count": null,
   "metadata": {},
   "outputs": [],
   "source": [
    "len(merged['County'].unique())"
   ]
  },
  {
   "cell_type": "code",
   "execution_count": null,
   "metadata": {},
   "outputs": [],
   "source": [
    "merged_filter_for_plot = merged[(merged['County'].isin(['Santa Clara']))]\n",
    "merged_filter_for_plot"
   ]
  },
  {
   "cell_type": "code",
   "execution_count": null,
   "metadata": {},
   "outputs": [],
   "source": [
    "#plotting AQ index value vs. patient ratio\n",
    "merged_filter_for_plot[['Value','Patient_percent%']].plot()"
   ]
  },
  {
   "cell_type": "code",
   "execution_count": null,
   "metadata": {},
   "outputs": [],
   "source": [
    "merged_filter_for_plot[['Value','Crude rates per 10,000']].plot()"
   ]
  },
  {
   "cell_type": "code",
   "execution_count": null,
   "metadata": {},
   "outputs": [],
   "source": [
    "merged_filter_for_plot"
   ]
  },
  {
   "cell_type": "code",
   "execution_count": null,
   "metadata": {},
   "outputs": [],
   "source": [
    "plt.figure()\n",
    "\n",
    "x = merged_filter_for_plot['Crude rates per 10,000']\n",
    "y = merged_filter_for_plot['Value']\n",
    "\n",
    "\n",
    "plt.plot(x,y)\n"
   ]
  },
  {
   "cell_type": "code",
   "execution_count": null,
   "metadata": {},
   "outputs": [],
   "source": [
    "plt.figure()\n",
    "\n",
    "x = merged_filter_for_plot['Year']\n",
    "y = merged_filter_for_plot['Patient_percent%']\n",
    "\n",
    "plt.plot(x,y)"
   ]
  },
  {
   "cell_type": "code",
   "execution_count": null,
   "metadata": {},
   "outputs": [],
   "source": [
    "plt.figure()\n",
    "\n",
    "x = merged_filter_for_plot['Value']\n",
    "y = merged_filter_for_plot['Year']\n",
    "\n",
    "plt.plot(y,x)"
   ]
  },
  {
   "cell_type": "code",
   "execution_count": null,
   "metadata": {},
   "outputs": [],
   "source": [
    "plt.figure()\n",
    "\n",
    "x = merged_filter_for_plot['Year']\n",
    "y1 = merged_filter_for_plot['Patient_ratio'] * 10000\n",
    "y2 = merged_filter_for_plot['Value']\n",
    "\n",
    "plt.plot(x,y1)\n",
    "plt.plot(x,y2)"
   ]
  },
  {
   "cell_type": "code",
   "execution_count": null,
   "metadata": {},
   "outputs": [],
   "source": [
    "min(merged['Value'])"
   ]
  },
  {
   "cell_type": "code",
   "execution_count": 170,
   "metadata": {},
   "outputs": [
    {
     "name": "stderr",
     "output_type": "stream",
     "text": [
      "'c' argument looks like a single numeric RGB or RGBA sequence, which should be avoided as value-mapping will have precedence in case its length matches with 'x' & 'y'.  Please use a 2-D array with a single row if you really want to specify the same RGB or RGBA value for all points.\n",
      "'c' argument looks like a single numeric RGB or RGBA sequence, which should be avoided as value-mapping will have precedence in case its length matches with 'x' & 'y'.  Please use a 2-D array with a single row if you really want to specify the same RGB or RGBA value for all points.\n"
     ]
    },
    {
     "data": {
      "image/png": "[encoded data removed]",
      "text/plain": [
       "<Figure size 432x288 with 1 Axes>"
      ]
     },
     "metadata": {
      "needs_background": "light"
     },
     "output_type": "display_data"
    }
   ],
   "source": [
    "fig = plt.figure()\n",
    "ax = fig.add_subplot(111)\n",
    "\n",
    "x = merged['County']\n",
    "y1 = merged['Patient_percent%']\n",
    "y2 = merged['Value']\n",
    "y3 = merged['Age group']\n",
    "#plt.axes([6000,6200,10,10])\n",
    "\n",
    "r_colors = (1,0,0)\n",
    "g_colors = (0,1,0)\n",
    "colors = (1,0,0)\n",
    "\n",
    "\n",
    "plt.scatter(x, y1,  c=r_colors, alpha=0.5)\n",
    "plt.scatter(x, y2,  c=g_colors, alpha=0.5)\n",
    "\n",
    "\n",
    "plt.axis([-1,10,0,35])\n",
    "plt.xticks(rotation=90)\n",
    "# ax.plot(x,y1)\n",
    "# ax.plot(x,y2)\n",
    "ax.set_aspect(aspect=0.2)\n",
    "\n"
   ]
  },
  {
   "cell_type": "code",
   "execution_count": 169,
   "metadata": {},
   "outputs": [
    {
     "data": {
      "text/html": [
       "<div>\n",
       "<style scoped>\n",
       "    .dataframe tbody tr th:only-of-type {\n",
       "        vertical-align: middle;\n",
       "    }\n",
       "\n",
       "    .dataframe tbody tr th {\n",
       "        vertical-align: top;\n",
       "    }\n",
       "\n",
       "    .dataframe thead th {\n",
       "        text-align: right;\n",
       "    }\n",
       "</style>\n",
       "<table border=\"1\" class=\"dataframe\">\n",
       "  <thead>\n",
       "    <tr style=\"text-align: right;\">\n",
       "      <th></th>\n",
       "      <th>County</th>\n",
       "      <th>Year</th>\n",
       "      <th>Value</th>\n",
       "      <th>CountyCode</th>\n",
       "      <th>Crude rates per 10,000</th>\n",
       "      <th>Lower 95% Limit</th>\n",
       "      <th>Upper 95% Limit</th>\n",
       "      <th>Patient_count</th>\n",
       "      <th>Age group</th>\n",
       "      <th>Population</th>\n",
       "      <th>Patient_ratio</th>\n",
       "      <th>AgeGroupCat</th>\n",
       "      <th>Patient_percent%</th>\n",
       "    </tr>\n",
       "  </thead>\n",
       "  <tbody>\n",
       "    <tr>\n",
       "      <td>0</td>\n",
       "      <td>Alameda</td>\n",
       "      <td>2014</td>\n",
       "      <td>10.615572</td>\n",
       "      <td>6001</td>\n",
       "      <td>148.8</td>\n",
       "      <td>141.4</td>\n",
       "      <td>156.6</td>\n",
       "      <td>1487</td>\n",
       "      <td>ages (0-4)</td>\n",
       "      <td>1588576</td>\n",
       "      <td>0.000936</td>\n",
       "      <td>1</td>\n",
       "      <td>9.360585</td>\n",
       "    </tr>\n",
       "    <tr>\n",
       "      <td>1</td>\n",
       "      <td>Alameda</td>\n",
       "      <td>2014</td>\n",
       "      <td>10.615572</td>\n",
       "      <td>6001</td>\n",
       "      <td>84.5</td>\n",
       "      <td>80.9</td>\n",
       "      <td>88.2</td>\n",
       "      <td>2100</td>\n",
       "      <td>ages (5-17)</td>\n",
       "      <td>1588576</td>\n",
       "      <td>0.001322</td>\n",
       "      <td>4</td>\n",
       "      <td>13.219386</td>\n",
       "    </tr>\n",
       "    <tr>\n",
       "      <td>2</td>\n",
       "      <td>Alameda</td>\n",
       "      <td>2014</td>\n",
       "      <td>10.615572</td>\n",
       "      <td>6001</td>\n",
       "      <td>47.7</td>\n",
       "      <td>45.5</td>\n",
       "      <td>50.0</td>\n",
       "      <td>1806</td>\n",
       "      <td>ages (18-34)</td>\n",
       "      <td>1588576</td>\n",
       "      <td>0.001137</td>\n",
       "      <td>2</td>\n",
       "      <td>11.368672</td>\n",
       "    </tr>\n",
       "    <tr>\n",
       "      <td>3</td>\n",
       "      <td>Alameda</td>\n",
       "      <td>2014</td>\n",
       "      <td>10.615572</td>\n",
       "      <td>6001</td>\n",
       "      <td>54.5</td>\n",
       "      <td>52.7</td>\n",
       "      <td>56.3</td>\n",
       "      <td>3505</td>\n",
       "      <td>ages (35-64)</td>\n",
       "      <td>1588576</td>\n",
       "      <td>0.002206</td>\n",
       "      <td>3</td>\n",
       "      <td>22.063785</td>\n",
       "    </tr>\n",
       "    <tr>\n",
       "      <td>4</td>\n",
       "      <td>Alameda</td>\n",
       "      <td>2014</td>\n",
       "      <td>10.615572</td>\n",
       "      <td>6001</td>\n",
       "      <td>51.4</td>\n",
       "      <td>48.3</td>\n",
       "      <td>54.7</td>\n",
       "      <td>1011</td>\n",
       "      <td>Above 65</td>\n",
       "      <td>1588576</td>\n",
       "      <td>0.000636</td>\n",
       "      <td>0</td>\n",
       "      <td>6.364190</td>\n",
       "    </tr>\n",
       "  </tbody>\n",
       "</table>\n",
       "</div>"
      ],
      "text/plain": [
       "    County  Year      Value  CountyCode  Crude rates per 10,000  \\\n",
       "0  Alameda  2014  10.615572        6001                   148.8   \n",
       "1  Alameda  2014  10.615572        6001                    84.5   \n",
       "2  Alameda  2014  10.615572        6001                    47.7   \n",
       "3  Alameda  2014  10.615572        6001                    54.5   \n",
       "4  Alameda  2014  10.615572        6001                    51.4   \n",
       "\n",
       "   Lower 95% Limit  Upper 95% Limit  Patient_count     Age group  Population  \\\n",
       "0            141.4            156.6           1487    ages (0-4)     1588576   \n",
       "1             80.9             88.2           2100   ages (5-17)     1588576   \n",
       "2             45.5             50.0           1806  ages (18-34)     1588576   \n",
       "3             52.7             56.3           3505  ages (35-64)     1588576   \n",
       "4             48.3             54.7           1011      Above 65     1588576   \n",
       "\n",
       "   Patient_ratio  AgeGroupCat  Patient_percent%  \n",
       "0       0.000936            1          9.360585  \n",
       "1       0.001322            4         13.219386  \n",
       "2       0.001137            2         11.368672  \n",
       "3       0.002206            3         22.063785  \n",
       "4       0.000636            0          6.364190  "
      ]
     },
     "execution_count": 169,
     "metadata": {},
     "output_type": "execute_result"
    }
   ],
   "source": [
    "merged.head()"
   ]
  },
  {
   "cell_type": "code",
   "execution_count": null,
   "metadata": {},
   "outputs": [],
   "source": [
    "fig = plt.figure()\n",
    "ax = fig.add_subplot(111)\n",
    "\n",
    "x = merged['County']\n",
    "y1 = merged['Crude rates per 10,000'] / 10\n",
    "y2 = merged['Value']\n",
    "y3 = merged['Age group']\n",
    "#plt.axes([6000,6200,10,10])\n",
    "\n",
    "r_colors = (1,0,0)\n",
    "g_colors = (0,1,0)\n",
    "b_colors = (0,0,1)\n",
    "colors = (1,0,0)\n",
    "\n",
    "\n",
    "plt.scatter(x, y1,  c=r_colors, alpha=0.5)\n",
    "plt.scatter(x, y2,  c=g_colors, alpha=0.5)\n",
    "#plt.scatter(x,y3, c=b_colors, alpha=0.5)\n",
    "\n",
    "plt.axis([0,10,0,30])\n",
    "plt.xticks(rotation=90)\n",
    "# ax.plot(x,y1)\n",
    "# ax.plot(x,y2)\n",
    "ax.set_aspect(aspect=0.2)"
   ]
  },
  {
   "cell_type": "code",
   "execution_count": null,
   "metadata": {},
   "outputs": [],
   "source": [
    "plt.figure(figsize=[10,8])\n",
    "x = 0.3*np.random.randn(1000)\n",
    "y = 0.3*np.random.randn(1000)\n",
    "\n",
    "x = merged['County']\n",
    "y1 = merged['Crude rates per 10,000'] / 10\n",
    "y2 = merged['Value']\n",
    "y3 = merged['AgeGroupCat']\n",
    "\n",
    "plt.xticks(rotation=90)\n",
    "n, bins, patches = plt.hist([y2,y1], bins = 'auto')\n",
    "plt.xlabel('County')\n",
    "#plt.hist(y2, bins, histtype='step', label=['second again'])\n",
    "\n"
   ]
  },
  {
   "cell_type": "code",
   "execution_count": null,
   "metadata": {},
   "outputs": [],
   "source": [
    "means = 10, 20\n",
    "stdevs = 4,2\n",
    "dist = pd.DataFrame(np.random.normal(loc=means, scale=stdevs, size=(1000, 2)),columns=['Value','Crude rates per 10,000'])\n",
    "dist.agg(['min', 'max', 'mean', 'std']).round(decimals=2)"
   ]
  },
  {
   "cell_type": "code",
   "execution_count": null,
   "metadata": {},
   "outputs": [],
   "source": [
    "fig, ax = plt.subplots()\n",
    "\n",
    "dist.plot.kde(ax=ax, legend=False, title='Histogram: A vs. B')\n",
    "dist.plot.hist(density=True, ax=ax)\n",
    "ax.set_ylabel('Probability')\n",
    "ax.grid(axis='y')\n",
    "ax.set_facecolor('#d8dcd6')"
   ]
  },
  {
   "cell_type": "code",
   "execution_count": null,
   "metadata": {},
   "outputs": [],
   "source": [
    "merged.head()"
   ]
  },
  {
   "cell_type": "code",
   "execution_count": null,
   "metadata": {},
   "outputs": [],
   "source": [
    "import plotly.figure_factory as ff\n",
    "\n",
    "colorscale = [\n",
    "    'rgb(193, 193, 193)',\n",
    "    'rgb(239,239,239)',\n",
    "    'rgb(195, 196, 222)',\n",
    "    'rgb(144,148,194)',\n",
    "    'rgb(101,104,168)',\n",
    "    'rgb(65, 53, 132)'\n",
    "]\n",
    "\n",
    "fig = ff.create_choropleth(\n",
    "    fips=merged['County'], values=merged['Crude rates per 10,000'], scope=['CA', 'AZ', 'Nevada', 'Oregon', ' Idaho'],\n",
    "    binning_endpoints=[14348, 63983, 134827, 426762, 2081313], colorscale=colorscale,\n",
    "    county_outline={'color': 'rgb(255,255,255)', 'width': 0.5}, round_legend_values=True,\n",
    "    legend_title='Population by County', title='California and Nearby States'\n",
    ")\n",
    "fig.layout.template = None\n",
    "fig.show()"
   ]
  },
  {
   "cell_type": "code",
   "execution_count": null,
   "metadata": {},
   "outputs": [],
   "source": [
    "! conda install -c plotly plotly-geo geopandas -y"
   ]
  },
  {
   "cell_type": "code",
   "execution_count": null,
   "metadata": {},
   "outputs": [],
   "source": [
    "! conda install pyshp -y"
   ]
  },
  {
   "cell_type": "code",
   "execution_count": null,
   "metadata": {},
   "outputs": [],
   "source": [
    "!pip install geopandas==0.3.0\n",
    "!pip install pyshp==1.2.10\n",
    "!pip install shapely==1.6.3"
   ]
  },
  {
   "cell_type": "code",
   "execution_count": null,
   "metadata": {},
   "outputs": [],
   "source": [
    "y1.shape"
   ]
  },
  {
   "cell_type": "code",
   "execution_count": null,
   "metadata": {},
   "outputs": [],
   "source": [
    "#merged.groupby('County')\n",
    "\n",
    "airQ_data_min = merged.groupby(['County', 'Age group', 'Year'], as_index=False)['Crude rates per 10,000'].max()\n",
    "airQ_data_min.head()"
   ]
  },
  {
   "cell_type": "code",
   "execution_count": null,
   "metadata": {},
   "outputs": [],
   "source": [
    "merged[merged['County'] == 'Alameda']"
   ]
  },
  {
   "cell_type": "code",
   "execution_count": null,
   "metadata": {},
   "outputs": [],
   "source": [
    "sns.distplot(merged_filter_for_plot['Patient_ratio'])\n",
    "plt.show()"
   ]
  },
  {
   "cell_type": "code",
   "execution_count": null,
   "metadata": {},
   "outputs": [],
   "source": [
    "sns.distplot(merged_filter_for_plot['Patient_ratio']* 10000)\n",
    "plt.show()"
   ]
  },
  {
   "cell_type": "code",
   "execution_count": null,
   "metadata": {},
   "outputs": [],
   "source": [
    "sns.distplot(merged_filter_for_plot['Value'])\n",
    "plt.show()"
   ]
  },
  {
   "cell_type": "code",
   "execution_count": null,
   "metadata": {},
   "outputs": [],
   "source": [
    "# Method 1: on the same Axis\n",
    "sns.distplot( (merged_filter_for_plot[\"Patient_percent%\"]) , color=\"blue\", label=\"Patient_ratio\")\n",
    "sns.distplot( merged_filter_for_plot[\"Value\"] , color=\"red\", label=\"Value\")\n",
    "plt.legend()\n",
    " \n",
    "plt.show()\n"
   ]
  },
  {
   "cell_type": "code",
   "execution_count": null,
   "metadata": {},
   "outputs": [],
   "source": [
    "merged_filter_for_plot.Value = merged_filter_for_plot.Value.astype(float)\n",
    "merged_filter_for_plot"
   ]
  },
  {
   "cell_type": "code",
   "execution_count": null,
   "metadata": {},
   "outputs": [],
   "source": [
    "merged"
   ]
  },
  {
   "cell_type": "code",
   "execution_count": null,
   "metadata": {},
   "outputs": [],
   "source": [
    "# Prep Training and Test data.\n",
    "trainData, testData = train_test_split(merged, train_size=0.7, random_state=100)"
   ]
  },
  {
   "cell_type": "code",
   "execution_count": null,
   "metadata": {},
   "outputs": [],
   "source": [
    "#X and Y(target) for linear regression\n",
    "Y_trainData = trainData[['Crude rates per 10,000']]\n",
    "X_trainData= trainData.drop('Crude rates per 10,000', axis =1 )\n",
    "\n",
    "Y_testData = testData[['Crude rates per 10,000']]\n",
    "X_testData= testData.drop('Crude rates per 10,000', axis =1 )\n",
    "X_trainData = X_trainData.drop('County', axis=1)"
   ]
  },
  {
   "cell_type": "code",
   "execution_count": null,
   "metadata": {},
   "outputs": [],
   "source": [
    "\n",
    "X_testData = X_testData.drop('County', axis=1)\n",
    "X_testData"
   ]
  },
  {
   "cell_type": "code",
   "execution_count": null,
   "metadata": {},
   "outputs": [],
   "source": [
    "# Creating linear regression model.\n",
    "model1= LinearRegression()"
   ]
  },
  {
   "cell_type": "code",
   "execution_count": null,
   "metadata": {},
   "outputs": [],
   "source": [
    "model1.fit(X_trainData,Y_trainData)\n",
    "predictions = model1.predict(X_testData)"
   ]
  },
  {
   "cell_type": "code",
   "execution_count": null,
   "metadata": {},
   "outputs": [],
   "source": [
    "# Get the slope and intercept of the line best fit.\n",
    "print(model1.intercept_)\n",
    "\n",
    "\n",
    "print(model1.coef_)"
   ]
  },
  {
   "cell_type": "code",
   "execution_count": null,
   "metadata": {},
   "outputs": [],
   "source": [
    "# print the R-squared value for the model\n",
    "model1.score(X_trainData, Y_trainData)"
   ]
  },
  {
   "cell_type": "code",
   "execution_count": null,
   "metadata": {},
   "outputs": [],
   "source": [
    "# print the R-squared value for the model\n",
    "print(model1.score(X_testData,Y_testData)  )"
   ]
  },
  {
   "cell_type": "code",
   "execution_count": null,
   "metadata": {},
   "outputs": [],
   "source": [
    "#X and Y(target) for logistic regression \n",
    "X_trainData = trainData[['Value','CountyCode']]\n",
    "Y_trainData= trainData.Patient_ratio\n",
    "X_testData= testData[['Value','CountyCode']]\n",
    "Y_testData= testData.Patient_ratio"
   ]
  },
  {
   "cell_type": "code",
   "execution_count": null,
   "metadata": {},
   "outputs": [],
   "source": [
    "Y_trainData = trainData[['Crude rates per 10,000']]\n",
    "X_trainData= trainData.drop('Crude rates per 10,000', axis =1 )\n",
    "\n",
    "Y_testData = testData[['Crude rates per 10,000']]\n",
    "X_testData= testData.drop('Crude rates per 10,000', axis =1 )\n",
    "X_trainData = X_trainData.drop('County', axis=1)\n",
    "X_testData = X_testData.drop('County', axis=1)\n",
    "\n"
   ]
  },
  {
   "cell_type": "code",
   "execution_count": null,
   "metadata": {},
   "outputs": [],
   "source": [
    "X_testData"
   ]
  },
  {
   "cell_type": "code",
   "execution_count": null,
   "metadata": {},
   "outputs": [],
   "source": [
    "# Creating Logistic regression model.\n",
    "model2= LogisticRegression()"
   ]
  },
  {
   "cell_type": "code",
   "execution_count": null,
   "metadata": {},
   "outputs": [],
   "source": [
    "model2.fit(X_trainData,Y_trainData)\n",
    "predictions = model2.predict(X_testData)"
   ]
  },
  {
   "cell_type": "code",
   "execution_count": null,
   "metadata": {},
   "outputs": [],
   "source": [
    "X_train, X_test, y_train, y_test = train_test_split(\n",
    "    merged.drop(labels=['Crude rates per 10,000', 'County'], axis=1),\n",
    "    merged['Crude rates per 10,000'],\n",
    "    test_size=0.3,\n",
    "    random_state=0)\n",
    "X_train.shape, X_test.shape"
   ]
  },
  {
   "cell_type": "code",
   "execution_count": null,
   "metadata": {},
   "outputs": [],
   "source": [
    "from sklearn import linear_model\n",
    "\n",
    "clf = linear_model.LinearRegression()\n",
    "clf.fit(X_train, y_train)\n",
    "predictions = clf.predict(X_test)\n",
    "\n",
    "\n"
   ]
  },
  {
   "cell_type": "code",
   "execution_count": null,
   "metadata": {},
   "outputs": [],
   "source": [
    "print(clf.intercept_)\n",
    "\n",
    "\n",
    "print(clf.coef_)"
   ]
  },
  {
   "cell_type": "code",
   "execution_count": null,
   "metadata": {},
   "outputs": [],
   "source": [
    "np.round(clf.coef_, decimals=2) > 0"
   ]
  },
  {
   "cell_type": "code",
   "execution_count": null,
   "metadata": {},
   "outputs": [],
   "source": [
    "from sklearn.feature_selection import RFE\n",
    "selector = RFE(clf, n_features_to_select=1)\n",
    "selector = selector.fit(X_train, y_train)"
   ]
  },
  {
   "cell_type": "code",
   "execution_count": null,
   "metadata": {},
   "outputs": [],
   "source": [
    "order = selector.ranking_\n",
    "order"
   ]
  },
  {
   "cell_type": "code",
   "execution_count": null,
   "metadata": {},
   "outputs": [],
   "source": [
    "feature_ranks = []\n",
    "\n",
    "for i in order:\n",
    "    feature_ranks.append(f\"{i}.{merged.columns[i]}\")\n",
    "\n",
    "feature_ranks    "
   ]
  },
  {
   "cell_type": "code",
   "execution_count": null,
   "metadata": {},
   "outputs": [],
   "source": [
    "x_train_filtered = X_train[X_train['Year'] == 2016]\n",
    "#x_train_filtered['CountyCode']\n",
    "x_train_filtered"
   ]
  },
  {
   "cell_type": "code",
   "execution_count": null,
   "metadata": {},
   "outputs": [],
   "source": [
    "# Poisson regression code\n",
    "\n",
    "import statsmodels.api as sm\n",
    "np.random.seed(5)\n",
    "n_sample = 100\n",
    "a = 0.6\n",
    "b = -0.4\n",
    "\n",
    "#x = uniform(1, 5, size=n_sample)\n",
    "mu = np.exp(a * x + b)\n",
    "#y = poisson(mu)\n",
    "\n",
    "\n",
    "filtered = merged[merged['Year'] == 2016].reset_index() \n",
    "\n",
    "x = filtered['CountyCode']\n",
    "y = filtered['Value']\n",
    "\n",
    "\n",
    "exog, endog = sm.add_constant(x), y\n",
    "\n",
    "# Poisson regression\n",
    "mod = sm.GLM(endog, exog, family=sm.families.Poisson(link=sm.families.links.log()))\n",
    "res = mod.fit()\n",
    "display(res.summary())\n"
   ]
  },
  {
   "cell_type": "code",
   "execution_count": null,
   "metadata": {},
   "outputs": [],
   "source": [
    "filtered.head()"
   ]
  },
  {
   "cell_type": "code",
   "execution_count": null,
   "metadata": {},
   "outputs": [],
   "source": [
    "\n",
    "y_pred = res.predict(exog)\n",
    "\n",
    "y_pred.head()\n"
   ]
  },
  {
   "cell_type": "code",
   "execution_count": null,
   "metadata": {},
   "outputs": [],
   "source": [
    "idx = np.array(x).argsort()\n",
    "x_ord, y_pred_ord = np.array(x[idx]), y_pred[idx]\n",
    "\n"
   ]
  },
  {
   "cell_type": "code",
   "execution_count": null,
   "metadata": {},
   "outputs": [],
   "source": [
    "plt.plot(x_ord, y_pred_ord, color='m')\n",
    "plt.scatter(x, y,  s=20, alpha=0.8)\n",
    "plt.xlabel(\"X\")\n",
    "plt.ylabel(\"Y\")\n",
    "\n"
   ]
  },
  {
   "cell_type": "code",
   "execution_count": null,
   "metadata": {},
   "outputs": [],
   "source": [
    "X_train['Value']"
   ]
  },
  {
   "cell_type": "code",
   "execution_count": null,
   "metadata": {},
   "outputs": [],
   "source": [
    "mu"
   ]
  },
  {
   "cell_type": "code",
   "execution_count": 49,
   "metadata": {},
   "outputs": [],
   "source": [
    "merged['Date_Time'] = pd.to_datetime(merged.Year , format = '%Y')\n",
    "merged.index = merged.Date_Time"
   ]
  },
  {
   "cell_type": "code",
   "execution_count": null,
   "metadata": {},
   "outputs": [],
   "source": [
    "from pyramid import arima\n",
    "stepwise_model = auto_arima(data, start_p=1, start_q=1,\n",
    "                           max_p=3, max_q=3, m=12,\n",
    "                           start_P=0, seasonal=True,\n",
    "                           d=1, D=1, trace=True,\n",
    "                           error_action='ignore',  \n",
    "                           suppress_warnings=True, \n",
    "                           stepwise=True)\n",
    "print(stepwise_model.aic())"
   ]
  },
  {
   "cell_type": "code",
   "execution_count": 201,
   "metadata": {},
   "outputs": [
    {
     "data": {
      "text/html": [
       "<div>\n",
       "<style scoped>\n",
       "    .dataframe tbody tr th:only-of-type {\n",
       "        vertical-align: middle;\n",
       "    }\n",
       "\n",
       "    .dataframe tbody tr th {\n",
       "        vertical-align: top;\n",
       "    }\n",
       "\n",
       "    .dataframe thead th {\n",
       "        text-align: right;\n",
       "    }\n",
       "</style>\n",
       "<table border=\"1\" class=\"dataframe\">\n",
       "  <thead>\n",
       "    <tr style=\"text-align: right;\">\n",
       "      <th></th>\n",
       "      <th>County</th>\n",
       "      <th>Year</th>\n",
       "      <th>Value</th>\n",
       "      <th>CountyCode</th>\n",
       "      <th>Crude rates per 10,000</th>\n",
       "      <th>Lower 95% Limit</th>\n",
       "      <th>Upper 95% Limit</th>\n",
       "      <th>Patient_count</th>\n",
       "      <th>Age group</th>\n",
       "      <th>AgeGroupCat</th>\n",
       "      <th>Population</th>\n",
       "      <th>Patient_ratio</th>\n",
       "      <th>Patient_percent%</th>\n",
       "    </tr>\n",
       "  </thead>\n",
       "  <tbody>\n",
       "    <tr>\n",
       "      <td>0</td>\n",
       "      <td>Alameda</td>\n",
       "      <td>2014</td>\n",
       "      <td>10.615572</td>\n",
       "      <td>6001</td>\n",
       "      <td>148.8</td>\n",
       "      <td>141.4</td>\n",
       "      <td>156.6</td>\n",
       "      <td>1487</td>\n",
       "      <td>ages (0-4)</td>\n",
       "      <td>2</td>\n",
       "      <td>1588576</td>\n",
       "      <td>0.000936</td>\n",
       "      <td>9.360585</td>\n",
       "    </tr>\n",
       "    <tr>\n",
       "      <td>1</td>\n",
       "      <td>Alameda</td>\n",
       "      <td>2014</td>\n",
       "      <td>10.615572</td>\n",
       "      <td>6001</td>\n",
       "      <td>84.5</td>\n",
       "      <td>80.9</td>\n",
       "      <td>88.2</td>\n",
       "      <td>2100</td>\n",
       "      <td>ages (5-17)</td>\n",
       "      <td>5</td>\n",
       "      <td>1588576</td>\n",
       "      <td>0.001322</td>\n",
       "      <td>13.219386</td>\n",
       "    </tr>\n",
       "    <tr>\n",
       "      <td>2</td>\n",
       "      <td>Alameda</td>\n",
       "      <td>2014</td>\n",
       "      <td>10.615572</td>\n",
       "      <td>6001</td>\n",
       "      <td>47.7</td>\n",
       "      <td>45.5</td>\n",
       "      <td>50.0</td>\n",
       "      <td>1806</td>\n",
       "      <td>ages (18-34)</td>\n",
       "      <td>3</td>\n",
       "      <td>1588576</td>\n",
       "      <td>0.001137</td>\n",
       "      <td>11.368672</td>\n",
       "    </tr>\n",
       "    <tr>\n",
       "      <td>3</td>\n",
       "      <td>Alameda</td>\n",
       "      <td>2014</td>\n",
       "      <td>10.615572</td>\n",
       "      <td>6001</td>\n",
       "      <td>54.5</td>\n",
       "      <td>52.7</td>\n",
       "      <td>56.3</td>\n",
       "      <td>3505</td>\n",
       "      <td>ages (35-64)</td>\n",
       "      <td>4</td>\n",
       "      <td>1588576</td>\n",
       "      <td>0.002206</td>\n",
       "      <td>22.063785</td>\n",
       "    </tr>\n",
       "    <tr>\n",
       "      <td>4</td>\n",
       "      <td>Alameda</td>\n",
       "      <td>2014</td>\n",
       "      <td>10.615572</td>\n",
       "      <td>6001</td>\n",
       "      <td>51.4</td>\n",
       "      <td>48.3</td>\n",
       "      <td>54.7</td>\n",
       "      <td>1011</td>\n",
       "      <td>Above 65</td>\n",
       "      <td>0</td>\n",
       "      <td>1588576</td>\n",
       "      <td>0.000636</td>\n",
       "      <td>6.364190</td>\n",
       "    </tr>\n",
       "  </tbody>\n",
       "</table>\n",
       "</div>"
      ],
      "text/plain": [
       "    County  Year      Value  CountyCode  Crude rates per 10,000  \\\n",
       "0  Alameda  2014  10.615572        6001                   148.8   \n",
       "1  Alameda  2014  10.615572        6001                    84.5   \n",
       "2  Alameda  2014  10.615572        6001                    47.7   \n",
       "3  Alameda  2014  10.615572        6001                    54.5   \n",
       "4  Alameda  2014  10.615572        6001                    51.4   \n",
       "\n",
       "   Lower 95% Limit  Upper 95% Limit  Patient_count     Age group  AgeGroupCat  \\\n",
       "0            141.4            156.6           1487    ages (0-4)            2   \n",
       "1             80.9             88.2           2100   ages (5-17)            5   \n",
       "2             45.5             50.0           1806  ages (18-34)            3   \n",
       "3             52.7             56.3           3505  ages (35-64)            4   \n",
       "4             48.3             54.7           1011      Above 65            0   \n",
       "\n",
       "   Population  Patient_ratio  Patient_percent%  \n",
       "0     1588576       0.000936          9.360585  \n",
       "1     1588576       0.001322         13.219386  \n",
       "2     1588576       0.001137         11.368672  \n",
       "3     1588576       0.002206         22.063785  \n",
       "4     1588576       0.000636          6.364190  "
      ]
     },
     "execution_count": 201,
     "metadata": {},
     "output_type": "execute_result"
    }
   ],
   "source": [
    "\n",
    "\n",
    "merged.head()\n",
    "\n"
   ]
  },
  {
   "cell_type": "code",
   "execution_count": 193,
   "metadata": {},
   "outputs": [],
   "source": [
    "merged = merged.reset_index(drop=True)  \n",
    "columns = ['CountyCode','Value','Patient_percent%','Year','AgeGroupCat']\n",
    "\n",
    "merged_features = merged[columns]\n",
    "#merged_features['Patient_percent%'] =  merged_features['Patient_percent%']/10   \n"
   ]
  },
  {
   "cell_type": "code",
   "execution_count": 204,
   "metadata": {},
   "outputs": [],
   "source": [
    "#creating the train and validation set\n",
    "train = merged_features[:int(0.8*(len(merged_features)))]\n",
    "valid = merged_features[int(0.8*(len(merged_features))):]\n",
    "\n"
   ]
  },
  {
   "cell_type": "code",
   "execution_count": null,
   "metadata": {},
   "outputs": [],
   "source": []
  },
  {
   "cell_type": "code",
   "execution_count": 205,
   "metadata": {},
   "outputs": [],
   "source": [
    "train_array = np.asarray(train)\n",
    "valid_array = np.asarray(valid)"
   ]
  },
  {
   "cell_type": "code",
   "execution_count": 206,
   "metadata": {},
   "outputs": [
    {
     "name": "stderr",
     "output_type": "stream",
     "text": [
      "/Users/jeyasri/opt/anaconda3/lib/python3.7/site-packages/statsmodels/base/wrapper.py:35: FutureWarning: y is a deprecated alias for endog, will be removed in version 0.11.0\n",
      "  obj = getattr(results, attr)\n"
     ]
    },
    {
     "data": {
      "text/plain": [
       "array([[6.00100000e+03, 1.06155720e+01, 9.36058457e+00, 2.01400000e+03,\n",
       "        2.00000000e+00],\n",
       "       [6.00100000e+03, 1.06155720e+01, 1.32193864e+01, 2.01400000e+03,\n",
       "        5.00000000e+00],\n",
       "       [6.00100000e+03, 1.06155720e+01, 1.13686723e+01, 2.01400000e+03,\n",
       "        3.00000000e+00],\n",
       "       ...,\n",
       "       [6.08900000e+03, 1.42615329e+01, 1.15751743e+01, 2.01400000e+03,\n",
       "        5.00000000e+00],\n",
       "       [6.08900000e+03, 1.42615329e+01, 1.57690781e+01, 2.01400000e+03,\n",
       "        3.00000000e+00],\n",
       "       [6.08900000e+03, 1.42615329e+01, 2.31503487e+01, 2.01400000e+03,\n",
       "        4.00000000e+00]])"
      ]
     },
     "execution_count": 206,
     "metadata": {},
     "output_type": "execute_result"
    }
   ],
   "source": [
    "#fit the model\n",
    "from statsmodels.tsa.vector_ar.var_model import VAR\n",
    "\n",
    "model = VAR(endog=train_array)\n",
    "model_fit = model.fit()\n",
    "model_fit.y"
   ]
  },
  {
   "cell_type": "code",
   "execution_count": 207,
   "metadata": {},
   "outputs": [
    {
     "data": {
      "text/plain": [
       "array([[6.08896567e+03, 1.40112146e+01, 5.44065339e+00, 2.01428978e+03,\n",
       "        2.23966790e+00],\n",
       "       [6.08882780e+03, 1.38587045e+01, 1.74594828e+01, 2.01451793e+03,\n",
       "        2.72129275e+00],\n",
       "       [6.08883268e+03, 1.36861625e+01, 1.16472633e+01, 2.01470432e+03,\n",
       "        2.43034087e+00],\n",
       "       ...,\n",
       "       [6.10527466e+03, 1.24891987e+01, 1.15407520e+01, 2.01547337e+03,\n",
       "        2.52200558e+00],\n",
       "       [6.10534448e+03, 1.24911842e+01, 1.15357312e+01, 2.01547334e+03,\n",
       "        2.52202645e+00],\n",
       "       [6.10541426e+03, 1.24931689e+01, 1.15307125e+01, 2.01547332e+03,\n",
       "        2.52204731e+00]])"
      ]
     },
     "execution_count": 207,
     "metadata": {},
     "output_type": "execute_result"
    }
   ],
   "source": [
    "\n",
    "# make prediction on validation\n",
    "prediction = model_fit.forecast(model_fit.y, steps=len(valid_array))\n",
    "prediction"
   ]
  },
  {
   "cell_type": "code",
   "execution_count": 208,
   "metadata": {},
   "outputs": [],
   "source": [
    "cols = train.columns\n",
    "pred = pd.DataFrame(index=range(0,len(prediction)),columns=cols)"
   ]
  },
  {
   "cell_type": "code",
   "execution_count": 209,
   "metadata": {},
   "outputs": [
    {
     "name": "stdout",
     "output_type": "stream",
     "text": [
      "rmse value for CountyCode is :  5.6848678059978175\n",
      "rmse value for Value is :  4.475536554593296\n",
      "rmse value for Patient_percent% is :  16.88658666085344\n",
      "rmse value for Year is :  1.1043245391003889\n"
     ]
    },
    {
     "ename": "ValueError",
     "evalue": "Input contains NaN, infinity or a value too large for dtype('float64').",
     "output_type": "error",
     "traceback": [
      "\u001b[0;31m---------------------------------------------------------------------------\u001b[0m",
      "\u001b[0;31mValueError\u001b[0m                                Traceback (most recent call last)",
      "\u001b[0;32m<ipython-input-209-5f821360807f>\u001b[0m in \u001b[0;36m<module>\u001b[0;34m\u001b[0m\n\u001b[1;32m      7\u001b[0m \u001b[0;31m#check rmse\u001b[0m\u001b[0;34m\u001b[0m\u001b[0;34m\u001b[0m\u001b[0;34m\u001b[0m\u001b[0m\n\u001b[1;32m      8\u001b[0m \u001b[0;32mfor\u001b[0m \u001b[0mi\u001b[0m \u001b[0;32min\u001b[0m \u001b[0mcols\u001b[0m\u001b[0;34m:\u001b[0m\u001b[0;34m\u001b[0m\u001b[0;34m\u001b[0m\u001b[0m\n\u001b[0;32m----> 9\u001b[0;31m     \u001b[0mprint\u001b[0m\u001b[0;34m(\u001b[0m\u001b[0;34m'rmse value for'\u001b[0m\u001b[0;34m,\u001b[0m \u001b[0mi\u001b[0m\u001b[0;34m,\u001b[0m \u001b[0;34m'is : '\u001b[0m\u001b[0;34m,\u001b[0m \u001b[0mnp\u001b[0m\u001b[0;34m.\u001b[0m\u001b[0msqrt\u001b[0m\u001b[0;34m(\u001b[0m\u001b[0mmean_squared_error\u001b[0m\u001b[0;34m(\u001b[0m\u001b[0mpred\u001b[0m\u001b[0;34m[\u001b[0m\u001b[0mi\u001b[0m\u001b[0;34m]\u001b[0m\u001b[0;34m,\u001b[0m \u001b[0mvalid\u001b[0m\u001b[0;34m[\u001b[0m\u001b[0mi\u001b[0m\u001b[0;34m]\u001b[0m\u001b[0;34m)\u001b[0m\u001b[0;34m)\u001b[0m\u001b[0;34m)\u001b[0m\u001b[0;34m\u001b[0m\u001b[0;34m\u001b[0m\u001b[0m\n\u001b[0m",
      "\u001b[0;32m~/opt/anaconda3/lib/python3.7/site-packages/sklearn/metrics/regression.py\u001b[0m in \u001b[0;36mmean_squared_error\u001b[0;34m(y_true, y_pred, sample_weight, multioutput)\u001b[0m\n\u001b[1;32m    239\u001b[0m     \"\"\"\n\u001b[1;32m    240\u001b[0m     y_type, y_true, y_pred, multioutput = _check_reg_targets(\n\u001b[0;32m--> 241\u001b[0;31m         y_true, y_pred, multioutput)\n\u001b[0m\u001b[1;32m    242\u001b[0m     \u001b[0mcheck_consistent_length\u001b[0m\u001b[0;34m(\u001b[0m\u001b[0my_true\u001b[0m\u001b[0;34m,\u001b[0m \u001b[0my_pred\u001b[0m\u001b[0;34m,\u001b[0m \u001b[0msample_weight\u001b[0m\u001b[0;34m)\u001b[0m\u001b[0;34m\u001b[0m\u001b[0;34m\u001b[0m\u001b[0m\n\u001b[1;32m    243\u001b[0m     output_errors = np.average((y_true - y_pred) ** 2, axis=0,\n",
      "\u001b[0;32m~/opt/anaconda3/lib/python3.7/site-packages/sklearn/metrics/regression.py\u001b[0m in \u001b[0;36m_check_reg_targets\u001b[0;34m(y_true, y_pred, multioutput)\u001b[0m\n\u001b[1;32m     76\u001b[0m     \"\"\"\n\u001b[1;32m     77\u001b[0m     \u001b[0mcheck_consistent_length\u001b[0m\u001b[0;34m(\u001b[0m\u001b[0my_true\u001b[0m\u001b[0;34m,\u001b[0m \u001b[0my_pred\u001b[0m\u001b[0;34m)\u001b[0m\u001b[0;34m\u001b[0m\u001b[0;34m\u001b[0m\u001b[0m\n\u001b[0;32m---> 78\u001b[0;31m     \u001b[0my_true\u001b[0m \u001b[0;34m=\u001b[0m \u001b[0mcheck_array\u001b[0m\u001b[0;34m(\u001b[0m\u001b[0my_true\u001b[0m\u001b[0;34m,\u001b[0m \u001b[0mensure_2d\u001b[0m\u001b[0;34m=\u001b[0m\u001b[0;32mFalse\u001b[0m\u001b[0;34m)\u001b[0m\u001b[0;34m\u001b[0m\u001b[0;34m\u001b[0m\u001b[0m\n\u001b[0m\u001b[1;32m     79\u001b[0m     \u001b[0my_pred\u001b[0m \u001b[0;34m=\u001b[0m \u001b[0mcheck_array\u001b[0m\u001b[0;34m(\u001b[0m\u001b[0my_pred\u001b[0m\u001b[0;34m,\u001b[0m \u001b[0mensure_2d\u001b[0m\u001b[0;34m=\u001b[0m\u001b[0;32mFalse\u001b[0m\u001b[0;34m)\u001b[0m\u001b[0;34m\u001b[0m\u001b[0;34m\u001b[0m\u001b[0m\n\u001b[1;32m     80\u001b[0m \u001b[0;34m\u001b[0m\u001b[0m\n",
      "\u001b[0;32m~/opt/anaconda3/lib/python3.7/site-packages/sklearn/utils/validation.py\u001b[0m in \u001b[0;36mcheck_array\u001b[0;34m(array, accept_sparse, accept_large_sparse, dtype, order, copy, force_all_finite, ensure_2d, allow_nd, ensure_min_samples, ensure_min_features, warn_on_dtype, estimator)\u001b[0m\n\u001b[1;32m    540\u001b[0m         \u001b[0;32mif\u001b[0m \u001b[0mforce_all_finite\u001b[0m\u001b[0;34m:\u001b[0m\u001b[0;34m\u001b[0m\u001b[0;34m\u001b[0m\u001b[0m\n\u001b[1;32m    541\u001b[0m             _assert_all_finite(array,\n\u001b[0;32m--> 542\u001b[0;31m                                allow_nan=force_all_finite == 'allow-nan')\n\u001b[0m\u001b[1;32m    543\u001b[0m \u001b[0;34m\u001b[0m\u001b[0m\n\u001b[1;32m    544\u001b[0m     \u001b[0;32mif\u001b[0m \u001b[0mensure_min_samples\u001b[0m \u001b[0;34m>\u001b[0m \u001b[0;36m0\u001b[0m\u001b[0;34m:\u001b[0m\u001b[0;34m\u001b[0m\u001b[0;34m\u001b[0m\u001b[0m\n",
      "\u001b[0;32m~/opt/anaconda3/lib/python3.7/site-packages/sklearn/utils/validation.py\u001b[0m in \u001b[0;36m_assert_all_finite\u001b[0;34m(X, allow_nan)\u001b[0m\n\u001b[1;32m     54\u001b[0m                 not allow_nan and not np.isfinite(X).all()):\n\u001b[1;32m     55\u001b[0m             \u001b[0mtype_err\u001b[0m \u001b[0;34m=\u001b[0m \u001b[0;34m'infinity'\u001b[0m \u001b[0;32mif\u001b[0m \u001b[0mallow_nan\u001b[0m \u001b[0;32melse\u001b[0m \u001b[0;34m'NaN, infinity'\u001b[0m\u001b[0;34m\u001b[0m\u001b[0;34m\u001b[0m\u001b[0m\n\u001b[0;32m---> 56\u001b[0;31m             \u001b[0;32mraise\u001b[0m \u001b[0mValueError\u001b[0m\u001b[0;34m(\u001b[0m\u001b[0mmsg_err\u001b[0m\u001b[0;34m.\u001b[0m\u001b[0mformat\u001b[0m\u001b[0;34m(\u001b[0m\u001b[0mtype_err\u001b[0m\u001b[0;34m,\u001b[0m \u001b[0mX\u001b[0m\u001b[0;34m.\u001b[0m\u001b[0mdtype\u001b[0m\u001b[0;34m)\u001b[0m\u001b[0;34m)\u001b[0m\u001b[0;34m\u001b[0m\u001b[0;34m\u001b[0m\u001b[0m\n\u001b[0m\u001b[1;32m     57\u001b[0m     \u001b[0;31m# for object dtype data, we only check for NaNs (GH-13254)\u001b[0m\u001b[0;34m\u001b[0m\u001b[0;34m\u001b[0m\u001b[0;34m\u001b[0m\u001b[0m\n\u001b[1;32m     58\u001b[0m     \u001b[0;32melif\u001b[0m \u001b[0mX\u001b[0m\u001b[0;34m.\u001b[0m\u001b[0mdtype\u001b[0m \u001b[0;34m==\u001b[0m \u001b[0mnp\u001b[0m\u001b[0;34m.\u001b[0m\u001b[0mdtype\u001b[0m\u001b[0;34m(\u001b[0m\u001b[0;34m'object'\u001b[0m\u001b[0;34m)\u001b[0m \u001b[0;32mand\u001b[0m \u001b[0;32mnot\u001b[0m \u001b[0mallow_nan\u001b[0m\u001b[0;34m:\u001b[0m\u001b[0;34m\u001b[0m\u001b[0;34m\u001b[0m\u001b[0m\n",
      "\u001b[0;31mValueError\u001b[0m: Input contains NaN, infinity or a value too large for dtype('float64')."
     ]
    }
   ],
   "source": [
    "\n",
    "from sklearn.metrics import mean_squared_error \n",
    "\n",
    "for j in range(0,4):\n",
    "    for i in range(0, len(prediction)):\n",
    "       pred.iloc[i][j] = prediction[i][j]\n",
    "\n",
    "#check rmse\n",
    "for i in cols:\n",
    "    print('rmse value for', i, 'is : ', np.sqrt(mean_squared_error(pred[i], valid[i])))"
   ]
  },
  {
   "cell_type": "code",
   "execution_count": 100,
   "metadata": {},
   "outputs": [
    {
     "name": "stdout",
     "output_type": "stream",
     "text": [
      "[[6.11332270e+03 1.06968447e+01 6.01133381e+01 2.58798065e+00]]\n"
     ]
    },
    {
     "name": "stderr",
     "output_type": "stream",
     "text": [
      "/Users/jeyasri/opt/anaconda3/lib/python3.7/site-packages/statsmodels/tsa/base/tsa_model.py:219: ValueWarning: A date index has been provided, but it has no associated frequency information and so will be ignored when e.g. forecasting.\n",
      "  ' ignored when e.g. forecasting.', ValueWarning)\n",
      "/Users/jeyasri/opt/anaconda3/lib/python3.7/site-packages/statsmodels/base/wrapper.py:35: FutureWarning: y is a deprecated alias for endog, will be removed in version 0.11.0\n",
      "  obj = getattr(results, attr)\n"
     ]
    }
   ],
   "source": [
    "#make final predictions\n",
    "model = VAR(endog=merged_features)\n",
    "model_fit = model.fit()\n",
    "yhat = model_fit.forecast(model_fit.y, steps=1)\n",
    "print(yhat)"
   ]
  },
  {
   "cell_type": "code",
   "execution_count": 194,
   "metadata": {},
   "outputs": [],
   "source": [
    "from sklearn.model_selection import train_test_split\n",
    "\n",
    "y=  merged_features['Patient_percent%']\n",
    "X= merged_features.drop('Patient_percent%' , axis =1)  # Labels\n",
    "\n",
    "# Split dataset into training set and test set\n",
    "X_train, X_test, y_train, y_test = train_test_split(X, y, test_size=0.3)"
   ]
  },
  {
   "cell_type": "code",
   "execution_count": 195,
   "metadata": {},
   "outputs": [],
   "source": [
    "\n",
    "\n",
    "y_train1 = np.asarray(y_train.values, dtype=\"int\")\n",
    "y_test1 = np.asarray(y_test.values, dtype=\"int\")"
   ]
  },
  {
   "cell_type": "code",
   "execution_count": 196,
   "metadata": {},
   "outputs": [],
   "source": [
    "#Import Random Forest Model\n",
    "from sklearn.ensemble import RandomForestClassifier\n",
    "\n",
    "#Create a Gaussian Classifier\n",
    "clf=RandomForestClassifier(n_estimators=100)\n",
    "\n",
    "#Train the model using the training sets y_pred=clf.predict(X_test)\n",
    "clf.fit(X_train,y_train1)\n",
    "\n",
    "y_pred=clf.predict(X_test)"
   ]
  },
  {
   "cell_type": "code",
   "execution_count": 197,
   "metadata": {},
   "outputs": [
    {
     "data": {
      "text/plain": [
       "13.314447592067987"
      ]
     },
     "execution_count": 197,
     "metadata": {},
     "output_type": "execute_result"
    }
   ],
   "source": [
    "\n",
    "from sklearn.metrics import accuracy_score\n",
    "accuracy_score(y_test1,y_pred)*100"
   ]
  },
  {
   "cell_type": "code",
   "execution_count": 198,
   "metadata": {},
   "outputs": [
    {
     "data": {
      "text/plain": [
       "(array([14, 29,  5,  7,  2,  9,  6, 40, 36,  0, 19,  6,  2,  2, 81, 59,  4,\n",
       "        15, 10,  2,  8,  8,  2, 34, 22,  4,  3,  5, 16,  4,  3, 33,  4,  4,\n",
       "         0,  0,  6, 12, 27,  7,  5, 17, 37,  4, 62,  4, 78,  9, 22,  5,  7,\n",
       "        14, 16, 28, 11, 13, 58, 22,  7, 12,  8,  9, 22,  4, 39,  5, 63,  2,\n",
       "        12, 26,  8,  8, 74,  6, 15, 10, 13,  5, 12,  4, 48, 14,  3, 13, 30,\n",
       "         7, 13,  7, 60, 17, 35,  6, 13, 11, 16,  7,  8, 25,  3,  2, 61,  4,\n",
       "         4,  1, 10,  2, 11, 43, 12,  0, 30, 13,  6, 19, 13, 14,  5, 30, 55,\n",
       "        13,  4, 11, 23,  9, 52, 46,  2,  7,  4,  4,  4, 12, 13,  5, 14, 10,\n",
       "         6, 14,  0,  3,  3,  8,  0, 22, 50, 11,  0, 14,  4,  6,  0, 17, 11,\n",
       "         3, 12,  8,  3, 61,  4, 15,  2, 12,  5,  2, 21,  0, 48,  4,  8,  4,\n",
       "         4,  7,  5, 14,  8, 44, 10,  7,  7, 59, 21,  5, 24,  3, 40, 17,  7,\n",
       "         0, 14, 35,  2, 21, 23, 21, 15,  9, 19,  3, 10,  9,  7, 18, 11, 26,\n",
       "         0,  7,  4, 15,  6,  6,  9,  9,  4,  0, 18, 10,  6,  6, 20, 34, 10,\n",
       "        14, 63, 17, 17,  4,  9, 11, 22,  8,  5, 11,  5,  6,  6,  8, 17, 12,\n",
       "         6, 16, 31,  3,  8, 11,  3,  3,  3,  9,  5,  3,  8, 15,  3, 54,  7,\n",
       "         8, 32, 14,  8,  6, 23, 20,  3, 62, 12, 40, 12,  2, 30, 15, 89, 14,\n",
       "         0,  7, 11, 18, 17, 40, 31,  4,  3, 25,  4,  0,  9,  3,  8, 25,  5,\n",
       "         6,  0, 21,  8, 17, 22,  3, 15,  4, 13, 10, 16, 14,  6, 32, 34, 17,\n",
       "        20, 15, 12,  0,  6, 23, 18,  9, 31,  4, 41,  5,  0,  3,  3, 42,  9,\n",
       "         4,  9, 10, 68,  2, 17,  3, 13, 11,  4,  9, 19,  9,  6,  9,  9, 13,\n",
       "        31,  4,  0,  5,  5,  4,  8, 30,  8,  7, 17,  5, 15]),\n",
       " array([14, 19,  6,  8,  7, 11,  0, 52, 50,  0, 10,  3,  3,  3, 61, 30,  4,\n",
       "        18,  4,  4,  7,  3,  2, 35, 11,  2,  3,  4, 12,  6,  5, 28,  5,  3,\n",
       "        12,  0,  8, 13,  4,  6,  4, 16, 31,  5, 61,  5, 79, 15,  0,  1,  2,\n",
       "         7,  6, 37,  7, 14, 34, 13,  7,  7, 13,  8, 17,  5, 35,  7, 30,  3,\n",
       "         7, 29, 10, 13, 29,  6, 11, 17,  9,  7, 11,  7, 56, 14,  3, 20, 35,\n",
       "         9, 18,  7, 60, 27, 73,  8, 17, 12, 12,  7,  7, 26,  3, 15, 47,  4,\n",
       "         3,  7,  0,  3, 11, 46,  9, 17, 11,  0, 12, 10, 12, 14,  6, 17, 61,\n",
       "        11,  8,  8, 13,  9, 43, 68,  5, 14,  0,  3,  4, 14,  0,  5, 11,  8,\n",
       "         3, 19,  3,  5,  3,  9, 20, 23, 43,  9, 10,  8,  3,  8,  5, 26, 10,\n",
       "         2, 12, 11,  5, 42,  6, 16,  0,  7,  6,  3, 13,  0, 60,  6,  6,  4,\n",
       "         3, 10,  5,  7, 10, 30, 11, 10,  9, 44, 31,  9, 31,  0, 34,  8,  3,\n",
       "         2,  8, 30,  2, 23, 13, 20, 14, 18, 32,  3, 33,  8,  5, 16, 13, 10,\n",
       "         3,  7,  3,  0,  4,  5,  6, 13,  3, 26,  8,  6,  4,  5, 10, 35, 14,\n",
       "         7, 43, 12,  7,  6,  8, 11,  9, 10,  5, 11,  6,  7,  6,  7, 14, 12,\n",
       "        12,  6, 36,  4,  4, 13,  4,  3,  4, 10,  3,  2,  9, 13,  3, 71,  4,\n",
       "        16, 13, 24,  7,  5, 14, 47,  3, 34, 10, 56, 11,  2, 37,  6, 30, 16,\n",
       "         0,  0,  7, 15, 11, 30, 19,  8,  4, 10,  3,  8, 12,  0, 11, 21,  7,\n",
       "         3,  7, 11,  4,  2, 22,  6, 10,  0,  9, 15, 18,  7,  0, 35, 54, 17,\n",
       "        50, 20, 17,  0,  0, 17,  6, 10, 31,  2, 32,  6,  5,  3,  4, 47,  8,\n",
       "         3,  6,  7, 56,  3, 12,  3,  8, 17,  3, 11,  8,  9,  4, 13, 13, 14,\n",
       "        66,  4,  3,  3,  2,  3, 12, 27, 13, 12, 17,  0, 14]))"
      ]
     },
     "execution_count": 198,
     "metadata": {},
     "output_type": "execute_result"
    }
   ],
   "source": [
    "y_test1, y_pred"
   ]
  }
 ],
 "metadata": {
  "kernelspec": {
   "display_name": "Python 3",
   "language": "python",
   "name": "python3"
  },
  "language_info": {
   "codemirror_mode": {
    "name": "ipython",
    "version": 3
   },
   "file_extension": ".py",
   "mimetype": "text/x-python",
   "name": "python",
   "nbconvert_exporter": "python",
   "pygments_lexer": "ipython3",
   "version": "3.7.4"
  }
 },
 "nbformat": 4,
 "nbformat_minor": 2
}
