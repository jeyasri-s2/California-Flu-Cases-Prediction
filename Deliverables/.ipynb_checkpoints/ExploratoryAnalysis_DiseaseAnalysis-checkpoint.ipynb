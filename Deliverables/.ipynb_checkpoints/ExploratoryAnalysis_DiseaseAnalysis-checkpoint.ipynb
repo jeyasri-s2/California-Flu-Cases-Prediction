{
 "cells": [
  {
   "cell_type": "code",
   "execution_count": 50,
   "metadata": {},
   "outputs": [
    {
     "name": "stdout",
     "output_type": "stream",
     "text": [
      "asthma-ed-visit-rates-by-county.csv\r\n",
      "asthma-ed-visit-rates-by-zip-code.xlsx\r\n",
      "data-dictionary-asthma-ed-visit-rates-by-county.xlsx\r\n",
      "data-dictionary-asthma-ed-visit-rates-by-zip-code.xlsx\r\n",
      "datapackage.json\r\n",
      "notes-asthma-ed-visit-rates-by-zip-code.pdf\r\n"
     ]
    }
   ],
   "source": [
    "!ls ../Datasets/Disease\\ cases/asthma-3/asthma-emergency-department-visit-rates-wc5nog\n"
   ]
  },
  {
   "cell_type": "code",
   "execution_count": 43,
   "metadata": {},
   "outputs": [],
   "source": [
    "import pandas as pd\n",
    "import seaborn as sns\n",
    "from scipy.stats import invgauss\n",
    "import matplotlib.pyplot as plt\n",
    "import numpy as np"
   ]
  },
  {
   "cell_type": "code",
   "execution_count": 15,
   "metadata": {},
   "outputs": [],
   "source": [
    "ashtma_data1 = pd.read_csv('../Datasets/Disease cases/asthma-1/asthma-ed-visit-rates-lghc-indicator-07-.csv', low_memory=False)"
   ]
  },
  {
   "cell_type": "code",
   "execution_count": 16,
   "metadata": {},
   "outputs": [
    {
     "data": {
      "text/html": [
       "<div>\n",
       "<style scoped>\n",
       "    .dataframe tbody tr th:only-of-type {\n",
       "        vertical-align: middle;\n",
       "    }\n",
       "\n",
       "    .dataframe tbody tr th {\n",
       "        vertical-align: top;\n",
       "    }\n",
       "\n",
       "    .dataframe thead th {\n",
       "        text-align: right;\n",
       "    }\n",
       "</style>\n",
       "<table border=\"1\" class=\"dataframe\">\n",
       "  <thead>\n",
       "    <tr style=\"text-align: right;\">\n",
       "      <th></th>\n",
       "      <th>Geography</th>\n",
       "      <th>Year</th>\n",
       "      <th>Age Group</th>\n",
       "      <th>Strata</th>\n",
       "      <th>Strata Name</th>\n",
       "      <th>Numerator</th>\n",
       "      <th>Percent</th>\n",
       "    </tr>\n",
       "  </thead>\n",
       "  <tbody>\n",
       "    <tr>\n",
       "      <td>0</td>\n",
       "      <td>Alameda</td>\n",
       "      <td>2015</td>\n",
       "      <td>18 and Over</td>\n",
       "      <td>Total Population</td>\n",
       "      <td>18 and Over</td>\n",
       "      <td>6,513</td>\n",
       "      <td>53.1</td>\n",
       "    </tr>\n",
       "    <tr>\n",
       "      <td>1</td>\n",
       "      <td>Amador</td>\n",
       "      <td>2015</td>\n",
       "      <td>18 and Over</td>\n",
       "      <td>Total Population</td>\n",
       "      <td>18 and Over</td>\n",
       "      <td>151</td>\n",
       "      <td>49.1</td>\n",
       "    </tr>\n",
       "    <tr>\n",
       "      <td>2</td>\n",
       "      <td>Butte</td>\n",
       "      <td>2015</td>\n",
       "      <td>18 and Over</td>\n",
       "      <td>Total Population</td>\n",
       "      <td>18 and Over</td>\n",
       "      <td>736</td>\n",
       "      <td>43.8</td>\n",
       "    </tr>\n",
       "    <tr>\n",
       "      <td>3</td>\n",
       "      <td>Calaveras</td>\n",
       "      <td>2015</td>\n",
       "      <td>18 and Over</td>\n",
       "      <td>Total Population</td>\n",
       "      <td>18 and Over</td>\n",
       "      <td>139</td>\n",
       "      <td>42.7</td>\n",
       "    </tr>\n",
       "    <tr>\n",
       "      <td>4</td>\n",
       "      <td>California</td>\n",
       "      <td>2015</td>\n",
       "      <td>18 and Over</td>\n",
       "      <td>Total Population</td>\n",
       "      <td>18 and Over</td>\n",
       "      <td>117,854</td>\n",
       "      <td>40.0</td>\n",
       "    </tr>\n",
       "  </tbody>\n",
       "</table>\n",
       "</div>"
      ],
      "text/plain": [
       "    Geography  Year    Age Group            Strata  Strata Name Numerator  \\\n",
       "0     Alameda  2015  18 and Over  Total Population  18 and Over     6,513   \n",
       "1      Amador  2015  18 and Over  Total Population  18 and Over       151   \n",
       "2       Butte  2015  18 and Over  Total Population  18 and Over       736   \n",
       "3   Calaveras  2015  18 and Over  Total Population  18 and Over       139   \n",
       "4  California  2015  18 and Over  Total Population  18 and Over   117,854   \n",
       "\n",
       "   Percent  \n",
       "0     53.1  \n",
       "1     49.1  \n",
       "2     43.8  \n",
       "3     42.7  \n",
       "4     40.0  "
      ]
     },
     "execution_count": 16,
     "metadata": {},
     "output_type": "execute_result"
    }
   ],
   "source": [
    "ashtma_data1.head()\n"
   ]
  },
  {
   "cell_type": "code",
   "execution_count": 70,
   "metadata": {},
   "outputs": [
    {
     "data": {
      "text/plain": [
       "array(['Total Population', 'Race-Ethnicity', 'Sex'], dtype=object)"
      ]
     },
     "execution_count": 70,
     "metadata": {},
     "output_type": "execute_result"
    }
   ],
   "source": [
    "ashtma_data1['Strata'].unique()"
   ]
  },
  {
   "cell_type": "code",
   "execution_count": 20,
   "metadata": {},
   "outputs": [],
   "source": [
    "ashtma_data4 = pd.read_csv('../Datasets/Disease cases/asthma-4/Asthmadata_by_county_2014_2017.csv', low_memory=False)"
   ]
  },
  {
   "cell_type": "code",
   "execution_count": 21,
   "metadata": {},
   "outputs": [
    {
     "data": {
      "text/html": [
       "<div>\n",
       "<style scoped>\n",
       "    .dataframe tbody tr th:only-of-type {\n",
       "        vertical-align: middle;\n",
       "    }\n",
       "\n",
       "    .dataframe tbody tr th {\n",
       "        vertical-align: top;\n",
       "    }\n",
       "\n",
       "    .dataframe thead th {\n",
       "        text-align: right;\n",
       "    }\n",
       "</style>\n",
       "<table border=\"1\" class=\"dataframe\">\n",
       "  <thead>\n",
       "    <tr style=\"text-align: right;\">\n",
       "      <th></th>\n",
       "      <th>CountyName</th>\n",
       "      <th>CountyCode</th>\n",
       "      <th>Year</th>\n",
       "      <th>AgeAdjRate</th>\n",
       "      <th>Lower95%</th>\n",
       "      <th>Upper95%</th>\n",
       "      <th>Total</th>\n",
       "    </tr>\n",
       "  </thead>\n",
       "  <tbody>\n",
       "    <tr>\n",
       "      <td>0</td>\n",
       "      <td>Marin</td>\n",
       "      <td>6041</td>\n",
       "      <td>2014</td>\n",
       "      <td>25.2</td>\n",
       "      <td>23.3</td>\n",
       "      <td>27.3</td>\n",
       "      <td>643.0</td>\n",
       "    </tr>\n",
       "    <tr>\n",
       "      <td>1</td>\n",
       "      <td>Placer</td>\n",
       "      <td>6061</td>\n",
       "      <td>2014</td>\n",
       "      <td>29.4</td>\n",
       "      <td>27.7</td>\n",
       "      <td>31.2</td>\n",
       "      <td>0.0</td>\n",
       "    </tr>\n",
       "    <tr>\n",
       "      <td>2</td>\n",
       "      <td>Santa Clara</td>\n",
       "      <td>6085</td>\n",
       "      <td>2014</td>\n",
       "      <td>30.3</td>\n",
       "      <td>29.6</td>\n",
       "      <td>31.1</td>\n",
       "      <td>0.0</td>\n",
       "    </tr>\n",
       "    <tr>\n",
       "      <td>3</td>\n",
       "      <td>Lassen</td>\n",
       "      <td>6035</td>\n",
       "      <td>2014</td>\n",
       "      <td>30.5</td>\n",
       "      <td>24.9</td>\n",
       "      <td>37.0</td>\n",
       "      <td>103.0</td>\n",
       "    </tr>\n",
       "    <tr>\n",
       "      <td>4</td>\n",
       "      <td>Orange</td>\n",
       "      <td>6059</td>\n",
       "      <td>2014</td>\n",
       "      <td>31.3</td>\n",
       "      <td>30.7</td>\n",
       "      <td>31.9</td>\n",
       "      <td>0.0</td>\n",
       "    </tr>\n",
       "  </tbody>\n",
       "</table>\n",
       "</div>"
      ],
      "text/plain": [
       "     CountyName  CountyCode  Year  AgeAdjRate  Lower95%  Upper95%  Total\n",
       "0        Marin         6041  2014        25.2      23.3      27.3  643.0\n",
       "1       Placer         6061  2014        29.4      27.7      31.2    0.0\n",
       "2  Santa Clara         6085  2014        30.3      29.6      31.1    0.0\n",
       "3       Lassen         6035  2014        30.5      24.9      37.0  103.0\n",
       "4       Orange         6059  2014        31.3      30.7      31.9    0.0"
      ]
     },
     "execution_count": 21,
     "metadata": {},
     "output_type": "execute_result"
    }
   ],
   "source": [
    "ashtma_data4.head()"
   ]
  },
  {
   "cell_type": "code",
   "execution_count": 37,
   "metadata": {},
   "outputs": [],
   "source": [
    "counties4 = ashtma_data4['CountyName'].unique()"
   ]
  },
  {
   "cell_type": "code",
   "execution_count": 38,
   "metadata": {},
   "outputs": [
    {
     "data": {
      "text/plain": [
       "array(['Alameda ', 'Amador ', 'Butte ', 'Calaveras ',\n",
       "       'California/Statewide', 'Colusa ', 'Contra Costa ', 'Del Norte ',\n",
       "       'El Dorado ', 'Fresno ', 'Glenn ', 'Humboldt ', 'Imperial ',\n",
       "       'Inyo ', 'Kern ', 'Kings ', 'Lake ', 'Lassen ', 'Los Angeles ',\n",
       "       'Madera ', 'Marin ', 'Mariposa ', 'Mendocino ', 'Merced ',\n",
       "       'Modoc ', 'Mono ', 'Monterey ', 'Napa ', 'Nevada ', 'Orange ',\n",
       "       'Placer ', 'Plumas ', 'Riverside ', 'Sacramento ', 'San Benito ',\n",
       "       'San Bernardino ', 'San Diego ', 'San Francisco ', 'San Joaquin ',\n",
       "       'San Luis Obispo ', 'San Mateo ', 'Santa Barbara ', 'Santa Clara ',\n",
       "       'Santa Cruz ', 'Shasta ', 'Siskiyou ', 'Solano ', 'Sonoma ',\n",
       "       'Stanislaus ', 'Sutter ', 'Tehama ', 'Trinity ', 'Tulare ',\n",
       "       'Tuolumne ', 'Ventura ', 'Yolo ', 'Yuba '], dtype=object)"
      ]
     },
     "execution_count": 38,
     "metadata": {},
     "output_type": "execute_result"
    }
   ],
   "source": [
    "counties4.sort()\n",
    "counties4"
   ]
  },
  {
   "cell_type": "code",
   "execution_count": 34,
   "metadata": {},
   "outputs": [
    {
     "data": {
      "text/plain": [
       "array(['Alameda', 'Alpine', 'Amador', 'Butte', 'Calaveras', 'California',\n",
       "       'Colusa', 'Contra Costa', 'Del Norte', 'El Dorado', 'Fresno',\n",
       "       'Glenn', 'Humboldt', 'Humbolt', 'Imperial', 'Inyo', 'Kern',\n",
       "       'Kings', 'Lake', 'Lassen', 'Los Angeles', 'Madera', 'Marin',\n",
       "       'Mariposa', 'Mendocino', 'Merced', 'Modoc', 'Mono', 'Monterey',\n",
       "       'Napa', 'Nevada', 'Orange', 'Placer', 'Plumas', 'Riverside',\n",
       "       'Sacramento', 'San Benito', 'San Bernardino', 'San Diego',\n",
       "       'San Francisco', 'San Joaquin', 'San Luis Obispo', 'San Mateo',\n",
       "       'Santa Barbara', 'Santa Clara', 'Santa Cruz', 'Shasta', 'Sierra',\n",
       "       'Siskiyou', 'Solano', 'Sonoma', 'Stanislaus', 'Sutter', 'Tehama',\n",
       "       'Trinity', 'Tulare', 'Tuolumne', 'Ventura', 'Yolo', 'Yuba'],\n",
       "      dtype=object)"
      ]
     },
     "execution_count": 34,
     "metadata": {},
     "output_type": "execute_result"
    }
   ],
   "source": [
    "counties1 = ashtma_data1['Geography'].unique()\n",
    "counties1.sort()\n",
    "counties1"
   ]
  },
  {
   "cell_type": "code",
   "execution_count": 51,
   "metadata": {},
   "outputs": [
    {
     "name": "stdout",
     "output_type": "stream",
     "text": [
      "60\n",
      "57\n"
     ]
    }
   ],
   "source": [
    "print(len(counties1))#Sierra\n",
    "np.setdiff1d(counties1,counties4)\n",
    "print(len(counties4) )"
   ]
  },
  {
   "cell_type": "code",
   "execution_count": 64,
   "metadata": {},
   "outputs": [
    {
     "data": {
      "text/html": [
       "<div>\n",
       "<style scoped>\n",
       "    .dataframe tbody tr th:only-of-type {\n",
       "        vertical-align: middle;\n",
       "    }\n",
       "\n",
       "    .dataframe tbody tr th {\n",
       "        vertical-align: top;\n",
       "    }\n",
       "\n",
       "    .dataframe thead th {\n",
       "        text-align: right;\n",
       "    }\n",
       "</style>\n",
       "<table border=\"1\" class=\"dataframe\">\n",
       "  <thead>\n",
       "    <tr style=\"text-align: right;\">\n",
       "      <th></th>\n",
       "      <th>COUNTY</th>\n",
       "      <th>YEAR</th>\n",
       "      <th>STRATA</th>\n",
       "      <th>STRATA NAME</th>\n",
       "      <th>AGE GROUP</th>\n",
       "      <th>NUMBER OF ED VISITS</th>\n",
       "      <th>AGE-ADJUSTED ED VISIT RATE</th>\n",
       "      <th>COMMENT</th>\n",
       "    </tr>\n",
       "  </thead>\n",
       "  <tbody>\n",
       "    <tr>\n",
       "      <td>0</td>\n",
       "      <td>California</td>\n",
       "      <td>2015</td>\n",
       "      <td>Total population</td>\n",
       "      <td>All ages</td>\n",
       "      <td>All ages</td>\n",
       "      <td>191,904</td>\n",
       "      <td>50.4</td>\n",
       "      <td>NaN</td>\n",
       "    </tr>\n",
       "    <tr>\n",
       "      <td>1</td>\n",
       "      <td>Alameda</td>\n",
       "      <td>2015</td>\n",
       "      <td>Total population</td>\n",
       "      <td>All ages</td>\n",
       "      <td>All ages</td>\n",
       "      <td>9,939</td>\n",
       "      <td>64.3</td>\n",
       "      <td>NaN</td>\n",
       "    </tr>\n",
       "    <tr>\n",
       "      <td>2</td>\n",
       "      <td>Alpine</td>\n",
       "      <td>2015</td>\n",
       "      <td>Total population</td>\n",
       "      <td>All ages</td>\n",
       "      <td>All ages</td>\n",
       "      <td>0</td>\n",
       "      <td>0.0</td>\n",
       "      <td>NaN</td>\n",
       "    </tr>\n",
       "    <tr>\n",
       "      <td>3</td>\n",
       "      <td>Amador</td>\n",
       "      <td>2015</td>\n",
       "      <td>Total population</td>\n",
       "      <td>All ages</td>\n",
       "      <td>All ages</td>\n",
       "      <td>196</td>\n",
       "      <td>58.4</td>\n",
       "      <td>NaN</td>\n",
       "    </tr>\n",
       "    <tr>\n",
       "      <td>4</td>\n",
       "      <td>Butte</td>\n",
       "      <td>2015</td>\n",
       "      <td>Total population</td>\n",
       "      <td>All ages</td>\n",
       "      <td>All ages</td>\n",
       "      <td>1,044</td>\n",
       "      <td>50.2</td>\n",
       "      <td>NaN</td>\n",
       "    </tr>\n",
       "  </tbody>\n",
       "</table>\n",
       "</div>"
      ],
      "text/plain": [
       "       COUNTY  YEAR            STRATA STRATA NAME AGE GROUP  \\\n",
       "0  California  2015  Total population    All ages  All ages   \n",
       "1     Alameda  2015  Total population    All ages  All ages   \n",
       "2      Alpine  2015  Total population    All ages  All ages   \n",
       "3      Amador  2015  Total population    All ages  All ages   \n",
       "4       Butte  2015  Total population    All ages  All ages   \n",
       "\n",
       "  NUMBER OF ED VISITS  AGE-ADJUSTED ED VISIT RATE COMMENT  \n",
       "0             191,904                        50.4     NaN  \n",
       "1               9,939                        64.3     NaN  \n",
       "2                   0                         0.0     NaN  \n",
       "3                 196                        58.4     NaN  \n",
       "4               1,044                        50.2     NaN  "
      ]
     },
     "execution_count": 64,
     "metadata": {},
     "output_type": "execute_result"
    }
   ],
   "source": [
    "ashtma_data3 = pd.read_csv('../Datasets/Disease cases/asthma-3/asthma-emergency-department-visit-rates-wc5nog/asthma-ed-visit-rates-by-county.csv',encoding = \"ISO-8859-1\", low_memory=False)\n",
    "ashtma_data3.head()"
   ]
  },
  {
   "cell_type": "code",
   "execution_count": 65,
   "metadata": {},
   "outputs": [
    {
     "name": "stdout",
     "output_type": "stream",
     "text": [
      "59\n"
     ]
    },
    {
     "data": {
      "text/plain": [
       "array(['Alameda', 'Alpine', 'Amador', 'Butte', 'Calaveras', 'California',\n",
       "       'Colusa', 'Contra Costa', 'Del Norte', 'El Dorado', 'Fresno',\n",
       "       'Glenn', 'Humboldt', 'Imperial', 'Inyo', 'Kern', 'Kings', 'Lake',\n",
       "       'Lassen', 'Los Angeles', 'Madera', 'Marin', 'Mariposa',\n",
       "       'Mendocino', 'Merced', 'Modoc', 'Mono', 'Monterey', 'Napa',\n",
       "       'Nevada', 'Orange', 'Placer', 'Plumas', 'Riverside', 'Sacramento',\n",
       "       'San Benito', 'San Bernardino', 'San Diego', 'San Francisco',\n",
       "       'San Joaquin', 'San Luis Obispo', 'San Mateo', 'Santa Barbara',\n",
       "       'Santa Clara', 'Santa Cruz', 'Shasta', 'Sierra', 'Siskiyou',\n",
       "       'Solano', 'Sonoma', 'Stanislaus', 'Sutter', 'Tehama', 'Trinity',\n",
       "       'Tulare', 'Tuolumne', 'Ventura', 'Yolo', 'Yuba'], dtype=object)"
      ]
     },
     "execution_count": 65,
     "metadata": {},
     "output_type": "execute_result"
    }
   ],
   "source": [
    "counties3 = ashtma_data3['COUNTY'].unique()\n",
    "counties3.sort()\n",
    "print(len(counties3))\n",
    "counties3"
   ]
  },
  {
   "cell_type": "code",
   "execution_count": 66,
   "metadata": {},
   "outputs": [
    {
     "data": {
      "text/plain": [
       "array(['All ages', '0\\x9617 years', '18+ years', '0\\x964 years',\n",
       "       '5\\x9617 years', '18\\x9664 years', '65+ years'], dtype=object)"
      ]
     },
     "execution_count": 66,
     "metadata": {},
     "output_type": "execute_result"
    }
   ],
   "source": [
    "ashtma_data3['AGE GROUP'].unique()\n",
    "#All ages, 0-17 yrs, 18+yrs,  0-4 yrs,5-17yrs,18-64 yrs, 65+yrs\n",
    "#"
   ]
  },
  {
   "cell_type": "code",
   "execution_count": 68,
   "metadata": {},
   "outputs": [
    {
     "data": {
      "text/plain": [
       "array(['Total population', 'Child vs. adult', 'Age groups',\n",
       "       'Race/ethnicity'], dtype=object)"
      ]
     },
     "execution_count": 68,
     "metadata": {},
     "output_type": "execute_result"
    }
   ],
   "source": [
    "ashtma_data3['STRATA'].unique()"
   ]
  },
  {
   "cell_type": "code",
   "execution_count": null,
   "metadata": {},
   "outputs": [],
   "source": [
    "county_station = "
   ]
  }
 ],
 "metadata": {
  "kernelspec": {
   "display_name": "Python 3",
   "language": "python",
   "name": "python3"
  },
  "language_info": {
   "codemirror_mode": {
    "name": "ipython",
    "version": 3
   },
   "file_extension": ".py",
   "mimetype": "text/x-python",
   "name": "python",
   "nbconvert_exporter": "python",
   "pygments_lexer": "ipython3",
   "version": "3.7.4"
  }
 },
 "nbformat": 4,
 "nbformat_minor": 2
}
